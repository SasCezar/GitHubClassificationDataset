{
 "cells": [
  {
   "cell_type": "code",
   "execution_count": 21,
   "metadata": {
    "collapsed": true
   },
   "outputs": [],
   "source": [
    "path = '/home/sasce/PycharmProjects/GitHubClassificationDataset'\n",
    "res_path = f'{path}/data/results/results_all.csv'\n",
    "freq_path = f'{path}/notebooks/out/cluster_distr_u.csv'\n",
    "\n",
    "import pandas\n",
    "res_df = pandas.read_csv(res_path)\n",
    "\n",
    "freq_df = pandas.read_csv(freq_path)"
   ]
  },
  {
   "cell_type": "code",
   "execution_count": 22,
   "outputs": [],
   "source": [
    "mapping = freq_df.set_index('cluster')['freq'].to_dict()\n",
    "total = sum(mapping.values())\n",
    "mapping['ALL'] = total"
   ],
   "metadata": {
    "collapsed": false,
    "pycharm": {
     "name": "#%%\n"
    }
   }
  },
  {
   "cell_type": "code",
   "execution_count": 23,
   "outputs": [],
   "source": [
    "mapping = {str(k):v for k, v in mapping.items()}\n",
    "res_df['count'] = res_df['level'].map(mapping)"
   ],
   "metadata": {
    "collapsed": false,
    "pycharm": {
     "name": "#%%\n"
    }
   }
  },
  {
   "cell_type": "code",
   "execution_count": 26,
   "outputs": [
    {
     "data": {
      "text/plain": "              Success.Rate  Precision    Recall        F1     count\nSuccess.Rate      1.000000   0.972005  0.926730  0.941461 -0.622851\nPrecision         0.972005   1.000000  0.957330  0.978570 -0.718381\nRecall            0.926730   0.957330  1.000000  0.995645 -0.854167\nF1                0.941461   0.978570  0.995645  1.000000 -0.827551\ncount            -0.622851  -0.718381 -0.854167 -0.827551  1.000000",
      "text/html": "<div>\n<style scoped>\n    .dataframe tbody tr th:only-of-type {\n        vertical-align: middle;\n    }\n\n    .dataframe tbody tr th {\n        vertical-align: top;\n    }\n\n    .dataframe thead th {\n        text-align: right;\n    }\n</style>\n<table border=\"1\" class=\"dataframe\">\n  <thead>\n    <tr style=\"text-align: right;\">\n      <th></th>\n      <th>Success.Rate</th>\n      <th>Precision</th>\n      <th>Recall</th>\n      <th>F1</th>\n      <th>count</th>\n    </tr>\n  </thead>\n  <tbody>\n    <tr>\n      <th>Success.Rate</th>\n      <td>1.000000</td>\n      <td>0.972005</td>\n      <td>0.926730</td>\n      <td>0.941461</td>\n      <td>-0.622851</td>\n    </tr>\n    <tr>\n      <th>Precision</th>\n      <td>0.972005</td>\n      <td>1.000000</td>\n      <td>0.957330</td>\n      <td>0.978570</td>\n      <td>-0.718381</td>\n    </tr>\n    <tr>\n      <th>Recall</th>\n      <td>0.926730</td>\n      <td>0.957330</td>\n      <td>1.000000</td>\n      <td>0.995645</td>\n      <td>-0.854167</td>\n    </tr>\n    <tr>\n      <th>F1</th>\n      <td>0.941461</td>\n      <td>0.978570</td>\n      <td>0.995645</td>\n      <td>1.000000</td>\n      <td>-0.827551</td>\n    </tr>\n    <tr>\n      <th>count</th>\n      <td>-0.622851</td>\n      <td>-0.718381</td>\n      <td>-0.854167</td>\n      <td>-0.827551</td>\n      <td>1.000000</td>\n    </tr>\n  </tbody>\n</table>\n</div>"
     },
     "execution_count": 26,
     "metadata": {},
     "output_type": "execute_result"
    }
   ],
   "source": [
    "res_df.corr()"
   ],
   "metadata": {
    "collapsed": false,
    "pycharm": {
     "name": "#%%\n"
    }
   }
  },
  {
   "cell_type": "code",
   "execution_count": 24,
   "outputs": [],
   "source": [],
   "metadata": {
    "collapsed": false,
    "pycharm": {
     "name": "#%%\n"
    }
   }
  }
 ],
 "metadata": {
  "kernelspec": {
   "display_name": "Python 3",
   "language": "python",
   "name": "python3"
  },
  "language_info": {
   "codemirror_mode": {
    "name": "ipython",
    "version": 2
   },
   "file_extension": ".py",
   "mimetype": "text/x-python",
   "name": "python",
   "nbconvert_exporter": "python",
   "pygments_lexer": "ipython2",
   "version": "2.7.6"
  }
 },
 "nbformat": 4,
 "nbformat_minor": 0
}