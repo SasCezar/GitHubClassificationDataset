{
 "cells": [
  {
   "cell_type": "code",
   "execution_count": 1,
   "outputs": [],
   "source": [
    "import numpy as np\n",
    "import pandas\n",
    "\n",
    "ranking_path = \"/home/sasce/PycharmProjects/GitHubClassificationDataset/data/pairrank/mean_std_ranking.csv\"\n",
    "ranking = pandas.read_csv(ranking_path)\n",
    "ranking = ranking.sort_values('mean', ascending=False)\n",
    "ranking['description'] = ranking['description'].fillna('')\n",
    "cluster_feature = 'mean'\n",
    "\n",
    "embedding_key = 'q_id'"
   ],
   "metadata": {
    "collapsed": false,
    "pycharm": {
     "name": "#%%\n"
    }
   }
  },
  {
   "cell_type": "code",
   "execution_count": 2,
   "outputs": [],
   "source": [
    "from src.ml.embeddings import FastTextEmbedding, W2VEmbedding, BERTEmbedding\n",
    "\n",
    "#embedding = FastTextEmbedding('/home/sasce/PycharmProjects/ComponentSemantics/data/models/fastText/wiki.en.bin')\n",
    "#embedding = W2VEmbedding('/home/sasce/PycharmProjects/GitHubClassificationDataset/data/models/github_pbg_w2v.vec', size=200)\n",
    "\n",
    "embedding = W2VEmbedding('/home/sasce/PycharmProjects/GitHubClassificationDataset/data/models/github_pbg_w2v.vec',size=200,\n",
    "                         preprocessing='upper')\n"
   ],
   "metadata": {
    "collapsed": false,
    "pycharm": {
     "name": "#%%\n"
    }
   }
  },
  {
   "cell_type": "code",
   "execution_count": 14,
   "outputs": [],
   "source": [
    "X = [list(embedding.get_embedding(x)) + [m] for x,m in zip(ranking[embedding_key], ranking['mean'])]\n"
   ],
   "metadata": {
    "collapsed": false,
    "pycharm": {
     "name": "#%%\n"
    }
   }
  },
  {
   "cell_type": "code",
   "execution_count": 19,
   "outputs": [],
   "source": [
    "from scipy.cluster.hierarchy import dendrogram, linkage, to_tree\n",
    "from matplotlib import pyplot as plt\n",
    "\n",
    "linked = linkage(X, 'single')"
   ],
   "metadata": {
    "collapsed": false,
    "pycharm": {
     "name": "#%%\n"
    }
   }
  },
  {
   "cell_type": "code",
   "execution_count": 24,
   "outputs": [],
   "source": [
    "tree = to_tree(linked, rd=True)"
   ],
   "metadata": {
    "collapsed": false,
    "pycharm": {
     "name": "#%%\n"
    }
   }
  },
  {
   "cell_type": "code",
   "execution_count": 29,
   "outputs": [],
   "source": [
    "pre_order = tree.pre_order()"
   ],
   "metadata": {
    "collapsed": false,
    "pycharm": {
     "name": "#%%\n"
    }
   }
  },
  {
   "cell_type": "code",
   "execution_count": 35,
   "outputs": [],
   "source": [
    "res = []\n",
    "def get_edges(node):\n",
    "    left = node.left\n",
    "    right = node.right\n",
    "    res = []\n",
    "    if left:\n",
    "        a = [(left.id, node.id)]\n",
    "        b = get_edges(left)\n",
    "        res.extend(a+b)\n",
    "    if right:\n",
    "        c = [(right.id, node.id)]\n",
    "        d =  get_edges(right)\n",
    "        res.extend(c+d)\n",
    "\n",
    "    return res\n",
    "\n",
    "res = list(get_edges(tree))"
   ],
   "metadata": {
    "collapsed": false,
    "pycharm": {
     "name": "#%%\n"
    }
   }
  },
  {
   "cell_type": "code",
   "execution_count": null,
   "outputs": [],
   "source": [
    "plt.figure(figsize=(10, 7))\n",
    "dendrogram(linked,\n",
    "            orientation='top',\n",
    "            distance_sort='descending',\n",
    "            show_leaf_counts=True)\n",
    "plt.show()"
   ],
   "metadata": {
    "collapsed": false,
    "pycharm": {
     "name": "#%%\n"
    }
   }
  },
  {
   "cell_type": "code",
   "execution_count": 16,
   "outputs": [
    {
     "data": {
      "application/vnd.plotly.v1+json": {
       "data": [
        {
         "hoverinfo": "text",
         "marker": {
          "color": "rgb(61,153,112)"
         },
         "mode": "lines",
         "x": [
          25.0,
          25.0,
          35.0,
          35.0
         ],
         "xaxis": "x",
         "y": [
          0.0,
          5.3027727611288995,
          5.3027727611288995,
          0.0
         ],
         "yaxis": "y",
         "type": "scatter"
        },
        {
         "hoverinfo": "text",
         "marker": {
          "color": "rgb(61,153,112)"
         },
         "mode": "lines",
         "x": [
          15.0,
          15.0,
          30.0,
          30.0
         ],
         "xaxis": "x",
         "y": [
          0.0,
          5.624220736408518,
          5.624220736408518,
          5.3027727611288995
         ],
         "yaxis": "y",
         "type": "scatter"
        },
        {
         "hoverinfo": "text",
         "marker": {
          "color": "rgb(61,153,112)"
         },
         "mode": "lines",
         "x": [
          45.0,
          45.0,
          55.0,
          55.0
         ],
         "xaxis": "x",
         "y": [
          0.0,
          5.768480575644304,
          5.768480575644304,
          0.0
         ],
         "yaxis": "y",
         "type": "scatter"
        },
        {
         "hoverinfo": "text",
         "marker": {
          "color": "rgb(61,153,112)"
         },
         "mode": "lines",
         "x": [
          22.5,
          22.5,
          50.0,
          50.0
         ],
         "xaxis": "x",
         "y": [
          5.624220736408518,
          6.1011817129169374,
          6.1011817129169374,
          5.768480575644304
         ],
         "yaxis": "y",
         "type": "scatter"
        },
        {
         "hoverinfo": "text",
         "marker": {
          "color": "rgb(61,153,112)"
         },
         "mode": "lines",
         "x": [
          75.0,
          75.0,
          85.0,
          85.0
         ],
         "xaxis": "x",
         "y": [
          0.0,
          5.403845387110803,
          5.403845387110803,
          0.0
         ],
         "yaxis": "y",
         "type": "scatter"
        },
        {
         "hoverinfo": "text",
         "marker": {
          "color": "rgb(61,153,112)"
         },
         "mode": "lines",
         "x": [
          65.0,
          65.0,
          80.0,
          80.0
         ],
         "xaxis": "x",
         "y": [
          0.0,
          5.567208779235956,
          5.567208779235956,
          5.403845387110803
         ],
         "yaxis": "y",
         "type": "scatter"
        },
        {
         "hoverinfo": "text",
         "marker": {
          "color": "rgb(61,153,112)"
         },
         "mode": "lines",
         "x": [
          95.0,
          95.0,
          105.0,
          105.0
         ],
         "xaxis": "x",
         "y": [
          0.0,
          5.378375231819697,
          5.378375231819697,
          0.0
         ],
         "yaxis": "y",
         "type": "scatter"
        },
        {
         "hoverinfo": "text",
         "marker": {
          "color": "rgb(61,153,112)"
         },
         "mode": "lines",
         "x": [
          135.0,
          135.0,
          145.0,
          145.0
         ],
         "xaxis": "x",
         "y": [
          0.0,
          5.464326398037223,
          5.464326398037223,
          0.0
         ],
         "yaxis": "y",
         "type": "scatter"
        },
        {
         "hoverinfo": "text",
         "marker": {
          "color": "rgb(61,153,112)"
         },
         "mode": "lines",
         "x": [
          125.0,
          125.0,
          140.0,
          140.0
         ],
         "xaxis": "x",
         "y": [
          0.0,
          5.593215771597872,
          5.593215771597872,
          5.464326398037223
         ],
         "yaxis": "y",
         "type": "scatter"
        },
        {
         "hoverinfo": "text",
         "marker": {
          "color": "rgb(61,153,112)"
         },
         "mode": "lines",
         "x": [
          115.0,
          115.0,
          132.5,
          132.5
         ],
         "xaxis": "x",
         "y": [
          0.0,
          5.94310412776876,
          5.94310412776876,
          5.593215771597872
         ],
         "yaxis": "y",
         "type": "scatter"
        },
        {
         "hoverinfo": "text",
         "marker": {
          "color": "rgb(61,153,112)"
         },
         "mode": "lines",
         "x": [
          100.0,
          100.0,
          123.75,
          123.75
         ],
         "xaxis": "x",
         "y": [
          5.378375231819697,
          6.206363689413039,
          6.206363689413039,
          5.94310412776876
         ],
         "yaxis": "y",
         "type": "scatter"
        },
        {
         "hoverinfo": "text",
         "marker": {
          "color": "rgb(61,153,112)"
         },
         "mode": "lines",
         "x": [
          72.5,
          72.5,
          111.875,
          111.875
         ],
         "xaxis": "x",
         "y": [
          5.567208779235956,
          6.2636704889613,
          6.2636704889613,
          6.206363689413039
         ],
         "yaxis": "y",
         "type": "scatter"
        },
        {
         "hoverinfo": "text",
         "marker": {
          "color": "rgb(61,153,112)"
         },
         "mode": "lines",
         "x": [
          36.25,
          36.25,
          92.1875,
          92.1875
         ],
         "xaxis": "x",
         "y": [
          6.1011817129169374,
          6.5499420945827005,
          6.5499420945827005,
          6.2636704889613
         ],
         "yaxis": "y",
         "type": "scatter"
        },
        {
         "hoverinfo": "text",
         "marker": {
          "color": "rgb(0,116,217)"
         },
         "mode": "lines",
         "x": [
          5.0,
          5.0,
          64.21875,
          64.21875
         ],
         "xaxis": "x",
         "y": [
          0.0,
          13.018488675394465,
          13.018488675394465,
          6.5499420945827005
         ],
         "yaxis": "y",
         "type": "scatter"
        },
        {
         "hoverinfo": "text",
         "marker": {
          "color": "rgb(255,65,54)"
         },
         "mode": "lines",
         "x": [
          175.0,
          175.0,
          185.0,
          185.0
         ],
         "xaxis": "x",
         "y": [
          0.0,
          9.625751083218598,
          9.625751083218598,
          0.0
         ],
         "yaxis": "y",
         "type": "scatter"
        },
        {
         "hoverinfo": "text",
         "marker": {
          "color": "rgb(0,116,217)"
         },
         "mode": "lines",
         "x": [
          165.0,
          165.0,
          180.0,
          180.0
         ],
         "xaxis": "x",
         "y": [
          0.0,
          11.371279563746986,
          11.371279563746986,
          9.625751083218598
         ],
         "yaxis": "y",
         "type": "scatter"
        },
        {
         "hoverinfo": "text",
         "marker": {
          "color": "rgb(35,205,205)"
         },
         "mode": "lines",
         "x": [
          205.0,
          205.0,
          215.0,
          215.0
         ],
         "xaxis": "x",
         "y": [
          0.0,
          8.510747434116563,
          8.510747434116563,
          0.0
         ],
         "yaxis": "y",
         "type": "scatter"
        },
        {
         "hoverinfo": "text",
         "marker": {
          "color": "rgb(35,205,205)"
         },
         "mode": "lines",
         "x": [
          255.0,
          255.0,
          265.0,
          265.0
         ],
         "xaxis": "x",
         "y": [
          0.0,
          3.915074862826567,
          3.915074862826567,
          0.0
         ],
         "yaxis": "y",
         "type": "scatter"
        },
        {
         "hoverinfo": "text",
         "marker": {
          "color": "rgb(35,205,205)"
         },
         "mode": "lines",
         "x": [
          245.0,
          245.0,
          260.0,
          260.0
         ],
         "xaxis": "x",
         "y": [
          0.0,
          4.819865478509801,
          4.819865478509801,
          3.915074862826567
         ],
         "yaxis": "y",
         "type": "scatter"
        },
        {
         "hoverinfo": "text",
         "marker": {
          "color": "rgb(35,205,205)"
         },
         "mode": "lines",
         "x": [
          235.0,
          235.0,
          252.5,
          252.5
         ],
         "xaxis": "x",
         "y": [
          0.0,
          8.087229781594802,
          8.087229781594802,
          4.819865478509801
         ],
         "yaxis": "y",
         "type": "scatter"
        },
        {
         "hoverinfo": "text",
         "marker": {
          "color": "rgb(35,205,205)"
         },
         "mode": "lines",
         "x": [
          225.0,
          225.0,
          243.75,
          243.75
         ],
         "xaxis": "x",
         "y": [
          0.0,
          8.559539467260617,
          8.559539467260617,
          8.087229781594802
         ],
         "yaxis": "y",
         "type": "scatter"
        },
        {
         "hoverinfo": "text",
         "marker": {
          "color": "rgb(35,205,205)"
         },
         "mode": "lines",
         "x": [
          210.0,
          210.0,
          234.375,
          234.375
         ],
         "xaxis": "x",
         "y": [
          8.510747434116563,
          9.011373842805147,
          9.011373842805147,
          8.559539467260617
         ],
         "yaxis": "y",
         "type": "scatter"
        },
        {
         "hoverinfo": "text",
         "marker": {
          "color": "rgb(0,116,217)"
         },
         "mode": "lines",
         "x": [
          195.0,
          195.0,
          222.1875,
          222.1875
         ],
         "xaxis": "x",
         "y": [
          0.0,
          10.081421089101916,
          10.081421089101916,
          9.011373842805147
         ],
         "yaxis": "y",
         "type": "scatter"
        },
        {
         "hoverinfo": "text",
         "marker": {
          "color": "rgb(133,20,75)"
         },
         "mode": "lines",
         "x": [
          325.0,
          325.0,
          335.0,
          335.0
         ],
         "xaxis": "x",
         "y": [
          0.0,
          3.9387697382136375,
          3.9387697382136375,
          0.0
         ],
         "yaxis": "y",
         "type": "scatter"
        },
        {
         "hoverinfo": "text",
         "marker": {
          "color": "rgb(133,20,75)"
         },
         "mode": "lines",
         "x": [
          315.0,
          315.0,
          330.0,
          330.0
         ],
         "xaxis": "x",
         "y": [
          0.0,
          4.807863766595316,
          4.807863766595316,
          3.9387697382136375
         ],
         "yaxis": "y",
         "type": "scatter"
        },
        {
         "hoverinfo": "text",
         "marker": {
          "color": "rgb(133,20,75)"
         },
         "mode": "lines",
         "x": [
          305.0,
          305.0,
          322.5,
          322.5
         ],
         "xaxis": "x",
         "y": [
          0.0,
          5.292007648460111,
          5.292007648460111,
          4.807863766595316
         ],
         "yaxis": "y",
         "type": "scatter"
        },
        {
         "hoverinfo": "text",
         "marker": {
          "color": "rgb(133,20,75)"
         },
         "mode": "lines",
         "x": [
          295.0,
          295.0,
          313.75,
          313.75
         ],
         "xaxis": "x",
         "y": [
          0.0,
          6.32479398775651,
          6.32479398775651,
          5.292007648460111
         ],
         "yaxis": "y",
         "type": "scatter"
        },
        {
         "hoverinfo": "text",
         "marker": {
          "color": "rgb(133,20,75)"
         },
         "mode": "lines",
         "x": [
          285.0,
          285.0,
          304.375,
          304.375
         ],
         "xaxis": "x",
         "y": [
          0.0,
          7.133366618610118,
          7.133366618610118,
          6.32479398775651
         ],
         "yaxis": "y",
         "type": "scatter"
        },
        {
         "hoverinfo": "text",
         "marker": {
          "color": "rgb(133,20,75)"
         },
         "mode": "lines",
         "x": [
          375.0,
          375.0,
          385.0,
          385.0
         ],
         "xaxis": "x",
         "y": [
          0.0,
          4.7457924634455,
          4.7457924634455,
          0.0
         ],
         "yaxis": "y",
         "type": "scatter"
        },
        {
         "hoverinfo": "text",
         "marker": {
          "color": "rgb(133,20,75)"
         },
         "mode": "lines",
         "x": [
          395.0,
          395.0,
          405.0,
          405.0
         ],
         "xaxis": "x",
         "y": [
          0.0,
          4.281848993444289,
          4.281848993444289,
          0.0
         ],
         "yaxis": "y",
         "type": "scatter"
        },
        {
         "hoverinfo": "text",
         "marker": {
          "color": "rgb(133,20,75)"
         },
         "mode": "lines",
         "x": [
          425.0,
          425.0,
          435.0,
          435.0
         ],
         "xaxis": "x",
         "y": [
          0.0,
          3.5230438080040782,
          3.5230438080040782,
          0.0
         ],
         "yaxis": "y",
         "type": "scatter"
        },
        {
         "hoverinfo": "text",
         "marker": {
          "color": "rgb(133,20,75)"
         },
         "mode": "lines",
         "x": [
          445.0,
          445.0,
          455.0,
          455.0
         ],
         "xaxis": "x",
         "y": [
          0.0,
          3.834212642035808,
          3.834212642035808,
          0.0
         ],
         "yaxis": "y",
         "type": "scatter"
        },
        {
         "hoverinfo": "text",
         "marker": {
          "color": "rgb(133,20,75)"
         },
         "mode": "lines",
         "x": [
          430.0,
          430.0,
          450.0,
          450.0
         ],
         "xaxis": "x",
         "y": [
          3.5230438080040782,
          4.2350076799979215,
          4.2350076799979215,
          3.834212642035808
         ],
         "yaxis": "y",
         "type": "scatter"
        },
        {
         "hoverinfo": "text",
         "marker": {
          "color": "rgb(133,20,75)"
         },
         "mode": "lines",
         "x": [
          415.0,
          415.0,
          440.0,
          440.0
         ],
         "xaxis": "x",
         "y": [
          0.0,
          4.748787437051422,
          4.748787437051422,
          4.2350076799979215
         ],
         "yaxis": "y",
         "type": "scatter"
        },
        {
         "hoverinfo": "text",
         "marker": {
          "color": "rgb(133,20,75)"
         },
         "mode": "lines",
         "x": [
          400.0,
          400.0,
          427.5,
          427.5
         ],
         "xaxis": "x",
         "y": [
          4.281848993444289,
          4.844996614280054,
          4.844996614280054,
          4.748787437051422
         ],
         "yaxis": "y",
         "type": "scatter"
        },
        {
         "hoverinfo": "text",
         "marker": {
          "color": "rgb(133,20,75)"
         },
         "mode": "lines",
         "x": [
          380.0,
          380.0,
          413.75,
          413.75
         ],
         "xaxis": "x",
         "y": [
          4.7457924634455,
          5.391994311918137,
          5.391994311918137,
          4.844996614280054
         ],
         "yaxis": "y",
         "type": "scatter"
        },
        {
         "hoverinfo": "text",
         "marker": {
          "color": "rgb(133,20,75)"
         },
         "mode": "lines",
         "x": [
          365.0,
          365.0,
          396.875,
          396.875
         ],
         "xaxis": "x",
         "y": [
          0.0,
          5.43335417458403,
          5.43335417458403,
          5.391994311918137
         ],
         "yaxis": "y",
         "type": "scatter"
        },
        {
         "hoverinfo": "text",
         "marker": {
          "color": "rgb(133,20,75)"
         },
         "mode": "lines",
         "x": [
          465.0,
          465.0,
          475.0,
          475.0
         ],
         "xaxis": "x",
         "y": [
          0.0,
          4.609273568760506,
          4.609273568760506,
          0.0
         ],
         "yaxis": "y",
         "type": "scatter"
        },
        {
         "hoverinfo": "text",
         "marker": {
          "color": "rgb(133,20,75)"
         },
         "mode": "lines",
         "x": [
          495.0,
          495.0,
          505.0,
          505.0
         ],
         "xaxis": "x",
         "y": [
          0.0,
          3.757906394242818,
          3.757906394242818,
          0.0
         ],
         "yaxis": "y",
         "type": "scatter"
        },
        {
         "hoverinfo": "text",
         "marker": {
          "color": "rgb(133,20,75)"
         },
         "mode": "lines",
         "x": [
          485.0,
          485.0,
          500.0,
          500.0
         ],
         "xaxis": "x",
         "y": [
          0.0,
          3.985450586195397,
          3.985450586195397,
          3.757906394242818
         ],
         "yaxis": "y",
         "type": "scatter"
        },
        {
         "hoverinfo": "text",
         "marker": {
          "color": "rgb(133,20,75)"
         },
         "mode": "lines",
         "x": [
          525.0,
          525.0,
          535.0,
          535.0
         ],
         "xaxis": "x",
         "y": [
          0.0,
          3.9384727491586915,
          3.9384727491586915,
          0.0
         ],
         "yaxis": "y",
         "type": "scatter"
        },
        {
         "hoverinfo": "text",
         "marker": {
          "color": "rgb(133,20,75)"
         },
         "mode": "lines",
         "x": [
          515.0,
          515.0,
          530.0,
          530.0
         ],
         "xaxis": "x",
         "y": [
          0.0,
          4.189092838501569,
          4.189092838501569,
          3.9384727491586915
         ],
         "yaxis": "y",
         "type": "scatter"
        },
        {
         "hoverinfo": "text",
         "marker": {
          "color": "rgb(133,20,75)"
         },
         "mode": "lines",
         "x": [
          492.5,
          492.5,
          522.5,
          522.5
         ],
         "xaxis": "x",
         "y": [
          3.985450586195397,
          4.457963867025882,
          4.457963867025882,
          4.189092838501569
         ],
         "yaxis": "y",
         "type": "scatter"
        },
        {
         "hoverinfo": "text",
         "marker": {
          "color": "rgb(133,20,75)"
         },
         "mode": "lines",
         "x": [
          545.0,
          545.0,
          555.0,
          555.0
         ],
         "xaxis": "x",
         "y": [
          0.0,
          2.7135622394488115,
          2.7135622394488115,
          0.0
         ],
         "yaxis": "y",
         "type": "scatter"
        },
        {
         "hoverinfo": "text",
         "marker": {
          "color": "rgb(133,20,75)"
         },
         "mode": "lines",
         "x": [
          565.0,
          565.0,
          575.0,
          575.0
         ],
         "xaxis": "x",
         "y": [
          0.0,
          3.0384944311725266,
          3.0384944311725266,
          0.0
         ],
         "yaxis": "y",
         "type": "scatter"
        },
        {
         "hoverinfo": "text",
         "marker": {
          "color": "rgb(133,20,75)"
         },
         "mode": "lines",
         "x": [
          585.0,
          585.0,
          595.0,
          595.0
         ],
         "xaxis": "x",
         "y": [
          0.0,
          3.445337376654547,
          3.445337376654547,
          0.0
         ],
         "yaxis": "y",
         "type": "scatter"
        },
        {
         "hoverinfo": "text",
         "marker": {
          "color": "rgb(133,20,75)"
         },
         "mode": "lines",
         "x": [
          570.0,
          570.0,
          590.0,
          590.0
         ],
         "xaxis": "x",
         "y": [
          3.0384944311725266,
          3.6996479651479457,
          3.6996479651479457,
          3.445337376654547
         ],
         "yaxis": "y",
         "type": "scatter"
        },
        {
         "hoverinfo": "text",
         "marker": {
          "color": "rgb(133,20,75)"
         },
         "mode": "lines",
         "x": [
          550.0,
          550.0,
          580.0,
          580.0
         ],
         "xaxis": "x",
         "y": [
          2.7135622394488115,
          3.7727447799288956,
          3.7727447799288956,
          3.6996479651479457
         ],
         "yaxis": "y",
         "type": "scatter"
        },
        {
         "hoverinfo": "text",
         "marker": {
          "color": "rgb(133,20,75)"
         },
         "mode": "lines",
         "x": [
          605.0,
          605.0,
          615.0,
          615.0
         ],
         "xaxis": "x",
         "y": [
          0.0,
          3.440316774061421,
          3.440316774061421,
          0.0
         ],
         "yaxis": "y",
         "type": "scatter"
        },
        {
         "hoverinfo": "text",
         "marker": {
          "color": "rgb(133,20,75)"
         },
         "mode": "lines",
         "x": [
          635.0,
          635.0,
          645.0,
          645.0
         ],
         "xaxis": "x",
         "y": [
          0.0,
          3.142496959611598,
          3.142496959611598,
          0.0
         ],
         "yaxis": "y",
         "type": "scatter"
        },
        {
         "hoverinfo": "text",
         "marker": {
          "color": "rgb(133,20,75)"
         },
         "mode": "lines",
         "x": [
          625.0,
          625.0,
          640.0,
          640.0
         ],
         "xaxis": "x",
         "y": [
          0.0,
          3.448378307077347,
          3.448378307077347,
          3.142496959611598
         ],
         "yaxis": "y",
         "type": "scatter"
        },
        {
         "hoverinfo": "text",
         "marker": {
          "color": "rgb(133,20,75)"
         },
         "mode": "lines",
         "x": [
          665.0,
          665.0,
          675.0,
          675.0
         ],
         "xaxis": "x",
         "y": [
          0.0,
          3.11085237942302,
          3.11085237942302,
          0.0
         ],
         "yaxis": "y",
         "type": "scatter"
        },
        {
         "hoverinfo": "text",
         "marker": {
          "color": "rgb(133,20,75)"
         },
         "mode": "lines",
         "x": [
          655.0,
          655.0,
          670.0,
          670.0
         ],
         "xaxis": "x",
         "y": [
          0.0,
          3.549843297435029,
          3.549843297435029,
          3.11085237942302
         ],
         "yaxis": "y",
         "type": "scatter"
        },
        {
         "hoverinfo": "text",
         "marker": {
          "color": "rgb(133,20,75)"
         },
         "mode": "lines",
         "x": [
          632.5,
          632.5,
          662.5,
          662.5
         ],
         "xaxis": "x",
         "y": [
          3.448378307077347,
          3.684420148946131,
          3.684420148946131,
          3.549843297435029
         ],
         "yaxis": "y",
         "type": "scatter"
        },
        {
         "hoverinfo": "text",
         "marker": {
          "color": "rgb(133,20,75)"
         },
         "mode": "lines",
         "x": [
          610.0,
          610.0,
          647.5,
          647.5
         ],
         "xaxis": "x",
         "y": [
          3.440316774061421,
          4.098828933996264,
          4.098828933996264,
          3.684420148946131
         ],
         "yaxis": "y",
         "type": "scatter"
        },
        {
         "hoverinfo": "text",
         "marker": {
          "color": "rgb(133,20,75)"
         },
         "mode": "lines",
         "x": [
          565.0,
          565.0,
          628.75,
          628.75
         ],
         "xaxis": "x",
         "y": [
          3.7727447799288956,
          4.310116730439355,
          4.310116730439355,
          4.098828933996264
         ],
         "yaxis": "y",
         "type": "scatter"
        },
        {
         "hoverinfo": "text",
         "marker": {
          "color": "rgb(133,20,75)"
         },
         "mode": "lines",
         "x": [
          695.0,
          695.0,
          705.0,
          705.0
         ],
         "xaxis": "x",
         "y": [
          0.0,
          3.5906355713973053,
          3.5906355713973053,
          0.0
         ],
         "yaxis": "y",
         "type": "scatter"
        },
        {
         "hoverinfo": "text",
         "marker": {
          "color": "rgb(133,20,75)"
         },
         "mode": "lines",
         "x": [
          685.0,
          685.0,
          700.0,
          700.0
         ],
         "xaxis": "x",
         "y": [
          0.0,
          3.8268203766398425,
          3.8268203766398425,
          3.5906355713973053
         ],
         "yaxis": "y",
         "type": "scatter"
        },
        {
         "hoverinfo": "text",
         "marker": {
          "color": "rgb(133,20,75)"
         },
         "mode": "lines",
         "x": [
          715.0,
          715.0,
          725.0,
          725.0
         ],
         "xaxis": "x",
         "y": [
          0.0,
          3.5361216572714973,
          3.5361216572714973,
          0.0
         ],
         "yaxis": "y",
         "type": "scatter"
        },
        {
         "hoverinfo": "text",
         "marker": {
          "color": "rgb(133,20,75)"
         },
         "mode": "lines",
         "x": [
          735.0,
          735.0,
          745.0,
          745.0
         ],
         "xaxis": "x",
         "y": [
          0.0,
          2.9102111982655403,
          2.9102111982655403,
          0.0
         ],
         "yaxis": "y",
         "type": "scatter"
        },
        {
         "hoverinfo": "text",
         "marker": {
          "color": "rgb(133,20,75)"
         },
         "mode": "lines",
         "x": [
          755.0,
          755.0,
          765.0,
          765.0
         ],
         "xaxis": "x",
         "y": [
          0.0,
          3.151456822417124,
          3.151456822417124,
          0.0
         ],
         "yaxis": "y",
         "type": "scatter"
        },
        {
         "hoverinfo": "text",
         "marker": {
          "color": "rgb(133,20,75)"
         },
         "mode": "lines",
         "x": [
          740.0,
          740.0,
          760.0,
          760.0
         ],
         "xaxis": "x",
         "y": [
          2.9102111982655403,
          3.7206891734039327,
          3.7206891734039327,
          3.151456822417124
         ],
         "yaxis": "y",
         "type": "scatter"
        },
        {
         "hoverinfo": "text",
         "marker": {
          "color": "rgb(133,20,75)"
         },
         "mode": "lines",
         "x": [
          720.0,
          720.0,
          750.0,
          750.0
         ],
         "xaxis": "x",
         "y": [
          3.5361216572714973,
          4.042375963570622,
          4.042375963570622,
          3.7206891734039327
         ],
         "yaxis": "y",
         "type": "scatter"
        },
        {
         "hoverinfo": "text",
         "marker": {
          "color": "rgb(133,20,75)"
         },
         "mode": "lines",
         "x": [
          692.5,
          692.5,
          735.0,
          735.0
         ],
         "xaxis": "x",
         "y": [
          3.8268203766398425,
          4.3341316194944115,
          4.3341316194944115,
          4.042375963570622
         ],
         "yaxis": "y",
         "type": "scatter"
        },
        {
         "hoverinfo": "text",
         "marker": {
          "color": "rgb(133,20,75)"
         },
         "mode": "lines",
         "x": [
          596.875,
          596.875,
          713.75,
          713.75
         ],
         "xaxis": "x",
         "y": [
          4.310116730439355,
          4.542105308733664,
          4.542105308733664,
          4.3341316194944115
         ],
         "yaxis": "y",
         "type": "scatter"
        },
        {
         "hoverinfo": "text",
         "marker": {
          "color": "rgb(133,20,75)"
         },
         "mode": "lines",
         "x": [
          507.5,
          507.5,
          655.3125,
          655.3125
         ],
         "xaxis": "x",
         "y": [
          4.457963867025882,
          4.80641744652001,
          4.80641744652001,
          4.542105308733664
         ],
         "yaxis": "y",
         "type": "scatter"
        },
        {
         "hoverinfo": "text",
         "marker": {
          "color": "rgb(133,20,75)"
         },
         "mode": "lines",
         "x": [
          470.0,
          470.0,
          581.40625,
          581.40625
         ],
         "xaxis": "x",
         "y": [
          4.609273568760506,
          5.2086912846400235,
          5.2086912846400235,
          4.80641744652001
         ],
         "yaxis": "y",
         "type": "scatter"
        },
        {
         "hoverinfo": "text",
         "marker": {
          "color": "rgb(133,20,75)"
         },
         "mode": "lines",
         "x": [
          785.0,
          785.0,
          795.0,
          795.0
         ],
         "xaxis": "x",
         "y": [
          0.0,
          4.064300985383446,
          4.064300985383446,
          0.0
         ],
         "yaxis": "y",
         "type": "scatter"
        },
        {
         "hoverinfo": "text",
         "marker": {
          "color": "rgb(133,20,75)"
         },
         "mode": "lines",
         "x": [
          775.0,
          775.0,
          790.0,
          790.0
         ],
         "xaxis": "x",
         "y": [
          0.0,
          4.645884742151058,
          4.645884742151058,
          4.064300985383446
         ],
         "yaxis": "y",
         "type": "scatter"
        },
        {
         "hoverinfo": "text",
         "marker": {
          "color": "rgb(133,20,75)"
         },
         "mode": "lines",
         "x": [
          805.0,
          805.0,
          815.0,
          815.0
         ],
         "xaxis": "x",
         "y": [
          0.0,
          3.6476704606377592,
          3.6476704606377592,
          0.0
         ],
         "yaxis": "y",
         "type": "scatter"
        },
        {
         "hoverinfo": "text",
         "marker": {
          "color": "rgb(133,20,75)"
         },
         "mode": "lines",
         "x": [
          825.0,
          825.0,
          835.0,
          835.0
         ],
         "xaxis": "x",
         "y": [
          0.0,
          4.311663057752077,
          4.311663057752077,
          0.0
         ],
         "yaxis": "y",
         "type": "scatter"
        },
        {
         "hoverinfo": "text",
         "marker": {
          "color": "rgb(133,20,75)"
         },
         "mode": "lines",
         "x": [
          810.0,
          810.0,
          830.0,
          830.0
         ],
         "xaxis": "x",
         "y": [
          3.6476704606377592,
          4.8933506223640615,
          4.8933506223640615,
          4.311663057752077
         ],
         "yaxis": "y",
         "type": "scatter"
        },
        {
         "hoverinfo": "text",
         "marker": {
          "color": "rgb(133,20,75)"
         },
         "mode": "lines",
         "x": [
          865.0,
          865.0,
          875.0,
          875.0
         ],
         "xaxis": "x",
         "y": [
          0.0,
          4.13272168921199,
          4.13272168921199,
          0.0
         ],
         "yaxis": "y",
         "type": "scatter"
        },
        {
         "hoverinfo": "text",
         "marker": {
          "color": "rgb(133,20,75)"
         },
         "mode": "lines",
         "x": [
          855.0,
          855.0,
          870.0,
          870.0
         ],
         "xaxis": "x",
         "y": [
          0.0,
          4.530661025689715,
          4.530661025689715,
          4.13272168921199
         ],
         "yaxis": "y",
         "type": "scatter"
        },
        {
         "hoverinfo": "text",
         "marker": {
          "color": "rgb(133,20,75)"
         },
         "mode": "lines",
         "x": [
          845.0,
          845.0,
          862.5,
          862.5
         ],
         "xaxis": "x",
         "y": [
          0.0,
          4.918857281147525,
          4.918857281147525,
          4.530661025689715
         ],
         "yaxis": "y",
         "type": "scatter"
        },
        {
         "hoverinfo": "text",
         "marker": {
          "color": "rgb(133,20,75)"
         },
         "mode": "lines",
         "x": [
          820.0,
          820.0,
          853.75,
          853.75
         ],
         "xaxis": "x",
         "y": [
          4.8933506223640615,
          5.186804002352425,
          5.186804002352425,
          4.918857281147525
         ],
         "yaxis": "y",
         "type": "scatter"
        },
        {
         "hoverinfo": "text",
         "marker": {
          "color": "rgb(133,20,75)"
         },
         "mode": "lines",
         "x": [
          782.5,
          782.5,
          836.875,
          836.875
         ],
         "xaxis": "x",
         "y": [
          4.645884742151058,
          5.2570787515785415,
          5.2570787515785415,
          5.186804002352425
         ],
         "yaxis": "y",
         "type": "scatter"
        },
        {
         "hoverinfo": "text",
         "marker": {
          "color": "rgb(133,20,75)"
         },
         "mode": "lines",
         "x": [
          525.703125,
          525.703125,
          809.6875,
          809.6875
         ],
         "xaxis": "x",
         "y": [
          5.2086912846400235,
          5.586813934889453,
          5.586813934889453,
          5.2570787515785415
         ],
         "yaxis": "y",
         "type": "scatter"
        },
        {
         "hoverinfo": "text",
         "marker": {
          "color": "rgb(133,20,75)"
         },
         "mode": "lines",
         "x": [
          380.9375,
          380.9375,
          667.6953125,
          667.6953125
         ],
         "xaxis": "x",
         "y": [
          5.43335417458403,
          5.749331990080512,
          5.749331990080512,
          5.586813934889453
         ],
         "yaxis": "y",
         "type": "scatter"
        },
        {
         "hoverinfo": "text",
         "marker": {
          "color": "rgb(133,20,75)"
         },
         "mode": "lines",
         "x": [
          355.0,
          355.0,
          524.31640625,
          524.31640625
         ],
         "xaxis": "x",
         "y": [
          0.0,
          6.090201554543002,
          6.090201554543002,
          5.749331990080512
         ],
         "yaxis": "y",
         "type": "scatter"
        },
        {
         "hoverinfo": "text",
         "marker": {
          "color": "rgb(133,20,75)"
         },
         "mode": "lines",
         "x": [
          885.0,
          885.0,
          895.0,
          895.0
         ],
         "xaxis": "x",
         "y": [
          0.0,
          5.609302864166595,
          5.609302864166595,
          0.0
         ],
         "yaxis": "y",
         "type": "scatter"
        },
        {
         "hoverinfo": "text",
         "marker": {
          "color": "rgb(133,20,75)"
         },
         "mode": "lines",
         "x": [
          925.0,
          925.0,
          935.0,
          935.0
         ],
         "xaxis": "x",
         "y": [
          0.0,
          4.393918587872363,
          4.393918587872363,
          0.0
         ],
         "yaxis": "y",
         "type": "scatter"
        },
        {
         "hoverinfo": "text",
         "marker": {
          "color": "rgb(133,20,75)"
         },
         "mode": "lines",
         "x": [
          915.0,
          915.0,
          930.0,
          930.0
         ],
         "xaxis": "x",
         "y": [
          0.0,
          4.865312517481146,
          4.865312517481146,
          4.393918587872363
         ],
         "yaxis": "y",
         "type": "scatter"
        },
        {
         "hoverinfo": "text",
         "marker": {
          "color": "rgb(133,20,75)"
         },
         "mode": "lines",
         "x": [
          975.0,
          975.0,
          985.0,
          985.0
         ],
         "xaxis": "x",
         "y": [
          0.0,
          3.6211370132530334,
          3.6211370132530334,
          0.0
         ],
         "yaxis": "y",
         "type": "scatter"
        },
        {
         "hoverinfo": "text",
         "marker": {
          "color": "rgb(133,20,75)"
         },
         "mode": "lines",
         "x": [
          965.0,
          965.0,
          980.0,
          980.0
         ],
         "xaxis": "x",
         "y": [
          0.0,
          3.9079251754976236,
          3.9079251754976236,
          3.6211370132530334
         ],
         "yaxis": "y",
         "type": "scatter"
        },
        {
         "hoverinfo": "text",
         "marker": {
          "color": "rgb(133,20,75)"
         },
         "mode": "lines",
         "x": [
          955.0,
          955.0,
          972.5,
          972.5
         ],
         "xaxis": "x",
         "y": [
          0.0,
          4.184561764631786,
          4.184561764631786,
          3.9079251754976236
         ],
         "yaxis": "y",
         "type": "scatter"
        },
        {
         "hoverinfo": "text",
         "marker": {
          "color": "rgb(133,20,75)"
         },
         "mode": "lines",
         "x": [
          945.0,
          945.0,
          963.75,
          963.75
         ],
         "xaxis": "x",
         "y": [
          0.0,
          4.381021324985102,
          4.381021324985102,
          4.184561764631786
         ],
         "yaxis": "y",
         "type": "scatter"
        },
        {
         "hoverinfo": "text",
         "marker": {
          "color": "rgb(133,20,75)"
         },
         "mode": "lines",
         "x": [
          995.0,
          995.0,
          1005.0,
          1005.0
         ],
         "xaxis": "x",
         "y": [
          0.0,
          4.5661508197774765,
          4.5661508197774765,
          0.0
         ],
         "yaxis": "y",
         "type": "scatter"
        },
        {
         "hoverinfo": "text",
         "marker": {
          "color": "rgb(133,20,75)"
         },
         "mode": "lines",
         "x": [
          954.375,
          954.375,
          1000.0,
          1000.0
         ],
         "xaxis": "x",
         "y": [
          4.381021324985102,
          5.078990788431462,
          5.078990788431462,
          4.5661508197774765
         ],
         "yaxis": "y",
         "type": "scatter"
        },
        {
         "hoverinfo": "text",
         "marker": {
          "color": "rgb(133,20,75)"
         },
         "mode": "lines",
         "x": [
          922.5,
          922.5,
          977.1875,
          977.1875
         ],
         "xaxis": "x",
         "y": [
          4.865312517481146,
          5.340875058831222,
          5.340875058831222,
          5.078990788431462
         ],
         "yaxis": "y",
         "type": "scatter"
        },
        {
         "hoverinfo": "text",
         "marker": {
          "color": "rgb(133,20,75)"
         },
         "mode": "lines",
         "x": [
          905.0,
          905.0,
          949.84375,
          949.84375
         ],
         "xaxis": "x",
         "y": [
          0.0,
          5.698223875468168,
          5.698223875468168,
          5.340875058831222
         ],
         "yaxis": "y",
         "type": "scatter"
        },
        {
         "hoverinfo": "text",
         "marker": {
          "color": "rgb(133,20,75)"
         },
         "mode": "lines",
         "x": [
          890.0,
          890.0,
          927.421875,
          927.421875
         ],
         "xaxis": "x",
         "y": [
          5.609302864166595,
          6.285941460650043,
          6.285941460650043,
          5.698223875468168
         ],
         "yaxis": "y",
         "type": "scatter"
        },
        {
         "hoverinfo": "text",
         "marker": {
          "color": "rgb(133,20,75)"
         },
         "mode": "lines",
         "x": [
          439.658203125,
          439.658203125,
          908.7109375,
          908.7109375
         ],
         "xaxis": "x",
         "y": [
          6.090201554543002,
          6.468143264360199,
          6.468143264360199,
          6.285941460650043
         ],
         "yaxis": "y",
         "type": "scatter"
        },
        {
         "hoverinfo": "text",
         "marker": {
          "color": "rgb(133,20,75)"
         },
         "mode": "lines",
         "x": [
          1035.0,
          1035.0,
          1045.0,
          1045.0
         ],
         "xaxis": "x",
         "y": [
          0.0,
          3.7844865850326608,
          3.7844865850326608,
          0.0
         ],
         "yaxis": "y",
         "type": "scatter"
        },
        {
         "hoverinfo": "text",
         "marker": {
          "color": "rgb(133,20,75)"
         },
         "mode": "lines",
         "x": [
          1025.0,
          1025.0,
          1040.0,
          1040.0
         ],
         "xaxis": "x",
         "y": [
          0.0,
          4.47186164990523,
          4.47186164990523,
          3.7844865850326608
         ],
         "yaxis": "y",
         "type": "scatter"
        },
        {
         "hoverinfo": "text",
         "marker": {
          "color": "rgb(133,20,75)"
         },
         "mode": "lines",
         "x": [
          1015.0,
          1015.0,
          1032.5,
          1032.5
         ],
         "xaxis": "x",
         "y": [
          0.0,
          4.549096824542204,
          4.549096824542204,
          4.47186164990523
         ],
         "yaxis": "y",
         "type": "scatter"
        },
        {
         "hoverinfo": "text",
         "marker": {
          "color": "rgb(133,20,75)"
         },
         "mode": "lines",
         "x": [
          1055.0,
          1055.0,
          1065.0,
          1065.0
         ],
         "xaxis": "x",
         "y": [
          0.0,
          4.777396738675768,
          4.777396738675768,
          0.0
         ],
         "yaxis": "y",
         "type": "scatter"
        },
        {
         "hoverinfo": "text",
         "marker": {
          "color": "rgb(133,20,75)"
         },
         "mode": "lines",
         "x": [
          1023.75,
          1023.75,
          1060.0,
          1060.0
         ],
         "xaxis": "x",
         "y": [
          4.549096824542204,
          5.092658217210996,
          5.092658217210996,
          4.777396738675768
         ],
         "yaxis": "y",
         "type": "scatter"
        },
        {
         "hoverinfo": "text",
         "marker": {
          "color": "rgb(133,20,75)"
         },
         "mode": "lines",
         "x": [
          1095.0,
          1095.0,
          1105.0,
          1105.0
         ],
         "xaxis": "x",
         "y": [
          0.0,
          3.180658086784502,
          3.180658086784502,
          0.0
         ],
         "yaxis": "y",
         "type": "scatter"
        },
        {
         "hoverinfo": "text",
         "marker": {
          "color": "rgb(133,20,75)"
         },
         "mode": "lines",
         "x": [
          1085.0,
          1085.0,
          1100.0,
          1100.0
         ],
         "xaxis": "x",
         "y": [
          0.0,
          4.419153789456347,
          4.419153789456347,
          3.180658086784502
         ],
         "yaxis": "y",
         "type": "scatter"
        },
        {
         "hoverinfo": "text",
         "marker": {
          "color": "rgb(133,20,75)"
         },
         "mode": "lines",
         "x": [
          1075.0,
          1075.0,
          1092.5,
          1092.5
         ],
         "xaxis": "x",
         "y": [
          0.0,
          5.457717892928814,
          5.457717892928814,
          4.419153789456347
         ],
         "yaxis": "y",
         "type": "scatter"
        },
        {
         "hoverinfo": "text",
         "marker": {
          "color": "rgb(133,20,75)"
         },
         "mode": "lines",
         "x": [
          1145.0,
          1145.0,
          1155.0,
          1155.0
         ],
         "xaxis": "x",
         "y": [
          0.0,
          2.9648307996091683,
          2.9648307996091683,
          0.0
         ],
         "yaxis": "y",
         "type": "scatter"
        },
        {
         "hoverinfo": "text",
         "marker": {
          "color": "rgb(133,20,75)"
         },
         "mode": "lines",
         "x": [
          1135.0,
          1135.0,
          1150.0,
          1150.0
         ],
         "xaxis": "x",
         "y": [
          0.0,
          3.5219131284896763,
          3.5219131284896763,
          2.9648307996091683
         ],
         "yaxis": "y",
         "type": "scatter"
        },
        {
         "hoverinfo": "text",
         "marker": {
          "color": "rgb(133,20,75)"
         },
         "mode": "lines",
         "x": [
          1125.0,
          1125.0,
          1142.5,
          1142.5
         ],
         "xaxis": "x",
         "y": [
          0.0,
          3.7579013175371294,
          3.7579013175371294,
          3.5219131284896763
         ],
         "yaxis": "y",
         "type": "scatter"
        },
        {
         "hoverinfo": "text",
         "marker": {
          "color": "rgb(133,20,75)"
         },
         "mode": "lines",
         "x": [
          1165.0,
          1165.0,
          1175.0,
          1175.0
         ],
         "xaxis": "x",
         "y": [
          0.0,
          4.179763610404895,
          4.179763610404895,
          0.0
         ],
         "yaxis": "y",
         "type": "scatter"
        },
        {
         "hoverinfo": "text",
         "marker": {
          "color": "rgb(133,20,75)"
         },
         "mode": "lines",
         "x": [
          1195.0,
          1195.0,
          1205.0,
          1205.0
         ],
         "xaxis": "x",
         "y": [
          0.0,
          3.1951040980595566,
          3.1951040980595566,
          0.0
         ],
         "yaxis": "y",
         "type": "scatter"
        },
        {
         "hoverinfo": "text",
         "marker": {
          "color": "rgb(133,20,75)"
         },
         "mode": "lines",
         "x": [
          1225.0,
          1225.0,
          1235.0,
          1235.0
         ],
         "xaxis": "x",
         "y": [
          0.0,
          2.458115491466813,
          2.458115491466813,
          0.0
         ],
         "yaxis": "y",
         "type": "scatter"
        },
        {
         "hoverinfo": "text",
         "marker": {
          "color": "rgb(133,20,75)"
         },
         "mode": "lines",
         "x": [
          1215.0,
          1215.0,
          1230.0,
          1230.0
         ],
         "xaxis": "x",
         "y": [
          0.0,
          2.9466248774361143,
          2.9466248774361143,
          2.458115491466813
         ],
         "yaxis": "y",
         "type": "scatter"
        },
        {
         "hoverinfo": "text",
         "marker": {
          "color": "rgb(133,20,75)"
         },
         "mode": "lines",
         "x": [
          1245.0,
          1245.0,
          1255.0,
          1255.0
         ],
         "xaxis": "x",
         "y": [
          0.0,
          3.212841762135845,
          3.212841762135845,
          0.0
         ],
         "yaxis": "y",
         "type": "scatter"
        },
        {
         "hoverinfo": "text",
         "marker": {
          "color": "rgb(133,20,75)"
         },
         "mode": "lines",
         "x": [
          1222.5,
          1222.5,
          1250.0,
          1250.0
         ],
         "xaxis": "x",
         "y": [
          2.9466248774361143,
          3.5002804810567643,
          3.5002804810567643,
          3.212841762135845
         ],
         "yaxis": "y",
         "type": "scatter"
        },
        {
         "hoverinfo": "text",
         "marker": {
          "color": "rgb(133,20,75)"
         },
         "mode": "lines",
         "x": [
          1200.0,
          1200.0,
          1236.25,
          1236.25
         ],
         "xaxis": "x",
         "y": [
          3.1951040980595566,
          3.771637174463045,
          3.771637174463045,
          3.5002804810567643
         ],
         "yaxis": "y",
         "type": "scatter"
        },
        {
         "hoverinfo": "text",
         "marker": {
          "color": "rgb(133,20,75)"
         },
         "mode": "lines",
         "x": [
          1185.0,
          1185.0,
          1218.125,
          1218.125
         ],
         "xaxis": "x",
         "y": [
          0.0,
          4.208156051085456,
          4.208156051085456,
          3.771637174463045
         ],
         "yaxis": "y",
         "type": "scatter"
        },
        {
         "hoverinfo": "text",
         "marker": {
          "color": "rgb(133,20,75)"
         },
         "mode": "lines",
         "x": [
          1170.0,
          1170.0,
          1201.5625,
          1201.5625
         ],
         "xaxis": "x",
         "y": [
          4.179763610404895,
          4.700457868552159,
          4.700457868552159,
          4.208156051085456
         ],
         "yaxis": "y",
         "type": "scatter"
        },
        {
         "hoverinfo": "text",
         "marker": {
          "color": "rgb(133,20,75)"
         },
         "mode": "lines",
         "x": [
          1133.75,
          1133.75,
          1185.78125,
          1185.78125
         ],
         "xaxis": "x",
         "y": [
          3.7579013175371294,
          4.911220069572654,
          4.911220069572654,
          4.700457868552159
         ],
         "yaxis": "y",
         "type": "scatter"
        },
        {
         "hoverinfo": "text",
         "marker": {
          "color": "rgb(133,20,75)"
         },
         "mode": "lines",
         "x": [
          1115.0,
          1115.0,
          1159.765625,
          1159.765625
         ],
         "xaxis": "x",
         "y": [
          0.0,
          5.097101062015072,
          5.097101062015072,
          4.911220069572654
         ],
         "yaxis": "y",
         "type": "scatter"
        },
        {
         "hoverinfo": "text",
         "marker": {
          "color": "rgb(133,20,75)"
         },
         "mode": "lines",
         "x": [
          1265.0,
          1265.0,
          1275.0,
          1275.0
         ],
         "xaxis": "x",
         "y": [
          0.0,
          4.046191315739228,
          4.046191315739228,
          0.0
         ],
         "yaxis": "y",
         "type": "scatter"
        },
        {
         "hoverinfo": "text",
         "marker": {
          "color": "rgb(133,20,75)"
         },
         "mode": "lines",
         "x": [
          1285.0,
          1285.0,
          1295.0,
          1295.0
         ],
         "xaxis": "x",
         "y": [
          0.0,
          4.9509227985443305,
          4.9509227985443305,
          0.0
         ],
         "yaxis": "y",
         "type": "scatter"
        },
        {
         "hoverinfo": "text",
         "marker": {
          "color": "rgb(133,20,75)"
         },
         "mode": "lines",
         "x": [
          1270.0,
          1270.0,
          1290.0,
          1290.0
         ],
         "xaxis": "x",
         "y": [
          4.046191315739228,
          5.1003847226943275,
          5.1003847226943275,
          4.9509227985443305
         ],
         "yaxis": "y",
         "type": "scatter"
        },
        {
         "hoverinfo": "text",
         "marker": {
          "color": "rgb(133,20,75)"
         },
         "mode": "lines",
         "x": [
          1137.3828125,
          1137.3828125,
          1280.0,
          1280.0
         ],
         "xaxis": "x",
         "y": [
          5.097101062015072,
          5.810668803890479,
          5.810668803890479,
          5.1003847226943275
         ],
         "yaxis": "y",
         "type": "scatter"
        },
        {
         "hoverinfo": "text",
         "marker": {
          "color": "rgb(133,20,75)"
         },
         "mode": "lines",
         "x": [
          1083.75,
          1083.75,
          1208.69140625,
          1208.69140625
         ],
         "xaxis": "x",
         "y": [
          5.457717892928814,
          5.913162132002112,
          5.913162132002112,
          5.810668803890479
         ],
         "yaxis": "y",
         "type": "scatter"
        },
        {
         "hoverinfo": "text",
         "marker": {
          "color": "rgb(133,20,75)"
         },
         "mode": "lines",
         "x": [
          1041.875,
          1041.875,
          1146.220703125,
          1146.220703125
         ],
         "xaxis": "x",
         "y": [
          5.092658217210996,
          6.699891292576841,
          6.699891292576841,
          5.913162132002112
         ],
         "yaxis": "y",
         "type": "scatter"
        },
        {
         "hoverinfo": "text",
         "marker": {
          "color": "rgb(133,20,75)"
         },
         "mode": "lines",
         "x": [
          674.1845703125,
          674.1845703125,
          1094.0478515625,
          1094.0478515625
         ],
         "xaxis": "x",
         "y": [
          6.468143264360199,
          7.17623844873468,
          7.17623844873468,
          6.699891292576841
         ],
         "yaxis": "y",
         "type": "scatter"
        },
        {
         "hoverinfo": "text",
         "marker": {
          "color": "rgb(133,20,75)"
         },
         "mode": "lines",
         "x": [
          345.0,
          345.0,
          884.1162109375,
          884.1162109375
         ],
         "xaxis": "x",
         "y": [
          0.0,
          7.339824970596022,
          7.339824970596022,
          7.17623844873468
         ],
         "yaxis": "y",
         "type": "scatter"
        },
        {
         "hoverinfo": "text",
         "marker": {
          "color": "rgb(133,20,75)"
         },
         "mode": "lines",
         "x": [
          294.6875,
          294.6875,
          614.55810546875,
          614.55810546875
         ],
         "xaxis": "x",
         "y": [
          7.133366618610118,
          8.099973326359681,
          8.099973326359681,
          7.339824970596022
         ],
         "yaxis": "y",
         "type": "scatter"
        },
        {
         "hoverinfo": "text",
         "marker": {
          "color": "rgb(133,20,75)"
         },
         "mode": "lines",
         "x": [
          275.0,
          275.0,
          454.622802734375,
          454.622802734375
         ],
         "xaxis": "x",
         "y": [
          0.0,
          8.48259831382842,
          8.48259831382842,
          8.099973326359681
         ],
         "yaxis": "y",
         "type": "scatter"
        },
        {
         "hoverinfo": "text",
         "marker": {
          "color": "rgb(133,20,75)"
         },
         "mode": "lines",
         "x": [
          1325.0,
          1325.0,
          1335.0,
          1335.0
         ],
         "xaxis": "x",
         "y": [
          0.0,
          3.0297130096587233,
          3.0297130096587233,
          0.0
         ],
         "yaxis": "y",
         "type": "scatter"
        },
        {
         "hoverinfo": "text",
         "marker": {
          "color": "rgb(133,20,75)"
         },
         "mode": "lines",
         "x": [
          1315.0,
          1315.0,
          1330.0,
          1330.0
         ],
         "xaxis": "x",
         "y": [
          0.0,
          4.324979311866862,
          4.324979311866862,
          3.0297130096587233
         ],
         "yaxis": "y",
         "type": "scatter"
        },
        {
         "hoverinfo": "text",
         "marker": {
          "color": "rgb(133,20,75)"
         },
         "mode": "lines",
         "x": [
          1365.0,
          1365.0,
          1375.0,
          1375.0
         ],
         "xaxis": "x",
         "y": [
          0.0,
          3.613869183563178,
          3.613869183563178,
          0.0
         ],
         "yaxis": "y",
         "type": "scatter"
        },
        {
         "hoverinfo": "text",
         "marker": {
          "color": "rgb(133,20,75)"
         },
         "mode": "lines",
         "x": [
          1355.0,
          1355.0,
          1370.0,
          1370.0
         ],
         "xaxis": "x",
         "y": [
          0.0,
          3.9045287652468863,
          3.9045287652468863,
          3.613869183563178
         ],
         "yaxis": "y",
         "type": "scatter"
        },
        {
         "hoverinfo": "text",
         "marker": {
          "color": "rgb(133,20,75)"
         },
         "mode": "lines",
         "x": [
          1385.0,
          1385.0,
          1395.0,
          1395.0
         ],
         "xaxis": "x",
         "y": [
          0.0,
          4.312682352895766,
          4.312682352895766,
          0.0
         ],
         "yaxis": "y",
         "type": "scatter"
        },
        {
         "hoverinfo": "text",
         "marker": {
          "color": "rgb(133,20,75)"
         },
         "mode": "lines",
         "x": [
          1362.5,
          1362.5,
          1390.0,
          1390.0
         ],
         "xaxis": "x",
         "y": [
          3.9045287652468863,
          4.690188775882621,
          4.690188775882621,
          4.312682352895766
         ],
         "yaxis": "y",
         "type": "scatter"
        },
        {
         "hoverinfo": "text",
         "marker": {
          "color": "rgb(133,20,75)"
         },
         "mode": "lines",
         "x": [
          1345.0,
          1345.0,
          1376.25,
          1376.25
         ],
         "xaxis": "x",
         "y": [
          0.0,
          4.812368165098865,
          4.812368165098865,
          4.690188775882621
         ],
         "yaxis": "y",
         "type": "scatter"
        },
        {
         "hoverinfo": "text",
         "marker": {
          "color": "rgb(133,20,75)"
         },
         "mode": "lines",
         "x": [
          1322.5,
          1322.5,
          1360.625,
          1360.625
         ],
         "xaxis": "x",
         "y": [
          4.324979311866862,
          5.452814394702084,
          5.452814394702084,
          4.812368165098865
         ],
         "yaxis": "y",
         "type": "scatter"
        },
        {
         "hoverinfo": "text",
         "marker": {
          "color": "rgb(133,20,75)"
         },
         "mode": "lines",
         "x": [
          1435.0,
          1435.0,
          1445.0,
          1445.0
         ],
         "xaxis": "x",
         "y": [
          0.0,
          3.28363105440905,
          3.28363105440905,
          0.0
         ],
         "yaxis": "y",
         "type": "scatter"
        },
        {
         "hoverinfo": "text",
         "marker": {
          "color": "rgb(133,20,75)"
         },
         "mode": "lines",
         "x": [
          1425.0,
          1425.0,
          1440.0,
          1440.0
         ],
         "xaxis": "x",
         "y": [
          0.0,
          3.4998643067019053,
          3.4998643067019053,
          3.28363105440905
         ],
         "yaxis": "y",
         "type": "scatter"
        },
        {
         "hoverinfo": "text",
         "marker": {
          "color": "rgb(133,20,75)"
         },
         "mode": "lines",
         "x": [
          1415.0,
          1415.0,
          1432.5,
          1432.5
         ],
         "xaxis": "x",
         "y": [
          0.0,
          3.9148753775599245,
          3.9148753775599245,
          3.4998643067019053
         ],
         "yaxis": "y",
         "type": "scatter"
        },
        {
         "hoverinfo": "text",
         "marker": {
          "color": "rgb(133,20,75)"
         },
         "mode": "lines",
         "x": [
          1455.0,
          1455.0,
          1465.0,
          1465.0
         ],
         "xaxis": "x",
         "y": [
          0.0,
          3.8355101186640104,
          3.8355101186640104,
          0.0
         ],
         "yaxis": "y",
         "type": "scatter"
        },
        {
         "hoverinfo": "text",
         "marker": {
          "color": "rgb(133,20,75)"
         },
         "mode": "lines",
         "x": [
          1475.0,
          1475.0,
          1485.0,
          1485.0
         ],
         "xaxis": "x",
         "y": [
          0.0,
          3.6529243229492163,
          3.6529243229492163,
          0.0
         ],
         "yaxis": "y",
         "type": "scatter"
        },
        {
         "hoverinfo": "text",
         "marker": {
          "color": "rgb(133,20,75)"
         },
         "mode": "lines",
         "x": [
          1505.0,
          1505.0,
          1515.0,
          1515.0
         ],
         "xaxis": "x",
         "y": [
          0.0,
          2.9751060245714553,
          2.9751060245714553,
          0.0
         ],
         "yaxis": "y",
         "type": "scatter"
        },
        {
         "hoverinfo": "text",
         "marker": {
          "color": "rgb(133,20,75)"
         },
         "mode": "lines",
         "x": [
          1495.0,
          1495.0,
          1510.0,
          1510.0
         ],
         "xaxis": "x",
         "y": [
          0.0,
          3.047866497063863,
          3.047866497063863,
          2.9751060245714553
         ],
         "yaxis": "y",
         "type": "scatter"
        },
        {
         "hoverinfo": "text",
         "marker": {
          "color": "rgb(133,20,75)"
         },
         "mode": "lines",
         "x": [
          1535.0,
          1535.0,
          1545.0,
          1545.0
         ],
         "xaxis": "x",
         "y": [
          0.0,
          2.8553380685290493,
          2.8553380685290493,
          0.0
         ],
         "yaxis": "y",
         "type": "scatter"
        },
        {
         "hoverinfo": "text",
         "marker": {
          "color": "rgb(133,20,75)"
         },
         "mode": "lines",
         "x": [
          1525.0,
          1525.0,
          1540.0,
          1540.0
         ],
         "xaxis": "x",
         "y": [
          0.0,
          3.0317835276250866,
          3.0317835276250866,
          2.8553380685290493
         ],
         "yaxis": "y",
         "type": "scatter"
        },
        {
         "hoverinfo": "text",
         "marker": {
          "color": "rgb(133,20,75)"
         },
         "mode": "lines",
         "x": [
          1555.0,
          1555.0,
          1565.0,
          1565.0
         ],
         "xaxis": "x",
         "y": [
          0.0,
          3.316784409275408,
          3.316784409275408,
          0.0
         ],
         "yaxis": "y",
         "type": "scatter"
        },
        {
         "hoverinfo": "text",
         "marker": {
          "color": "rgb(133,20,75)"
         },
         "mode": "lines",
         "x": [
          1532.5,
          1532.5,
          1560.0,
          1560.0
         ],
         "xaxis": "x",
         "y": [
          3.0317835276250866,
          3.6032916843150447,
          3.6032916843150447,
          3.316784409275408
         ],
         "yaxis": "y",
         "type": "scatter"
        },
        {
         "hoverinfo": "text",
         "marker": {
          "color": "rgb(133,20,75)"
         },
         "mode": "lines",
         "x": [
          1502.5,
          1502.5,
          1546.25,
          1546.25
         ],
         "xaxis": "x",
         "y": [
          3.047866497063863,
          3.6845087829067964,
          3.6845087829067964,
          3.6032916843150447
         ],
         "yaxis": "y",
         "type": "scatter"
        },
        {
         "hoverinfo": "text",
         "marker": {
          "color": "rgb(133,20,75)"
         },
         "mode": "lines",
         "x": [
          1480.0,
          1480.0,
          1524.375,
          1524.375
         ],
         "xaxis": "x",
         "y": [
          3.6529243229492163,
          3.9980905233549184,
          3.9980905233549184,
          3.6845087829067964
         ],
         "yaxis": "y",
         "type": "scatter"
        },
        {
         "hoverinfo": "text",
         "marker": {
          "color": "rgb(133,20,75)"
         },
         "mode": "lines",
         "x": [
          1460.0,
          1460.0,
          1502.1875,
          1502.1875
         ],
         "xaxis": "x",
         "y": [
          3.8355101186640104,
          4.280406556673712,
          4.280406556673712,
          3.9980905233549184
         ],
         "yaxis": "y",
         "type": "scatter"
        },
        {
         "hoverinfo": "text",
         "marker": {
          "color": "rgb(133,20,75)"
         },
         "mode": "lines",
         "x": [
          1423.75,
          1423.75,
          1481.09375,
          1481.09375
         ],
         "xaxis": "x",
         "y": [
          3.9148753775599245,
          4.4449918811285665,
          4.4449918811285665,
          4.280406556673712
         ],
         "yaxis": "y",
         "type": "scatter"
        },
        {
         "hoverinfo": "text",
         "marker": {
          "color": "rgb(133,20,75)"
         },
         "mode": "lines",
         "x": [
          1575.0,
          1575.0,
          1585.0,
          1585.0
         ],
         "xaxis": "x",
         "y": [
          0.0,
          3.9076459969673785,
          3.9076459969673785,
          0.0
         ],
         "yaxis": "y",
         "type": "scatter"
        },
        {
         "hoverinfo": "text",
         "marker": {
          "color": "rgb(133,20,75)"
         },
         "mode": "lines",
         "x": [
          1595.0,
          1595.0,
          1605.0,
          1605.0
         ],
         "xaxis": "x",
         "y": [
          0.0,
          3.9472897025814033,
          3.9472897025814033,
          0.0
         ],
         "yaxis": "y",
         "type": "scatter"
        },
        {
         "hoverinfo": "text",
         "marker": {
          "color": "rgb(133,20,75)"
         },
         "mode": "lines",
         "x": [
          1580.0,
          1580.0,
          1600.0,
          1600.0
         ],
         "xaxis": "x",
         "y": [
          3.9076459969673785,
          4.51642196364105,
          4.51642196364105,
          3.9472897025814033
         ],
         "yaxis": "y",
         "type": "scatter"
        },
        {
         "hoverinfo": "text",
         "marker": {
          "color": "rgb(133,20,75)"
         },
         "mode": "lines",
         "x": [
          1452.421875,
          1452.421875,
          1590.0,
          1590.0
         ],
         "xaxis": "x",
         "y": [
          4.4449918811285665,
          4.7971701988323945,
          4.7971701988323945,
          4.51642196364105
         ],
         "yaxis": "y",
         "type": "scatter"
        },
        {
         "hoverinfo": "text",
         "marker": {
          "color": "rgb(133,20,75)"
         },
         "mode": "lines",
         "x": [
          1615.0,
          1615.0,
          1625.0,
          1625.0
         ],
         "xaxis": "x",
         "y": [
          0.0,
          4.454119911333076,
          4.454119911333076,
          0.0
         ],
         "yaxis": "y",
         "type": "scatter"
        },
        {
         "hoverinfo": "text",
         "marker": {
          "color": "rgb(133,20,75)"
         },
         "mode": "lines",
         "x": [
          1645.0,
          1645.0,
          1655.0,
          1655.0
         ],
         "xaxis": "x",
         "y": [
          0.0,
          4.410720993606677,
          4.410720993606677,
          0.0
         ],
         "yaxis": "y",
         "type": "scatter"
        },
        {
         "hoverinfo": "text",
         "marker": {
          "color": "rgb(133,20,75)"
         },
         "mode": "lines",
         "x": [
          1635.0,
          1635.0,
          1650.0,
          1650.0
         ],
         "xaxis": "x",
         "y": [
          0.0,
          4.749224620516343,
          4.749224620516343,
          4.410720993606677
         ],
         "yaxis": "y",
         "type": "scatter"
        },
        {
         "hoverinfo": "text",
         "marker": {
          "color": "rgb(133,20,75)"
         },
         "mode": "lines",
         "x": [
          1620.0,
          1620.0,
          1642.5,
          1642.5
         ],
         "xaxis": "x",
         "y": [
          4.454119911333076,
          4.967481975719972,
          4.967481975719972,
          4.749224620516343
         ],
         "yaxis": "y",
         "type": "scatter"
        },
        {
         "hoverinfo": "text",
         "marker": {
          "color": "rgb(133,20,75)"
         },
         "mode": "lines",
         "x": [
          1521.2109375,
          1521.2109375,
          1631.25,
          1631.25
         ],
         "xaxis": "x",
         "y": [
          4.7971701988323945,
          5.252194744061306,
          5.252194744061306,
          4.967481975719972
         ],
         "yaxis": "y",
         "type": "scatter"
        },
        {
         "hoverinfo": "text",
         "marker": {
          "color": "rgb(133,20,75)"
         },
         "mode": "lines",
         "x": [
          1405.0,
          1405.0,
          1576.23046875,
          1576.23046875
         ],
         "xaxis": "x",
         "y": [
          0.0,
          5.76190495160639,
          5.76190495160639,
          5.252194744061306
         ],
         "yaxis": "y",
         "type": "scatter"
        },
        {
         "hoverinfo": "text",
         "marker": {
          "color": "rgb(133,20,75)"
         },
         "mode": "lines",
         "x": [
          1341.5625,
          1341.5625,
          1490.615234375,
          1490.615234375
         ],
         "xaxis": "x",
         "y": [
          5.452814394702084,
          6.2150607293704265,
          6.2150607293704265,
          5.76190495160639
         ],
         "yaxis": "y",
         "type": "scatter"
        },
        {
         "hoverinfo": "text",
         "marker": {
          "color": "rgb(133,20,75)"
         },
         "mode": "lines",
         "x": [
          1675.0,
          1675.0,
          1685.0,
          1685.0
         ],
         "xaxis": "x",
         "y": [
          0.0,
          4.061042754794459,
          4.061042754794459,
          0.0
         ],
         "yaxis": "y",
         "type": "scatter"
        },
        {
         "hoverinfo": "text",
         "marker": {
          "color": "rgb(133,20,75)"
         },
         "mode": "lines",
         "x": [
          1665.0,
          1665.0,
          1680.0,
          1680.0
         ],
         "xaxis": "x",
         "y": [
          0.0,
          5.5731287808405865,
          5.5731287808405865,
          4.061042754794459
         ],
         "yaxis": "y",
         "type": "scatter"
        },
        {
         "hoverinfo": "text",
         "marker": {
          "color": "rgb(133,20,75)"
         },
         "mode": "lines",
         "x": [
          1735.0,
          1735.0,
          1745.0,
          1745.0
         ],
         "xaxis": "x",
         "y": [
          0.0,
          3.1452483890630973,
          3.1452483890630973,
          0.0
         ],
         "yaxis": "y",
         "type": "scatter"
        },
        {
         "hoverinfo": "text",
         "marker": {
          "color": "rgb(133,20,75)"
         },
         "mode": "lines",
         "x": [
          1725.0,
          1725.0,
          1740.0,
          1740.0
         ],
         "xaxis": "x",
         "y": [
          0.0,
          3.3301112636405055,
          3.3301112636405055,
          3.1452483890630973
         ],
         "yaxis": "y",
         "type": "scatter"
        },
        {
         "hoverinfo": "text",
         "marker": {
          "color": "rgb(133,20,75)"
         },
         "mode": "lines",
         "x": [
          1715.0,
          1715.0,
          1732.5,
          1732.5
         ],
         "xaxis": "x",
         "y": [
          0.0,
          3.695420671491459,
          3.695420671491459,
          3.3301112636405055
         ],
         "yaxis": "y",
         "type": "scatter"
        },
        {
         "hoverinfo": "text",
         "marker": {
          "color": "rgb(133,20,75)"
         },
         "mode": "lines",
         "x": [
          1705.0,
          1705.0,
          1723.75,
          1723.75
         ],
         "xaxis": "x",
         "y": [
          0.0,
          3.7979006612033515,
          3.7979006612033515,
          3.695420671491459
         ],
         "yaxis": "y",
         "type": "scatter"
        },
        {
         "hoverinfo": "text",
         "marker": {
          "color": "rgb(133,20,75)"
         },
         "mode": "lines",
         "x": [
          1795.0,
          1795.0,
          1805.0,
          1805.0
         ],
         "xaxis": "x",
         "y": [
          0.0,
          2.0097982079561523,
          2.0097982079561523,
          0.0
         ],
         "yaxis": "y",
         "type": "scatter"
        },
        {
         "hoverinfo": "text",
         "marker": {
          "color": "rgb(133,20,75)"
         },
         "mode": "lines",
         "x": [
          1785.0,
          1785.0,
          1800.0,
          1800.0
         ],
         "xaxis": "x",
         "y": [
          0.0,
          2.2895919119867103,
          2.2895919119867103,
          2.0097982079561523
         ],
         "yaxis": "y",
         "type": "scatter"
        },
        {
         "hoverinfo": "text",
         "marker": {
          "color": "rgb(133,20,75)"
         },
         "mode": "lines",
         "x": [
          1775.0,
          1775.0,
          1792.5,
          1792.5
         ],
         "xaxis": "x",
         "y": [
          0.0,
          3.0189590725398086,
          3.0189590725398086,
          2.2895919119867103
         ],
         "yaxis": "y",
         "type": "scatter"
        },
        {
         "hoverinfo": "text",
         "marker": {
          "color": "rgb(133,20,75)"
         },
         "mode": "lines",
         "x": [
          1765.0,
          1765.0,
          1783.75,
          1783.75
         ],
         "xaxis": "x",
         "y": [
          0.0,
          3.3865302579587735,
          3.3865302579587735,
          3.0189590725398086
         ],
         "yaxis": "y",
         "type": "scatter"
        },
        {
         "hoverinfo": "text",
         "marker": {
          "color": "rgb(133,20,75)"
         },
         "mode": "lines",
         "x": [
          1825.0,
          1825.0,
          1835.0,
          1835.0
         ],
         "xaxis": "x",
         "y": [
          0.0,
          1.1179544928958063,
          1.1179544928958063,
          0.0
         ],
         "yaxis": "y",
         "type": "scatter"
        },
        {
         "hoverinfo": "text",
         "marker": {
          "color": "rgb(133,20,75)"
         },
         "mode": "lines",
         "x": [
          1875.0,
          1875.0,
          1885.0,
          1885.0
         ],
         "xaxis": "x",
         "y": [
          0.0,
          1.8267139409706885,
          1.8267139409706885,
          0.0
         ],
         "yaxis": "y",
         "type": "scatter"
        },
        {
         "hoverinfo": "text",
         "marker": {
          "color": "rgb(133,20,75)"
         },
         "mode": "lines",
         "x": [
          1865.0,
          1865.0,
          1880.0,
          1880.0
         ],
         "xaxis": "x",
         "y": [
          0.0,
          2.0247924974612133,
          2.0247924974612133,
          1.8267139409706885
         ],
         "yaxis": "y",
         "type": "scatter"
        },
        {
         "hoverinfo": "text",
         "marker": {
          "color": "rgb(133,20,75)"
         },
         "mode": "lines",
         "x": [
          1855.0,
          1855.0,
          1872.5,
          1872.5
         ],
         "xaxis": "x",
         "y": [
          0.0,
          2.1973515177524328,
          2.1973515177524328,
          2.0247924974612133
         ],
         "yaxis": "y",
         "type": "scatter"
        },
        {
         "hoverinfo": "text",
         "marker": {
          "color": "rgb(133,20,75)"
         },
         "mode": "lines",
         "x": [
          1845.0,
          1845.0,
          1863.75,
          1863.75
         ],
         "xaxis": "x",
         "y": [
          0.0,
          2.4640967550812354,
          2.4640967550812354,
          2.1973515177524328
         ],
         "yaxis": "y",
         "type": "scatter"
        },
        {
         "hoverinfo": "text",
         "marker": {
          "color": "rgb(133,20,75)"
         },
         "mode": "lines",
         "x": [
          1830.0,
          1830.0,
          1854.375,
          1854.375
         ],
         "xaxis": "x",
         "y": [
          1.1179544928958063,
          2.7948432930812355,
          2.7948432930812355,
          2.4640967550812354
         ],
         "yaxis": "y",
         "type": "scatter"
        },
        {
         "hoverinfo": "text",
         "marker": {
          "color": "rgb(133,20,75)"
         },
         "mode": "lines",
         "x": [
          1815.0,
          1815.0,
          1842.1875,
          1842.1875
         ],
         "xaxis": "x",
         "y": [
          0.0,
          3.3993159512846165,
          3.3993159512846165,
          2.7948432930812355
         ],
         "yaxis": "y",
         "type": "scatter"
        },
        {
         "hoverinfo": "text",
         "marker": {
          "color": "rgb(133,20,75)"
         },
         "mode": "lines",
         "x": [
          1774.375,
          1774.375,
          1828.59375,
          1828.59375
         ],
         "xaxis": "x",
         "y": [
          3.3865302579587735,
          3.740743762104064,
          3.740743762104064,
          3.3993159512846165
         ],
         "yaxis": "y",
         "type": "scatter"
        },
        {
         "hoverinfo": "text",
         "marker": {
          "color": "rgb(133,20,75)"
         },
         "mode": "lines",
         "x": [
          1755.0,
          1755.0,
          1801.484375,
          1801.484375
         ],
         "xaxis": "x",
         "y": [
          0.0,
          4.101160705405297,
          4.101160705405297,
          3.740743762104064
         ],
         "yaxis": "y",
         "type": "scatter"
        },
        {
         "hoverinfo": "text",
         "marker": {
          "color": "rgb(133,20,75)"
         },
         "mode": "lines",
         "x": [
          1714.375,
          1714.375,
          1778.2421875,
          1778.2421875
         ],
         "xaxis": "x",
         "y": [
          3.7979006612033515,
          4.303133594727747,
          4.303133594727747,
          4.101160705405297
         ],
         "yaxis": "y",
         "type": "scatter"
        },
        {
         "hoverinfo": "text",
         "marker": {
          "color": "rgb(133,20,75)"
         },
         "mode": "lines",
         "x": [
          1695.0,
          1695.0,
          1746.30859375,
          1746.30859375
         ],
         "xaxis": "x",
         "y": [
          0.0,
          4.601759352893114,
          4.601759352893114,
          4.303133594727747
         ],
         "yaxis": "y",
         "type": "scatter"
        },
        {
         "hoverinfo": "text",
         "marker": {
          "color": "rgb(133,20,75)"
         },
         "mode": "lines",
         "x": [
          1895.0,
          1895.0,
          1905.0,
          1905.0
         ],
         "xaxis": "x",
         "y": [
          0.0,
          3.9148977361771187,
          3.9148977361771187,
          0.0
         ],
         "yaxis": "y",
         "type": "scatter"
        },
        {
         "hoverinfo": "text",
         "marker": {
          "color": "rgb(133,20,75)"
         },
         "mode": "lines",
         "x": [
          1915.0,
          1915.0,
          1925.0,
          1925.0
         ],
         "xaxis": "x",
         "y": [
          0.0,
          3.9651956448844956,
          3.9651956448844956,
          0.0
         ],
         "yaxis": "y",
         "type": "scatter"
        },
        {
         "hoverinfo": "text",
         "marker": {
          "color": "rgb(133,20,75)"
         },
         "mode": "lines",
         "x": [
          1900.0,
          1900.0,
          1920.0,
          1920.0
         ],
         "xaxis": "x",
         "y": [
          3.9148977361771187,
          5.134932164776143,
          5.134932164776143,
          3.9651956448844956
         ],
         "yaxis": "y",
         "type": "scatter"
        },
        {
         "hoverinfo": "text",
         "marker": {
          "color": "rgb(133,20,75)"
         },
         "mode": "lines",
         "x": [
          1935.0,
          1935.0,
          1945.0,
          1945.0
         ],
         "xaxis": "x",
         "y": [
          0.0,
          3.52951718242607,
          3.52951718242607,
          0.0
         ],
         "yaxis": "y",
         "type": "scatter"
        },
        {
         "hoverinfo": "text",
         "marker": {
          "color": "rgb(133,20,75)"
         },
         "mode": "lines",
         "x": [
          1975.0,
          1975.0,
          1985.0,
          1985.0
         ],
         "xaxis": "x",
         "y": [
          0.0,
          2.844045335418346,
          2.844045335418346,
          0.0
         ],
         "yaxis": "y",
         "type": "scatter"
        },
        {
         "hoverinfo": "text",
         "marker": {
          "color": "rgb(133,20,75)"
         },
         "mode": "lines",
         "x": [
          1965.0,
          1965.0,
          1980.0,
          1980.0
         ],
         "xaxis": "x",
         "y": [
          0.0,
          3.637714056418603,
          3.637714056418603,
          2.844045335418346
         ],
         "yaxis": "y",
         "type": "scatter"
        },
        {
         "hoverinfo": "text",
         "marker": {
          "color": "rgb(133,20,75)"
         },
         "mode": "lines",
         "x": [
          1955.0,
          1955.0,
          1972.5,
          1972.5
         ],
         "xaxis": "x",
         "y": [
          0.0,
          3.832013426161065,
          3.832013426161065,
          3.637714056418603
         ],
         "yaxis": "y",
         "type": "scatter"
        },
        {
         "hoverinfo": "text",
         "marker": {
          "color": "rgb(133,20,75)"
         },
         "mode": "lines",
         "x": [
          1940.0,
          1940.0,
          1963.75,
          1963.75
         ],
         "xaxis": "x",
         "y": [
          3.52951718242607,
          4.237873193960038,
          4.237873193960038,
          3.832013426161065
         ],
         "yaxis": "y",
         "type": "scatter"
        },
        {
         "hoverinfo": "text",
         "marker": {
          "color": "rgb(133,20,75)"
         },
         "mode": "lines",
         "x": [
          1995.0,
          1995.0,
          2005.0,
          2005.0
         ],
         "xaxis": "x",
         "y": [
          0.0,
          3.3792722474170627,
          3.3792722474170627,
          0.0
         ],
         "yaxis": "y",
         "type": "scatter"
        },
        {
         "hoverinfo": "text",
         "marker": {
          "color": "rgb(133,20,75)"
         },
         "mode": "lines",
         "x": [
          2035.0,
          2035.0,
          2045.0,
          2045.0
         ],
         "xaxis": "x",
         "y": [
          0.0,
          2.6631637209812817,
          2.6631637209812817,
          0.0
         ],
         "yaxis": "y",
         "type": "scatter"
        },
        {
         "hoverinfo": "text",
         "marker": {
          "color": "rgb(133,20,75)"
         },
         "mode": "lines",
         "x": [
          2025.0,
          2025.0,
          2040.0,
          2040.0
         ],
         "xaxis": "x",
         "y": [
          0.0,
          3.2925024625742005,
          3.2925024625742005,
          2.6631637209812817
         ],
         "yaxis": "y",
         "type": "scatter"
        },
        {
         "hoverinfo": "text",
         "marker": {
          "color": "rgb(133,20,75)"
         },
         "mode": "lines",
         "x": [
          2015.0,
          2015.0,
          2032.5,
          2032.5
         ],
         "xaxis": "x",
         "y": [
          0.0,
          3.5531479923607407,
          3.5531479923607407,
          3.2925024625742005
         ],
         "yaxis": "y",
         "type": "scatter"
        },
        {
         "hoverinfo": "text",
         "marker": {
          "color": "rgb(133,20,75)"
         },
         "mode": "lines",
         "x": [
          2075.0,
          2075.0,
          2085.0,
          2085.0
         ],
         "xaxis": "x",
         "y": [
          0.0,
          2.3526319205357606,
          2.3526319205357606,
          0.0
         ],
         "yaxis": "y",
         "type": "scatter"
        },
        {
         "hoverinfo": "text",
         "marker": {
          "color": "rgb(133,20,75)"
         },
         "mode": "lines",
         "x": [
          2065.0,
          2065.0,
          2080.0,
          2080.0
         ],
         "xaxis": "x",
         "y": [
          0.0,
          3.1149158622921416,
          3.1149158622921416,
          2.3526319205357606
         ],
         "yaxis": "y",
         "type": "scatter"
        },
        {
         "hoverinfo": "text",
         "marker": {
          "color": "rgb(133,20,75)"
         },
         "mode": "lines",
         "x": [
          2105.0,
          2105.0,
          2115.0,
          2115.0
         ],
         "xaxis": "x",
         "y": [
          0.0,
          2.32612285943626,
          2.32612285943626,
          0.0
         ],
         "yaxis": "y",
         "type": "scatter"
        },
        {
         "hoverinfo": "text",
         "marker": {
          "color": "rgb(133,20,75)"
         },
         "mode": "lines",
         "x": [
          2125.0,
          2125.0,
          2135.0,
          2135.0
         ],
         "xaxis": "x",
         "y": [
          0.0,
          2.695146608882199,
          2.695146608882199,
          0.0
         ],
         "yaxis": "y",
         "type": "scatter"
        },
        {
         "hoverinfo": "text",
         "marker": {
          "color": "rgb(133,20,75)"
         },
         "mode": "lines",
         "x": [
          2110.0,
          2110.0,
          2130.0,
          2130.0
         ],
         "xaxis": "x",
         "y": [
          2.32612285943626,
          2.839127379372592,
          2.839127379372592,
          2.695146608882199
         ],
         "yaxis": "y",
         "type": "scatter"
        },
        {
         "hoverinfo": "text",
         "marker": {
          "color": "rgb(133,20,75)"
         },
         "mode": "lines",
         "x": [
          2095.0,
          2095.0,
          2120.0,
          2120.0
         ],
         "xaxis": "x",
         "y": [
          0.0,
          3.1048118671997456,
          3.1048118671997456,
          2.839127379372592
         ],
         "yaxis": "y",
         "type": "scatter"
        },
        {
         "hoverinfo": "text",
         "marker": {
          "color": "rgb(133,20,75)"
         },
         "mode": "lines",
         "x": [
          2145.0,
          2145.0,
          2155.0,
          2155.0
         ],
         "xaxis": "x",
         "y": [
          0.0,
          3.319744158289034,
          3.319744158289034,
          0.0
         ],
         "yaxis": "y",
         "type": "scatter"
        },
        {
         "hoverinfo": "text",
         "marker": {
          "color": "rgb(133,20,75)"
         },
         "mode": "lines",
         "x": [
          2107.5,
          2107.5,
          2150.0,
          2150.0
         ],
         "xaxis": "x",
         "y": [
          3.1048118671997456,
          3.369003491374029,
          3.369003491374029,
          3.319744158289034
         ],
         "yaxis": "y",
         "type": "scatter"
        },
        {
         "hoverinfo": "text",
         "marker": {
          "color": "rgb(133,20,75)"
         },
         "mode": "lines",
         "x": [
          2072.5,
          2072.5,
          2128.75,
          2128.75
         ],
         "xaxis": "x",
         "y": [
          3.1149158622921416,
          3.623280683809474,
          3.623280683809474,
          3.369003491374029
         ],
         "yaxis": "y",
         "type": "scatter"
        },
        {
         "hoverinfo": "text",
         "marker": {
          "color": "rgb(133,20,75)"
         },
         "mode": "lines",
         "x": [
          2055.0,
          2055.0,
          2100.625,
          2100.625
         ],
         "xaxis": "x",
         "y": [
          0.0,
          3.800077939083516,
          3.800077939083516,
          3.623280683809474
         ],
         "yaxis": "y",
         "type": "scatter"
        },
        {
         "hoverinfo": "text",
         "marker": {
          "color": "rgb(133,20,75)"
         },
         "mode": "lines",
         "x": [
          2023.75,
          2023.75,
          2077.8125,
          2077.8125
         ],
         "xaxis": "x",
         "y": [
          3.5531479923607407,
          4.141345412698526,
          4.141345412698526,
          3.800077939083516
         ],
         "yaxis": "y",
         "type": "scatter"
        },
        {
         "hoverinfo": "text",
         "marker": {
          "color": "rgb(133,20,75)"
         },
         "mode": "lines",
         "x": [
          2000.0,
          2000.0,
          2050.78125,
          2050.78125
         ],
         "xaxis": "x",
         "y": [
          3.3792722474170627,
          4.3415996825678835,
          4.3415996825678835,
          4.141345412698526
         ],
         "yaxis": "y",
         "type": "scatter"
        },
        {
         "hoverinfo": "text",
         "marker": {
          "color": "rgb(133,20,75)"
         },
         "mode": "lines",
         "x": [
          1951.875,
          1951.875,
          2025.390625,
          2025.390625
         ],
         "xaxis": "x",
         "y": [
          4.237873193960038,
          4.480490465569213,
          4.480490465569213,
          4.3415996825678835
         ],
         "yaxis": "y",
         "type": "scatter"
        },
        {
         "hoverinfo": "text",
         "marker": {
          "color": "rgb(133,20,75)"
         },
         "mode": "lines",
         "x": [
          2175.0,
          2175.0,
          2185.0,
          2185.0
         ],
         "xaxis": "x",
         "y": [
          0.0,
          3.49542361295289,
          3.49542361295289,
          0.0
         ],
         "yaxis": "y",
         "type": "scatter"
        },
        {
         "hoverinfo": "text",
         "marker": {
          "color": "rgb(133,20,75)"
         },
         "mode": "lines",
         "x": [
          2165.0,
          2165.0,
          2180.0,
          2180.0
         ],
         "xaxis": "x",
         "y": [
          0.0,
          3.8162275263636065,
          3.8162275263636065,
          3.49542361295289
         ],
         "yaxis": "y",
         "type": "scatter"
        },
        {
         "hoverinfo": "text",
         "marker": {
          "color": "rgb(133,20,75)"
         },
         "mode": "lines",
         "x": [
          2195.0,
          2195.0,
          2205.0,
          2205.0
         ],
         "xaxis": "x",
         "y": [
          0.0,
          3.86086986606584,
          3.86086986606584,
          0.0
         ],
         "yaxis": "y",
         "type": "scatter"
        },
        {
         "hoverinfo": "text",
         "marker": {
          "color": "rgb(133,20,75)"
         },
         "mode": "lines",
         "x": [
          2172.5,
          2172.5,
          2200.0,
          2200.0
         ],
         "xaxis": "x",
         "y": [
          3.8162275263636065,
          4.526189815492952,
          4.526189815492952,
          3.86086986606584
         ],
         "yaxis": "y",
         "type": "scatter"
        },
        {
         "hoverinfo": "text",
         "marker": {
          "color": "rgb(133,20,75)"
         },
         "mode": "lines",
         "x": [
          1988.6328125,
          1988.6328125,
          2186.25,
          2186.25
         ],
         "xaxis": "x",
         "y": [
          4.480490465569213,
          4.985042820768691,
          4.985042820768691,
          4.526189815492952
         ],
         "yaxis": "y",
         "type": "scatter"
        },
        {
         "hoverinfo": "text",
         "marker": {
          "color": "rgb(133,20,75)"
         },
         "mode": "lines",
         "x": [
          2225.0,
          2225.0,
          2235.0,
          2235.0
         ],
         "xaxis": "x",
         "y": [
          0.0,
          4.120445357466099,
          4.120445357466099,
          0.0
         ],
         "yaxis": "y",
         "type": "scatter"
        },
        {
         "hoverinfo": "text",
         "marker": {
          "color": "rgb(133,20,75)"
         },
         "mode": "lines",
         "x": [
          2255.0,
          2255.0,
          2265.0,
          2265.0
         ],
         "xaxis": "x",
         "y": [
          0.0,
          3.891916402473095,
          3.891916402473095,
          0.0
         ],
         "yaxis": "y",
         "type": "scatter"
        },
        {
         "hoverinfo": "text",
         "marker": {
          "color": "rgb(133,20,75)"
         },
         "mode": "lines",
         "x": [
          2245.0,
          2245.0,
          2260.0,
          2260.0
         ],
         "xaxis": "x",
         "y": [
          0.0,
          4.498779374492251,
          4.498779374492251,
          3.891916402473095
         ],
         "yaxis": "y",
         "type": "scatter"
        },
        {
         "hoverinfo": "text",
         "marker": {
          "color": "rgb(133,20,75)"
         },
         "mode": "lines",
         "x": [
          2230.0,
          2230.0,
          2252.5,
          2252.5
         ],
         "xaxis": "x",
         "y": [
          4.120445357466099,
          4.9749599628015995,
          4.9749599628015995,
          4.498779374492251
         ],
         "yaxis": "y",
         "type": "scatter"
        },
        {
         "hoverinfo": "text",
         "marker": {
          "color": "rgb(133,20,75)"
         },
         "mode": "lines",
         "x": [
          2215.0,
          2215.0,
          2241.25,
          2241.25
         ],
         "xaxis": "x",
         "y": [
          0.0,
          5.20215462565905,
          5.20215462565905,
          4.9749599628015995
         ],
         "yaxis": "y",
         "type": "scatter"
        },
        {
         "hoverinfo": "text",
         "marker": {
          "color": "rgb(133,20,75)"
         },
         "mode": "lines",
         "x": [
          2087.44140625,
          2087.44140625,
          2228.125,
          2228.125
         ],
         "xaxis": "x",
         "y": [
          4.985042820768691,
          5.336980161098075,
          5.336980161098075,
          5.20215462565905
         ],
         "yaxis": "y",
         "type": "scatter"
        },
        {
         "hoverinfo": "text",
         "marker": {
          "color": "rgb(133,20,75)"
         },
         "mode": "lines",
         "x": [
          1910.0,
          1910.0,
          2157.783203125,
          2157.783203125
         ],
         "xaxis": "x",
         "y": [
          5.134932164776143,
          5.652428078665983,
          5.652428078665983,
          5.336980161098075
         ],
         "yaxis": "y",
         "type": "scatter"
        },
        {
         "hoverinfo": "text",
         "marker": {
          "color": "rgb(133,20,75)"
         },
         "mode": "lines",
         "x": [
          1720.654296875,
          1720.654296875,
          2033.8916015625,
          2033.8916015625
         ],
         "xaxis": "x",
         "y": [
          4.601759352893114,
          5.840872877891508,
          5.840872877891508,
          5.652428078665983
         ],
         "yaxis": "y",
         "type": "scatter"
        },
        {
         "hoverinfo": "text",
         "marker": {
          "color": "rgb(133,20,75)"
         },
         "mode": "lines",
         "x": [
          1672.5,
          1672.5,
          1877.27294921875,
          1877.27294921875
         ],
         "xaxis": "x",
         "y": [
          5.5731287808405865,
          6.060157386438476,
          6.060157386438476,
          5.840872877891508
         ],
         "yaxis": "y",
         "type": "scatter"
        },
        {
         "hoverinfo": "text",
         "marker": {
          "color": "rgb(133,20,75)"
         },
         "mode": "lines",
         "x": [
          2285.0,
          2285.0,
          2295.0,
          2295.0
         ],
         "xaxis": "x",
         "y": [
          0.0,
          2.8158477644152127,
          2.8158477644152127,
          0.0
         ],
         "yaxis": "y",
         "type": "scatter"
        },
        {
         "hoverinfo": "text",
         "marker": {
          "color": "rgb(133,20,75)"
         },
         "mode": "lines",
         "x": [
          2275.0,
          2275.0,
          2290.0,
          2290.0
         ],
         "xaxis": "x",
         "y": [
          0.0,
          3.8438402100010127,
          3.8438402100010127,
          2.8158477644152127
         ],
         "yaxis": "y",
         "type": "scatter"
        },
        {
         "hoverinfo": "text",
         "marker": {
          "color": "rgb(133,20,75)"
         },
         "mode": "lines",
         "x": [
          2325.0,
          2325.0,
          2335.0,
          2335.0
         ],
         "xaxis": "x",
         "y": [
          0.0,
          3.816594684858115,
          3.816594684858115,
          0.0
         ],
         "yaxis": "y",
         "type": "scatter"
        },
        {
         "hoverinfo": "text",
         "marker": {
          "color": "rgb(133,20,75)"
         },
         "mode": "lines",
         "x": [
          2315.0,
          2315.0,
          2330.0,
          2330.0
         ],
         "xaxis": "x",
         "y": [
          0.0,
          4.0920791727317205,
          4.0920791727317205,
          3.816594684858115
         ],
         "yaxis": "y",
         "type": "scatter"
        },
        {
         "hoverinfo": "text",
         "marker": {
          "color": "rgb(133,20,75)"
         },
         "mode": "lines",
         "x": [
          2365.0,
          2365.0,
          2375.0,
          2375.0
         ],
         "xaxis": "x",
         "y": [
          0.0,
          3.4390206442210833,
          3.4390206442210833,
          0.0
         ],
         "yaxis": "y",
         "type": "scatter"
        },
        {
         "hoverinfo": "text",
         "marker": {
          "color": "rgb(133,20,75)"
         },
         "mode": "lines",
         "x": [
          2355.0,
          2355.0,
          2370.0,
          2370.0
         ],
         "xaxis": "x",
         "y": [
          0.0,
          3.763195002513849,
          3.763195002513849,
          3.4390206442210833
         ],
         "yaxis": "y",
         "type": "scatter"
        },
        {
         "hoverinfo": "text",
         "marker": {
          "color": "rgb(133,20,75)"
         },
         "mode": "lines",
         "x": [
          2345.0,
          2345.0,
          2362.5,
          2362.5
         ],
         "xaxis": "x",
         "y": [
          0.0,
          4.569172505078067,
          4.569172505078067,
          3.763195002513849
         ],
         "yaxis": "y",
         "type": "scatter"
        },
        {
         "hoverinfo": "text",
         "marker": {
          "color": "rgb(133,20,75)"
         },
         "mode": "lines",
         "x": [
          2322.5,
          2322.5,
          2353.75,
          2353.75
         ],
         "xaxis": "x",
         "y": [
          4.0920791727317205,
          5.009947906624632,
          5.009947906624632,
          4.569172505078067
         ],
         "yaxis": "y",
         "type": "scatter"
        },
        {
         "hoverinfo": "text",
         "marker": {
          "color": "rgb(133,20,75)"
         },
         "mode": "lines",
         "x": [
          2305.0,
          2305.0,
          2338.125,
          2338.125
         ],
         "xaxis": "x",
         "y": [
          0.0,
          5.568258113641134,
          5.568258113641134,
          5.009947906624632
         ],
         "yaxis": "y",
         "type": "scatter"
        },
        {
         "hoverinfo": "text",
         "marker": {
          "color": "rgb(133,20,75)"
         },
         "mode": "lines",
         "x": [
          2282.5,
          2282.5,
          2321.5625,
          2321.5625
         ],
         "xaxis": "x",
         "y": [
          3.8438402100010127,
          6.0813505981462574,
          6.0813505981462574,
          5.568258113641134
         ],
         "yaxis": "y",
         "type": "scatter"
        },
        {
         "hoverinfo": "text",
         "marker": {
          "color": "rgb(133,20,75)"
         },
         "mode": "lines",
         "x": [
          2385.0,
          2385.0,
          2395.0,
          2395.0
         ],
         "xaxis": "x",
         "y": [
          0.0,
          4.5317548461467485,
          4.5317548461467485,
          0.0
         ],
         "yaxis": "y",
         "type": "scatter"
        },
        {
         "hoverinfo": "text",
         "marker": {
          "color": "rgb(133,20,75)"
         },
         "mode": "lines",
         "x": [
          2425.0,
          2425.0,
          2435.0,
          2435.0
         ],
         "xaxis": "x",
         "y": [
          0.0,
          3.296247912286407,
          3.296247912286407,
          0.0
         ],
         "yaxis": "y",
         "type": "scatter"
        },
        {
         "hoverinfo": "text",
         "marker": {
          "color": "rgb(133,20,75)"
         },
         "mode": "lines",
         "x": [
          2415.0,
          2415.0,
          2430.0,
          2430.0
         ],
         "xaxis": "x",
         "y": [
          0.0,
          3.3853033331021147,
          3.3853033331021147,
          3.296247912286407
         ],
         "yaxis": "y",
         "type": "scatter"
        },
        {
         "hoverinfo": "text",
         "marker": {
          "color": "rgb(133,20,75)"
         },
         "mode": "lines",
         "x": [
          2405.0,
          2405.0,
          2422.5,
          2422.5
         ],
         "xaxis": "x",
         "y": [
          0.0,
          4.129344064318549,
          4.129344064318549,
          3.3853033331021147
         ],
         "yaxis": "y",
         "type": "scatter"
        },
        {
         "hoverinfo": "text",
         "marker": {
          "color": "rgb(133,20,75)"
         },
         "mode": "lines",
         "x": [
          2445.0,
          2445.0,
          2455.0,
          2455.0
         ],
         "xaxis": "x",
         "y": [
          0.0,
          4.156567562278977,
          4.156567562278977,
          0.0
         ],
         "yaxis": "y",
         "type": "scatter"
        },
        {
         "hoverinfo": "text",
         "marker": {
          "color": "rgb(133,20,75)"
         },
         "mode": "lines",
         "x": [
          2413.75,
          2413.75,
          2450.0,
          2450.0
         ],
         "xaxis": "x",
         "y": [
          4.129344064318549,
          4.660833885093164,
          4.660833885093164,
          4.156567562278977
         ],
         "yaxis": "y",
         "type": "scatter"
        },
        {
         "hoverinfo": "text",
         "marker": {
          "color": "rgb(133,20,75)"
         },
         "mode": "lines",
         "x": [
          2465.0,
          2465.0,
          2475.0,
          2475.0
         ],
         "xaxis": "x",
         "y": [
          0.0,
          4.310397552331588,
          4.310397552331588,
          0.0
         ],
         "yaxis": "y",
         "type": "scatter"
        },
        {
         "hoverinfo": "text",
         "marker": {
          "color": "rgb(133,20,75)"
         },
         "mode": "lines",
         "x": [
          2495.0,
          2495.0,
          2505.0,
          2505.0
         ],
         "xaxis": "x",
         "y": [
          0.0,
          3.8804172100820744,
          3.8804172100820744,
          0.0
         ],
         "yaxis": "y",
         "type": "scatter"
        },
        {
         "hoverinfo": "text",
         "marker": {
          "color": "rgb(133,20,75)"
         },
         "mode": "lines",
         "x": [
          2485.0,
          2485.0,
          2500.0,
          2500.0
         ],
         "xaxis": "x",
         "y": [
          0.0,
          4.0027795550231335,
          4.0027795550231335,
          3.8804172100820744
         ],
         "yaxis": "y",
         "type": "scatter"
        },
        {
         "hoverinfo": "text",
         "marker": {
          "color": "rgb(133,20,75)"
         },
         "mode": "lines",
         "x": [
          2515.0,
          2515.0,
          2525.0,
          2525.0
         ],
         "xaxis": "x",
         "y": [
          0.0,
          3.555535886948227,
          3.555535886948227,
          0.0
         ],
         "yaxis": "y",
         "type": "scatter"
        },
        {
         "hoverinfo": "text",
         "marker": {
          "color": "rgb(133,20,75)"
         },
         "mode": "lines",
         "x": [
          2545.0,
          2545.0,
          2555.0,
          2555.0
         ],
         "xaxis": "x",
         "y": [
          0.0,
          3.208617598387644,
          3.208617598387644,
          0.0
         ],
         "yaxis": "y",
         "type": "scatter"
        },
        {
         "hoverinfo": "text",
         "marker": {
          "color": "rgb(133,20,75)"
         },
         "mode": "lines",
         "x": [
          2535.0,
          2535.0,
          2550.0,
          2550.0
         ],
         "xaxis": "x",
         "y": [
          0.0,
          3.3705548771929217,
          3.3705548771929217,
          3.208617598387644
         ],
         "yaxis": "y",
         "type": "scatter"
        },
        {
         "hoverinfo": "text",
         "marker": {
          "color": "rgb(133,20,75)"
         },
         "mode": "lines",
         "x": [
          2565.0,
          2565.0,
          2575.0,
          2575.0
         ],
         "xaxis": "x",
         "y": [
          0.0,
          3.741337511933097,
          3.741337511933097,
          0.0
         ],
         "yaxis": "y",
         "type": "scatter"
        },
        {
         "hoverinfo": "text",
         "marker": {
          "color": "rgb(133,20,75)"
         },
         "mode": "lines",
         "x": [
          2542.5,
          2542.5,
          2570.0,
          2570.0
         ],
         "xaxis": "x",
         "y": [
          3.3705548771929217,
          4.014801272035816,
          4.014801272035816,
          3.741337511933097
         ],
         "yaxis": "y",
         "type": "scatter"
        },
        {
         "hoverinfo": "text",
         "marker": {
          "color": "rgb(133,20,75)"
         },
         "mode": "lines",
         "x": [
          2520.0,
          2520.0,
          2556.25,
          2556.25
         ],
         "xaxis": "x",
         "y": [
          3.555535886948227,
          4.288085084541138,
          4.288085084541138,
          4.014801272035816
         ],
         "yaxis": "y",
         "type": "scatter"
        },
        {
         "hoverinfo": "text",
         "marker": {
          "color": "rgb(133,20,75)"
         },
         "mode": "lines",
         "x": [
          2492.5,
          2492.5,
          2538.125,
          2538.125
         ],
         "xaxis": "x",
         "y": [
          4.0027795550231335,
          4.508555480818166,
          4.508555480818166,
          4.288085084541138
         ],
         "yaxis": "y",
         "type": "scatter"
        },
        {
         "hoverinfo": "text",
         "marker": {
          "color": "rgb(133,20,75)"
         },
         "mode": "lines",
         "x": [
          2470.0,
          2470.0,
          2515.3125,
          2515.3125
         ],
         "xaxis": "x",
         "y": [
          4.310397552331588,
          4.861401443494497,
          4.861401443494497,
          4.508555480818166
         ],
         "yaxis": "y",
         "type": "scatter"
        },
        {
         "hoverinfo": "text",
         "marker": {
          "color": "rgb(133,20,75)"
         },
         "mode": "lines",
         "x": [
          2431.875,
          2431.875,
          2492.65625,
          2492.65625
         ],
         "xaxis": "x",
         "y": [
          4.660833885093164,
          4.966844467744566,
          4.966844467744566,
          4.861401443494497
         ],
         "yaxis": "y",
         "type": "scatter"
        },
        {
         "hoverinfo": "text",
         "marker": {
          "color": "rgb(133,20,75)"
         },
         "mode": "lines",
         "x": [
          2390.0,
          2390.0,
          2462.265625,
          2462.265625
         ],
         "xaxis": "x",
         "y": [
          4.5317548461467485,
          5.187166835343922,
          5.187166835343922,
          4.966844467744566
         ],
         "yaxis": "y",
         "type": "scatter"
        },
        {
         "hoverinfo": "text",
         "marker": {
          "color": "rgb(133,20,75)"
         },
         "mode": "lines",
         "x": [
          2585.0,
          2585.0,
          2595.0,
          2595.0
         ],
         "xaxis": "x",
         "y": [
          0.0,
          4.473094931386867,
          4.473094931386867,
          0.0
         ],
         "yaxis": "y",
         "type": "scatter"
        },
        {
         "hoverinfo": "text",
         "marker": {
          "color": "rgb(133,20,75)"
         },
         "mode": "lines",
         "x": [
          2605.0,
          2605.0,
          2615.0,
          2615.0
         ],
         "xaxis": "x",
         "y": [
          0.0,
          4.9181767381252754,
          4.9181767381252754,
          0.0
         ],
         "yaxis": "y",
         "type": "scatter"
        },
        {
         "hoverinfo": "text",
         "marker": {
          "color": "rgb(133,20,75)"
         },
         "mode": "lines",
         "x": [
          2590.0,
          2590.0,
          2610.0,
          2610.0
         ],
         "xaxis": "x",
         "y": [
          4.473094931386867,
          5.344036460154379,
          5.344036460154379,
          4.9181767381252754
         ],
         "yaxis": "y",
         "type": "scatter"
        },
        {
         "hoverinfo": "text",
         "marker": {
          "color": "rgb(133,20,75)"
         },
         "mode": "lines",
         "x": [
          2426.1328125,
          2426.1328125,
          2600.0,
          2600.0
         ],
         "xaxis": "x",
         "y": [
          5.187166835343922,
          5.781652089353277,
          5.781652089353277,
          5.344036460154379
         ],
         "yaxis": "y",
         "type": "scatter"
        },
        {
         "hoverinfo": "text",
         "marker": {
          "color": "rgb(133,20,75)"
         },
         "mode": "lines",
         "x": [
          2625.0,
          2625.0,
          2635.0,
          2635.0
         ],
         "xaxis": "x",
         "y": [
          0.0,
          4.8793860402116005,
          4.8793860402116005,
          0.0
         ],
         "yaxis": "y",
         "type": "scatter"
        },
        {
         "hoverinfo": "text",
         "marker": {
          "color": "rgb(133,20,75)"
         },
         "mode": "lines",
         "x": [
          2645.0,
          2645.0,
          2655.0,
          2655.0
         ],
         "xaxis": "x",
         "y": [
          0.0,
          4.36389882689555,
          4.36389882689555,
          0.0
         ],
         "yaxis": "y",
         "type": "scatter"
        },
        {
         "hoverinfo": "text",
         "marker": {
          "color": "rgb(133,20,75)"
         },
         "mode": "lines",
         "x": [
          2685.0,
          2685.0,
          2695.0,
          2695.0
         ],
         "xaxis": "x",
         "y": [
          0.0,
          3.4012143080796875,
          3.4012143080796875,
          0.0
         ],
         "yaxis": "y",
         "type": "scatter"
        },
        {
         "hoverinfo": "text",
         "marker": {
          "color": "rgb(133,20,75)"
         },
         "mode": "lines",
         "x": [
          2675.0,
          2675.0,
          2690.0,
          2690.0
         ],
         "xaxis": "x",
         "y": [
          0.0,
          4.016800507613445,
          4.016800507613445,
          3.4012143080796875
         ],
         "yaxis": "y",
         "type": "scatter"
        },
        {
         "hoverinfo": "text",
         "marker": {
          "color": "rgb(133,20,75)"
         },
         "mode": "lines",
         "x": [
          2665.0,
          2665.0,
          2682.5,
          2682.5
         ],
         "xaxis": "x",
         "y": [
          0.0,
          4.718675052850212,
          4.718675052850212,
          4.016800507613445
         ],
         "yaxis": "y",
         "type": "scatter"
        },
        {
         "hoverinfo": "text",
         "marker": {
          "color": "rgb(133,20,75)"
         },
         "mode": "lines",
         "x": [
          2650.0,
          2650.0,
          2673.75,
          2673.75
         ],
         "xaxis": "x",
         "y": [
          4.36389882689555,
          5.163454387993995,
          5.163454387993995,
          4.718675052850212
         ],
         "yaxis": "y",
         "type": "scatter"
        },
        {
         "hoverinfo": "text",
         "marker": {
          "color": "rgb(133,20,75)"
         },
         "mode": "lines",
         "x": [
          2630.0,
          2630.0,
          2661.875,
          2661.875
         ],
         "xaxis": "x",
         "y": [
          4.8793860402116005,
          5.954835888449891,
          5.954835888449891,
          5.163454387993995
         ],
         "yaxis": "y",
         "type": "scatter"
        },
        {
         "hoverinfo": "text",
         "marker": {
          "color": "rgb(133,20,75)"
         },
         "mode": "lines",
         "x": [
          2513.06640625,
          2513.06640625,
          2645.9375,
          2645.9375
         ],
         "xaxis": "x",
         "y": [
          5.781652089353277,
          6.135224563834613,
          6.135224563834613,
          5.954835888449891
         ],
         "yaxis": "y",
         "type": "scatter"
        },
        {
         "hoverinfo": "text",
         "marker": {
          "color": "rgb(133,20,75)"
         },
         "mode": "lines",
         "x": [
          2302.03125,
          2302.03125,
          2579.501953125,
          2579.501953125
         ],
         "xaxis": "x",
         "y": [
          6.0813505981462574,
          6.334271950715394,
          6.334271950715394,
          6.135224563834613
         ],
         "yaxis": "y",
         "type": "scatter"
        },
        {
         "hoverinfo": "text",
         "marker": {
          "color": "rgb(133,20,75)"
         },
         "mode": "lines",
         "x": [
          1774.886474609375,
          1774.886474609375,
          2440.7666015625,
          2440.7666015625
         ],
         "xaxis": "x",
         "y": [
          6.060157386438476,
          6.5739128234254425,
          6.5739128234254425,
          6.334271950715394
         ],
         "yaxis": "y",
         "type": "scatter"
        },
        {
         "hoverinfo": "text",
         "marker": {
          "color": "rgb(133,20,75)"
         },
         "mode": "lines",
         "x": [
          2715.0,
          2715.0,
          2725.0,
          2725.0
         ],
         "xaxis": "x",
         "y": [
          0.0,
          5.411824020188977,
          5.411824020188977,
          0.0
         ],
         "yaxis": "y",
         "type": "scatter"
        },
        {
         "hoverinfo": "text",
         "marker": {
          "color": "rgb(133,20,75)"
         },
         "mode": "lines",
         "x": [
          2705.0,
          2705.0,
          2720.0,
          2720.0
         ],
         "xaxis": "x",
         "y": [
          0.0,
          6.65866633454166,
          6.65866633454166,
          5.411824020188977
         ],
         "yaxis": "y",
         "type": "scatter"
        },
        {
         "hoverinfo": "text",
         "marker": {
          "color": "rgb(133,20,75)"
         },
         "mode": "lines",
         "x": [
          2107.8265380859375,
          2107.8265380859375,
          2712.5,
          2712.5
         ],
         "xaxis": "x",
         "y": [
          6.5739128234254425,
          6.997095416543368,
          6.997095416543368,
          6.65866633454166
         ],
         "yaxis": "y",
         "type": "scatter"
        },
        {
         "hoverinfo": "text",
         "marker": {
          "color": "rgb(133,20,75)"
         },
         "mode": "lines",
         "x": [
          1416.0888671875,
          1416.0888671875,
          2410.1632690429688,
          2410.1632690429688
         ],
         "xaxis": "x",
         "y": [
          6.2150607293704265,
          7.2664104959692954,
          7.2664104959692954,
          6.997095416543368
         ],
         "yaxis": "y",
         "type": "scatter"
        },
        {
         "hoverinfo": "text",
         "marker": {
          "color": "rgb(133,20,75)"
         },
         "mode": "lines",
         "x": [
          2745.0,
          2745.0,
          2755.0,
          2755.0
         ],
         "xaxis": "x",
         "y": [
          0.0,
          5.449832420941213,
          5.449832420941213,
          0.0
         ],
         "yaxis": "y",
         "type": "scatter"
        },
        {
         "hoverinfo": "text",
         "marker": {
          "color": "rgb(133,20,75)"
         },
         "mode": "lines",
         "x": [
          2795.0,
          2795.0,
          2805.0,
          2805.0
         ],
         "xaxis": "x",
         "y": [
          0.0,
          4.466608078339069,
          4.466608078339069,
          0.0
         ],
         "yaxis": "y",
         "type": "scatter"
        },
        {
         "hoverinfo": "text",
         "marker": {
          "color": "rgb(133,20,75)"
         },
         "mode": "lines",
         "x": [
          2785.0,
          2785.0,
          2800.0,
          2800.0
         ],
         "xaxis": "x",
         "y": [
          0.0,
          4.862250675888157,
          4.862250675888157,
          4.466608078339069
         ],
         "yaxis": "y",
         "type": "scatter"
        },
        {
         "hoverinfo": "text",
         "marker": {
          "color": "rgb(133,20,75)"
         },
         "mode": "lines",
         "x": [
          2775.0,
          2775.0,
          2792.5,
          2792.5
         ],
         "xaxis": "x",
         "y": [
          0.0,
          5.3244267264898655,
          5.3244267264898655,
          4.862250675888157
         ],
         "yaxis": "y",
         "type": "scatter"
        },
        {
         "hoverinfo": "text",
         "marker": {
          "color": "rgb(133,20,75)"
         },
         "mode": "lines",
         "x": [
          2765.0,
          2765.0,
          2783.75,
          2783.75
         ],
         "xaxis": "x",
         "y": [
          0.0,
          5.986801733180636,
          5.986801733180636,
          5.3244267264898655
         ],
         "yaxis": "y",
         "type": "scatter"
        },
        {
         "hoverinfo": "text",
         "marker": {
          "color": "rgb(133,20,75)"
         },
         "mode": "lines",
         "x": [
          2750.0,
          2750.0,
          2774.375,
          2774.375
         ],
         "xaxis": "x",
         "y": [
          5.449832420941213,
          6.963179565022438,
          6.963179565022438,
          5.986801733180636
         ],
         "yaxis": "y",
         "type": "scatter"
        },
        {
         "hoverinfo": "text",
         "marker": {
          "color": "rgb(133,20,75)"
         },
         "mode": "lines",
         "x": [
          2735.0,
          2735.0,
          2762.1875,
          2762.1875
         ],
         "xaxis": "x",
         "y": [
          0.0,
          7.466638635812228,
          7.466638635812228,
          6.963179565022438
         ],
         "yaxis": "y",
         "type": "scatter"
        },
        {
         "hoverinfo": "text",
         "marker": {
          "color": "rgb(133,20,75)"
         },
         "mode": "lines",
         "x": [
          1913.1260681152344,
          1913.1260681152344,
          2748.59375,
          2748.59375
         ],
         "xaxis": "x",
         "y": [
          7.2664104959692954,
          8.04696360846762,
          8.04696360846762,
          7.466638635812228
         ],
         "yaxis": "y",
         "type": "scatter"
        },
        {
         "hoverinfo": "text",
         "marker": {
          "color": "rgb(133,20,75)"
         },
         "mode": "lines",
         "x": [
          2835.0,
          2835.0,
          2845.0,
          2845.0
         ],
         "xaxis": "x",
         "y": [
          0.0,
          5.909076423081412,
          5.909076423081412,
          0.0
         ],
         "yaxis": "y",
         "type": "scatter"
        },
        {
         "hoverinfo": "text",
         "marker": {
          "color": "rgb(133,20,75)"
         },
         "mode": "lines",
         "x": [
          2825.0,
          2825.0,
          2840.0,
          2840.0
         ],
         "xaxis": "x",
         "y": [
          0.0,
          6.491894057081152,
          6.491894057081152,
          5.909076423081412
         ],
         "yaxis": "y",
         "type": "scatter"
        },
        {
         "hoverinfo": "text",
         "marker": {
          "color": "rgb(133,20,75)"
         },
         "mode": "lines",
         "x": [
          2815.0,
          2815.0,
          2832.5,
          2832.5
         ],
         "xaxis": "x",
         "y": [
          0.0,
          8.300846979476148,
          8.300846979476148,
          6.491894057081152
         ],
         "yaxis": "y",
         "type": "scatter"
        },
        {
         "hoverinfo": "text",
         "marker": {
          "color": "rgb(133,20,75)"
         },
         "mode": "lines",
         "x": [
          2330.859909057617,
          2330.859909057617,
          2823.75,
          2823.75
         ],
         "xaxis": "x",
         "y": [
          8.04696360846762,
          8.721398464047764,
          8.721398464047764,
          8.300846979476148
         ],
         "yaxis": "y",
         "type": "scatter"
        },
        {
         "hoverinfo": "text",
         "marker": {
          "color": "rgb(133,20,75)"
         },
         "mode": "lines",
         "x": [
          1305.0,
          1305.0,
          2577.3049545288086,
          2577.3049545288086
         ],
         "xaxis": "x",
         "y": [
          0.0,
          8.943600313539081,
          8.943600313539081,
          8.721398464047764
         ],
         "yaxis": "y",
         "type": "scatter"
        },
        {
         "hoverinfo": "text",
         "marker": {
          "color": "rgb(133,20,75)"
         },
         "mode": "lines",
         "x": [
          364.8114013671875,
          364.8114013671875,
          1941.1524772644043,
          1941.1524772644043
         ],
         "xaxis": "x",
         "y": [
          8.48259831382842,
          9.504464200288105,
          9.504464200288105,
          8.943600313539081
         ],
         "yaxis": "y",
         "type": "scatter"
        },
        {
         "hoverinfo": "text",
         "marker": {
          "color": "rgb(255,220,0)"
         },
         "mode": "lines",
         "x": [
          2855.0,
          2855.0,
          2865.0,
          2865.0
         ],
         "xaxis": "x",
         "y": [
          0.0,
          9.629821226118862,
          9.629821226118862,
          0.0
         ],
         "yaxis": "y",
         "type": "scatter"
        },
        {
         "hoverinfo": "text",
         "marker": {
          "color": "rgb(0,116,217)"
         },
         "mode": "lines",
         "x": [
          1152.981939315796,
          1152.981939315796,
          2860.0,
          2860.0
         ],
         "xaxis": "x",
         "y": [
          9.504464200288105,
          10.240029056950593,
          10.240029056950593,
          9.629821226118862
         ],
         "yaxis": "y",
         "type": "scatter"
        },
        {
         "hoverinfo": "text",
         "marker": {
          "color": "rgb(0,116,217)"
         },
         "mode": "lines",
         "x": [
          208.59375,
          208.59375,
          2006.490969657898,
          2006.490969657898
         ],
         "xaxis": "x",
         "y": [
          10.081421089101916,
          10.970850729706646,
          10.970850729706646,
          10.240029056950593
         ],
         "yaxis": "y",
         "type": "scatter"
        },
        {
         "hoverinfo": "text",
         "marker": {
          "color": "rgb(40,35,35)"
         },
         "mode": "lines",
         "x": [
          2895.0,
          2895.0,
          2905.0,
          2905.0
         ],
         "xaxis": "x",
         "y": [
          0.0,
          7.531221026463888,
          7.531221026463888,
          0.0
         ],
         "yaxis": "y",
         "type": "scatter"
        },
        {
         "hoverinfo": "text",
         "marker": {
          "color": "rgb(40,35,35)"
         },
         "mode": "lines",
         "x": [
          2885.0,
          2885.0,
          2900.0,
          2900.0
         ],
         "xaxis": "x",
         "y": [
          0.0,
          8.54024988679881,
          8.54024988679881,
          7.531221026463888
         ],
         "yaxis": "y",
         "type": "scatter"
        },
        {
         "hoverinfo": "text",
         "marker": {
          "color": "rgb(40,35,35)"
         },
         "mode": "lines",
         "x": [
          2945.0,
          2945.0,
          2955.0,
          2955.0
         ],
         "xaxis": "x",
         "y": [
          0.0,
          5.558695564903188,
          5.558695564903188,
          0.0
         ],
         "yaxis": "y",
         "type": "scatter"
        },
        {
         "hoverinfo": "text",
         "marker": {
          "color": "rgb(40,35,35)"
         },
         "mode": "lines",
         "x": [
          2935.0,
          2935.0,
          2950.0,
          2950.0
         ],
         "xaxis": "x",
         "y": [
          0.0,
          6.4402540991077775,
          6.4402540991077775,
          5.558695564903188
         ],
         "yaxis": "y",
         "type": "scatter"
        },
        {
         "hoverinfo": "text",
         "marker": {
          "color": "rgb(40,35,35)"
         },
         "mode": "lines",
         "x": [
          2995.0,
          2995.0,
          3005.0,
          3005.0
         ],
         "xaxis": "x",
         "y": [
          0.0,
          4.3363940185673835,
          4.3363940185673835,
          0.0
         ],
         "yaxis": "y",
         "type": "scatter"
        },
        {
         "hoverinfo": "text",
         "marker": {
          "color": "rgb(40,35,35)"
         },
         "mode": "lines",
         "x": [
          2985.0,
          2985.0,
          3000.0,
          3000.0
         ],
         "xaxis": "x",
         "y": [
          0.0,
          4.978983907131945,
          4.978983907131945,
          4.3363940185673835
         ],
         "yaxis": "y",
         "type": "scatter"
        },
        {
         "hoverinfo": "text",
         "marker": {
          "color": "rgb(40,35,35)"
         },
         "mode": "lines",
         "x": [
          2975.0,
          2975.0,
          2992.5,
          2992.5
         ],
         "xaxis": "x",
         "y": [
          0.0,
          5.998468568333509,
          5.998468568333509,
          4.978983907131945
         ],
         "yaxis": "y",
         "type": "scatter"
        },
        {
         "hoverinfo": "text",
         "marker": {
          "color": "rgb(40,35,35)"
         },
         "mode": "lines",
         "x": [
          2965.0,
          2965.0,
          2983.75,
          2983.75
         ],
         "xaxis": "x",
         "y": [
          0.0,
          7.036533193321091,
          7.036533193321091,
          5.998468568333509
         ],
         "yaxis": "y",
         "type": "scatter"
        },
        {
         "hoverinfo": "text",
         "marker": {
          "color": "rgb(40,35,35)"
         },
         "mode": "lines",
         "x": [
          2942.5,
          2942.5,
          2974.375,
          2974.375
         ],
         "xaxis": "x",
         "y": [
          6.4402540991077775,
          7.593867732499502,
          7.593867732499502,
          7.036533193321091
         ],
         "yaxis": "y",
         "type": "scatter"
        },
        {
         "hoverinfo": "text",
         "marker": {
          "color": "rgb(40,35,35)"
         },
         "mode": "lines",
         "x": [
          2925.0,
          2925.0,
          2958.4375,
          2958.4375
         ],
         "xaxis": "x",
         "y": [
          0.0,
          8.197729666459615,
          8.197729666459615,
          7.593867732499502
         ],
         "yaxis": "y",
         "type": "scatter"
        },
        {
         "hoverinfo": "text",
         "marker": {
          "color": "rgb(40,35,35)"
         },
         "mode": "lines",
         "x": [
          2915.0,
          2915.0,
          2941.71875,
          2941.71875
         ],
         "xaxis": "x",
         "y": [
          0.0,
          8.643221086439455,
          8.643221086439455,
          8.197729666459615
         ],
         "yaxis": "y",
         "type": "scatter"
        },
        {
         "hoverinfo": "text",
         "marker": {
          "color": "rgb(40,35,35)"
         },
         "mode": "lines",
         "x": [
          2892.5,
          2892.5,
          2928.359375,
          2928.359375
         ],
         "xaxis": "x",
         "y": [
          8.54024988679881,
          9.838280453314903,
          9.838280453314903,
          8.643221086439455
         ],
         "yaxis": "y",
         "type": "scatter"
        },
        {
         "hoverinfo": "text",
         "marker": {
          "color": "rgb(0,116,217)"
         },
         "mode": "lines",
         "x": [
          2875.0,
          2875.0,
          2910.4296875,
          2910.4296875
         ],
         "xaxis": "x",
         "y": [
          0.0,
          11.004087504232126,
          11.004087504232126,
          9.838280453314903
         ],
         "yaxis": "y",
         "type": "scatter"
        },
        {
         "hoverinfo": "text",
         "marker": {
          "color": "rgb(0,116,217)"
         },
         "mode": "lines",
         "x": [
          1107.542359828949,
          1107.542359828949,
          2892.71484375,
          2892.71484375
         ],
         "xaxis": "x",
         "y": [
          10.970850729706646,
          11.921770009197532,
          11.921770009197532,
          11.004087504232126
         ],
         "yaxis": "y",
         "type": "scatter"
        },
        {
         "hoverinfo": "text",
         "marker": {
          "color": "rgb(0,116,217)"
         },
         "mode": "lines",
         "x": [
          172.5,
          172.5,
          2000.1286017894745,
          2000.1286017894745
         ],
         "xaxis": "x",
         "y": [
          11.371279563746986,
          12.64689352598487,
          12.64689352598487,
          11.921770009197532
         ],
         "yaxis": "y",
         "type": "scatter"
        },
        {
         "hoverinfo": "text",
         "marker": {
          "color": "rgb(0,116,217)"
         },
         "mode": "lines",
         "x": [
          155.0,
          155.0,
          1086.3143008947372,
          1086.3143008947372
         ],
         "xaxis": "x",
         "y": [
          0.0,
          13.446227019272454,
          13.446227019272454,
          12.64689352598487
         ],
         "yaxis": "y",
         "type": "scatter"
        },
        {
         "hoverinfo": "text",
         "marker": {
          "color": "rgb(0,116,217)"
         },
         "mode": "lines",
         "x": [
          34.609375,
          34.609375,
          620.6571504473686,
          620.6571504473686
         ],
         "xaxis": "x",
         "y": [
          13.018488675394465,
          14.233255441309293,
          14.233255441309293,
          13.446227019272454
         ],
         "yaxis": "y",
         "type": "scatter"
        }
       ],
       "layout": {
        "autosize": false,
        "height": 500,
        "hovermode": "closest",
        "showlegend": false,
        "width": 800,
        "xaxis": {
         "mirror": "allticks",
         "rangemode": "tozero",
         "showgrid": false,
         "showline": true,
         "showticklabels": true,
         "tickmode": "array",
         "ticks": "outside",
         "ticktext": [
          "image",
          "topic modeling",
          "video",
          "database management",
          "text classification",
          "static site generator",
          "image classification",
          "front end",
          "distributed multimedia communications platform",
          "shell tool",
          "Variational autoencoder",
          "Containerization",
          "text analysis",
          "computer benchmarking",
          "graph neural network",
          "statistics",
          "database",
          "genomics",
          "RNA sequencing",
          "data analysis",
          "artificial intelligence",
          "machine learning",
          "big data",
          "logistic regression model",
          "deep learning",
          "deep neural network",
          "convolutional neural network",
          "design",
          "game",
          "video game",
          "multiplayer game",
          "augmented reality",
          "simulation",
          "simulator",
          "operating system",
          "kernel",
          "internet bot",
          "computer programming",
          "graph",
          "benchmark",
          "autonomous car",
          "router",
          "backup",
          "computer configuration",
          "scheduler",
          "object–relational mapping",
          "visualization",
          "social network",
          "optical character recognition",
          "graph database",
          "geographic information",
          "regression analysis",
          "speech recognition",
          "3D modeling",
          "static program analysis",
          "static program analysis tool",
          "data compression",
          "image compression",
          "image editing",
          "unit testing",
          "game server",
          "encryption",
          "serverless computing",
          "distributed database",
          "web application security",
          "audio signal processing",
          "smart contract",
          "logging",
          "parsing",
          "extract, transform, load",
          "code generation",
          "phishing",
          "Web content management system",
          "electronic trading platform",
          "network monitoring",
          "telecommunications network",
          "distributed system",
          "server",
          "software testing",
          "authentication",
          "plot",
          "graph algorithm",
          "data structure",
          "classification",
          "malware",
          "font",
          "sorting algorithm",
          "software design pattern",
          "data",
          "camera",
          "World Wide Web",
          "cloud computing",
          "file system",
          "search engine",
          "geographic information system",
          "web service",
          "web application",
          "distributed computing",
          "instant messaging",
          "computer data storage",
          "hacking tool",
          "streaming media",
          "3D computer graphics",
          "computer graphics",
          "speech synthesis",
          "animation",
          "rendering",
          "continuous integration",
          "content management system",
          "audio player software",
          "integrated development environment",
          "web browser",
          "game engine",
          "web server",
          "graphics engine",
          "middleware",
          "client",
          "graphical user interface",
          "chatbot",
          "command-line interface",
          "virtual machine",
          "web browser engine",
          "HTTP server",
          "HTTP client",
          "password manager",
          "debugger",
          "interpreter",
          "compiler",
          "text editor",
          "package management system",
          "automation",
          "generative adversarial network",
          "transfer learning",
          "deep reinforcement learning",
          "sentiment analysis",
          "word embedding",
          "recurrent neural network",
          "long short-term memory",
          "natural language generation",
          "question answering",
          "emotion recognition",
          "hyperparameter optimization",
          "natural language understanding",
          "anomaly detection",
          "Naive Bayes classifier",
          "language model",
          "network analysis",
          "supervised learning",
          "unsupervised learning",
          "automated machine learning",
          "object detection",
          "feature learning",
          "stream processing",
          "generative model",
          "image captioning",
          "image recognition",
          "collaborative filtering",
          "image retrieval",
          "Q-learning",
          "matrix decomposition",
          "facial recognition system",
          "cluster analysis",
          "artificial neural network",
          "support vector machine",
          "Bayesian inference",
          "dimensionality reduction",
          "sequencing",
          "Kalman filter",
          "WebSocket",
          "business dashboard",
          "neural network",
          "image scaling",
          "application performance management",
          "search",
          "back end",
          "validator",
          "mobile application development",
          "data binding",
          "text processing",
          "misuse detection",
          "schema migration",
          "human image synthesis",
          "Articulated body pose estimation",
          "Bidirectional recurrent neural networks",
          "face detection",
          "Web Components",
          "Malware Analysis",
          "Parser combinator",
          "3D pose estimation",
          "web crawler",
          "web scraping",
          "DevOps",
          "synchronization",
          "real-time computing",
          "digital image processing",
          "video tracking",
          "banking industry",
          "static website",
          "relationship extraction",
          "digital audio",
          "algorithmic trading",
          "penetration test",
          "autonomous driving",
          "Home Assistant",
          "dependency injection",
          "linear regression",
          "microservices",
          "continuous deployment",
          "continuous delivery",
          "mobile computing",
          "edge computing",
          "activity recognition",
          "digital security",
          "feature engineering",
          "Reverse engineering",
          "video processing",
          "lexical analysis",
          "debugging",
          "serialization",
          "routing",
          "syntax highlighting",
          "File Transfer Protocol",
          "evolutionary algorithm",
          "genetic algorithm",
          "IRC bot",
          "pattern matching",
          "regular expression",
          "object-oriented programming",
          "functional programming",
          "reactive programming",
          "machine translation",
          "data science",
          "computer vision",
          "natural language processing",
          "blockchain",
          "recommender system",
          "knowledge graph",
          "neural machine translation",
          "documentation",
          "security",
          "cryptography",
          "information extraction",
          "computational science",
          "mathematical finance",
          "robotics",
          "virtual reality",
          "software engineering",
          "internet of things",
          "home automation",
          "software development",
          "information processing",
          "analytics",
          "information security",
          "web development",
          "software architecture",
          "embedded system",
          "user interface",
          "information retrieval",
          "stock market",
          "video game development",
          "email",
          "time series",
          "productivity",
          "image segmentation",
          "Image analysis",
          "quantum computer",
          "medical imaging",
          "test automation",
          "network security",
          "virtualization",
          "bitcoin",
          "natural language",
          "translation",
          "algorithm",
          "e-commerce",
          "cryptocurrency",
          "data visualization",
          "random forest",
          "semi-supervised learning",
          "text mining",
          "named-entity recognition",
          "Semantic Web",
          "data mining",
          "computational biology",
          "bioinformatics",
          "signal processing",
          "reinforcement learning",
          "website",
          "science",
          "music",
          "education",
          "astronomy",
          "physics",
          "neuroscience",
          "engineering",
          "finance",
          "mathematics",
          "computer science",
          "geometry",
          "mathematical optimization",
          "linear algebra"
         ],
         "tickvals": [
          5.0,
          15.0,
          25.0,
          35.0,
          45.0,
          55.0,
          65.0,
          75.0,
          85.0,
          95.0,
          105.0,
          115.0,
          125.0,
          135.0,
          145.0,
          155.0,
          165.0,
          175.0,
          185.0,
          195.0,
          205.0,
          215.0,
          225.0,
          235.0,
          245.0,
          255.0,
          265.0,
          275.0,
          285.0,
          295.0,
          305.0,
          315.0,
          325.0,
          335.0,
          345.0,
          355.0,
          365.0,
          375.0,
          385.0,
          395.0,
          405.0,
          415.0,
          425.0,
          435.0,
          445.0,
          455.0,
          465.0,
          475.0,
          485.0,
          495.0,
          505.0,
          515.0,
          525.0,
          535.0,
          545.0,
          555.0,
          565.0,
          575.0,
          585.0,
          595.0,
          605.0,
          615.0,
          625.0,
          635.0,
          645.0,
          655.0,
          665.0,
          675.0,
          685.0,
          695.0,
          705.0,
          715.0,
          725.0,
          735.0,
          745.0,
          755.0,
          765.0,
          775.0,
          785.0,
          795.0,
          805.0,
          815.0,
          825.0,
          835.0,
          845.0,
          855.0,
          865.0,
          875.0,
          885.0,
          895.0,
          905.0,
          915.0,
          925.0,
          935.0,
          945.0,
          955.0,
          965.0,
          975.0,
          985.0,
          995.0,
          1005.0,
          1015.0,
          1025.0,
          1035.0,
          1045.0,
          1055.0,
          1065.0,
          1075.0,
          1085.0,
          1095.0,
          1105.0,
          1115.0,
          1125.0,
          1135.0,
          1145.0,
          1155.0,
          1165.0,
          1175.0,
          1185.0,
          1195.0,
          1205.0,
          1215.0,
          1225.0,
          1235.0,
          1245.0,
          1255.0,
          1265.0,
          1275.0,
          1285.0,
          1295.0,
          1305.0,
          1315.0,
          1325.0,
          1335.0,
          1345.0,
          1355.0,
          1365.0,
          1375.0,
          1385.0,
          1395.0,
          1405.0,
          1415.0,
          1425.0,
          1435.0,
          1445.0,
          1455.0,
          1465.0,
          1475.0,
          1485.0,
          1495.0,
          1505.0,
          1515.0,
          1525.0,
          1535.0,
          1545.0,
          1555.0,
          1565.0,
          1575.0,
          1585.0,
          1595.0,
          1605.0,
          1615.0,
          1625.0,
          1635.0,
          1645.0,
          1655.0,
          1665.0,
          1675.0,
          1685.0,
          1695.0,
          1705.0,
          1715.0,
          1725.0,
          1735.0,
          1745.0,
          1755.0,
          1765.0,
          1775.0,
          1785.0,
          1795.0,
          1805.0,
          1815.0,
          1825.0,
          1835.0,
          1845.0,
          1855.0,
          1865.0,
          1875.0,
          1885.0,
          1895.0,
          1905.0,
          1915.0,
          1925.0,
          1935.0,
          1945.0,
          1955.0,
          1965.0,
          1975.0,
          1985.0,
          1995.0,
          2005.0,
          2015.0,
          2025.0,
          2035.0,
          2045.0,
          2055.0,
          2065.0,
          2075.0,
          2085.0,
          2095.0,
          2105.0,
          2115.0,
          2125.0,
          2135.0,
          2145.0,
          2155.0,
          2165.0,
          2175.0,
          2185.0,
          2195.0,
          2205.0,
          2215.0,
          2225.0,
          2235.0,
          2245.0,
          2255.0,
          2265.0,
          2275.0,
          2285.0,
          2295.0,
          2305.0,
          2315.0,
          2325.0,
          2335.0,
          2345.0,
          2355.0,
          2365.0,
          2375.0,
          2385.0,
          2395.0,
          2405.0,
          2415.0,
          2425.0,
          2435.0,
          2445.0,
          2455.0,
          2465.0,
          2475.0,
          2485.0,
          2495.0,
          2505.0,
          2515.0,
          2525.0,
          2535.0,
          2545.0,
          2555.0,
          2565.0,
          2575.0,
          2585.0,
          2595.0,
          2605.0,
          2615.0,
          2625.0,
          2635.0,
          2645.0,
          2655.0,
          2665.0,
          2675.0,
          2685.0,
          2695.0,
          2705.0,
          2715.0,
          2725.0,
          2735.0,
          2745.0,
          2755.0,
          2765.0,
          2775.0,
          2785.0,
          2795.0,
          2805.0,
          2815.0,
          2825.0,
          2835.0,
          2845.0,
          2855.0,
          2865.0,
          2875.0,
          2885.0,
          2895.0,
          2905.0,
          2915.0,
          2925.0,
          2935.0,
          2945.0,
          2955.0,
          2965.0,
          2975.0,
          2985.0,
          2995.0,
          3005.0
         ],
         "type": "linear",
         "zeroline": false
        },
        "yaxis": {
         "mirror": "allticks",
         "rangemode": "tozero",
         "showgrid": false,
         "showline": true,
         "showticklabels": true,
         "ticks": "outside",
         "type": "linear",
         "zeroline": false
        },
        "template": {
         "data": {
          "bar": [
           {
            "error_x": {
             "color": "#2a3f5f"
            },
            "error_y": {
             "color": "#2a3f5f"
            },
            "marker": {
             "line": {
              "color": "#E5ECF6",
              "width": 0.5
             },
             "pattern": {
              "fillmode": "overlay",
              "size": 10,
              "solidity": 0.2
             }
            },
            "type": "bar"
           }
          ],
          "barpolar": [
           {
            "marker": {
             "line": {
              "color": "#E5ECF6",
              "width": 0.5
             },
             "pattern": {
              "fillmode": "overlay",
              "size": 10,
              "solidity": 0.2
             }
            },
            "type": "barpolar"
           }
          ],
          "carpet": [
           {
            "aaxis": {
             "endlinecolor": "#2a3f5f",
             "gridcolor": "white",
             "linecolor": "white",
             "minorgridcolor": "white",
             "startlinecolor": "#2a3f5f"
            },
            "baxis": {
             "endlinecolor": "#2a3f5f",
             "gridcolor": "white",
             "linecolor": "white",
             "minorgridcolor": "white",
             "startlinecolor": "#2a3f5f"
            },
            "type": "carpet"
           }
          ],
          "choropleth": [
           {
            "colorbar": {
             "outlinewidth": 0,
             "ticks": ""
            },
            "type": "choropleth"
           }
          ],
          "contour": [
           {
            "colorbar": {
             "outlinewidth": 0,
             "ticks": ""
            },
            "colorscale": [
             [
              0.0,
              "#0d0887"
             ],
             [
              0.1111111111111111,
              "#46039f"
             ],
             [
              0.2222222222222222,
              "#7201a8"
             ],
             [
              0.3333333333333333,
              "#9c179e"
             ],
             [
              0.4444444444444444,
              "#bd3786"
             ],
             [
              0.5555555555555556,
              "#d8576b"
             ],
             [
              0.6666666666666666,
              "#ed7953"
             ],
             [
              0.7777777777777778,
              "#fb9f3a"
             ],
             [
              0.8888888888888888,
              "#fdca26"
             ],
             [
              1.0,
              "#f0f921"
             ]
            ],
            "type": "contour"
           }
          ],
          "contourcarpet": [
           {
            "colorbar": {
             "outlinewidth": 0,
             "ticks": ""
            },
            "type": "contourcarpet"
           }
          ],
          "heatmap": [
           {
            "colorbar": {
             "outlinewidth": 0,
             "ticks": ""
            },
            "colorscale": [
             [
              0.0,
              "#0d0887"
             ],
             [
              0.1111111111111111,
              "#46039f"
             ],
             [
              0.2222222222222222,
              "#7201a8"
             ],
             [
              0.3333333333333333,
              "#9c179e"
             ],
             [
              0.4444444444444444,
              "#bd3786"
             ],
             [
              0.5555555555555556,
              "#d8576b"
             ],
             [
              0.6666666666666666,
              "#ed7953"
             ],
             [
              0.7777777777777778,
              "#fb9f3a"
             ],
             [
              0.8888888888888888,
              "#fdca26"
             ],
             [
              1.0,
              "#f0f921"
             ]
            ],
            "type": "heatmap"
           }
          ],
          "heatmapgl": [
           {
            "colorbar": {
             "outlinewidth": 0,
             "ticks": ""
            },
            "colorscale": [
             [
              0.0,
              "#0d0887"
             ],
             [
              0.1111111111111111,
              "#46039f"
             ],
             [
              0.2222222222222222,
              "#7201a8"
             ],
             [
              0.3333333333333333,
              "#9c179e"
             ],
             [
              0.4444444444444444,
              "#bd3786"
             ],
             [
              0.5555555555555556,
              "#d8576b"
             ],
             [
              0.6666666666666666,
              "#ed7953"
             ],
             [
              0.7777777777777778,
              "#fb9f3a"
             ],
             [
              0.8888888888888888,
              "#fdca26"
             ],
             [
              1.0,
              "#f0f921"
             ]
            ],
            "type": "heatmapgl"
           }
          ],
          "histogram": [
           {
            "marker": {
             "pattern": {
              "fillmode": "overlay",
              "size": 10,
              "solidity": 0.2
             }
            },
            "type": "histogram"
           }
          ],
          "histogram2d": [
           {
            "colorbar": {
             "outlinewidth": 0,
             "ticks": ""
            },
            "colorscale": [
             [
              0.0,
              "#0d0887"
             ],
             [
              0.1111111111111111,
              "#46039f"
             ],
             [
              0.2222222222222222,
              "#7201a8"
             ],
             [
              0.3333333333333333,
              "#9c179e"
             ],
             [
              0.4444444444444444,
              "#bd3786"
             ],
             [
              0.5555555555555556,
              "#d8576b"
             ],
             [
              0.6666666666666666,
              "#ed7953"
             ],
             [
              0.7777777777777778,
              "#fb9f3a"
             ],
             [
              0.8888888888888888,
              "#fdca26"
             ],
             [
              1.0,
              "#f0f921"
             ]
            ],
            "type": "histogram2d"
           }
          ],
          "histogram2dcontour": [
           {
            "colorbar": {
             "outlinewidth": 0,
             "ticks": ""
            },
            "colorscale": [
             [
              0.0,
              "#0d0887"
             ],
             [
              0.1111111111111111,
              "#46039f"
             ],
             [
              0.2222222222222222,
              "#7201a8"
             ],
             [
              0.3333333333333333,
              "#9c179e"
             ],
             [
              0.4444444444444444,
              "#bd3786"
             ],
             [
              0.5555555555555556,
              "#d8576b"
             ],
             [
              0.6666666666666666,
              "#ed7953"
             ],
             [
              0.7777777777777778,
              "#fb9f3a"
             ],
             [
              0.8888888888888888,
              "#fdca26"
             ],
             [
              1.0,
              "#f0f921"
             ]
            ],
            "type": "histogram2dcontour"
           }
          ],
          "mesh3d": [
           {
            "colorbar": {
             "outlinewidth": 0,
             "ticks": ""
            },
            "type": "mesh3d"
           }
          ],
          "parcoords": [
           {
            "line": {
             "colorbar": {
              "outlinewidth": 0,
              "ticks": ""
             }
            },
            "type": "parcoords"
           }
          ],
          "pie": [
           {
            "automargin": true,
            "type": "pie"
           }
          ],
          "scatter": [
           {
            "marker": {
             "colorbar": {
              "outlinewidth": 0,
              "ticks": ""
             }
            },
            "type": "scatter"
           }
          ],
          "scatter3d": [
           {
            "line": {
             "colorbar": {
              "outlinewidth": 0,
              "ticks": ""
             }
            },
            "marker": {
             "colorbar": {
              "outlinewidth": 0,
              "ticks": ""
             }
            },
            "type": "scatter3d"
           }
          ],
          "scattercarpet": [
           {
            "marker": {
             "colorbar": {
              "outlinewidth": 0,
              "ticks": ""
             }
            },
            "type": "scattercarpet"
           }
          ],
          "scattergeo": [
           {
            "marker": {
             "colorbar": {
              "outlinewidth": 0,
              "ticks": ""
             }
            },
            "type": "scattergeo"
           }
          ],
          "scattergl": [
           {
            "marker": {
             "colorbar": {
              "outlinewidth": 0,
              "ticks": ""
             }
            },
            "type": "scattergl"
           }
          ],
          "scattermapbox": [
           {
            "marker": {
             "colorbar": {
              "outlinewidth": 0,
              "ticks": ""
             }
            },
            "type": "scattermapbox"
           }
          ],
          "scatterpolar": [
           {
            "marker": {
             "colorbar": {
              "outlinewidth": 0,
              "ticks": ""
             }
            },
            "type": "scatterpolar"
           }
          ],
          "scatterpolargl": [
           {
            "marker": {
             "colorbar": {
              "outlinewidth": 0,
              "ticks": ""
             }
            },
            "type": "scatterpolargl"
           }
          ],
          "scatterternary": [
           {
            "marker": {
             "colorbar": {
              "outlinewidth": 0,
              "ticks": ""
             }
            },
            "type": "scatterternary"
           }
          ],
          "surface": [
           {
            "colorbar": {
             "outlinewidth": 0,
             "ticks": ""
            },
            "colorscale": [
             [
              0.0,
              "#0d0887"
             ],
             [
              0.1111111111111111,
              "#46039f"
             ],
             [
              0.2222222222222222,
              "#7201a8"
             ],
             [
              0.3333333333333333,
              "#9c179e"
             ],
             [
              0.4444444444444444,
              "#bd3786"
             ],
             [
              0.5555555555555556,
              "#d8576b"
             ],
             [
              0.6666666666666666,
              "#ed7953"
             ],
             [
              0.7777777777777778,
              "#fb9f3a"
             ],
             [
              0.8888888888888888,
              "#fdca26"
             ],
             [
              1.0,
              "#f0f921"
             ]
            ],
            "type": "surface"
           }
          ],
          "table": [
           {
            "cells": {
             "fill": {
              "color": "#EBF0F8"
             },
             "line": {
              "color": "white"
             }
            },
            "header": {
             "fill": {
              "color": "#C8D4E3"
             },
             "line": {
              "color": "white"
             }
            },
            "type": "table"
           }
          ]
         },
         "layout": {
          "annotationdefaults": {
           "arrowcolor": "#2a3f5f",
           "arrowhead": 0,
           "arrowwidth": 1
          },
          "autotypenumbers": "strict",
          "coloraxis": {
           "colorbar": {
            "outlinewidth": 0,
            "ticks": ""
           }
          },
          "colorscale": {
           "diverging": [
            [
             0,
             "#8e0152"
            ],
            [
             0.1,
             "#c51b7d"
            ],
            [
             0.2,
             "#de77ae"
            ],
            [
             0.3,
             "#f1b6da"
            ],
            [
             0.4,
             "#fde0ef"
            ],
            [
             0.5,
             "#f7f7f7"
            ],
            [
             0.6,
             "#e6f5d0"
            ],
            [
             0.7,
             "#b8e186"
            ],
            [
             0.8,
             "#7fbc41"
            ],
            [
             0.9,
             "#4d9221"
            ],
            [
             1,
             "#276419"
            ]
           ],
           "sequential": [
            [
             0.0,
             "#0d0887"
            ],
            [
             0.1111111111111111,
             "#46039f"
            ],
            [
             0.2222222222222222,
             "#7201a8"
            ],
            [
             0.3333333333333333,
             "#9c179e"
            ],
            [
             0.4444444444444444,
             "#bd3786"
            ],
            [
             0.5555555555555556,
             "#d8576b"
            ],
            [
             0.6666666666666666,
             "#ed7953"
            ],
            [
             0.7777777777777778,
             "#fb9f3a"
            ],
            [
             0.8888888888888888,
             "#fdca26"
            ],
            [
             1.0,
             "#f0f921"
            ]
           ],
           "sequentialminus": [
            [
             0.0,
             "#0d0887"
            ],
            [
             0.1111111111111111,
             "#46039f"
            ],
            [
             0.2222222222222222,
             "#7201a8"
            ],
            [
             0.3333333333333333,
             "#9c179e"
            ],
            [
             0.4444444444444444,
             "#bd3786"
            ],
            [
             0.5555555555555556,
             "#d8576b"
            ],
            [
             0.6666666666666666,
             "#ed7953"
            ],
            [
             0.7777777777777778,
             "#fb9f3a"
            ],
            [
             0.8888888888888888,
             "#fdca26"
            ],
            [
             1.0,
             "#f0f921"
            ]
           ]
          },
          "colorway": [
           "#636efa",
           "#EF553B",
           "#00cc96",
           "#ab63fa",
           "#FFA15A",
           "#19d3f3",
           "#FF6692",
           "#B6E880",
           "#FF97FF",
           "#FECB52"
          ],
          "font": {
           "color": "#2a3f5f"
          },
          "geo": {
           "bgcolor": "white",
           "lakecolor": "white",
           "landcolor": "#E5ECF6",
           "showlakes": true,
           "showland": true,
           "subunitcolor": "white"
          },
          "hoverlabel": {
           "align": "left"
          },
          "hovermode": "closest",
          "mapbox": {
           "style": "light"
          },
          "paper_bgcolor": "white",
          "plot_bgcolor": "#E5ECF6",
          "polar": {
           "angularaxis": {
            "gridcolor": "white",
            "linecolor": "white",
            "ticks": ""
           },
           "bgcolor": "#E5ECF6",
           "radialaxis": {
            "gridcolor": "white",
            "linecolor": "white",
            "ticks": ""
           }
          },
          "scene": {
           "xaxis": {
            "backgroundcolor": "#E5ECF6",
            "gridcolor": "white",
            "gridwidth": 2,
            "linecolor": "white",
            "showbackground": true,
            "ticks": "",
            "zerolinecolor": "white"
           },
           "yaxis": {
            "backgroundcolor": "#E5ECF6",
            "gridcolor": "white",
            "gridwidth": 2,
            "linecolor": "white",
            "showbackground": true,
            "ticks": "",
            "zerolinecolor": "white"
           },
           "zaxis": {
            "backgroundcolor": "#E5ECF6",
            "gridcolor": "white",
            "gridwidth": 2,
            "linecolor": "white",
            "showbackground": true,
            "ticks": "",
            "zerolinecolor": "white"
           }
          },
          "shapedefaults": {
           "line": {
            "color": "#2a3f5f"
           }
          },
          "ternary": {
           "aaxis": {
            "gridcolor": "white",
            "linecolor": "white",
            "ticks": ""
           },
           "baxis": {
            "gridcolor": "white",
            "linecolor": "white",
            "ticks": ""
           },
           "bgcolor": "#E5ECF6",
           "caxis": {
            "gridcolor": "white",
            "linecolor": "white",
            "ticks": ""
           }
          },
          "title": {
           "x": 0.05
          },
          "xaxis": {
           "automargin": true,
           "gridcolor": "white",
           "linecolor": "white",
           "ticks": "",
           "title": {
            "standoff": 15
           },
           "zerolinecolor": "white",
           "zerolinewidth": 2
          },
          "yaxis": {
           "automargin": true,
           "gridcolor": "white",
           "linecolor": "white",
           "ticks": "",
           "title": {
            "standoff": 15
           },
           "zerolinecolor": "white",
           "zerolinewidth": 2
          }
         }
        }
       },
       "config": {
        "plotlyServerURL": "https://plot.ly"
       }
      },
      "text/html": "<div>                            <div id=\"d3d54ba2-58b1-4126-9917-adc662bd16a8\" class=\"plotly-graph-div\" style=\"height:500px; width:800px;\"></div>            <script type=\"text/javascript\">                require([\"plotly\"], function(Plotly) {                    window.PLOTLYENV=window.PLOTLYENV || {};                                    if (document.getElementById(\"d3d54ba2-58b1-4126-9917-adc662bd16a8\")) {                    Plotly.newPlot(                        \"d3d54ba2-58b1-4126-9917-adc662bd16a8\",                        [{\"hoverinfo\":\"text\",\"marker\":{\"color\":\"rgb(61,153,112)\"},\"mode\":\"lines\",\"x\":[25.0,25.0,35.0,35.0],\"xaxis\":\"x\",\"y\":[0.0,5.3027727611288995,5.3027727611288995,0.0],\"yaxis\":\"y\",\"type\":\"scatter\"},{\"hoverinfo\":\"text\",\"marker\":{\"color\":\"rgb(61,153,112)\"},\"mode\":\"lines\",\"x\":[15.0,15.0,30.0,30.0],\"xaxis\":\"x\",\"y\":[0.0,5.624220736408518,5.624220736408518,5.3027727611288995],\"yaxis\":\"y\",\"type\":\"scatter\"},{\"hoverinfo\":\"text\",\"marker\":{\"color\":\"rgb(61,153,112)\"},\"mode\":\"lines\",\"x\":[45.0,45.0,55.0,55.0],\"xaxis\":\"x\",\"y\":[0.0,5.768480575644304,5.768480575644304,0.0],\"yaxis\":\"y\",\"type\":\"scatter\"},{\"hoverinfo\":\"text\",\"marker\":{\"color\":\"rgb(61,153,112)\"},\"mode\":\"lines\",\"x\":[22.5,22.5,50.0,50.0],\"xaxis\":\"x\",\"y\":[5.624220736408518,6.1011817129169374,6.1011817129169374,5.768480575644304],\"yaxis\":\"y\",\"type\":\"scatter\"},{\"hoverinfo\":\"text\",\"marker\":{\"color\":\"rgb(61,153,112)\"},\"mode\":\"lines\",\"x\":[75.0,75.0,85.0,85.0],\"xaxis\":\"x\",\"y\":[0.0,5.403845387110803,5.403845387110803,0.0],\"yaxis\":\"y\",\"type\":\"scatter\"},{\"hoverinfo\":\"text\",\"marker\":{\"color\":\"rgb(61,153,112)\"},\"mode\":\"lines\",\"x\":[65.0,65.0,80.0,80.0],\"xaxis\":\"x\",\"y\":[0.0,5.567208779235956,5.567208779235956,5.403845387110803],\"yaxis\":\"y\",\"type\":\"scatter\"},{\"hoverinfo\":\"text\",\"marker\":{\"color\":\"rgb(61,153,112)\"},\"mode\":\"lines\",\"x\":[95.0,95.0,105.0,105.0],\"xaxis\":\"x\",\"y\":[0.0,5.378375231819697,5.378375231819697,0.0],\"yaxis\":\"y\",\"type\":\"scatter\"},{\"hoverinfo\":\"text\",\"marker\":{\"color\":\"rgb(61,153,112)\"},\"mode\":\"lines\",\"x\":[135.0,135.0,145.0,145.0],\"xaxis\":\"x\",\"y\":[0.0,5.464326398037223,5.464326398037223,0.0],\"yaxis\":\"y\",\"type\":\"scatter\"},{\"hoverinfo\":\"text\",\"marker\":{\"color\":\"rgb(61,153,112)\"},\"mode\":\"lines\",\"x\":[125.0,125.0,140.0,140.0],\"xaxis\":\"x\",\"y\":[0.0,5.593215771597872,5.593215771597872,5.464326398037223],\"yaxis\":\"y\",\"type\":\"scatter\"},{\"hoverinfo\":\"text\",\"marker\":{\"color\":\"rgb(61,153,112)\"},\"mode\":\"lines\",\"x\":[115.0,115.0,132.5,132.5],\"xaxis\":\"x\",\"y\":[0.0,5.94310412776876,5.94310412776876,5.593215771597872],\"yaxis\":\"y\",\"type\":\"scatter\"},{\"hoverinfo\":\"text\",\"marker\":{\"color\":\"rgb(61,153,112)\"},\"mode\":\"lines\",\"x\":[100.0,100.0,123.75,123.75],\"xaxis\":\"x\",\"y\":[5.378375231819697,6.206363689413039,6.206363689413039,5.94310412776876],\"yaxis\":\"y\",\"type\":\"scatter\"},{\"hoverinfo\":\"text\",\"marker\":{\"color\":\"rgb(61,153,112)\"},\"mode\":\"lines\",\"x\":[72.5,72.5,111.875,111.875],\"xaxis\":\"x\",\"y\":[5.567208779235956,6.2636704889613,6.2636704889613,6.206363689413039],\"yaxis\":\"y\",\"type\":\"scatter\"},{\"hoverinfo\":\"text\",\"marker\":{\"color\":\"rgb(61,153,112)\"},\"mode\":\"lines\",\"x\":[36.25,36.25,92.1875,92.1875],\"xaxis\":\"x\",\"y\":[6.1011817129169374,6.5499420945827005,6.5499420945827005,6.2636704889613],\"yaxis\":\"y\",\"type\":\"scatter\"},{\"hoverinfo\":\"text\",\"marker\":{\"color\":\"rgb(0,116,217)\"},\"mode\":\"lines\",\"x\":[5.0,5.0,64.21875,64.21875],\"xaxis\":\"x\",\"y\":[0.0,13.018488675394465,13.018488675394465,6.5499420945827005],\"yaxis\":\"y\",\"type\":\"scatter\"},{\"hoverinfo\":\"text\",\"marker\":{\"color\":\"rgb(255,65,54)\"},\"mode\":\"lines\",\"x\":[175.0,175.0,185.0,185.0],\"xaxis\":\"x\",\"y\":[0.0,9.625751083218598,9.625751083218598,0.0],\"yaxis\":\"y\",\"type\":\"scatter\"},{\"hoverinfo\":\"text\",\"marker\":{\"color\":\"rgb(0,116,217)\"},\"mode\":\"lines\",\"x\":[165.0,165.0,180.0,180.0],\"xaxis\":\"x\",\"y\":[0.0,11.371279563746986,11.371279563746986,9.625751083218598],\"yaxis\":\"y\",\"type\":\"scatter\"},{\"hoverinfo\":\"text\",\"marker\":{\"color\":\"rgb(35,205,205)\"},\"mode\":\"lines\",\"x\":[205.0,205.0,215.0,215.0],\"xaxis\":\"x\",\"y\":[0.0,8.510747434116563,8.510747434116563,0.0],\"yaxis\":\"y\",\"type\":\"scatter\"},{\"hoverinfo\":\"text\",\"marker\":{\"color\":\"rgb(35,205,205)\"},\"mode\":\"lines\",\"x\":[255.0,255.0,265.0,265.0],\"xaxis\":\"x\",\"y\":[0.0,3.915074862826567,3.915074862826567,0.0],\"yaxis\":\"y\",\"type\":\"scatter\"},{\"hoverinfo\":\"text\",\"marker\":{\"color\":\"rgb(35,205,205)\"},\"mode\":\"lines\",\"x\":[245.0,245.0,260.0,260.0],\"xaxis\":\"x\",\"y\":[0.0,4.819865478509801,4.819865478509801,3.915074862826567],\"yaxis\":\"y\",\"type\":\"scatter\"},{\"hoverinfo\":\"text\",\"marker\":{\"color\":\"rgb(35,205,205)\"},\"mode\":\"lines\",\"x\":[235.0,235.0,252.5,252.5],\"xaxis\":\"x\",\"y\":[0.0,8.087229781594802,8.087229781594802,4.819865478509801],\"yaxis\":\"y\",\"type\":\"scatter\"},{\"hoverinfo\":\"text\",\"marker\":{\"color\":\"rgb(35,205,205)\"},\"mode\":\"lines\",\"x\":[225.0,225.0,243.75,243.75],\"xaxis\":\"x\",\"y\":[0.0,8.559539467260617,8.559539467260617,8.087229781594802],\"yaxis\":\"y\",\"type\":\"scatter\"},{\"hoverinfo\":\"text\",\"marker\":{\"color\":\"rgb(35,205,205)\"},\"mode\":\"lines\",\"x\":[210.0,210.0,234.375,234.375],\"xaxis\":\"x\",\"y\":[8.510747434116563,9.011373842805147,9.011373842805147,8.559539467260617],\"yaxis\":\"y\",\"type\":\"scatter\"},{\"hoverinfo\":\"text\",\"marker\":{\"color\":\"rgb(0,116,217)\"},\"mode\":\"lines\",\"x\":[195.0,195.0,222.1875,222.1875],\"xaxis\":\"x\",\"y\":[0.0,10.081421089101916,10.081421089101916,9.011373842805147],\"yaxis\":\"y\",\"type\":\"scatter\"},{\"hoverinfo\":\"text\",\"marker\":{\"color\":\"rgb(133,20,75)\"},\"mode\":\"lines\",\"x\":[325.0,325.0,335.0,335.0],\"xaxis\":\"x\",\"y\":[0.0,3.9387697382136375,3.9387697382136375,0.0],\"yaxis\":\"y\",\"type\":\"scatter\"},{\"hoverinfo\":\"text\",\"marker\":{\"color\":\"rgb(133,20,75)\"},\"mode\":\"lines\",\"x\":[315.0,315.0,330.0,330.0],\"xaxis\":\"x\",\"y\":[0.0,4.807863766595316,4.807863766595316,3.9387697382136375],\"yaxis\":\"y\",\"type\":\"scatter\"},{\"hoverinfo\":\"text\",\"marker\":{\"color\":\"rgb(133,20,75)\"},\"mode\":\"lines\",\"x\":[305.0,305.0,322.5,322.5],\"xaxis\":\"x\",\"y\":[0.0,5.292007648460111,5.292007648460111,4.807863766595316],\"yaxis\":\"y\",\"type\":\"scatter\"},{\"hoverinfo\":\"text\",\"marker\":{\"color\":\"rgb(133,20,75)\"},\"mode\":\"lines\",\"x\":[295.0,295.0,313.75,313.75],\"xaxis\":\"x\",\"y\":[0.0,6.32479398775651,6.32479398775651,5.292007648460111],\"yaxis\":\"y\",\"type\":\"scatter\"},{\"hoverinfo\":\"text\",\"marker\":{\"color\":\"rgb(133,20,75)\"},\"mode\":\"lines\",\"x\":[285.0,285.0,304.375,304.375],\"xaxis\":\"x\",\"y\":[0.0,7.133366618610118,7.133366618610118,6.32479398775651],\"yaxis\":\"y\",\"type\":\"scatter\"},{\"hoverinfo\":\"text\",\"marker\":{\"color\":\"rgb(133,20,75)\"},\"mode\":\"lines\",\"x\":[375.0,375.0,385.0,385.0],\"xaxis\":\"x\",\"y\":[0.0,4.7457924634455,4.7457924634455,0.0],\"yaxis\":\"y\",\"type\":\"scatter\"},{\"hoverinfo\":\"text\",\"marker\":{\"color\":\"rgb(133,20,75)\"},\"mode\":\"lines\",\"x\":[395.0,395.0,405.0,405.0],\"xaxis\":\"x\",\"y\":[0.0,4.281848993444289,4.281848993444289,0.0],\"yaxis\":\"y\",\"type\":\"scatter\"},{\"hoverinfo\":\"text\",\"marker\":{\"color\":\"rgb(133,20,75)\"},\"mode\":\"lines\",\"x\":[425.0,425.0,435.0,435.0],\"xaxis\":\"x\",\"y\":[0.0,3.5230438080040782,3.5230438080040782,0.0],\"yaxis\":\"y\",\"type\":\"scatter\"},{\"hoverinfo\":\"text\",\"marker\":{\"color\":\"rgb(133,20,75)\"},\"mode\":\"lines\",\"x\":[445.0,445.0,455.0,455.0],\"xaxis\":\"x\",\"y\":[0.0,3.834212642035808,3.834212642035808,0.0],\"yaxis\":\"y\",\"type\":\"scatter\"},{\"hoverinfo\":\"text\",\"marker\":{\"color\":\"rgb(133,20,75)\"},\"mode\":\"lines\",\"x\":[430.0,430.0,450.0,450.0],\"xaxis\":\"x\",\"y\":[3.5230438080040782,4.2350076799979215,4.2350076799979215,3.834212642035808],\"yaxis\":\"y\",\"type\":\"scatter\"},{\"hoverinfo\":\"text\",\"marker\":{\"color\":\"rgb(133,20,75)\"},\"mode\":\"lines\",\"x\":[415.0,415.0,440.0,440.0],\"xaxis\":\"x\",\"y\":[0.0,4.748787437051422,4.748787437051422,4.2350076799979215],\"yaxis\":\"y\",\"type\":\"scatter\"},{\"hoverinfo\":\"text\",\"marker\":{\"color\":\"rgb(133,20,75)\"},\"mode\":\"lines\",\"x\":[400.0,400.0,427.5,427.5],\"xaxis\":\"x\",\"y\":[4.281848993444289,4.844996614280054,4.844996614280054,4.748787437051422],\"yaxis\":\"y\",\"type\":\"scatter\"},{\"hoverinfo\":\"text\",\"marker\":{\"color\":\"rgb(133,20,75)\"},\"mode\":\"lines\",\"x\":[380.0,380.0,413.75,413.75],\"xaxis\":\"x\",\"y\":[4.7457924634455,5.391994311918137,5.391994311918137,4.844996614280054],\"yaxis\":\"y\",\"type\":\"scatter\"},{\"hoverinfo\":\"text\",\"marker\":{\"color\":\"rgb(133,20,75)\"},\"mode\":\"lines\",\"x\":[365.0,365.0,396.875,396.875],\"xaxis\":\"x\",\"y\":[0.0,5.43335417458403,5.43335417458403,5.391994311918137],\"yaxis\":\"y\",\"type\":\"scatter\"},{\"hoverinfo\":\"text\",\"marker\":{\"color\":\"rgb(133,20,75)\"},\"mode\":\"lines\",\"x\":[465.0,465.0,475.0,475.0],\"xaxis\":\"x\",\"y\":[0.0,4.609273568760506,4.609273568760506,0.0],\"yaxis\":\"y\",\"type\":\"scatter\"},{\"hoverinfo\":\"text\",\"marker\":{\"color\":\"rgb(133,20,75)\"},\"mode\":\"lines\",\"x\":[495.0,495.0,505.0,505.0],\"xaxis\":\"x\",\"y\":[0.0,3.757906394242818,3.757906394242818,0.0],\"yaxis\":\"y\",\"type\":\"scatter\"},{\"hoverinfo\":\"text\",\"marker\":{\"color\":\"rgb(133,20,75)\"},\"mode\":\"lines\",\"x\":[485.0,485.0,500.0,500.0],\"xaxis\":\"x\",\"y\":[0.0,3.985450586195397,3.985450586195397,3.757906394242818],\"yaxis\":\"y\",\"type\":\"scatter\"},{\"hoverinfo\":\"text\",\"marker\":{\"color\":\"rgb(133,20,75)\"},\"mode\":\"lines\",\"x\":[525.0,525.0,535.0,535.0],\"xaxis\":\"x\",\"y\":[0.0,3.9384727491586915,3.9384727491586915,0.0],\"yaxis\":\"y\",\"type\":\"scatter\"},{\"hoverinfo\":\"text\",\"marker\":{\"color\":\"rgb(133,20,75)\"},\"mode\":\"lines\",\"x\":[515.0,515.0,530.0,530.0],\"xaxis\":\"x\",\"y\":[0.0,4.189092838501569,4.189092838501569,3.9384727491586915],\"yaxis\":\"y\",\"type\":\"scatter\"},{\"hoverinfo\":\"text\",\"marker\":{\"color\":\"rgb(133,20,75)\"},\"mode\":\"lines\",\"x\":[492.5,492.5,522.5,522.5],\"xaxis\":\"x\",\"y\":[3.985450586195397,4.457963867025882,4.457963867025882,4.189092838501569],\"yaxis\":\"y\",\"type\":\"scatter\"},{\"hoverinfo\":\"text\",\"marker\":{\"color\":\"rgb(133,20,75)\"},\"mode\":\"lines\",\"x\":[545.0,545.0,555.0,555.0],\"xaxis\":\"x\",\"y\":[0.0,2.7135622394488115,2.7135622394488115,0.0],\"yaxis\":\"y\",\"type\":\"scatter\"},{\"hoverinfo\":\"text\",\"marker\":{\"color\":\"rgb(133,20,75)\"},\"mode\":\"lines\",\"x\":[565.0,565.0,575.0,575.0],\"xaxis\":\"x\",\"y\":[0.0,3.0384944311725266,3.0384944311725266,0.0],\"yaxis\":\"y\",\"type\":\"scatter\"},{\"hoverinfo\":\"text\",\"marker\":{\"color\":\"rgb(133,20,75)\"},\"mode\":\"lines\",\"x\":[585.0,585.0,595.0,595.0],\"xaxis\":\"x\",\"y\":[0.0,3.445337376654547,3.445337376654547,0.0],\"yaxis\":\"y\",\"type\":\"scatter\"},{\"hoverinfo\":\"text\",\"marker\":{\"color\":\"rgb(133,20,75)\"},\"mode\":\"lines\",\"x\":[570.0,570.0,590.0,590.0],\"xaxis\":\"x\",\"y\":[3.0384944311725266,3.6996479651479457,3.6996479651479457,3.445337376654547],\"yaxis\":\"y\",\"type\":\"scatter\"},{\"hoverinfo\":\"text\",\"marker\":{\"color\":\"rgb(133,20,75)\"},\"mode\":\"lines\",\"x\":[550.0,550.0,580.0,580.0],\"xaxis\":\"x\",\"y\":[2.7135622394488115,3.7727447799288956,3.7727447799288956,3.6996479651479457],\"yaxis\":\"y\",\"type\":\"scatter\"},{\"hoverinfo\":\"text\",\"marker\":{\"color\":\"rgb(133,20,75)\"},\"mode\":\"lines\",\"x\":[605.0,605.0,615.0,615.0],\"xaxis\":\"x\",\"y\":[0.0,3.440316774061421,3.440316774061421,0.0],\"yaxis\":\"y\",\"type\":\"scatter\"},{\"hoverinfo\":\"text\",\"marker\":{\"color\":\"rgb(133,20,75)\"},\"mode\":\"lines\",\"x\":[635.0,635.0,645.0,645.0],\"xaxis\":\"x\",\"y\":[0.0,3.142496959611598,3.142496959611598,0.0],\"yaxis\":\"y\",\"type\":\"scatter\"},{\"hoverinfo\":\"text\",\"marker\":{\"color\":\"rgb(133,20,75)\"},\"mode\":\"lines\",\"x\":[625.0,625.0,640.0,640.0],\"xaxis\":\"x\",\"y\":[0.0,3.448378307077347,3.448378307077347,3.142496959611598],\"yaxis\":\"y\",\"type\":\"scatter\"},{\"hoverinfo\":\"text\",\"marker\":{\"color\":\"rgb(133,20,75)\"},\"mode\":\"lines\",\"x\":[665.0,665.0,675.0,675.0],\"xaxis\":\"x\",\"y\":[0.0,3.11085237942302,3.11085237942302,0.0],\"yaxis\":\"y\",\"type\":\"scatter\"},{\"hoverinfo\":\"text\",\"marker\":{\"color\":\"rgb(133,20,75)\"},\"mode\":\"lines\",\"x\":[655.0,655.0,670.0,670.0],\"xaxis\":\"x\",\"y\":[0.0,3.549843297435029,3.549843297435029,3.11085237942302],\"yaxis\":\"y\",\"type\":\"scatter\"},{\"hoverinfo\":\"text\",\"marker\":{\"color\":\"rgb(133,20,75)\"},\"mode\":\"lines\",\"x\":[632.5,632.5,662.5,662.5],\"xaxis\":\"x\",\"y\":[3.448378307077347,3.684420148946131,3.684420148946131,3.549843297435029],\"yaxis\":\"y\",\"type\":\"scatter\"},{\"hoverinfo\":\"text\",\"marker\":{\"color\":\"rgb(133,20,75)\"},\"mode\":\"lines\",\"x\":[610.0,610.0,647.5,647.5],\"xaxis\":\"x\",\"y\":[3.440316774061421,4.098828933996264,4.098828933996264,3.684420148946131],\"yaxis\":\"y\",\"type\":\"scatter\"},{\"hoverinfo\":\"text\",\"marker\":{\"color\":\"rgb(133,20,75)\"},\"mode\":\"lines\",\"x\":[565.0,565.0,628.75,628.75],\"xaxis\":\"x\",\"y\":[3.7727447799288956,4.310116730439355,4.310116730439355,4.098828933996264],\"yaxis\":\"y\",\"type\":\"scatter\"},{\"hoverinfo\":\"text\",\"marker\":{\"color\":\"rgb(133,20,75)\"},\"mode\":\"lines\",\"x\":[695.0,695.0,705.0,705.0],\"xaxis\":\"x\",\"y\":[0.0,3.5906355713973053,3.5906355713973053,0.0],\"yaxis\":\"y\",\"type\":\"scatter\"},{\"hoverinfo\":\"text\",\"marker\":{\"color\":\"rgb(133,20,75)\"},\"mode\":\"lines\",\"x\":[685.0,685.0,700.0,700.0],\"xaxis\":\"x\",\"y\":[0.0,3.8268203766398425,3.8268203766398425,3.5906355713973053],\"yaxis\":\"y\",\"type\":\"scatter\"},{\"hoverinfo\":\"text\",\"marker\":{\"color\":\"rgb(133,20,75)\"},\"mode\":\"lines\",\"x\":[715.0,715.0,725.0,725.0],\"xaxis\":\"x\",\"y\":[0.0,3.5361216572714973,3.5361216572714973,0.0],\"yaxis\":\"y\",\"type\":\"scatter\"},{\"hoverinfo\":\"text\",\"marker\":{\"color\":\"rgb(133,20,75)\"},\"mode\":\"lines\",\"x\":[735.0,735.0,745.0,745.0],\"xaxis\":\"x\",\"y\":[0.0,2.9102111982655403,2.9102111982655403,0.0],\"yaxis\":\"y\",\"type\":\"scatter\"},{\"hoverinfo\":\"text\",\"marker\":{\"color\":\"rgb(133,20,75)\"},\"mode\":\"lines\",\"x\":[755.0,755.0,765.0,765.0],\"xaxis\":\"x\",\"y\":[0.0,3.151456822417124,3.151456822417124,0.0],\"yaxis\":\"y\",\"type\":\"scatter\"},{\"hoverinfo\":\"text\",\"marker\":{\"color\":\"rgb(133,20,75)\"},\"mode\":\"lines\",\"x\":[740.0,740.0,760.0,760.0],\"xaxis\":\"x\",\"y\":[2.9102111982655403,3.7206891734039327,3.7206891734039327,3.151456822417124],\"yaxis\":\"y\",\"type\":\"scatter\"},{\"hoverinfo\":\"text\",\"marker\":{\"color\":\"rgb(133,20,75)\"},\"mode\":\"lines\",\"x\":[720.0,720.0,750.0,750.0],\"xaxis\":\"x\",\"y\":[3.5361216572714973,4.042375963570622,4.042375963570622,3.7206891734039327],\"yaxis\":\"y\",\"type\":\"scatter\"},{\"hoverinfo\":\"text\",\"marker\":{\"color\":\"rgb(133,20,75)\"},\"mode\":\"lines\",\"x\":[692.5,692.5,735.0,735.0],\"xaxis\":\"x\",\"y\":[3.8268203766398425,4.3341316194944115,4.3341316194944115,4.042375963570622],\"yaxis\":\"y\",\"type\":\"scatter\"},{\"hoverinfo\":\"text\",\"marker\":{\"color\":\"rgb(133,20,75)\"},\"mode\":\"lines\",\"x\":[596.875,596.875,713.75,713.75],\"xaxis\":\"x\",\"y\":[4.310116730439355,4.542105308733664,4.542105308733664,4.3341316194944115],\"yaxis\":\"y\",\"type\":\"scatter\"},{\"hoverinfo\":\"text\",\"marker\":{\"color\":\"rgb(133,20,75)\"},\"mode\":\"lines\",\"x\":[507.5,507.5,655.3125,655.3125],\"xaxis\":\"x\",\"y\":[4.457963867025882,4.80641744652001,4.80641744652001,4.542105308733664],\"yaxis\":\"y\",\"type\":\"scatter\"},{\"hoverinfo\":\"text\",\"marker\":{\"color\":\"rgb(133,20,75)\"},\"mode\":\"lines\",\"x\":[470.0,470.0,581.40625,581.40625],\"xaxis\":\"x\",\"y\":[4.609273568760506,5.2086912846400235,5.2086912846400235,4.80641744652001],\"yaxis\":\"y\",\"type\":\"scatter\"},{\"hoverinfo\":\"text\",\"marker\":{\"color\":\"rgb(133,20,75)\"},\"mode\":\"lines\",\"x\":[785.0,785.0,795.0,795.0],\"xaxis\":\"x\",\"y\":[0.0,4.064300985383446,4.064300985383446,0.0],\"yaxis\":\"y\",\"type\":\"scatter\"},{\"hoverinfo\":\"text\",\"marker\":{\"color\":\"rgb(133,20,75)\"},\"mode\":\"lines\",\"x\":[775.0,775.0,790.0,790.0],\"xaxis\":\"x\",\"y\":[0.0,4.645884742151058,4.645884742151058,4.064300985383446],\"yaxis\":\"y\",\"type\":\"scatter\"},{\"hoverinfo\":\"text\",\"marker\":{\"color\":\"rgb(133,20,75)\"},\"mode\":\"lines\",\"x\":[805.0,805.0,815.0,815.0],\"xaxis\":\"x\",\"y\":[0.0,3.6476704606377592,3.6476704606377592,0.0],\"yaxis\":\"y\",\"type\":\"scatter\"},{\"hoverinfo\":\"text\",\"marker\":{\"color\":\"rgb(133,20,75)\"},\"mode\":\"lines\",\"x\":[825.0,825.0,835.0,835.0],\"xaxis\":\"x\",\"y\":[0.0,4.311663057752077,4.311663057752077,0.0],\"yaxis\":\"y\",\"type\":\"scatter\"},{\"hoverinfo\":\"text\",\"marker\":{\"color\":\"rgb(133,20,75)\"},\"mode\":\"lines\",\"x\":[810.0,810.0,830.0,830.0],\"xaxis\":\"x\",\"y\":[3.6476704606377592,4.8933506223640615,4.8933506223640615,4.311663057752077],\"yaxis\":\"y\",\"type\":\"scatter\"},{\"hoverinfo\":\"text\",\"marker\":{\"color\":\"rgb(133,20,75)\"},\"mode\":\"lines\",\"x\":[865.0,865.0,875.0,875.0],\"xaxis\":\"x\",\"y\":[0.0,4.13272168921199,4.13272168921199,0.0],\"yaxis\":\"y\",\"type\":\"scatter\"},{\"hoverinfo\":\"text\",\"marker\":{\"color\":\"rgb(133,20,75)\"},\"mode\":\"lines\",\"x\":[855.0,855.0,870.0,870.0],\"xaxis\":\"x\",\"y\":[0.0,4.530661025689715,4.530661025689715,4.13272168921199],\"yaxis\":\"y\",\"type\":\"scatter\"},{\"hoverinfo\":\"text\",\"marker\":{\"color\":\"rgb(133,20,75)\"},\"mode\":\"lines\",\"x\":[845.0,845.0,862.5,862.5],\"xaxis\":\"x\",\"y\":[0.0,4.918857281147525,4.918857281147525,4.530661025689715],\"yaxis\":\"y\",\"type\":\"scatter\"},{\"hoverinfo\":\"text\",\"marker\":{\"color\":\"rgb(133,20,75)\"},\"mode\":\"lines\",\"x\":[820.0,820.0,853.75,853.75],\"xaxis\":\"x\",\"y\":[4.8933506223640615,5.186804002352425,5.186804002352425,4.918857281147525],\"yaxis\":\"y\",\"type\":\"scatter\"},{\"hoverinfo\":\"text\",\"marker\":{\"color\":\"rgb(133,20,75)\"},\"mode\":\"lines\",\"x\":[782.5,782.5,836.875,836.875],\"xaxis\":\"x\",\"y\":[4.645884742151058,5.2570787515785415,5.2570787515785415,5.186804002352425],\"yaxis\":\"y\",\"type\":\"scatter\"},{\"hoverinfo\":\"text\",\"marker\":{\"color\":\"rgb(133,20,75)\"},\"mode\":\"lines\",\"x\":[525.703125,525.703125,809.6875,809.6875],\"xaxis\":\"x\",\"y\":[5.2086912846400235,5.586813934889453,5.586813934889453,5.2570787515785415],\"yaxis\":\"y\",\"type\":\"scatter\"},{\"hoverinfo\":\"text\",\"marker\":{\"color\":\"rgb(133,20,75)\"},\"mode\":\"lines\",\"x\":[380.9375,380.9375,667.6953125,667.6953125],\"xaxis\":\"x\",\"y\":[5.43335417458403,5.749331990080512,5.749331990080512,5.586813934889453],\"yaxis\":\"y\",\"type\":\"scatter\"},{\"hoverinfo\":\"text\",\"marker\":{\"color\":\"rgb(133,20,75)\"},\"mode\":\"lines\",\"x\":[355.0,355.0,524.31640625,524.31640625],\"xaxis\":\"x\",\"y\":[0.0,6.090201554543002,6.090201554543002,5.749331990080512],\"yaxis\":\"y\",\"type\":\"scatter\"},{\"hoverinfo\":\"text\",\"marker\":{\"color\":\"rgb(133,20,75)\"},\"mode\":\"lines\",\"x\":[885.0,885.0,895.0,895.0],\"xaxis\":\"x\",\"y\":[0.0,5.609302864166595,5.609302864166595,0.0],\"yaxis\":\"y\",\"type\":\"scatter\"},{\"hoverinfo\":\"text\",\"marker\":{\"color\":\"rgb(133,20,75)\"},\"mode\":\"lines\",\"x\":[925.0,925.0,935.0,935.0],\"xaxis\":\"x\",\"y\":[0.0,4.393918587872363,4.393918587872363,0.0],\"yaxis\":\"y\",\"type\":\"scatter\"},{\"hoverinfo\":\"text\",\"marker\":{\"color\":\"rgb(133,20,75)\"},\"mode\":\"lines\",\"x\":[915.0,915.0,930.0,930.0],\"xaxis\":\"x\",\"y\":[0.0,4.865312517481146,4.865312517481146,4.393918587872363],\"yaxis\":\"y\",\"type\":\"scatter\"},{\"hoverinfo\":\"text\",\"marker\":{\"color\":\"rgb(133,20,75)\"},\"mode\":\"lines\",\"x\":[975.0,975.0,985.0,985.0],\"xaxis\":\"x\",\"y\":[0.0,3.6211370132530334,3.6211370132530334,0.0],\"yaxis\":\"y\",\"type\":\"scatter\"},{\"hoverinfo\":\"text\",\"marker\":{\"color\":\"rgb(133,20,75)\"},\"mode\":\"lines\",\"x\":[965.0,965.0,980.0,980.0],\"xaxis\":\"x\",\"y\":[0.0,3.9079251754976236,3.9079251754976236,3.6211370132530334],\"yaxis\":\"y\",\"type\":\"scatter\"},{\"hoverinfo\":\"text\",\"marker\":{\"color\":\"rgb(133,20,75)\"},\"mode\":\"lines\",\"x\":[955.0,955.0,972.5,972.5],\"xaxis\":\"x\",\"y\":[0.0,4.184561764631786,4.184561764631786,3.9079251754976236],\"yaxis\":\"y\",\"type\":\"scatter\"},{\"hoverinfo\":\"text\",\"marker\":{\"color\":\"rgb(133,20,75)\"},\"mode\":\"lines\",\"x\":[945.0,945.0,963.75,963.75],\"xaxis\":\"x\",\"y\":[0.0,4.381021324985102,4.381021324985102,4.184561764631786],\"yaxis\":\"y\",\"type\":\"scatter\"},{\"hoverinfo\":\"text\",\"marker\":{\"color\":\"rgb(133,20,75)\"},\"mode\":\"lines\",\"x\":[995.0,995.0,1005.0,1005.0],\"xaxis\":\"x\",\"y\":[0.0,4.5661508197774765,4.5661508197774765,0.0],\"yaxis\":\"y\",\"type\":\"scatter\"},{\"hoverinfo\":\"text\",\"marker\":{\"color\":\"rgb(133,20,75)\"},\"mode\":\"lines\",\"x\":[954.375,954.375,1000.0,1000.0],\"xaxis\":\"x\",\"y\":[4.381021324985102,5.078990788431462,5.078990788431462,4.5661508197774765],\"yaxis\":\"y\",\"type\":\"scatter\"},{\"hoverinfo\":\"text\",\"marker\":{\"color\":\"rgb(133,20,75)\"},\"mode\":\"lines\",\"x\":[922.5,922.5,977.1875,977.1875],\"xaxis\":\"x\",\"y\":[4.865312517481146,5.340875058831222,5.340875058831222,5.078990788431462],\"yaxis\":\"y\",\"type\":\"scatter\"},{\"hoverinfo\":\"text\",\"marker\":{\"color\":\"rgb(133,20,75)\"},\"mode\":\"lines\",\"x\":[905.0,905.0,949.84375,949.84375],\"xaxis\":\"x\",\"y\":[0.0,5.698223875468168,5.698223875468168,5.340875058831222],\"yaxis\":\"y\",\"type\":\"scatter\"},{\"hoverinfo\":\"text\",\"marker\":{\"color\":\"rgb(133,20,75)\"},\"mode\":\"lines\",\"x\":[890.0,890.0,927.421875,927.421875],\"xaxis\":\"x\",\"y\":[5.609302864166595,6.285941460650043,6.285941460650043,5.698223875468168],\"yaxis\":\"y\",\"type\":\"scatter\"},{\"hoverinfo\":\"text\",\"marker\":{\"color\":\"rgb(133,20,75)\"},\"mode\":\"lines\",\"x\":[439.658203125,439.658203125,908.7109375,908.7109375],\"xaxis\":\"x\",\"y\":[6.090201554543002,6.468143264360199,6.468143264360199,6.285941460650043],\"yaxis\":\"y\",\"type\":\"scatter\"},{\"hoverinfo\":\"text\",\"marker\":{\"color\":\"rgb(133,20,75)\"},\"mode\":\"lines\",\"x\":[1035.0,1035.0,1045.0,1045.0],\"xaxis\":\"x\",\"y\":[0.0,3.7844865850326608,3.7844865850326608,0.0],\"yaxis\":\"y\",\"type\":\"scatter\"},{\"hoverinfo\":\"text\",\"marker\":{\"color\":\"rgb(133,20,75)\"},\"mode\":\"lines\",\"x\":[1025.0,1025.0,1040.0,1040.0],\"xaxis\":\"x\",\"y\":[0.0,4.47186164990523,4.47186164990523,3.7844865850326608],\"yaxis\":\"y\",\"type\":\"scatter\"},{\"hoverinfo\":\"text\",\"marker\":{\"color\":\"rgb(133,20,75)\"},\"mode\":\"lines\",\"x\":[1015.0,1015.0,1032.5,1032.5],\"xaxis\":\"x\",\"y\":[0.0,4.549096824542204,4.549096824542204,4.47186164990523],\"yaxis\":\"y\",\"type\":\"scatter\"},{\"hoverinfo\":\"text\",\"marker\":{\"color\":\"rgb(133,20,75)\"},\"mode\":\"lines\",\"x\":[1055.0,1055.0,1065.0,1065.0],\"xaxis\":\"x\",\"y\":[0.0,4.777396738675768,4.777396738675768,0.0],\"yaxis\":\"y\",\"type\":\"scatter\"},{\"hoverinfo\":\"text\",\"marker\":{\"color\":\"rgb(133,20,75)\"},\"mode\":\"lines\",\"x\":[1023.75,1023.75,1060.0,1060.0],\"xaxis\":\"x\",\"y\":[4.549096824542204,5.092658217210996,5.092658217210996,4.777396738675768],\"yaxis\":\"y\",\"type\":\"scatter\"},{\"hoverinfo\":\"text\",\"marker\":{\"color\":\"rgb(133,20,75)\"},\"mode\":\"lines\",\"x\":[1095.0,1095.0,1105.0,1105.0],\"xaxis\":\"x\",\"y\":[0.0,3.180658086784502,3.180658086784502,0.0],\"yaxis\":\"y\",\"type\":\"scatter\"},{\"hoverinfo\":\"text\",\"marker\":{\"color\":\"rgb(133,20,75)\"},\"mode\":\"lines\",\"x\":[1085.0,1085.0,1100.0,1100.0],\"xaxis\":\"x\",\"y\":[0.0,4.419153789456347,4.419153789456347,3.180658086784502],\"yaxis\":\"y\",\"type\":\"scatter\"},{\"hoverinfo\":\"text\",\"marker\":{\"color\":\"rgb(133,20,75)\"},\"mode\":\"lines\",\"x\":[1075.0,1075.0,1092.5,1092.5],\"xaxis\":\"x\",\"y\":[0.0,5.457717892928814,5.457717892928814,4.419153789456347],\"yaxis\":\"y\",\"type\":\"scatter\"},{\"hoverinfo\":\"text\",\"marker\":{\"color\":\"rgb(133,20,75)\"},\"mode\":\"lines\",\"x\":[1145.0,1145.0,1155.0,1155.0],\"xaxis\":\"x\",\"y\":[0.0,2.9648307996091683,2.9648307996091683,0.0],\"yaxis\":\"y\",\"type\":\"scatter\"},{\"hoverinfo\":\"text\",\"marker\":{\"color\":\"rgb(133,20,75)\"},\"mode\":\"lines\",\"x\":[1135.0,1135.0,1150.0,1150.0],\"xaxis\":\"x\",\"y\":[0.0,3.5219131284896763,3.5219131284896763,2.9648307996091683],\"yaxis\":\"y\",\"type\":\"scatter\"},{\"hoverinfo\":\"text\",\"marker\":{\"color\":\"rgb(133,20,75)\"},\"mode\":\"lines\",\"x\":[1125.0,1125.0,1142.5,1142.5],\"xaxis\":\"x\",\"y\":[0.0,3.7579013175371294,3.7579013175371294,3.5219131284896763],\"yaxis\":\"y\",\"type\":\"scatter\"},{\"hoverinfo\":\"text\",\"marker\":{\"color\":\"rgb(133,20,75)\"},\"mode\":\"lines\",\"x\":[1165.0,1165.0,1175.0,1175.0],\"xaxis\":\"x\",\"y\":[0.0,4.179763610404895,4.179763610404895,0.0],\"yaxis\":\"y\",\"type\":\"scatter\"},{\"hoverinfo\":\"text\",\"marker\":{\"color\":\"rgb(133,20,75)\"},\"mode\":\"lines\",\"x\":[1195.0,1195.0,1205.0,1205.0],\"xaxis\":\"x\",\"y\":[0.0,3.1951040980595566,3.1951040980595566,0.0],\"yaxis\":\"y\",\"type\":\"scatter\"},{\"hoverinfo\":\"text\",\"marker\":{\"color\":\"rgb(133,20,75)\"},\"mode\":\"lines\",\"x\":[1225.0,1225.0,1235.0,1235.0],\"xaxis\":\"x\",\"y\":[0.0,2.458115491466813,2.458115491466813,0.0],\"yaxis\":\"y\",\"type\":\"scatter\"},{\"hoverinfo\":\"text\",\"marker\":{\"color\":\"rgb(133,20,75)\"},\"mode\":\"lines\",\"x\":[1215.0,1215.0,1230.0,1230.0],\"xaxis\":\"x\",\"y\":[0.0,2.9466248774361143,2.9466248774361143,2.458115491466813],\"yaxis\":\"y\",\"type\":\"scatter\"},{\"hoverinfo\":\"text\",\"marker\":{\"color\":\"rgb(133,20,75)\"},\"mode\":\"lines\",\"x\":[1245.0,1245.0,1255.0,1255.0],\"xaxis\":\"x\",\"y\":[0.0,3.212841762135845,3.212841762135845,0.0],\"yaxis\":\"y\",\"type\":\"scatter\"},{\"hoverinfo\":\"text\",\"marker\":{\"color\":\"rgb(133,20,75)\"},\"mode\":\"lines\",\"x\":[1222.5,1222.5,1250.0,1250.0],\"xaxis\":\"x\",\"y\":[2.9466248774361143,3.5002804810567643,3.5002804810567643,3.212841762135845],\"yaxis\":\"y\",\"type\":\"scatter\"},{\"hoverinfo\":\"text\",\"marker\":{\"color\":\"rgb(133,20,75)\"},\"mode\":\"lines\",\"x\":[1200.0,1200.0,1236.25,1236.25],\"xaxis\":\"x\",\"y\":[3.1951040980595566,3.771637174463045,3.771637174463045,3.5002804810567643],\"yaxis\":\"y\",\"type\":\"scatter\"},{\"hoverinfo\":\"text\",\"marker\":{\"color\":\"rgb(133,20,75)\"},\"mode\":\"lines\",\"x\":[1185.0,1185.0,1218.125,1218.125],\"xaxis\":\"x\",\"y\":[0.0,4.208156051085456,4.208156051085456,3.771637174463045],\"yaxis\":\"y\",\"type\":\"scatter\"},{\"hoverinfo\":\"text\",\"marker\":{\"color\":\"rgb(133,20,75)\"},\"mode\":\"lines\",\"x\":[1170.0,1170.0,1201.5625,1201.5625],\"xaxis\":\"x\",\"y\":[4.179763610404895,4.700457868552159,4.700457868552159,4.208156051085456],\"yaxis\":\"y\",\"type\":\"scatter\"},{\"hoverinfo\":\"text\",\"marker\":{\"color\":\"rgb(133,20,75)\"},\"mode\":\"lines\",\"x\":[1133.75,1133.75,1185.78125,1185.78125],\"xaxis\":\"x\",\"y\":[3.7579013175371294,4.911220069572654,4.911220069572654,4.700457868552159],\"yaxis\":\"y\",\"type\":\"scatter\"},{\"hoverinfo\":\"text\",\"marker\":{\"color\":\"rgb(133,20,75)\"},\"mode\":\"lines\",\"x\":[1115.0,1115.0,1159.765625,1159.765625],\"xaxis\":\"x\",\"y\":[0.0,5.097101062015072,5.097101062015072,4.911220069572654],\"yaxis\":\"y\",\"type\":\"scatter\"},{\"hoverinfo\":\"text\",\"marker\":{\"color\":\"rgb(133,20,75)\"},\"mode\":\"lines\",\"x\":[1265.0,1265.0,1275.0,1275.0],\"xaxis\":\"x\",\"y\":[0.0,4.046191315739228,4.046191315739228,0.0],\"yaxis\":\"y\",\"type\":\"scatter\"},{\"hoverinfo\":\"text\",\"marker\":{\"color\":\"rgb(133,20,75)\"},\"mode\":\"lines\",\"x\":[1285.0,1285.0,1295.0,1295.0],\"xaxis\":\"x\",\"y\":[0.0,4.9509227985443305,4.9509227985443305,0.0],\"yaxis\":\"y\",\"type\":\"scatter\"},{\"hoverinfo\":\"text\",\"marker\":{\"color\":\"rgb(133,20,75)\"},\"mode\":\"lines\",\"x\":[1270.0,1270.0,1290.0,1290.0],\"xaxis\":\"x\",\"y\":[4.046191315739228,5.1003847226943275,5.1003847226943275,4.9509227985443305],\"yaxis\":\"y\",\"type\":\"scatter\"},{\"hoverinfo\":\"text\",\"marker\":{\"color\":\"rgb(133,20,75)\"},\"mode\":\"lines\",\"x\":[1137.3828125,1137.3828125,1280.0,1280.0],\"xaxis\":\"x\",\"y\":[5.097101062015072,5.810668803890479,5.810668803890479,5.1003847226943275],\"yaxis\":\"y\",\"type\":\"scatter\"},{\"hoverinfo\":\"text\",\"marker\":{\"color\":\"rgb(133,20,75)\"},\"mode\":\"lines\",\"x\":[1083.75,1083.75,1208.69140625,1208.69140625],\"xaxis\":\"x\",\"y\":[5.457717892928814,5.913162132002112,5.913162132002112,5.810668803890479],\"yaxis\":\"y\",\"type\":\"scatter\"},{\"hoverinfo\":\"text\",\"marker\":{\"color\":\"rgb(133,20,75)\"},\"mode\":\"lines\",\"x\":[1041.875,1041.875,1146.220703125,1146.220703125],\"xaxis\":\"x\",\"y\":[5.092658217210996,6.699891292576841,6.699891292576841,5.913162132002112],\"yaxis\":\"y\",\"type\":\"scatter\"},{\"hoverinfo\":\"text\",\"marker\":{\"color\":\"rgb(133,20,75)\"},\"mode\":\"lines\",\"x\":[674.1845703125,674.1845703125,1094.0478515625,1094.0478515625],\"xaxis\":\"x\",\"y\":[6.468143264360199,7.17623844873468,7.17623844873468,6.699891292576841],\"yaxis\":\"y\",\"type\":\"scatter\"},{\"hoverinfo\":\"text\",\"marker\":{\"color\":\"rgb(133,20,75)\"},\"mode\":\"lines\",\"x\":[345.0,345.0,884.1162109375,884.1162109375],\"xaxis\":\"x\",\"y\":[0.0,7.339824970596022,7.339824970596022,7.17623844873468],\"yaxis\":\"y\",\"type\":\"scatter\"},{\"hoverinfo\":\"text\",\"marker\":{\"color\":\"rgb(133,20,75)\"},\"mode\":\"lines\",\"x\":[294.6875,294.6875,614.55810546875,614.55810546875],\"xaxis\":\"x\",\"y\":[7.133366618610118,8.099973326359681,8.099973326359681,7.339824970596022],\"yaxis\":\"y\",\"type\":\"scatter\"},{\"hoverinfo\":\"text\",\"marker\":{\"color\":\"rgb(133,20,75)\"},\"mode\":\"lines\",\"x\":[275.0,275.0,454.622802734375,454.622802734375],\"xaxis\":\"x\",\"y\":[0.0,8.48259831382842,8.48259831382842,8.099973326359681],\"yaxis\":\"y\",\"type\":\"scatter\"},{\"hoverinfo\":\"text\",\"marker\":{\"color\":\"rgb(133,20,75)\"},\"mode\":\"lines\",\"x\":[1325.0,1325.0,1335.0,1335.0],\"xaxis\":\"x\",\"y\":[0.0,3.0297130096587233,3.0297130096587233,0.0],\"yaxis\":\"y\",\"type\":\"scatter\"},{\"hoverinfo\":\"text\",\"marker\":{\"color\":\"rgb(133,20,75)\"},\"mode\":\"lines\",\"x\":[1315.0,1315.0,1330.0,1330.0],\"xaxis\":\"x\",\"y\":[0.0,4.324979311866862,4.324979311866862,3.0297130096587233],\"yaxis\":\"y\",\"type\":\"scatter\"},{\"hoverinfo\":\"text\",\"marker\":{\"color\":\"rgb(133,20,75)\"},\"mode\":\"lines\",\"x\":[1365.0,1365.0,1375.0,1375.0],\"xaxis\":\"x\",\"y\":[0.0,3.613869183563178,3.613869183563178,0.0],\"yaxis\":\"y\",\"type\":\"scatter\"},{\"hoverinfo\":\"text\",\"marker\":{\"color\":\"rgb(133,20,75)\"},\"mode\":\"lines\",\"x\":[1355.0,1355.0,1370.0,1370.0],\"xaxis\":\"x\",\"y\":[0.0,3.9045287652468863,3.9045287652468863,3.613869183563178],\"yaxis\":\"y\",\"type\":\"scatter\"},{\"hoverinfo\":\"text\",\"marker\":{\"color\":\"rgb(133,20,75)\"},\"mode\":\"lines\",\"x\":[1385.0,1385.0,1395.0,1395.0],\"xaxis\":\"x\",\"y\":[0.0,4.312682352895766,4.312682352895766,0.0],\"yaxis\":\"y\",\"type\":\"scatter\"},{\"hoverinfo\":\"text\",\"marker\":{\"color\":\"rgb(133,20,75)\"},\"mode\":\"lines\",\"x\":[1362.5,1362.5,1390.0,1390.0],\"xaxis\":\"x\",\"y\":[3.9045287652468863,4.690188775882621,4.690188775882621,4.312682352895766],\"yaxis\":\"y\",\"type\":\"scatter\"},{\"hoverinfo\":\"text\",\"marker\":{\"color\":\"rgb(133,20,75)\"},\"mode\":\"lines\",\"x\":[1345.0,1345.0,1376.25,1376.25],\"xaxis\":\"x\",\"y\":[0.0,4.812368165098865,4.812368165098865,4.690188775882621],\"yaxis\":\"y\",\"type\":\"scatter\"},{\"hoverinfo\":\"text\",\"marker\":{\"color\":\"rgb(133,20,75)\"},\"mode\":\"lines\",\"x\":[1322.5,1322.5,1360.625,1360.625],\"xaxis\":\"x\",\"y\":[4.324979311866862,5.452814394702084,5.452814394702084,4.812368165098865],\"yaxis\":\"y\",\"type\":\"scatter\"},{\"hoverinfo\":\"text\",\"marker\":{\"color\":\"rgb(133,20,75)\"},\"mode\":\"lines\",\"x\":[1435.0,1435.0,1445.0,1445.0],\"xaxis\":\"x\",\"y\":[0.0,3.28363105440905,3.28363105440905,0.0],\"yaxis\":\"y\",\"type\":\"scatter\"},{\"hoverinfo\":\"text\",\"marker\":{\"color\":\"rgb(133,20,75)\"},\"mode\":\"lines\",\"x\":[1425.0,1425.0,1440.0,1440.0],\"xaxis\":\"x\",\"y\":[0.0,3.4998643067019053,3.4998643067019053,3.28363105440905],\"yaxis\":\"y\",\"type\":\"scatter\"},{\"hoverinfo\":\"text\",\"marker\":{\"color\":\"rgb(133,20,75)\"},\"mode\":\"lines\",\"x\":[1415.0,1415.0,1432.5,1432.5],\"xaxis\":\"x\",\"y\":[0.0,3.9148753775599245,3.9148753775599245,3.4998643067019053],\"yaxis\":\"y\",\"type\":\"scatter\"},{\"hoverinfo\":\"text\",\"marker\":{\"color\":\"rgb(133,20,75)\"},\"mode\":\"lines\",\"x\":[1455.0,1455.0,1465.0,1465.0],\"xaxis\":\"x\",\"y\":[0.0,3.8355101186640104,3.8355101186640104,0.0],\"yaxis\":\"y\",\"type\":\"scatter\"},{\"hoverinfo\":\"text\",\"marker\":{\"color\":\"rgb(133,20,75)\"},\"mode\":\"lines\",\"x\":[1475.0,1475.0,1485.0,1485.0],\"xaxis\":\"x\",\"y\":[0.0,3.6529243229492163,3.6529243229492163,0.0],\"yaxis\":\"y\",\"type\":\"scatter\"},{\"hoverinfo\":\"text\",\"marker\":{\"color\":\"rgb(133,20,75)\"},\"mode\":\"lines\",\"x\":[1505.0,1505.0,1515.0,1515.0],\"xaxis\":\"x\",\"y\":[0.0,2.9751060245714553,2.9751060245714553,0.0],\"yaxis\":\"y\",\"type\":\"scatter\"},{\"hoverinfo\":\"text\",\"marker\":{\"color\":\"rgb(133,20,75)\"},\"mode\":\"lines\",\"x\":[1495.0,1495.0,1510.0,1510.0],\"xaxis\":\"x\",\"y\":[0.0,3.047866497063863,3.047866497063863,2.9751060245714553],\"yaxis\":\"y\",\"type\":\"scatter\"},{\"hoverinfo\":\"text\",\"marker\":{\"color\":\"rgb(133,20,75)\"},\"mode\":\"lines\",\"x\":[1535.0,1535.0,1545.0,1545.0],\"xaxis\":\"x\",\"y\":[0.0,2.8553380685290493,2.8553380685290493,0.0],\"yaxis\":\"y\",\"type\":\"scatter\"},{\"hoverinfo\":\"text\",\"marker\":{\"color\":\"rgb(133,20,75)\"},\"mode\":\"lines\",\"x\":[1525.0,1525.0,1540.0,1540.0],\"xaxis\":\"x\",\"y\":[0.0,3.0317835276250866,3.0317835276250866,2.8553380685290493],\"yaxis\":\"y\",\"type\":\"scatter\"},{\"hoverinfo\":\"text\",\"marker\":{\"color\":\"rgb(133,20,75)\"},\"mode\":\"lines\",\"x\":[1555.0,1555.0,1565.0,1565.0],\"xaxis\":\"x\",\"y\":[0.0,3.316784409275408,3.316784409275408,0.0],\"yaxis\":\"y\",\"type\":\"scatter\"},{\"hoverinfo\":\"text\",\"marker\":{\"color\":\"rgb(133,20,75)\"},\"mode\":\"lines\",\"x\":[1532.5,1532.5,1560.0,1560.0],\"xaxis\":\"x\",\"y\":[3.0317835276250866,3.6032916843150447,3.6032916843150447,3.316784409275408],\"yaxis\":\"y\",\"type\":\"scatter\"},{\"hoverinfo\":\"text\",\"marker\":{\"color\":\"rgb(133,20,75)\"},\"mode\":\"lines\",\"x\":[1502.5,1502.5,1546.25,1546.25],\"xaxis\":\"x\",\"y\":[3.047866497063863,3.6845087829067964,3.6845087829067964,3.6032916843150447],\"yaxis\":\"y\",\"type\":\"scatter\"},{\"hoverinfo\":\"text\",\"marker\":{\"color\":\"rgb(133,20,75)\"},\"mode\":\"lines\",\"x\":[1480.0,1480.0,1524.375,1524.375],\"xaxis\":\"x\",\"y\":[3.6529243229492163,3.9980905233549184,3.9980905233549184,3.6845087829067964],\"yaxis\":\"y\",\"type\":\"scatter\"},{\"hoverinfo\":\"text\",\"marker\":{\"color\":\"rgb(133,20,75)\"},\"mode\":\"lines\",\"x\":[1460.0,1460.0,1502.1875,1502.1875],\"xaxis\":\"x\",\"y\":[3.8355101186640104,4.280406556673712,4.280406556673712,3.9980905233549184],\"yaxis\":\"y\",\"type\":\"scatter\"},{\"hoverinfo\":\"text\",\"marker\":{\"color\":\"rgb(133,20,75)\"},\"mode\":\"lines\",\"x\":[1423.75,1423.75,1481.09375,1481.09375],\"xaxis\":\"x\",\"y\":[3.9148753775599245,4.4449918811285665,4.4449918811285665,4.280406556673712],\"yaxis\":\"y\",\"type\":\"scatter\"},{\"hoverinfo\":\"text\",\"marker\":{\"color\":\"rgb(133,20,75)\"},\"mode\":\"lines\",\"x\":[1575.0,1575.0,1585.0,1585.0],\"xaxis\":\"x\",\"y\":[0.0,3.9076459969673785,3.9076459969673785,0.0],\"yaxis\":\"y\",\"type\":\"scatter\"},{\"hoverinfo\":\"text\",\"marker\":{\"color\":\"rgb(133,20,75)\"},\"mode\":\"lines\",\"x\":[1595.0,1595.0,1605.0,1605.0],\"xaxis\":\"x\",\"y\":[0.0,3.9472897025814033,3.9472897025814033,0.0],\"yaxis\":\"y\",\"type\":\"scatter\"},{\"hoverinfo\":\"text\",\"marker\":{\"color\":\"rgb(133,20,75)\"},\"mode\":\"lines\",\"x\":[1580.0,1580.0,1600.0,1600.0],\"xaxis\":\"x\",\"y\":[3.9076459969673785,4.51642196364105,4.51642196364105,3.9472897025814033],\"yaxis\":\"y\",\"type\":\"scatter\"},{\"hoverinfo\":\"text\",\"marker\":{\"color\":\"rgb(133,20,75)\"},\"mode\":\"lines\",\"x\":[1452.421875,1452.421875,1590.0,1590.0],\"xaxis\":\"x\",\"y\":[4.4449918811285665,4.7971701988323945,4.7971701988323945,4.51642196364105],\"yaxis\":\"y\",\"type\":\"scatter\"},{\"hoverinfo\":\"text\",\"marker\":{\"color\":\"rgb(133,20,75)\"},\"mode\":\"lines\",\"x\":[1615.0,1615.0,1625.0,1625.0],\"xaxis\":\"x\",\"y\":[0.0,4.454119911333076,4.454119911333076,0.0],\"yaxis\":\"y\",\"type\":\"scatter\"},{\"hoverinfo\":\"text\",\"marker\":{\"color\":\"rgb(133,20,75)\"},\"mode\":\"lines\",\"x\":[1645.0,1645.0,1655.0,1655.0],\"xaxis\":\"x\",\"y\":[0.0,4.410720993606677,4.410720993606677,0.0],\"yaxis\":\"y\",\"type\":\"scatter\"},{\"hoverinfo\":\"text\",\"marker\":{\"color\":\"rgb(133,20,75)\"},\"mode\":\"lines\",\"x\":[1635.0,1635.0,1650.0,1650.0],\"xaxis\":\"x\",\"y\":[0.0,4.749224620516343,4.749224620516343,4.410720993606677],\"yaxis\":\"y\",\"type\":\"scatter\"},{\"hoverinfo\":\"text\",\"marker\":{\"color\":\"rgb(133,20,75)\"},\"mode\":\"lines\",\"x\":[1620.0,1620.0,1642.5,1642.5],\"xaxis\":\"x\",\"y\":[4.454119911333076,4.967481975719972,4.967481975719972,4.749224620516343],\"yaxis\":\"y\",\"type\":\"scatter\"},{\"hoverinfo\":\"text\",\"marker\":{\"color\":\"rgb(133,20,75)\"},\"mode\":\"lines\",\"x\":[1521.2109375,1521.2109375,1631.25,1631.25],\"xaxis\":\"x\",\"y\":[4.7971701988323945,5.252194744061306,5.252194744061306,4.967481975719972],\"yaxis\":\"y\",\"type\":\"scatter\"},{\"hoverinfo\":\"text\",\"marker\":{\"color\":\"rgb(133,20,75)\"},\"mode\":\"lines\",\"x\":[1405.0,1405.0,1576.23046875,1576.23046875],\"xaxis\":\"x\",\"y\":[0.0,5.76190495160639,5.76190495160639,5.252194744061306],\"yaxis\":\"y\",\"type\":\"scatter\"},{\"hoverinfo\":\"text\",\"marker\":{\"color\":\"rgb(133,20,75)\"},\"mode\":\"lines\",\"x\":[1341.5625,1341.5625,1490.615234375,1490.615234375],\"xaxis\":\"x\",\"y\":[5.452814394702084,6.2150607293704265,6.2150607293704265,5.76190495160639],\"yaxis\":\"y\",\"type\":\"scatter\"},{\"hoverinfo\":\"text\",\"marker\":{\"color\":\"rgb(133,20,75)\"},\"mode\":\"lines\",\"x\":[1675.0,1675.0,1685.0,1685.0],\"xaxis\":\"x\",\"y\":[0.0,4.061042754794459,4.061042754794459,0.0],\"yaxis\":\"y\",\"type\":\"scatter\"},{\"hoverinfo\":\"text\",\"marker\":{\"color\":\"rgb(133,20,75)\"},\"mode\":\"lines\",\"x\":[1665.0,1665.0,1680.0,1680.0],\"xaxis\":\"x\",\"y\":[0.0,5.5731287808405865,5.5731287808405865,4.061042754794459],\"yaxis\":\"y\",\"type\":\"scatter\"},{\"hoverinfo\":\"text\",\"marker\":{\"color\":\"rgb(133,20,75)\"},\"mode\":\"lines\",\"x\":[1735.0,1735.0,1745.0,1745.0],\"xaxis\":\"x\",\"y\":[0.0,3.1452483890630973,3.1452483890630973,0.0],\"yaxis\":\"y\",\"type\":\"scatter\"},{\"hoverinfo\":\"text\",\"marker\":{\"color\":\"rgb(133,20,75)\"},\"mode\":\"lines\",\"x\":[1725.0,1725.0,1740.0,1740.0],\"xaxis\":\"x\",\"y\":[0.0,3.3301112636405055,3.3301112636405055,3.1452483890630973],\"yaxis\":\"y\",\"type\":\"scatter\"},{\"hoverinfo\":\"text\",\"marker\":{\"color\":\"rgb(133,20,75)\"},\"mode\":\"lines\",\"x\":[1715.0,1715.0,1732.5,1732.5],\"xaxis\":\"x\",\"y\":[0.0,3.695420671491459,3.695420671491459,3.3301112636405055],\"yaxis\":\"y\",\"type\":\"scatter\"},{\"hoverinfo\":\"text\",\"marker\":{\"color\":\"rgb(133,20,75)\"},\"mode\":\"lines\",\"x\":[1705.0,1705.0,1723.75,1723.75],\"xaxis\":\"x\",\"y\":[0.0,3.7979006612033515,3.7979006612033515,3.695420671491459],\"yaxis\":\"y\",\"type\":\"scatter\"},{\"hoverinfo\":\"text\",\"marker\":{\"color\":\"rgb(133,20,75)\"},\"mode\":\"lines\",\"x\":[1795.0,1795.0,1805.0,1805.0],\"xaxis\":\"x\",\"y\":[0.0,2.0097982079561523,2.0097982079561523,0.0],\"yaxis\":\"y\",\"type\":\"scatter\"},{\"hoverinfo\":\"text\",\"marker\":{\"color\":\"rgb(133,20,75)\"},\"mode\":\"lines\",\"x\":[1785.0,1785.0,1800.0,1800.0],\"xaxis\":\"x\",\"y\":[0.0,2.2895919119867103,2.2895919119867103,2.0097982079561523],\"yaxis\":\"y\",\"type\":\"scatter\"},{\"hoverinfo\":\"text\",\"marker\":{\"color\":\"rgb(133,20,75)\"},\"mode\":\"lines\",\"x\":[1775.0,1775.0,1792.5,1792.5],\"xaxis\":\"x\",\"y\":[0.0,3.0189590725398086,3.0189590725398086,2.2895919119867103],\"yaxis\":\"y\",\"type\":\"scatter\"},{\"hoverinfo\":\"text\",\"marker\":{\"color\":\"rgb(133,20,75)\"},\"mode\":\"lines\",\"x\":[1765.0,1765.0,1783.75,1783.75],\"xaxis\":\"x\",\"y\":[0.0,3.3865302579587735,3.3865302579587735,3.0189590725398086],\"yaxis\":\"y\",\"type\":\"scatter\"},{\"hoverinfo\":\"text\",\"marker\":{\"color\":\"rgb(133,20,75)\"},\"mode\":\"lines\",\"x\":[1825.0,1825.0,1835.0,1835.0],\"xaxis\":\"x\",\"y\":[0.0,1.1179544928958063,1.1179544928958063,0.0],\"yaxis\":\"y\",\"type\":\"scatter\"},{\"hoverinfo\":\"text\",\"marker\":{\"color\":\"rgb(133,20,75)\"},\"mode\":\"lines\",\"x\":[1875.0,1875.0,1885.0,1885.0],\"xaxis\":\"x\",\"y\":[0.0,1.8267139409706885,1.8267139409706885,0.0],\"yaxis\":\"y\",\"type\":\"scatter\"},{\"hoverinfo\":\"text\",\"marker\":{\"color\":\"rgb(133,20,75)\"},\"mode\":\"lines\",\"x\":[1865.0,1865.0,1880.0,1880.0],\"xaxis\":\"x\",\"y\":[0.0,2.0247924974612133,2.0247924974612133,1.8267139409706885],\"yaxis\":\"y\",\"type\":\"scatter\"},{\"hoverinfo\":\"text\",\"marker\":{\"color\":\"rgb(133,20,75)\"},\"mode\":\"lines\",\"x\":[1855.0,1855.0,1872.5,1872.5],\"xaxis\":\"x\",\"y\":[0.0,2.1973515177524328,2.1973515177524328,2.0247924974612133],\"yaxis\":\"y\",\"type\":\"scatter\"},{\"hoverinfo\":\"text\",\"marker\":{\"color\":\"rgb(133,20,75)\"},\"mode\":\"lines\",\"x\":[1845.0,1845.0,1863.75,1863.75],\"xaxis\":\"x\",\"y\":[0.0,2.4640967550812354,2.4640967550812354,2.1973515177524328],\"yaxis\":\"y\",\"type\":\"scatter\"},{\"hoverinfo\":\"text\",\"marker\":{\"color\":\"rgb(133,20,75)\"},\"mode\":\"lines\",\"x\":[1830.0,1830.0,1854.375,1854.375],\"xaxis\":\"x\",\"y\":[1.1179544928958063,2.7948432930812355,2.7948432930812355,2.4640967550812354],\"yaxis\":\"y\",\"type\":\"scatter\"},{\"hoverinfo\":\"text\",\"marker\":{\"color\":\"rgb(133,20,75)\"},\"mode\":\"lines\",\"x\":[1815.0,1815.0,1842.1875,1842.1875],\"xaxis\":\"x\",\"y\":[0.0,3.3993159512846165,3.3993159512846165,2.7948432930812355],\"yaxis\":\"y\",\"type\":\"scatter\"},{\"hoverinfo\":\"text\",\"marker\":{\"color\":\"rgb(133,20,75)\"},\"mode\":\"lines\",\"x\":[1774.375,1774.375,1828.59375,1828.59375],\"xaxis\":\"x\",\"y\":[3.3865302579587735,3.740743762104064,3.740743762104064,3.3993159512846165],\"yaxis\":\"y\",\"type\":\"scatter\"},{\"hoverinfo\":\"text\",\"marker\":{\"color\":\"rgb(133,20,75)\"},\"mode\":\"lines\",\"x\":[1755.0,1755.0,1801.484375,1801.484375],\"xaxis\":\"x\",\"y\":[0.0,4.101160705405297,4.101160705405297,3.740743762104064],\"yaxis\":\"y\",\"type\":\"scatter\"},{\"hoverinfo\":\"text\",\"marker\":{\"color\":\"rgb(133,20,75)\"},\"mode\":\"lines\",\"x\":[1714.375,1714.375,1778.2421875,1778.2421875],\"xaxis\":\"x\",\"y\":[3.7979006612033515,4.303133594727747,4.303133594727747,4.101160705405297],\"yaxis\":\"y\",\"type\":\"scatter\"},{\"hoverinfo\":\"text\",\"marker\":{\"color\":\"rgb(133,20,75)\"},\"mode\":\"lines\",\"x\":[1695.0,1695.0,1746.30859375,1746.30859375],\"xaxis\":\"x\",\"y\":[0.0,4.601759352893114,4.601759352893114,4.303133594727747],\"yaxis\":\"y\",\"type\":\"scatter\"},{\"hoverinfo\":\"text\",\"marker\":{\"color\":\"rgb(133,20,75)\"},\"mode\":\"lines\",\"x\":[1895.0,1895.0,1905.0,1905.0],\"xaxis\":\"x\",\"y\":[0.0,3.9148977361771187,3.9148977361771187,0.0],\"yaxis\":\"y\",\"type\":\"scatter\"},{\"hoverinfo\":\"text\",\"marker\":{\"color\":\"rgb(133,20,75)\"},\"mode\":\"lines\",\"x\":[1915.0,1915.0,1925.0,1925.0],\"xaxis\":\"x\",\"y\":[0.0,3.9651956448844956,3.9651956448844956,0.0],\"yaxis\":\"y\",\"type\":\"scatter\"},{\"hoverinfo\":\"text\",\"marker\":{\"color\":\"rgb(133,20,75)\"},\"mode\":\"lines\",\"x\":[1900.0,1900.0,1920.0,1920.0],\"xaxis\":\"x\",\"y\":[3.9148977361771187,5.134932164776143,5.134932164776143,3.9651956448844956],\"yaxis\":\"y\",\"type\":\"scatter\"},{\"hoverinfo\":\"text\",\"marker\":{\"color\":\"rgb(133,20,75)\"},\"mode\":\"lines\",\"x\":[1935.0,1935.0,1945.0,1945.0],\"xaxis\":\"x\",\"y\":[0.0,3.52951718242607,3.52951718242607,0.0],\"yaxis\":\"y\",\"type\":\"scatter\"},{\"hoverinfo\":\"text\",\"marker\":{\"color\":\"rgb(133,20,75)\"},\"mode\":\"lines\",\"x\":[1975.0,1975.0,1985.0,1985.0],\"xaxis\":\"x\",\"y\":[0.0,2.844045335418346,2.844045335418346,0.0],\"yaxis\":\"y\",\"type\":\"scatter\"},{\"hoverinfo\":\"text\",\"marker\":{\"color\":\"rgb(133,20,75)\"},\"mode\":\"lines\",\"x\":[1965.0,1965.0,1980.0,1980.0],\"xaxis\":\"x\",\"y\":[0.0,3.637714056418603,3.637714056418603,2.844045335418346],\"yaxis\":\"y\",\"type\":\"scatter\"},{\"hoverinfo\":\"text\",\"marker\":{\"color\":\"rgb(133,20,75)\"},\"mode\":\"lines\",\"x\":[1955.0,1955.0,1972.5,1972.5],\"xaxis\":\"x\",\"y\":[0.0,3.832013426161065,3.832013426161065,3.637714056418603],\"yaxis\":\"y\",\"type\":\"scatter\"},{\"hoverinfo\":\"text\",\"marker\":{\"color\":\"rgb(133,20,75)\"},\"mode\":\"lines\",\"x\":[1940.0,1940.0,1963.75,1963.75],\"xaxis\":\"x\",\"y\":[3.52951718242607,4.237873193960038,4.237873193960038,3.832013426161065],\"yaxis\":\"y\",\"type\":\"scatter\"},{\"hoverinfo\":\"text\",\"marker\":{\"color\":\"rgb(133,20,75)\"},\"mode\":\"lines\",\"x\":[1995.0,1995.0,2005.0,2005.0],\"xaxis\":\"x\",\"y\":[0.0,3.3792722474170627,3.3792722474170627,0.0],\"yaxis\":\"y\",\"type\":\"scatter\"},{\"hoverinfo\":\"text\",\"marker\":{\"color\":\"rgb(133,20,75)\"},\"mode\":\"lines\",\"x\":[2035.0,2035.0,2045.0,2045.0],\"xaxis\":\"x\",\"y\":[0.0,2.6631637209812817,2.6631637209812817,0.0],\"yaxis\":\"y\",\"type\":\"scatter\"},{\"hoverinfo\":\"text\",\"marker\":{\"color\":\"rgb(133,20,75)\"},\"mode\":\"lines\",\"x\":[2025.0,2025.0,2040.0,2040.0],\"xaxis\":\"x\",\"y\":[0.0,3.2925024625742005,3.2925024625742005,2.6631637209812817],\"yaxis\":\"y\",\"type\":\"scatter\"},{\"hoverinfo\":\"text\",\"marker\":{\"color\":\"rgb(133,20,75)\"},\"mode\":\"lines\",\"x\":[2015.0,2015.0,2032.5,2032.5],\"xaxis\":\"x\",\"y\":[0.0,3.5531479923607407,3.5531479923607407,3.2925024625742005],\"yaxis\":\"y\",\"type\":\"scatter\"},{\"hoverinfo\":\"text\",\"marker\":{\"color\":\"rgb(133,20,75)\"},\"mode\":\"lines\",\"x\":[2075.0,2075.0,2085.0,2085.0],\"xaxis\":\"x\",\"y\":[0.0,2.3526319205357606,2.3526319205357606,0.0],\"yaxis\":\"y\",\"type\":\"scatter\"},{\"hoverinfo\":\"text\",\"marker\":{\"color\":\"rgb(133,20,75)\"},\"mode\":\"lines\",\"x\":[2065.0,2065.0,2080.0,2080.0],\"xaxis\":\"x\",\"y\":[0.0,3.1149158622921416,3.1149158622921416,2.3526319205357606],\"yaxis\":\"y\",\"type\":\"scatter\"},{\"hoverinfo\":\"text\",\"marker\":{\"color\":\"rgb(133,20,75)\"},\"mode\":\"lines\",\"x\":[2105.0,2105.0,2115.0,2115.0],\"xaxis\":\"x\",\"y\":[0.0,2.32612285943626,2.32612285943626,0.0],\"yaxis\":\"y\",\"type\":\"scatter\"},{\"hoverinfo\":\"text\",\"marker\":{\"color\":\"rgb(133,20,75)\"},\"mode\":\"lines\",\"x\":[2125.0,2125.0,2135.0,2135.0],\"xaxis\":\"x\",\"y\":[0.0,2.695146608882199,2.695146608882199,0.0],\"yaxis\":\"y\",\"type\":\"scatter\"},{\"hoverinfo\":\"text\",\"marker\":{\"color\":\"rgb(133,20,75)\"},\"mode\":\"lines\",\"x\":[2110.0,2110.0,2130.0,2130.0],\"xaxis\":\"x\",\"y\":[2.32612285943626,2.839127379372592,2.839127379372592,2.695146608882199],\"yaxis\":\"y\",\"type\":\"scatter\"},{\"hoverinfo\":\"text\",\"marker\":{\"color\":\"rgb(133,20,75)\"},\"mode\":\"lines\",\"x\":[2095.0,2095.0,2120.0,2120.0],\"xaxis\":\"x\",\"y\":[0.0,3.1048118671997456,3.1048118671997456,2.839127379372592],\"yaxis\":\"y\",\"type\":\"scatter\"},{\"hoverinfo\":\"text\",\"marker\":{\"color\":\"rgb(133,20,75)\"},\"mode\":\"lines\",\"x\":[2145.0,2145.0,2155.0,2155.0],\"xaxis\":\"x\",\"y\":[0.0,3.319744158289034,3.319744158289034,0.0],\"yaxis\":\"y\",\"type\":\"scatter\"},{\"hoverinfo\":\"text\",\"marker\":{\"color\":\"rgb(133,20,75)\"},\"mode\":\"lines\",\"x\":[2107.5,2107.5,2150.0,2150.0],\"xaxis\":\"x\",\"y\":[3.1048118671997456,3.369003491374029,3.369003491374029,3.319744158289034],\"yaxis\":\"y\",\"type\":\"scatter\"},{\"hoverinfo\":\"text\",\"marker\":{\"color\":\"rgb(133,20,75)\"},\"mode\":\"lines\",\"x\":[2072.5,2072.5,2128.75,2128.75],\"xaxis\":\"x\",\"y\":[3.1149158622921416,3.623280683809474,3.623280683809474,3.369003491374029],\"yaxis\":\"y\",\"type\":\"scatter\"},{\"hoverinfo\":\"text\",\"marker\":{\"color\":\"rgb(133,20,75)\"},\"mode\":\"lines\",\"x\":[2055.0,2055.0,2100.625,2100.625],\"xaxis\":\"x\",\"y\":[0.0,3.800077939083516,3.800077939083516,3.623280683809474],\"yaxis\":\"y\",\"type\":\"scatter\"},{\"hoverinfo\":\"text\",\"marker\":{\"color\":\"rgb(133,20,75)\"},\"mode\":\"lines\",\"x\":[2023.75,2023.75,2077.8125,2077.8125],\"xaxis\":\"x\",\"y\":[3.5531479923607407,4.141345412698526,4.141345412698526,3.800077939083516],\"yaxis\":\"y\",\"type\":\"scatter\"},{\"hoverinfo\":\"text\",\"marker\":{\"color\":\"rgb(133,20,75)\"},\"mode\":\"lines\",\"x\":[2000.0,2000.0,2050.78125,2050.78125],\"xaxis\":\"x\",\"y\":[3.3792722474170627,4.3415996825678835,4.3415996825678835,4.141345412698526],\"yaxis\":\"y\",\"type\":\"scatter\"},{\"hoverinfo\":\"text\",\"marker\":{\"color\":\"rgb(133,20,75)\"},\"mode\":\"lines\",\"x\":[1951.875,1951.875,2025.390625,2025.390625],\"xaxis\":\"x\",\"y\":[4.237873193960038,4.480490465569213,4.480490465569213,4.3415996825678835],\"yaxis\":\"y\",\"type\":\"scatter\"},{\"hoverinfo\":\"text\",\"marker\":{\"color\":\"rgb(133,20,75)\"},\"mode\":\"lines\",\"x\":[2175.0,2175.0,2185.0,2185.0],\"xaxis\":\"x\",\"y\":[0.0,3.49542361295289,3.49542361295289,0.0],\"yaxis\":\"y\",\"type\":\"scatter\"},{\"hoverinfo\":\"text\",\"marker\":{\"color\":\"rgb(133,20,75)\"},\"mode\":\"lines\",\"x\":[2165.0,2165.0,2180.0,2180.0],\"xaxis\":\"x\",\"y\":[0.0,3.8162275263636065,3.8162275263636065,3.49542361295289],\"yaxis\":\"y\",\"type\":\"scatter\"},{\"hoverinfo\":\"text\",\"marker\":{\"color\":\"rgb(133,20,75)\"},\"mode\":\"lines\",\"x\":[2195.0,2195.0,2205.0,2205.0],\"xaxis\":\"x\",\"y\":[0.0,3.86086986606584,3.86086986606584,0.0],\"yaxis\":\"y\",\"type\":\"scatter\"},{\"hoverinfo\":\"text\",\"marker\":{\"color\":\"rgb(133,20,75)\"},\"mode\":\"lines\",\"x\":[2172.5,2172.5,2200.0,2200.0],\"xaxis\":\"x\",\"y\":[3.8162275263636065,4.526189815492952,4.526189815492952,3.86086986606584],\"yaxis\":\"y\",\"type\":\"scatter\"},{\"hoverinfo\":\"text\",\"marker\":{\"color\":\"rgb(133,20,75)\"},\"mode\":\"lines\",\"x\":[1988.6328125,1988.6328125,2186.25,2186.25],\"xaxis\":\"x\",\"y\":[4.480490465569213,4.985042820768691,4.985042820768691,4.526189815492952],\"yaxis\":\"y\",\"type\":\"scatter\"},{\"hoverinfo\":\"text\",\"marker\":{\"color\":\"rgb(133,20,75)\"},\"mode\":\"lines\",\"x\":[2225.0,2225.0,2235.0,2235.0],\"xaxis\":\"x\",\"y\":[0.0,4.120445357466099,4.120445357466099,0.0],\"yaxis\":\"y\",\"type\":\"scatter\"},{\"hoverinfo\":\"text\",\"marker\":{\"color\":\"rgb(133,20,75)\"},\"mode\":\"lines\",\"x\":[2255.0,2255.0,2265.0,2265.0],\"xaxis\":\"x\",\"y\":[0.0,3.891916402473095,3.891916402473095,0.0],\"yaxis\":\"y\",\"type\":\"scatter\"},{\"hoverinfo\":\"text\",\"marker\":{\"color\":\"rgb(133,20,75)\"},\"mode\":\"lines\",\"x\":[2245.0,2245.0,2260.0,2260.0],\"xaxis\":\"x\",\"y\":[0.0,4.498779374492251,4.498779374492251,3.891916402473095],\"yaxis\":\"y\",\"type\":\"scatter\"},{\"hoverinfo\":\"text\",\"marker\":{\"color\":\"rgb(133,20,75)\"},\"mode\":\"lines\",\"x\":[2230.0,2230.0,2252.5,2252.5],\"xaxis\":\"x\",\"y\":[4.120445357466099,4.9749599628015995,4.9749599628015995,4.498779374492251],\"yaxis\":\"y\",\"type\":\"scatter\"},{\"hoverinfo\":\"text\",\"marker\":{\"color\":\"rgb(133,20,75)\"},\"mode\":\"lines\",\"x\":[2215.0,2215.0,2241.25,2241.25],\"xaxis\":\"x\",\"y\":[0.0,5.20215462565905,5.20215462565905,4.9749599628015995],\"yaxis\":\"y\",\"type\":\"scatter\"},{\"hoverinfo\":\"text\",\"marker\":{\"color\":\"rgb(133,20,75)\"},\"mode\":\"lines\",\"x\":[2087.44140625,2087.44140625,2228.125,2228.125],\"xaxis\":\"x\",\"y\":[4.985042820768691,5.336980161098075,5.336980161098075,5.20215462565905],\"yaxis\":\"y\",\"type\":\"scatter\"},{\"hoverinfo\":\"text\",\"marker\":{\"color\":\"rgb(133,20,75)\"},\"mode\":\"lines\",\"x\":[1910.0,1910.0,2157.783203125,2157.783203125],\"xaxis\":\"x\",\"y\":[5.134932164776143,5.652428078665983,5.652428078665983,5.336980161098075],\"yaxis\":\"y\",\"type\":\"scatter\"},{\"hoverinfo\":\"text\",\"marker\":{\"color\":\"rgb(133,20,75)\"},\"mode\":\"lines\",\"x\":[1720.654296875,1720.654296875,2033.8916015625,2033.8916015625],\"xaxis\":\"x\",\"y\":[4.601759352893114,5.840872877891508,5.840872877891508,5.652428078665983],\"yaxis\":\"y\",\"type\":\"scatter\"},{\"hoverinfo\":\"text\",\"marker\":{\"color\":\"rgb(133,20,75)\"},\"mode\":\"lines\",\"x\":[1672.5,1672.5,1877.27294921875,1877.27294921875],\"xaxis\":\"x\",\"y\":[5.5731287808405865,6.060157386438476,6.060157386438476,5.840872877891508],\"yaxis\":\"y\",\"type\":\"scatter\"},{\"hoverinfo\":\"text\",\"marker\":{\"color\":\"rgb(133,20,75)\"},\"mode\":\"lines\",\"x\":[2285.0,2285.0,2295.0,2295.0],\"xaxis\":\"x\",\"y\":[0.0,2.8158477644152127,2.8158477644152127,0.0],\"yaxis\":\"y\",\"type\":\"scatter\"},{\"hoverinfo\":\"text\",\"marker\":{\"color\":\"rgb(133,20,75)\"},\"mode\":\"lines\",\"x\":[2275.0,2275.0,2290.0,2290.0],\"xaxis\":\"x\",\"y\":[0.0,3.8438402100010127,3.8438402100010127,2.8158477644152127],\"yaxis\":\"y\",\"type\":\"scatter\"},{\"hoverinfo\":\"text\",\"marker\":{\"color\":\"rgb(133,20,75)\"},\"mode\":\"lines\",\"x\":[2325.0,2325.0,2335.0,2335.0],\"xaxis\":\"x\",\"y\":[0.0,3.816594684858115,3.816594684858115,0.0],\"yaxis\":\"y\",\"type\":\"scatter\"},{\"hoverinfo\":\"text\",\"marker\":{\"color\":\"rgb(133,20,75)\"},\"mode\":\"lines\",\"x\":[2315.0,2315.0,2330.0,2330.0],\"xaxis\":\"x\",\"y\":[0.0,4.0920791727317205,4.0920791727317205,3.816594684858115],\"yaxis\":\"y\",\"type\":\"scatter\"},{\"hoverinfo\":\"text\",\"marker\":{\"color\":\"rgb(133,20,75)\"},\"mode\":\"lines\",\"x\":[2365.0,2365.0,2375.0,2375.0],\"xaxis\":\"x\",\"y\":[0.0,3.4390206442210833,3.4390206442210833,0.0],\"yaxis\":\"y\",\"type\":\"scatter\"},{\"hoverinfo\":\"text\",\"marker\":{\"color\":\"rgb(133,20,75)\"},\"mode\":\"lines\",\"x\":[2355.0,2355.0,2370.0,2370.0],\"xaxis\":\"x\",\"y\":[0.0,3.763195002513849,3.763195002513849,3.4390206442210833],\"yaxis\":\"y\",\"type\":\"scatter\"},{\"hoverinfo\":\"text\",\"marker\":{\"color\":\"rgb(133,20,75)\"},\"mode\":\"lines\",\"x\":[2345.0,2345.0,2362.5,2362.5],\"xaxis\":\"x\",\"y\":[0.0,4.569172505078067,4.569172505078067,3.763195002513849],\"yaxis\":\"y\",\"type\":\"scatter\"},{\"hoverinfo\":\"text\",\"marker\":{\"color\":\"rgb(133,20,75)\"},\"mode\":\"lines\",\"x\":[2322.5,2322.5,2353.75,2353.75],\"xaxis\":\"x\",\"y\":[4.0920791727317205,5.009947906624632,5.009947906624632,4.569172505078067],\"yaxis\":\"y\",\"type\":\"scatter\"},{\"hoverinfo\":\"text\",\"marker\":{\"color\":\"rgb(133,20,75)\"},\"mode\":\"lines\",\"x\":[2305.0,2305.0,2338.125,2338.125],\"xaxis\":\"x\",\"y\":[0.0,5.568258113641134,5.568258113641134,5.009947906624632],\"yaxis\":\"y\",\"type\":\"scatter\"},{\"hoverinfo\":\"text\",\"marker\":{\"color\":\"rgb(133,20,75)\"},\"mode\":\"lines\",\"x\":[2282.5,2282.5,2321.5625,2321.5625],\"xaxis\":\"x\",\"y\":[3.8438402100010127,6.0813505981462574,6.0813505981462574,5.568258113641134],\"yaxis\":\"y\",\"type\":\"scatter\"},{\"hoverinfo\":\"text\",\"marker\":{\"color\":\"rgb(133,20,75)\"},\"mode\":\"lines\",\"x\":[2385.0,2385.0,2395.0,2395.0],\"xaxis\":\"x\",\"y\":[0.0,4.5317548461467485,4.5317548461467485,0.0],\"yaxis\":\"y\",\"type\":\"scatter\"},{\"hoverinfo\":\"text\",\"marker\":{\"color\":\"rgb(133,20,75)\"},\"mode\":\"lines\",\"x\":[2425.0,2425.0,2435.0,2435.0],\"xaxis\":\"x\",\"y\":[0.0,3.296247912286407,3.296247912286407,0.0],\"yaxis\":\"y\",\"type\":\"scatter\"},{\"hoverinfo\":\"text\",\"marker\":{\"color\":\"rgb(133,20,75)\"},\"mode\":\"lines\",\"x\":[2415.0,2415.0,2430.0,2430.0],\"xaxis\":\"x\",\"y\":[0.0,3.3853033331021147,3.3853033331021147,3.296247912286407],\"yaxis\":\"y\",\"type\":\"scatter\"},{\"hoverinfo\":\"text\",\"marker\":{\"color\":\"rgb(133,20,75)\"},\"mode\":\"lines\",\"x\":[2405.0,2405.0,2422.5,2422.5],\"xaxis\":\"x\",\"y\":[0.0,4.129344064318549,4.129344064318549,3.3853033331021147],\"yaxis\":\"y\",\"type\":\"scatter\"},{\"hoverinfo\":\"text\",\"marker\":{\"color\":\"rgb(133,20,75)\"},\"mode\":\"lines\",\"x\":[2445.0,2445.0,2455.0,2455.0],\"xaxis\":\"x\",\"y\":[0.0,4.156567562278977,4.156567562278977,0.0],\"yaxis\":\"y\",\"type\":\"scatter\"},{\"hoverinfo\":\"text\",\"marker\":{\"color\":\"rgb(133,20,75)\"},\"mode\":\"lines\",\"x\":[2413.75,2413.75,2450.0,2450.0],\"xaxis\":\"x\",\"y\":[4.129344064318549,4.660833885093164,4.660833885093164,4.156567562278977],\"yaxis\":\"y\",\"type\":\"scatter\"},{\"hoverinfo\":\"text\",\"marker\":{\"color\":\"rgb(133,20,75)\"},\"mode\":\"lines\",\"x\":[2465.0,2465.0,2475.0,2475.0],\"xaxis\":\"x\",\"y\":[0.0,4.310397552331588,4.310397552331588,0.0],\"yaxis\":\"y\",\"type\":\"scatter\"},{\"hoverinfo\":\"text\",\"marker\":{\"color\":\"rgb(133,20,75)\"},\"mode\":\"lines\",\"x\":[2495.0,2495.0,2505.0,2505.0],\"xaxis\":\"x\",\"y\":[0.0,3.8804172100820744,3.8804172100820744,0.0],\"yaxis\":\"y\",\"type\":\"scatter\"},{\"hoverinfo\":\"text\",\"marker\":{\"color\":\"rgb(133,20,75)\"},\"mode\":\"lines\",\"x\":[2485.0,2485.0,2500.0,2500.0],\"xaxis\":\"x\",\"y\":[0.0,4.0027795550231335,4.0027795550231335,3.8804172100820744],\"yaxis\":\"y\",\"type\":\"scatter\"},{\"hoverinfo\":\"text\",\"marker\":{\"color\":\"rgb(133,20,75)\"},\"mode\":\"lines\",\"x\":[2515.0,2515.0,2525.0,2525.0],\"xaxis\":\"x\",\"y\":[0.0,3.555535886948227,3.555535886948227,0.0],\"yaxis\":\"y\",\"type\":\"scatter\"},{\"hoverinfo\":\"text\",\"marker\":{\"color\":\"rgb(133,20,75)\"},\"mode\":\"lines\",\"x\":[2545.0,2545.0,2555.0,2555.0],\"xaxis\":\"x\",\"y\":[0.0,3.208617598387644,3.208617598387644,0.0],\"yaxis\":\"y\",\"type\":\"scatter\"},{\"hoverinfo\":\"text\",\"marker\":{\"color\":\"rgb(133,20,75)\"},\"mode\":\"lines\",\"x\":[2535.0,2535.0,2550.0,2550.0],\"xaxis\":\"x\",\"y\":[0.0,3.3705548771929217,3.3705548771929217,3.208617598387644],\"yaxis\":\"y\",\"type\":\"scatter\"},{\"hoverinfo\":\"text\",\"marker\":{\"color\":\"rgb(133,20,75)\"},\"mode\":\"lines\",\"x\":[2565.0,2565.0,2575.0,2575.0],\"xaxis\":\"x\",\"y\":[0.0,3.741337511933097,3.741337511933097,0.0],\"yaxis\":\"y\",\"type\":\"scatter\"},{\"hoverinfo\":\"text\",\"marker\":{\"color\":\"rgb(133,20,75)\"},\"mode\":\"lines\",\"x\":[2542.5,2542.5,2570.0,2570.0],\"xaxis\":\"x\",\"y\":[3.3705548771929217,4.014801272035816,4.014801272035816,3.741337511933097],\"yaxis\":\"y\",\"type\":\"scatter\"},{\"hoverinfo\":\"text\",\"marker\":{\"color\":\"rgb(133,20,75)\"},\"mode\":\"lines\",\"x\":[2520.0,2520.0,2556.25,2556.25],\"xaxis\":\"x\",\"y\":[3.555535886948227,4.288085084541138,4.288085084541138,4.014801272035816],\"yaxis\":\"y\",\"type\":\"scatter\"},{\"hoverinfo\":\"text\",\"marker\":{\"color\":\"rgb(133,20,75)\"},\"mode\":\"lines\",\"x\":[2492.5,2492.5,2538.125,2538.125],\"xaxis\":\"x\",\"y\":[4.0027795550231335,4.508555480818166,4.508555480818166,4.288085084541138],\"yaxis\":\"y\",\"type\":\"scatter\"},{\"hoverinfo\":\"text\",\"marker\":{\"color\":\"rgb(133,20,75)\"},\"mode\":\"lines\",\"x\":[2470.0,2470.0,2515.3125,2515.3125],\"xaxis\":\"x\",\"y\":[4.310397552331588,4.861401443494497,4.861401443494497,4.508555480818166],\"yaxis\":\"y\",\"type\":\"scatter\"},{\"hoverinfo\":\"text\",\"marker\":{\"color\":\"rgb(133,20,75)\"},\"mode\":\"lines\",\"x\":[2431.875,2431.875,2492.65625,2492.65625],\"xaxis\":\"x\",\"y\":[4.660833885093164,4.966844467744566,4.966844467744566,4.861401443494497],\"yaxis\":\"y\",\"type\":\"scatter\"},{\"hoverinfo\":\"text\",\"marker\":{\"color\":\"rgb(133,20,75)\"},\"mode\":\"lines\",\"x\":[2390.0,2390.0,2462.265625,2462.265625],\"xaxis\":\"x\",\"y\":[4.5317548461467485,5.187166835343922,5.187166835343922,4.966844467744566],\"yaxis\":\"y\",\"type\":\"scatter\"},{\"hoverinfo\":\"text\",\"marker\":{\"color\":\"rgb(133,20,75)\"},\"mode\":\"lines\",\"x\":[2585.0,2585.0,2595.0,2595.0],\"xaxis\":\"x\",\"y\":[0.0,4.473094931386867,4.473094931386867,0.0],\"yaxis\":\"y\",\"type\":\"scatter\"},{\"hoverinfo\":\"text\",\"marker\":{\"color\":\"rgb(133,20,75)\"},\"mode\":\"lines\",\"x\":[2605.0,2605.0,2615.0,2615.0],\"xaxis\":\"x\",\"y\":[0.0,4.9181767381252754,4.9181767381252754,0.0],\"yaxis\":\"y\",\"type\":\"scatter\"},{\"hoverinfo\":\"text\",\"marker\":{\"color\":\"rgb(133,20,75)\"},\"mode\":\"lines\",\"x\":[2590.0,2590.0,2610.0,2610.0],\"xaxis\":\"x\",\"y\":[4.473094931386867,5.344036460154379,5.344036460154379,4.9181767381252754],\"yaxis\":\"y\",\"type\":\"scatter\"},{\"hoverinfo\":\"text\",\"marker\":{\"color\":\"rgb(133,20,75)\"},\"mode\":\"lines\",\"x\":[2426.1328125,2426.1328125,2600.0,2600.0],\"xaxis\":\"x\",\"y\":[5.187166835343922,5.781652089353277,5.781652089353277,5.344036460154379],\"yaxis\":\"y\",\"type\":\"scatter\"},{\"hoverinfo\":\"text\",\"marker\":{\"color\":\"rgb(133,20,75)\"},\"mode\":\"lines\",\"x\":[2625.0,2625.0,2635.0,2635.0],\"xaxis\":\"x\",\"y\":[0.0,4.8793860402116005,4.8793860402116005,0.0],\"yaxis\":\"y\",\"type\":\"scatter\"},{\"hoverinfo\":\"text\",\"marker\":{\"color\":\"rgb(133,20,75)\"},\"mode\":\"lines\",\"x\":[2645.0,2645.0,2655.0,2655.0],\"xaxis\":\"x\",\"y\":[0.0,4.36389882689555,4.36389882689555,0.0],\"yaxis\":\"y\",\"type\":\"scatter\"},{\"hoverinfo\":\"text\",\"marker\":{\"color\":\"rgb(133,20,75)\"},\"mode\":\"lines\",\"x\":[2685.0,2685.0,2695.0,2695.0],\"xaxis\":\"x\",\"y\":[0.0,3.4012143080796875,3.4012143080796875,0.0],\"yaxis\":\"y\",\"type\":\"scatter\"},{\"hoverinfo\":\"text\",\"marker\":{\"color\":\"rgb(133,20,75)\"},\"mode\":\"lines\",\"x\":[2675.0,2675.0,2690.0,2690.0],\"xaxis\":\"x\",\"y\":[0.0,4.016800507613445,4.016800507613445,3.4012143080796875],\"yaxis\":\"y\",\"type\":\"scatter\"},{\"hoverinfo\":\"text\",\"marker\":{\"color\":\"rgb(133,20,75)\"},\"mode\":\"lines\",\"x\":[2665.0,2665.0,2682.5,2682.5],\"xaxis\":\"x\",\"y\":[0.0,4.718675052850212,4.718675052850212,4.016800507613445],\"yaxis\":\"y\",\"type\":\"scatter\"},{\"hoverinfo\":\"text\",\"marker\":{\"color\":\"rgb(133,20,75)\"},\"mode\":\"lines\",\"x\":[2650.0,2650.0,2673.75,2673.75],\"xaxis\":\"x\",\"y\":[4.36389882689555,5.163454387993995,5.163454387993995,4.718675052850212],\"yaxis\":\"y\",\"type\":\"scatter\"},{\"hoverinfo\":\"text\",\"marker\":{\"color\":\"rgb(133,20,75)\"},\"mode\":\"lines\",\"x\":[2630.0,2630.0,2661.875,2661.875],\"xaxis\":\"x\",\"y\":[4.8793860402116005,5.954835888449891,5.954835888449891,5.163454387993995],\"yaxis\":\"y\",\"type\":\"scatter\"},{\"hoverinfo\":\"text\",\"marker\":{\"color\":\"rgb(133,20,75)\"},\"mode\":\"lines\",\"x\":[2513.06640625,2513.06640625,2645.9375,2645.9375],\"xaxis\":\"x\",\"y\":[5.781652089353277,6.135224563834613,6.135224563834613,5.954835888449891],\"yaxis\":\"y\",\"type\":\"scatter\"},{\"hoverinfo\":\"text\",\"marker\":{\"color\":\"rgb(133,20,75)\"},\"mode\":\"lines\",\"x\":[2302.03125,2302.03125,2579.501953125,2579.501953125],\"xaxis\":\"x\",\"y\":[6.0813505981462574,6.334271950715394,6.334271950715394,6.135224563834613],\"yaxis\":\"y\",\"type\":\"scatter\"},{\"hoverinfo\":\"text\",\"marker\":{\"color\":\"rgb(133,20,75)\"},\"mode\":\"lines\",\"x\":[1774.886474609375,1774.886474609375,2440.7666015625,2440.7666015625],\"xaxis\":\"x\",\"y\":[6.060157386438476,6.5739128234254425,6.5739128234254425,6.334271950715394],\"yaxis\":\"y\",\"type\":\"scatter\"},{\"hoverinfo\":\"text\",\"marker\":{\"color\":\"rgb(133,20,75)\"},\"mode\":\"lines\",\"x\":[2715.0,2715.0,2725.0,2725.0],\"xaxis\":\"x\",\"y\":[0.0,5.411824020188977,5.411824020188977,0.0],\"yaxis\":\"y\",\"type\":\"scatter\"},{\"hoverinfo\":\"text\",\"marker\":{\"color\":\"rgb(133,20,75)\"},\"mode\":\"lines\",\"x\":[2705.0,2705.0,2720.0,2720.0],\"xaxis\":\"x\",\"y\":[0.0,6.65866633454166,6.65866633454166,5.411824020188977],\"yaxis\":\"y\",\"type\":\"scatter\"},{\"hoverinfo\":\"text\",\"marker\":{\"color\":\"rgb(133,20,75)\"},\"mode\":\"lines\",\"x\":[2107.8265380859375,2107.8265380859375,2712.5,2712.5],\"xaxis\":\"x\",\"y\":[6.5739128234254425,6.997095416543368,6.997095416543368,6.65866633454166],\"yaxis\":\"y\",\"type\":\"scatter\"},{\"hoverinfo\":\"text\",\"marker\":{\"color\":\"rgb(133,20,75)\"},\"mode\":\"lines\",\"x\":[1416.0888671875,1416.0888671875,2410.1632690429688,2410.1632690429688],\"xaxis\":\"x\",\"y\":[6.2150607293704265,7.2664104959692954,7.2664104959692954,6.997095416543368],\"yaxis\":\"y\",\"type\":\"scatter\"},{\"hoverinfo\":\"text\",\"marker\":{\"color\":\"rgb(133,20,75)\"},\"mode\":\"lines\",\"x\":[2745.0,2745.0,2755.0,2755.0],\"xaxis\":\"x\",\"y\":[0.0,5.449832420941213,5.449832420941213,0.0],\"yaxis\":\"y\",\"type\":\"scatter\"},{\"hoverinfo\":\"text\",\"marker\":{\"color\":\"rgb(133,20,75)\"},\"mode\":\"lines\",\"x\":[2795.0,2795.0,2805.0,2805.0],\"xaxis\":\"x\",\"y\":[0.0,4.466608078339069,4.466608078339069,0.0],\"yaxis\":\"y\",\"type\":\"scatter\"},{\"hoverinfo\":\"text\",\"marker\":{\"color\":\"rgb(133,20,75)\"},\"mode\":\"lines\",\"x\":[2785.0,2785.0,2800.0,2800.0],\"xaxis\":\"x\",\"y\":[0.0,4.862250675888157,4.862250675888157,4.466608078339069],\"yaxis\":\"y\",\"type\":\"scatter\"},{\"hoverinfo\":\"text\",\"marker\":{\"color\":\"rgb(133,20,75)\"},\"mode\":\"lines\",\"x\":[2775.0,2775.0,2792.5,2792.5],\"xaxis\":\"x\",\"y\":[0.0,5.3244267264898655,5.3244267264898655,4.862250675888157],\"yaxis\":\"y\",\"type\":\"scatter\"},{\"hoverinfo\":\"text\",\"marker\":{\"color\":\"rgb(133,20,75)\"},\"mode\":\"lines\",\"x\":[2765.0,2765.0,2783.75,2783.75],\"xaxis\":\"x\",\"y\":[0.0,5.986801733180636,5.986801733180636,5.3244267264898655],\"yaxis\":\"y\",\"type\":\"scatter\"},{\"hoverinfo\":\"text\",\"marker\":{\"color\":\"rgb(133,20,75)\"},\"mode\":\"lines\",\"x\":[2750.0,2750.0,2774.375,2774.375],\"xaxis\":\"x\",\"y\":[5.449832420941213,6.963179565022438,6.963179565022438,5.986801733180636],\"yaxis\":\"y\",\"type\":\"scatter\"},{\"hoverinfo\":\"text\",\"marker\":{\"color\":\"rgb(133,20,75)\"},\"mode\":\"lines\",\"x\":[2735.0,2735.0,2762.1875,2762.1875],\"xaxis\":\"x\",\"y\":[0.0,7.466638635812228,7.466638635812228,6.963179565022438],\"yaxis\":\"y\",\"type\":\"scatter\"},{\"hoverinfo\":\"text\",\"marker\":{\"color\":\"rgb(133,20,75)\"},\"mode\":\"lines\",\"x\":[1913.1260681152344,1913.1260681152344,2748.59375,2748.59375],\"xaxis\":\"x\",\"y\":[7.2664104959692954,8.04696360846762,8.04696360846762,7.466638635812228],\"yaxis\":\"y\",\"type\":\"scatter\"},{\"hoverinfo\":\"text\",\"marker\":{\"color\":\"rgb(133,20,75)\"},\"mode\":\"lines\",\"x\":[2835.0,2835.0,2845.0,2845.0],\"xaxis\":\"x\",\"y\":[0.0,5.909076423081412,5.909076423081412,0.0],\"yaxis\":\"y\",\"type\":\"scatter\"},{\"hoverinfo\":\"text\",\"marker\":{\"color\":\"rgb(133,20,75)\"},\"mode\":\"lines\",\"x\":[2825.0,2825.0,2840.0,2840.0],\"xaxis\":\"x\",\"y\":[0.0,6.491894057081152,6.491894057081152,5.909076423081412],\"yaxis\":\"y\",\"type\":\"scatter\"},{\"hoverinfo\":\"text\",\"marker\":{\"color\":\"rgb(133,20,75)\"},\"mode\":\"lines\",\"x\":[2815.0,2815.0,2832.5,2832.5],\"xaxis\":\"x\",\"y\":[0.0,8.300846979476148,8.300846979476148,6.491894057081152],\"yaxis\":\"y\",\"type\":\"scatter\"},{\"hoverinfo\":\"text\",\"marker\":{\"color\":\"rgb(133,20,75)\"},\"mode\":\"lines\",\"x\":[2330.859909057617,2330.859909057617,2823.75,2823.75],\"xaxis\":\"x\",\"y\":[8.04696360846762,8.721398464047764,8.721398464047764,8.300846979476148],\"yaxis\":\"y\",\"type\":\"scatter\"},{\"hoverinfo\":\"text\",\"marker\":{\"color\":\"rgb(133,20,75)\"},\"mode\":\"lines\",\"x\":[1305.0,1305.0,2577.3049545288086,2577.3049545288086],\"xaxis\":\"x\",\"y\":[0.0,8.943600313539081,8.943600313539081,8.721398464047764],\"yaxis\":\"y\",\"type\":\"scatter\"},{\"hoverinfo\":\"text\",\"marker\":{\"color\":\"rgb(133,20,75)\"},\"mode\":\"lines\",\"x\":[364.8114013671875,364.8114013671875,1941.1524772644043,1941.1524772644043],\"xaxis\":\"x\",\"y\":[8.48259831382842,9.504464200288105,9.504464200288105,8.943600313539081],\"yaxis\":\"y\",\"type\":\"scatter\"},{\"hoverinfo\":\"text\",\"marker\":{\"color\":\"rgb(255,220,0)\"},\"mode\":\"lines\",\"x\":[2855.0,2855.0,2865.0,2865.0],\"xaxis\":\"x\",\"y\":[0.0,9.629821226118862,9.629821226118862,0.0],\"yaxis\":\"y\",\"type\":\"scatter\"},{\"hoverinfo\":\"text\",\"marker\":{\"color\":\"rgb(0,116,217)\"},\"mode\":\"lines\",\"x\":[1152.981939315796,1152.981939315796,2860.0,2860.0],\"xaxis\":\"x\",\"y\":[9.504464200288105,10.240029056950593,10.240029056950593,9.629821226118862],\"yaxis\":\"y\",\"type\":\"scatter\"},{\"hoverinfo\":\"text\",\"marker\":{\"color\":\"rgb(0,116,217)\"},\"mode\":\"lines\",\"x\":[208.59375,208.59375,2006.490969657898,2006.490969657898],\"xaxis\":\"x\",\"y\":[10.081421089101916,10.970850729706646,10.970850729706646,10.240029056950593],\"yaxis\":\"y\",\"type\":\"scatter\"},{\"hoverinfo\":\"text\",\"marker\":{\"color\":\"rgb(40,35,35)\"},\"mode\":\"lines\",\"x\":[2895.0,2895.0,2905.0,2905.0],\"xaxis\":\"x\",\"y\":[0.0,7.531221026463888,7.531221026463888,0.0],\"yaxis\":\"y\",\"type\":\"scatter\"},{\"hoverinfo\":\"text\",\"marker\":{\"color\":\"rgb(40,35,35)\"},\"mode\":\"lines\",\"x\":[2885.0,2885.0,2900.0,2900.0],\"xaxis\":\"x\",\"y\":[0.0,8.54024988679881,8.54024988679881,7.531221026463888],\"yaxis\":\"y\",\"type\":\"scatter\"},{\"hoverinfo\":\"text\",\"marker\":{\"color\":\"rgb(40,35,35)\"},\"mode\":\"lines\",\"x\":[2945.0,2945.0,2955.0,2955.0],\"xaxis\":\"x\",\"y\":[0.0,5.558695564903188,5.558695564903188,0.0],\"yaxis\":\"y\",\"type\":\"scatter\"},{\"hoverinfo\":\"text\",\"marker\":{\"color\":\"rgb(40,35,35)\"},\"mode\":\"lines\",\"x\":[2935.0,2935.0,2950.0,2950.0],\"xaxis\":\"x\",\"y\":[0.0,6.4402540991077775,6.4402540991077775,5.558695564903188],\"yaxis\":\"y\",\"type\":\"scatter\"},{\"hoverinfo\":\"text\",\"marker\":{\"color\":\"rgb(40,35,35)\"},\"mode\":\"lines\",\"x\":[2995.0,2995.0,3005.0,3005.0],\"xaxis\":\"x\",\"y\":[0.0,4.3363940185673835,4.3363940185673835,0.0],\"yaxis\":\"y\",\"type\":\"scatter\"},{\"hoverinfo\":\"text\",\"marker\":{\"color\":\"rgb(40,35,35)\"},\"mode\":\"lines\",\"x\":[2985.0,2985.0,3000.0,3000.0],\"xaxis\":\"x\",\"y\":[0.0,4.978983907131945,4.978983907131945,4.3363940185673835],\"yaxis\":\"y\",\"type\":\"scatter\"},{\"hoverinfo\":\"text\",\"marker\":{\"color\":\"rgb(40,35,35)\"},\"mode\":\"lines\",\"x\":[2975.0,2975.0,2992.5,2992.5],\"xaxis\":\"x\",\"y\":[0.0,5.998468568333509,5.998468568333509,4.978983907131945],\"yaxis\":\"y\",\"type\":\"scatter\"},{\"hoverinfo\":\"text\",\"marker\":{\"color\":\"rgb(40,35,35)\"},\"mode\":\"lines\",\"x\":[2965.0,2965.0,2983.75,2983.75],\"xaxis\":\"x\",\"y\":[0.0,7.036533193321091,7.036533193321091,5.998468568333509],\"yaxis\":\"y\",\"type\":\"scatter\"},{\"hoverinfo\":\"text\",\"marker\":{\"color\":\"rgb(40,35,35)\"},\"mode\":\"lines\",\"x\":[2942.5,2942.5,2974.375,2974.375],\"xaxis\":\"x\",\"y\":[6.4402540991077775,7.593867732499502,7.593867732499502,7.036533193321091],\"yaxis\":\"y\",\"type\":\"scatter\"},{\"hoverinfo\":\"text\",\"marker\":{\"color\":\"rgb(40,35,35)\"},\"mode\":\"lines\",\"x\":[2925.0,2925.0,2958.4375,2958.4375],\"xaxis\":\"x\",\"y\":[0.0,8.197729666459615,8.197729666459615,7.593867732499502],\"yaxis\":\"y\",\"type\":\"scatter\"},{\"hoverinfo\":\"text\",\"marker\":{\"color\":\"rgb(40,35,35)\"},\"mode\":\"lines\",\"x\":[2915.0,2915.0,2941.71875,2941.71875],\"xaxis\":\"x\",\"y\":[0.0,8.643221086439455,8.643221086439455,8.197729666459615],\"yaxis\":\"y\",\"type\":\"scatter\"},{\"hoverinfo\":\"text\",\"marker\":{\"color\":\"rgb(40,35,35)\"},\"mode\":\"lines\",\"x\":[2892.5,2892.5,2928.359375,2928.359375],\"xaxis\":\"x\",\"y\":[8.54024988679881,9.838280453314903,9.838280453314903,8.643221086439455],\"yaxis\":\"y\",\"type\":\"scatter\"},{\"hoverinfo\":\"text\",\"marker\":{\"color\":\"rgb(0,116,217)\"},\"mode\":\"lines\",\"x\":[2875.0,2875.0,2910.4296875,2910.4296875],\"xaxis\":\"x\",\"y\":[0.0,11.004087504232126,11.004087504232126,9.838280453314903],\"yaxis\":\"y\",\"type\":\"scatter\"},{\"hoverinfo\":\"text\",\"marker\":{\"color\":\"rgb(0,116,217)\"},\"mode\":\"lines\",\"x\":[1107.542359828949,1107.542359828949,2892.71484375,2892.71484375],\"xaxis\":\"x\",\"y\":[10.970850729706646,11.921770009197532,11.921770009197532,11.004087504232126],\"yaxis\":\"y\",\"type\":\"scatter\"},{\"hoverinfo\":\"text\",\"marker\":{\"color\":\"rgb(0,116,217)\"},\"mode\":\"lines\",\"x\":[172.5,172.5,2000.1286017894745,2000.1286017894745],\"xaxis\":\"x\",\"y\":[11.371279563746986,12.64689352598487,12.64689352598487,11.921770009197532],\"yaxis\":\"y\",\"type\":\"scatter\"},{\"hoverinfo\":\"text\",\"marker\":{\"color\":\"rgb(0,116,217)\"},\"mode\":\"lines\",\"x\":[155.0,155.0,1086.3143008947372,1086.3143008947372],\"xaxis\":\"x\",\"y\":[0.0,13.446227019272454,13.446227019272454,12.64689352598487],\"yaxis\":\"y\",\"type\":\"scatter\"},{\"hoverinfo\":\"text\",\"marker\":{\"color\":\"rgb(0,116,217)\"},\"mode\":\"lines\",\"x\":[34.609375,34.609375,620.6571504473686,620.6571504473686],\"xaxis\":\"x\",\"y\":[13.018488675394465,14.233255441309293,14.233255441309293,13.446227019272454],\"yaxis\":\"y\",\"type\":\"scatter\"}],                        {\"autosize\":false,\"height\":500,\"hovermode\":\"closest\",\"showlegend\":false,\"width\":800,\"xaxis\":{\"mirror\":\"allticks\",\"rangemode\":\"tozero\",\"showgrid\":false,\"showline\":true,\"showticklabels\":true,\"tickmode\":\"array\",\"ticks\":\"outside\",\"ticktext\":[\"image\",\"topic modeling\",\"video\",\"database management\",\"text classification\",\"static site generator\",\"image classification\",\"front end\",\"distributed multimedia communications platform\",\"shell tool\",\"Variational autoencoder\",\"Containerization\",\"text analysis\",\"computer benchmarking\",\"graph neural network\",\"statistics\",\"database\",\"genomics\",\"RNA sequencing\",\"data analysis\",\"artificial intelligence\",\"machine learning\",\"big data\",\"logistic regression model\",\"deep learning\",\"deep neural network\",\"convolutional neural network\",\"design\",\"game\",\"video game\",\"multiplayer game\",\"augmented reality\",\"simulation\",\"simulator\",\"operating system\",\"kernel\",\"internet bot\",\"computer programming\",\"graph\",\"benchmark\",\"autonomous car\",\"router\",\"backup\",\"computer configuration\",\"scheduler\",\"object\\u2013relational mapping\",\"visualization\",\"social network\",\"optical character recognition\",\"graph database\",\"geographic information\",\"regression analysis\",\"speech recognition\",\"3D modeling\",\"static program analysis\",\"static program analysis tool\",\"data compression\",\"image compression\",\"image editing\",\"unit testing\",\"game server\",\"encryption\",\"serverless computing\",\"distributed database\",\"web application security\",\"audio signal processing\",\"smart contract\",\"logging\",\"parsing\",\"extract, transform, load\",\"code generation\",\"phishing\",\"Web content management system\",\"electronic trading platform\",\"network monitoring\",\"telecommunications network\",\"distributed system\",\"server\",\"software testing\",\"authentication\",\"plot\",\"graph algorithm\",\"data structure\",\"classification\",\"malware\",\"font\",\"sorting algorithm\",\"software design pattern\",\"data\",\"camera\",\"World Wide Web\",\"cloud computing\",\"file system\",\"search engine\",\"geographic information system\",\"web service\",\"web application\",\"distributed computing\",\"instant messaging\",\"computer data storage\",\"hacking tool\",\"streaming media\",\"3D computer graphics\",\"computer graphics\",\"speech synthesis\",\"animation\",\"rendering\",\"continuous integration\",\"content management system\",\"audio player software\",\"integrated development environment\",\"web browser\",\"game engine\",\"web server\",\"graphics engine\",\"middleware\",\"client\",\"graphical user interface\",\"chatbot\",\"command-line interface\",\"virtual machine\",\"web browser engine\",\"HTTP server\",\"HTTP client\",\"password manager\",\"debugger\",\"interpreter\",\"compiler\",\"text editor\",\"package management system\",\"automation\",\"generative adversarial network\",\"transfer learning\",\"deep reinforcement learning\",\"sentiment analysis\",\"word embedding\",\"recurrent neural network\",\"long short-term memory\",\"natural language generation\",\"question answering\",\"emotion recognition\",\"hyperparameter optimization\",\"natural language understanding\",\"anomaly detection\",\"Naive Bayes classifier\",\"language model\",\"network analysis\",\"supervised learning\",\"unsupervised learning\",\"automated machine learning\",\"object detection\",\"feature learning\",\"stream processing\",\"generative model\",\"image captioning\",\"image recognition\",\"collaborative filtering\",\"image retrieval\",\"Q-learning\",\"matrix decomposition\",\"facial recognition system\",\"cluster analysis\",\"artificial neural network\",\"support vector machine\",\"Bayesian inference\",\"dimensionality reduction\",\"sequencing\",\"Kalman filter\",\"WebSocket\",\"business dashboard\",\"neural network\",\"image scaling\",\"application performance management\",\"search\",\"back end\",\"validator\",\"mobile application development\",\"data binding\",\"text processing\",\"misuse detection\",\"schema migration\",\"human image synthesis\",\"Articulated body pose estimation\",\"Bidirectional recurrent neural networks\",\"face detection\",\"Web Components\",\"Malware Analysis\",\"Parser combinator\",\"3D pose estimation\",\"web crawler\",\"web scraping\",\"DevOps\",\"synchronization\",\"real-time computing\",\"digital image processing\",\"video tracking\",\"banking industry\",\"static website\",\"relationship extraction\",\"digital audio\",\"algorithmic trading\",\"penetration test\",\"autonomous driving\",\"Home Assistant\",\"dependency injection\",\"linear regression\",\"microservices\",\"continuous deployment\",\"continuous delivery\",\"mobile computing\",\"edge computing\",\"activity recognition\",\"digital security\",\"feature engineering\",\"Reverse engineering\",\"video processing\",\"lexical analysis\",\"debugging\",\"serialization\",\"routing\",\"syntax highlighting\",\"File Transfer Protocol\",\"evolutionary algorithm\",\"genetic algorithm\",\"IRC bot\",\"pattern matching\",\"regular expression\",\"object-oriented programming\",\"functional programming\",\"reactive programming\",\"machine translation\",\"data science\",\"computer vision\",\"natural language processing\",\"blockchain\",\"recommender system\",\"knowledge graph\",\"neural machine translation\",\"documentation\",\"security\",\"cryptography\",\"information extraction\",\"computational science\",\"mathematical finance\",\"robotics\",\"virtual reality\",\"software engineering\",\"internet of things\",\"home automation\",\"software development\",\"information processing\",\"analytics\",\"information security\",\"web development\",\"software architecture\",\"embedded system\",\"user interface\",\"information retrieval\",\"stock market\",\"video game development\",\"email\",\"time series\",\"productivity\",\"image segmentation\",\"Image analysis\",\"quantum computer\",\"medical imaging\",\"test automation\",\"network security\",\"virtualization\",\"bitcoin\",\"natural language\",\"translation\",\"algorithm\",\"e-commerce\",\"cryptocurrency\",\"data visualization\",\"random forest\",\"semi-supervised learning\",\"text mining\",\"named-entity recognition\",\"Semantic Web\",\"data mining\",\"computational biology\",\"bioinformatics\",\"signal processing\",\"reinforcement learning\",\"website\",\"science\",\"music\",\"education\",\"astronomy\",\"physics\",\"neuroscience\",\"engineering\",\"finance\",\"mathematics\",\"computer science\",\"geometry\",\"mathematical optimization\",\"linear algebra\"],\"tickvals\":[5.0,15.0,25.0,35.0,45.0,55.0,65.0,75.0,85.0,95.0,105.0,115.0,125.0,135.0,145.0,155.0,165.0,175.0,185.0,195.0,205.0,215.0,225.0,235.0,245.0,255.0,265.0,275.0,285.0,295.0,305.0,315.0,325.0,335.0,345.0,355.0,365.0,375.0,385.0,395.0,405.0,415.0,425.0,435.0,445.0,455.0,465.0,475.0,485.0,495.0,505.0,515.0,525.0,535.0,545.0,555.0,565.0,575.0,585.0,595.0,605.0,615.0,625.0,635.0,645.0,655.0,665.0,675.0,685.0,695.0,705.0,715.0,725.0,735.0,745.0,755.0,765.0,775.0,785.0,795.0,805.0,815.0,825.0,835.0,845.0,855.0,865.0,875.0,885.0,895.0,905.0,915.0,925.0,935.0,945.0,955.0,965.0,975.0,985.0,995.0,1005.0,1015.0,1025.0,1035.0,1045.0,1055.0,1065.0,1075.0,1085.0,1095.0,1105.0,1115.0,1125.0,1135.0,1145.0,1155.0,1165.0,1175.0,1185.0,1195.0,1205.0,1215.0,1225.0,1235.0,1245.0,1255.0,1265.0,1275.0,1285.0,1295.0,1305.0,1315.0,1325.0,1335.0,1345.0,1355.0,1365.0,1375.0,1385.0,1395.0,1405.0,1415.0,1425.0,1435.0,1445.0,1455.0,1465.0,1475.0,1485.0,1495.0,1505.0,1515.0,1525.0,1535.0,1545.0,1555.0,1565.0,1575.0,1585.0,1595.0,1605.0,1615.0,1625.0,1635.0,1645.0,1655.0,1665.0,1675.0,1685.0,1695.0,1705.0,1715.0,1725.0,1735.0,1745.0,1755.0,1765.0,1775.0,1785.0,1795.0,1805.0,1815.0,1825.0,1835.0,1845.0,1855.0,1865.0,1875.0,1885.0,1895.0,1905.0,1915.0,1925.0,1935.0,1945.0,1955.0,1965.0,1975.0,1985.0,1995.0,2005.0,2015.0,2025.0,2035.0,2045.0,2055.0,2065.0,2075.0,2085.0,2095.0,2105.0,2115.0,2125.0,2135.0,2145.0,2155.0,2165.0,2175.0,2185.0,2195.0,2205.0,2215.0,2225.0,2235.0,2245.0,2255.0,2265.0,2275.0,2285.0,2295.0,2305.0,2315.0,2325.0,2335.0,2345.0,2355.0,2365.0,2375.0,2385.0,2395.0,2405.0,2415.0,2425.0,2435.0,2445.0,2455.0,2465.0,2475.0,2485.0,2495.0,2505.0,2515.0,2525.0,2535.0,2545.0,2555.0,2565.0,2575.0,2585.0,2595.0,2605.0,2615.0,2625.0,2635.0,2645.0,2655.0,2665.0,2675.0,2685.0,2695.0,2705.0,2715.0,2725.0,2735.0,2745.0,2755.0,2765.0,2775.0,2785.0,2795.0,2805.0,2815.0,2825.0,2835.0,2845.0,2855.0,2865.0,2875.0,2885.0,2895.0,2905.0,2915.0,2925.0,2935.0,2945.0,2955.0,2965.0,2975.0,2985.0,2995.0,3005.0],\"type\":\"linear\",\"zeroline\":false},\"yaxis\":{\"mirror\":\"allticks\",\"rangemode\":\"tozero\",\"showgrid\":false,\"showline\":true,\"showticklabels\":true,\"ticks\":\"outside\",\"type\":\"linear\",\"zeroline\":false},\"template\":{\"data\":{\"bar\":[{\"error_x\":{\"color\":\"#2a3f5f\"},\"error_y\":{\"color\":\"#2a3f5f\"},\"marker\":{\"line\":{\"color\":\"#E5ECF6\",\"width\":0.5},\"pattern\":{\"fillmode\":\"overlay\",\"size\":10,\"solidity\":0.2}},\"type\":\"bar\"}],\"barpolar\":[{\"marker\":{\"line\":{\"color\":\"#E5ECF6\",\"width\":0.5},\"pattern\":{\"fillmode\":\"overlay\",\"size\":10,\"solidity\":0.2}},\"type\":\"barpolar\"}],\"carpet\":[{\"aaxis\":{\"endlinecolor\":\"#2a3f5f\",\"gridcolor\":\"white\",\"linecolor\":\"white\",\"minorgridcolor\":\"white\",\"startlinecolor\":\"#2a3f5f\"},\"baxis\":{\"endlinecolor\":\"#2a3f5f\",\"gridcolor\":\"white\",\"linecolor\":\"white\",\"minorgridcolor\":\"white\",\"startlinecolor\":\"#2a3f5f\"},\"type\":\"carpet\"}],\"choropleth\":[{\"colorbar\":{\"outlinewidth\":0,\"ticks\":\"\"},\"type\":\"choropleth\"}],\"contour\":[{\"colorbar\":{\"outlinewidth\":0,\"ticks\":\"\"},\"colorscale\":[[0.0,\"#0d0887\"],[0.1111111111111111,\"#46039f\"],[0.2222222222222222,\"#7201a8\"],[0.3333333333333333,\"#9c179e\"],[0.4444444444444444,\"#bd3786\"],[0.5555555555555556,\"#d8576b\"],[0.6666666666666666,\"#ed7953\"],[0.7777777777777778,\"#fb9f3a\"],[0.8888888888888888,\"#fdca26\"],[1.0,\"#f0f921\"]],\"type\":\"contour\"}],\"contourcarpet\":[{\"colorbar\":{\"outlinewidth\":0,\"ticks\":\"\"},\"type\":\"contourcarpet\"}],\"heatmap\":[{\"colorbar\":{\"outlinewidth\":0,\"ticks\":\"\"},\"colorscale\":[[0.0,\"#0d0887\"],[0.1111111111111111,\"#46039f\"],[0.2222222222222222,\"#7201a8\"],[0.3333333333333333,\"#9c179e\"],[0.4444444444444444,\"#bd3786\"],[0.5555555555555556,\"#d8576b\"],[0.6666666666666666,\"#ed7953\"],[0.7777777777777778,\"#fb9f3a\"],[0.8888888888888888,\"#fdca26\"],[1.0,\"#f0f921\"]],\"type\":\"heatmap\"}],\"heatmapgl\":[{\"colorbar\":{\"outlinewidth\":0,\"ticks\":\"\"},\"colorscale\":[[0.0,\"#0d0887\"],[0.1111111111111111,\"#46039f\"],[0.2222222222222222,\"#7201a8\"],[0.3333333333333333,\"#9c179e\"],[0.4444444444444444,\"#bd3786\"],[0.5555555555555556,\"#d8576b\"],[0.6666666666666666,\"#ed7953\"],[0.7777777777777778,\"#fb9f3a\"],[0.8888888888888888,\"#fdca26\"],[1.0,\"#f0f921\"]],\"type\":\"heatmapgl\"}],\"histogram\":[{\"marker\":{\"pattern\":{\"fillmode\":\"overlay\",\"size\":10,\"solidity\":0.2}},\"type\":\"histogram\"}],\"histogram2d\":[{\"colorbar\":{\"outlinewidth\":0,\"ticks\":\"\"},\"colorscale\":[[0.0,\"#0d0887\"],[0.1111111111111111,\"#46039f\"],[0.2222222222222222,\"#7201a8\"],[0.3333333333333333,\"#9c179e\"],[0.4444444444444444,\"#bd3786\"],[0.5555555555555556,\"#d8576b\"],[0.6666666666666666,\"#ed7953\"],[0.7777777777777778,\"#fb9f3a\"],[0.8888888888888888,\"#fdca26\"],[1.0,\"#f0f921\"]],\"type\":\"histogram2d\"}],\"histogram2dcontour\":[{\"colorbar\":{\"outlinewidth\":0,\"ticks\":\"\"},\"colorscale\":[[0.0,\"#0d0887\"],[0.1111111111111111,\"#46039f\"],[0.2222222222222222,\"#7201a8\"],[0.3333333333333333,\"#9c179e\"],[0.4444444444444444,\"#bd3786\"],[0.5555555555555556,\"#d8576b\"],[0.6666666666666666,\"#ed7953\"],[0.7777777777777778,\"#fb9f3a\"],[0.8888888888888888,\"#fdca26\"],[1.0,\"#f0f921\"]],\"type\":\"histogram2dcontour\"}],\"mesh3d\":[{\"colorbar\":{\"outlinewidth\":0,\"ticks\":\"\"},\"type\":\"mesh3d\"}],\"parcoords\":[{\"line\":{\"colorbar\":{\"outlinewidth\":0,\"ticks\":\"\"}},\"type\":\"parcoords\"}],\"pie\":[{\"automargin\":true,\"type\":\"pie\"}],\"scatter\":[{\"marker\":{\"colorbar\":{\"outlinewidth\":0,\"ticks\":\"\"}},\"type\":\"scatter\"}],\"scatter3d\":[{\"line\":{\"colorbar\":{\"outlinewidth\":0,\"ticks\":\"\"}},\"marker\":{\"colorbar\":{\"outlinewidth\":0,\"ticks\":\"\"}},\"type\":\"scatter3d\"}],\"scattercarpet\":[{\"marker\":{\"colorbar\":{\"outlinewidth\":0,\"ticks\":\"\"}},\"type\":\"scattercarpet\"}],\"scattergeo\":[{\"marker\":{\"colorbar\":{\"outlinewidth\":0,\"ticks\":\"\"}},\"type\":\"scattergeo\"}],\"scattergl\":[{\"marker\":{\"colorbar\":{\"outlinewidth\":0,\"ticks\":\"\"}},\"type\":\"scattergl\"}],\"scattermapbox\":[{\"marker\":{\"colorbar\":{\"outlinewidth\":0,\"ticks\":\"\"}},\"type\":\"scattermapbox\"}],\"scatterpolar\":[{\"marker\":{\"colorbar\":{\"outlinewidth\":0,\"ticks\":\"\"}},\"type\":\"scatterpolar\"}],\"scatterpolargl\":[{\"marker\":{\"colorbar\":{\"outlinewidth\":0,\"ticks\":\"\"}},\"type\":\"scatterpolargl\"}],\"scatterternary\":[{\"marker\":{\"colorbar\":{\"outlinewidth\":0,\"ticks\":\"\"}},\"type\":\"scatterternary\"}],\"surface\":[{\"colorbar\":{\"outlinewidth\":0,\"ticks\":\"\"},\"colorscale\":[[0.0,\"#0d0887\"],[0.1111111111111111,\"#46039f\"],[0.2222222222222222,\"#7201a8\"],[0.3333333333333333,\"#9c179e\"],[0.4444444444444444,\"#bd3786\"],[0.5555555555555556,\"#d8576b\"],[0.6666666666666666,\"#ed7953\"],[0.7777777777777778,\"#fb9f3a\"],[0.8888888888888888,\"#fdca26\"],[1.0,\"#f0f921\"]],\"type\":\"surface\"}],\"table\":[{\"cells\":{\"fill\":{\"color\":\"#EBF0F8\"},\"line\":{\"color\":\"white\"}},\"header\":{\"fill\":{\"color\":\"#C8D4E3\"},\"line\":{\"color\":\"white\"}},\"type\":\"table\"}]},\"layout\":{\"annotationdefaults\":{\"arrowcolor\":\"#2a3f5f\",\"arrowhead\":0,\"arrowwidth\":1},\"autotypenumbers\":\"strict\",\"coloraxis\":{\"colorbar\":{\"outlinewidth\":0,\"ticks\":\"\"}},\"colorscale\":{\"diverging\":[[0,\"#8e0152\"],[0.1,\"#c51b7d\"],[0.2,\"#de77ae\"],[0.3,\"#f1b6da\"],[0.4,\"#fde0ef\"],[0.5,\"#f7f7f7\"],[0.6,\"#e6f5d0\"],[0.7,\"#b8e186\"],[0.8,\"#7fbc41\"],[0.9,\"#4d9221\"],[1,\"#276419\"]],\"sequential\":[[0.0,\"#0d0887\"],[0.1111111111111111,\"#46039f\"],[0.2222222222222222,\"#7201a8\"],[0.3333333333333333,\"#9c179e\"],[0.4444444444444444,\"#bd3786\"],[0.5555555555555556,\"#d8576b\"],[0.6666666666666666,\"#ed7953\"],[0.7777777777777778,\"#fb9f3a\"],[0.8888888888888888,\"#fdca26\"],[1.0,\"#f0f921\"]],\"sequentialminus\":[[0.0,\"#0d0887\"],[0.1111111111111111,\"#46039f\"],[0.2222222222222222,\"#7201a8\"],[0.3333333333333333,\"#9c179e\"],[0.4444444444444444,\"#bd3786\"],[0.5555555555555556,\"#d8576b\"],[0.6666666666666666,\"#ed7953\"],[0.7777777777777778,\"#fb9f3a\"],[0.8888888888888888,\"#fdca26\"],[1.0,\"#f0f921\"]]},\"colorway\":[\"#636efa\",\"#EF553B\",\"#00cc96\",\"#ab63fa\",\"#FFA15A\",\"#19d3f3\",\"#FF6692\",\"#B6E880\",\"#FF97FF\",\"#FECB52\"],\"font\":{\"color\":\"#2a3f5f\"},\"geo\":{\"bgcolor\":\"white\",\"lakecolor\":\"white\",\"landcolor\":\"#E5ECF6\",\"showlakes\":true,\"showland\":true,\"subunitcolor\":\"white\"},\"hoverlabel\":{\"align\":\"left\"},\"hovermode\":\"closest\",\"mapbox\":{\"style\":\"light\"},\"paper_bgcolor\":\"white\",\"plot_bgcolor\":\"#E5ECF6\",\"polar\":{\"angularaxis\":{\"gridcolor\":\"white\",\"linecolor\":\"white\",\"ticks\":\"\"},\"bgcolor\":\"#E5ECF6\",\"radialaxis\":{\"gridcolor\":\"white\",\"linecolor\":\"white\",\"ticks\":\"\"}},\"scene\":{\"xaxis\":{\"backgroundcolor\":\"#E5ECF6\",\"gridcolor\":\"white\",\"gridwidth\":2,\"linecolor\":\"white\",\"showbackground\":true,\"ticks\":\"\",\"zerolinecolor\":\"white\"},\"yaxis\":{\"backgroundcolor\":\"#E5ECF6\",\"gridcolor\":\"white\",\"gridwidth\":2,\"linecolor\":\"white\",\"showbackground\":true,\"ticks\":\"\",\"zerolinecolor\":\"white\"},\"zaxis\":{\"backgroundcolor\":\"#E5ECF6\",\"gridcolor\":\"white\",\"gridwidth\":2,\"linecolor\":\"white\",\"showbackground\":true,\"ticks\":\"\",\"zerolinecolor\":\"white\"}},\"shapedefaults\":{\"line\":{\"color\":\"#2a3f5f\"}},\"ternary\":{\"aaxis\":{\"gridcolor\":\"white\",\"linecolor\":\"white\",\"ticks\":\"\"},\"baxis\":{\"gridcolor\":\"white\",\"linecolor\":\"white\",\"ticks\":\"\"},\"bgcolor\":\"#E5ECF6\",\"caxis\":{\"gridcolor\":\"white\",\"linecolor\":\"white\",\"ticks\":\"\"}},\"title\":{\"x\":0.05},\"xaxis\":{\"automargin\":true,\"gridcolor\":\"white\",\"linecolor\":\"white\",\"ticks\":\"\",\"title\":{\"standoff\":15},\"zerolinecolor\":\"white\",\"zerolinewidth\":2},\"yaxis\":{\"automargin\":true,\"gridcolor\":\"white\",\"linecolor\":\"white\",\"ticks\":\"\",\"title\":{\"standoff\":15},\"zerolinecolor\":\"white\",\"zerolinewidth\":2}}}},                        {\"responsive\": true}                    ).then(function(){\n                            \nvar gd = document.getElementById('d3d54ba2-58b1-4126-9917-adc662bd16a8');\nvar x = new MutationObserver(function (mutations, observer) {{\n        var display = window.getComputedStyle(gd).display;\n        if (!display || display === 'none') {{\n            console.log([gd, 'removed!']);\n            Plotly.purge(gd);\n            observer.disconnect();\n        }}\n}});\n\n// Listen for the removal of the full notebook cells\nvar notebookContainer = gd.closest('#notebook-container');\nif (notebookContainer) {{\n    x.observe(notebookContainer, {childList: true});\n}}\n\n// Listen for the clearing of the current output cell\nvar outputEl = gd.closest('.output');\nif (outputEl) {{\n    x.observe(outputEl, {childList: true});\n}}\n\n                        })                };                });            </script>        </div>"
     },
     "metadata": {},
     "output_type": "display_data"
    }
   ],
   "source": [
    "\n",
    "import numpy\n",
    "import plotly.figure_factory as ff\n",
    "fig = ff.create_dendrogram(numpy.array(X), labels=ranking['topic'].to_list())\n",
    "fig.update_layout(width=800, height=500)\n",
    "fig.show()"
   ],
   "metadata": {
    "collapsed": false,
    "pycharm": {
     "name": "#%%\n"
    }
   }
  }
 ],
 "metadata": {
  "kernelspec": {
   "display_name": "Python 3",
   "language": "python",
   "name": "python3"
  },
  "language_info": {
   "codemirror_mode": {
    "name": "ipython",
    "version": 2
   },
   "file_extension": ".py",
   "mimetype": "text/x-python",
   "name": "python",
   "nbconvert_exporter": "python",
   "pygments_lexer": "ipython2",
   "version": "2.7.6"
  }
 },
 "nbformat": 4,
 "nbformat_minor": 0
}