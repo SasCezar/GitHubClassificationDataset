{
 "cells": [
  {
   "cell_type": "code",
   "execution_count": 1,
   "metadata": {
    "collapsed": true
   },
   "outputs": [],
   "source": [
    "import json\n",
    "\n",
    "file_path = '../data/annotated_github_topics_wikidata.json'"
   ]
  },
  {
   "cell_type": "code",
   "execution_count": 2,
   "outputs": [],
   "source": [
    "qids = []\n",
    "with open(file_path, 'rt') as inf:\n",
    "    for line in inf:\n",
    "        obj = json.loads(line)\n",
    "        qids.append(obj['Wikidata ID'])"
   ],
   "metadata": {
    "collapsed": false,
    "pycharm": {
     "name": "#%%\n"
    }
   }
  },
  {
   "cell_type": "code",
   "execution_count": 3,
   "outputs": [],
   "source": [
    "from wikidata.client import Client\n",
    "\n",
    "client = Client()\n",
    "\n",
    "types = []\n",
    "for q in qids:\n",
    "    entity = client.get(q, load=True)\n",
    "    #entity_types = entity.data['claims']['P31']\n",
    "    t = []\n",
    "    try:\n",
    "        entity_types = entity.data['claims']['P31']\n",
    "    except:\n",
    "        types.append(t)\n",
    "        continue\n",
    "\n",
    "    for etype in entity_types:\n",
    "        try:\n",
    "            type_id = etype['mainsnak']['datavalue']['value']['id']\n",
    "            type_title = client.get(type_id, load=True).label.texts['en']\n",
    "            t.append((type_id, type_title))\n",
    "            types.append(t)\n",
    "        except:\n",
    "            types.append(t)\n",
    "            continue"
   ],
   "metadata": {
    "collapsed": false,
    "pycharm": {
     "name": "#%%\n"
    }
   }
  },
  {
   "cell_type": "code",
   "execution_count": 4,
   "outputs": [
    {
     "data": {
      "text/plain": "[('Q102190569', [('Q13582682', 'classification')]),\n ('Q1041418', []),\n ('Q104537917', []),\n ('Q105273027', [('Q17155032', 'software category')]),\n ('Q1061077', []),\n ('Q1061635', [('Q268592', 'industry')]),\n ('Q1068715', []),\n ('Q1070689', []),\n ('Q107300377', []),\n ('Q1074173', [('Q4485156', 'software feature')]),\n ('Q107630377', []),\n ('Q107643461', [('Q11862829', 'academic discipline')]),\n ('Q107750691', []),\n ('Q1078276', []),\n ('Q10861030', [('Q105675274', 'regression')]),\n ('Q10927554', []),\n ('Q11023',\n  [('Q627436', 'field of work'),\n   ('Q3958441', 'economic sector'),\n   ('Q2465832', 'branch of science'),\n   ('Q11862829', 'academic discipline'),\n   ('Q28797', 'applied science')]),\n ('Q1123036',\n  [('Q627436', 'field of work'),\n   ('Q3958441', 'economic sector'),\n   ('Q2465832', 'branch of science'),\n   ('Q11862829', 'academic discipline'),\n   ('Q28797', 'applied science')]),\n ('Q1127410',\n  [('Q627436', 'field of work'),\n   ('Q3958441', 'economic sector'),\n   ('Q2465832', 'branch of science'),\n   ('Q11862829', 'academic discipline'),\n   ('Q28797', 'applied science')]),\n ('Q11288',\n  [('Q627436', 'field of work'),\n   ('Q3958441', 'economic sector'),\n   ('Q2465832', 'branch of science'),\n   ('Q11862829', 'academic discipline'),\n   ('Q28797', 'applied science')]),\n ('Q1132755',\n  [('Q627436', 'field of work'),\n   ('Q3958441', 'economic sector'),\n   ('Q2465832', 'branch of science'),\n   ('Q11862829', 'academic discipline'),\n   ('Q28797', 'applied science')]),\n ('Q11410', []),\n ('Q11425', []),\n ('Q1152135',\n  [('Q4485156', 'software feature'), ('Q17155032', 'software category')]),\n ('Q11660',\n  [('Q4485156', 'software feature'), ('Q17155032', 'software category')]),\n ('Q11681085', [('Q208042', 'regression analysis')]),\n ('Q117801', []),\n ('Q1192553', [('Q1001378', 'cinematic technique')]),\n ('Q12483', [('Q1799072', 'method')]),\n ('Q1276130', [('Q11862829', 'academic discipline'), ('Q8148', 'industry')]),\n ('Q1281199', [('Q11862829', 'academic discipline'), ('Q8148', 'industry')]),\n ('Q128570', []),\n ('Q131093', []),\n ('Q131212', []),\n ('Q1315933',\n  [('Q11862829', 'academic discipline'), ('Q4671286', 'academic major')]),\n ('Q131723',\n  [('Q11862829', 'academic discipline'), ('Q4671286', 'academic major')]),\n ('Q1329550', [('Q6661985', 'data processing')]),\n ('Q1339090', [('Q17155032', 'software category')]),\n ('Q13479982',\n  [('Q28598684', 'branch of biology'),\n   ('Q11862829', 'academic discipline'),\n   ('Q1047113', 'specialty'),\n   ('Q2267705', 'field of study')]),\n ('Q135005',\n  [('Q28598684', 'branch of biology'),\n   ('Q11862829', 'academic discipline'),\n   ('Q1047113', 'specialty'),\n   ('Q2267705', 'field of study')]),\n ('Q13582682',\n  [('Q28598684', 'branch of biology'),\n   ('Q11862829', 'academic discipline'),\n   ('Q1047113', 'specialty'),\n   ('Q2267705', 'field of study')]),\n ('Q1361088',\n  [('Q28598684', 'branch of biology'),\n   ('Q11862829', 'academic discipline'),\n   ('Q1047113', 'specialty'),\n   ('Q2267705', 'field of study')]),\n ('Q13741', [('Q17155032', 'software category')]),\n ('Q139445', [('Q17155032', 'software category')]),\n ('Q14001', []),\n ('Q141090',\n  [('Q13479982', 'cryptocurrency'),\n   ('Q341', 'free software'),\n   ('Q132364', 'communications protocol'),\n   ('Q170584', 'project'),\n   ('Q20514253', 'blockchain'),\n   ('Q986008', 'payment system'),\n   ('Q8142', 'currency'),\n   ('Q756202', 'reserve currency')]),\n ('Q141488',\n  [('Q13479982', 'cryptocurrency'),\n   ('Q341', 'free software'),\n   ('Q132364', 'communications protocol'),\n   ('Q170584', 'project'),\n   ('Q20514253', 'blockchain'),\n   ('Q986008', 'payment system'),\n   ('Q8142', 'currency'),\n   ('Q756202', 'reserve currency')]),\n ('Q141495',\n  [('Q13479982', 'cryptocurrency'),\n   ('Q341', 'free software'),\n   ('Q132364', 'communications protocol'),\n   ('Q170584', 'project'),\n   ('Q20514253', 'blockchain'),\n   ('Q986008', 'payment system'),\n   ('Q8142', 'currency'),\n   ('Q756202', 'reserve currency')]),\n ('Q14489129',\n  [('Q13479982', 'cryptocurrency'),\n   ('Q341', 'free software'),\n   ('Q132364', 'communications protocol'),\n   ('Q170584', 'project'),\n   ('Q20514253', 'blockchain'),\n   ('Q986008', 'payment system'),\n   ('Q8142', 'currency'),\n   ('Q756202', 'reserve currency')]),\n ('Q1457734',\n  [('Q13479982', 'cryptocurrency'),\n   ('Q341', 'free software'),\n   ('Q132364', 'communications protocol'),\n   ('Q170584', 'project'),\n   ('Q20514253', 'blockchain'),\n   ('Q986008', 'payment system'),\n   ('Q8142', 'currency'),\n   ('Q756202', 'reserve currency')]),\n ('Q146768',\n  [('Q13479982', 'cryptocurrency'),\n   ('Q341', 'free software'),\n   ('Q132364', 'communications protocol'),\n   ('Q170584', 'project'),\n   ('Q20514253', 'blockchain'),\n   ('Q986008', 'payment system'),\n   ('Q8142', 'currency'),\n   ('Q756202', 'reserve currency')]),\n ('Q1474611',\n  [('Q13479982', 'cryptocurrency'),\n   ('Q341', 'free software'),\n   ('Q132364', 'communications protocol'),\n   ('Q170584', 'project'),\n   ('Q20514253', 'blockchain'),\n   ('Q986008', 'payment system'),\n   ('Q8142', 'currency'),\n   ('Q756202', 'reserve currency')]),\n ('Q1475717',\n  [('Q13479982', 'cryptocurrency'),\n   ('Q341', 'free software'),\n   ('Q132364', 'communications protocol'),\n   ('Q170584', 'project'),\n   ('Q20514253', 'blockchain'),\n   ('Q986008', 'payment system'),\n   ('Q8142', 'currency'),\n   ('Q756202', 'reserve currency')]),\n ('Q14802672', [('Q4485156', 'software feature')]),\n ('Q1501923', []),\n ('Q1503724', [('Q58778', 'system')]),\n ('Q1509541', [('Q108382343', 'computer security technique')]),\n ('Q1513879', []),\n ('Q15328', []),\n ('Q15731404', [('Q17155032', 'software category')]),\n ('Q1575458', []),\n ('Q16000077', [('Q17155032', 'software category')]),\n ('Q16346', []),\n ('Q1662562', []),\n ('Q167555',\n  [('Q1047113', 'specialty'), ('Q11862829', 'academic discipline')]),\n ('Q17012863',\n  [('Q1047113', 'specialty'), ('Q11862829', 'academic discipline')]),\n ('Q17013334', []),\n ('Q170519', []),\n ('Q17084460', [('Q17155032', 'software category')]),\n ('Q170978', []),\n ('Q17118711', [('Q613918', 'software quality assurance')]),\n ('Q172491', []),\n ('Q173114',\n  [('Q96273743', 'type of test'),\n   ('Q108382343', 'computer security technique')]),\n ('Q174989',\n  [('Q96273743', 'type of test'),\n   ('Q108382343', 'computer security technique')]),\n ('Q175263', []),\n ('Q1764062', []),\n ('Q176555', []),\n ('Q176953', []),\n ('Q177005', []),\n ('Q1781447', [('Q17155032', 'software category')]),\n ('Q180634', []),\n ('Q181156', []),\n ('Q181593', []),\n ('Q18217380', [('Q4485156', 'software feature')]),\n ('Q18287040', []),\n ('Q183065', []),\n ('Q18344624', []),\n ('Q18395344', []),\n ('Q185612', [('Q8148', 'industry'), ('Q4671286', 'academic major')]),\n ('Q186588', [('Q8148', 'industry'), ('Q4671286', 'academic major')]),\n ('Q187787', []),\n ('Q188522', []),\n ('Q189053', []),\n ('Q189177',\n  [('Q30059018', 'operating system component'),\n   ('Q317623', 'technical standard')]),\n ('Q189210',\n  [('Q30059018', 'operating system component'),\n   ('Q317623', 'technical standard')]),\n ('Q189436', []),\n ('Q189900', []),\n ('Q191865', []),\n ('Q192726', [('Q4485156', 'software feature')]),\n ('Q192776',\n  [('Q11862829', 'academic discipline'), ('Q28598684', 'branch of biology')])]"
     },
     "execution_count": 4,
     "metadata": {},
     "output_type": "execute_result"
    }
   ],
   "source": [
    "list(zip(qids[:100], types[:100]))"
   ],
   "metadata": {
    "collapsed": false,
    "pycharm": {
     "name": "#%%\n"
    }
   }
  },
  {
   "cell_type": "code",
   "execution_count": 5,
   "outputs": [],
   "source": [
    "test_set = set()\n",
    "for i in types:\n",
    "    for x, names in i:\n",
    "        test_set.add(x)"
   ],
   "metadata": {
    "collapsed": false,
    "pycharm": {
     "name": "#%%\n"
    }
   }
  },
  {
   "cell_type": "code",
   "execution_count": 6,
   "outputs": [],
   "source": [
    "from collections import defaultdict, Counter\n",
    "\n",
    "file_path = '../data/reconciled-gittopic.json'\n",
    "\n",
    "i = 0\n",
    "new_terms = []\n",
    "duplicates = defaultdict(list)\n",
    "count = Counter()\n",
    "with open(file_path, 'rt') as inf:\n",
    "    for line in inf:\n",
    "        obj = json.loads(line)\n",
    "        candidates = obj['candidates']\n",
    "        for candidate in candidates:\n",
    "            candidate_types = set(candidate['types'].keys())\n",
    "            intersection = test_set.intersection(candidate_types)\n",
    "            if intersection:\n",
    "                new_terms.append(obj['term'] + \"\\n\")\n",
    "                break\n",
    "            #if candidate['id'] in qids and obj['frequency'] > 10:\n",
    "            #    i += 1\n",
    "            #    duplicates[candidate['id']].append(obj['term'])\n",
    "            #    count[candidate['id']] += obj['frequency']"
   ],
   "metadata": {
    "collapsed": false,
    "pycharm": {
     "name": "#%%\n"
    }
   }
  },
  {
   "cell_type": "code",
   "execution_count": 7,
   "outputs": [],
   "source": [
    "with open('taxonomy_like_topics.csv', 'wt') as outf:\n",
    "    outf.writelines(new_terms)"
   ],
   "metadata": {
    "collapsed": false,
    "pycharm": {
     "name": "#%%\n"
    }
   }
  }
 ],
 "metadata": {
  "kernelspec": {
   "display_name": "Python 3",
   "language": "python",
   "name": "python3"
  },
  "language_info": {
   "codemirror_mode": {
    "name": "ipython",
    "version": 2
   },
   "file_extension": ".py",
   "mimetype": "text/x-python",
   "name": "python",
   "nbconvert_exporter": "python",
   "pygments_lexer": "ipython2",
   "version": "2.7.6"
  }
 },
 "nbformat": 4,
 "nbformat_minor": 0
}