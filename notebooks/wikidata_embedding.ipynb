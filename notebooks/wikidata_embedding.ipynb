{
 "cells": [
  {
   "cell_type": "code",
   "execution_count": 1,
   "metadata": {
    "collapsed": true
   },
   "outputs": [],
   "source": [
    "import numpy\n",
    "import pandas\n",
    "\n",
    "embedding_path = \"/home/sasce/PycharmProjects/GitHubClassificationDataset/data/models/WikidataEmbedding.vec\"\n",
    "\n",
    "topic_path = \"/home/sasce/PycharmProjects/GitHubClassificationDataset/PairRank/webapp/outputs/2021-11-29/09-22-14/mean_std_ranking.csv\"\n"
   ]
  },
  {
   "cell_type": "code",
   "execution_count": 2,
   "outputs": [],
   "source": [
    "from gensim.models import KeyedVectors\n",
    "\n",
    "df = pandas.read_csv(topic_path)\n",
    "\n",
    "model = KeyedVectors.load_word2vec_format(embedding_path)"
   ],
   "metadata": {
    "collapsed": false,
    "pycharm": {
     "name": "#%%\n"
    }
   }
  },
  {
   "cell_type": "code",
   "execution_count": 3,
   "outputs": [],
   "source": [
    "\n",
    "q_ids = df['q_id'].tolist()"
   ],
   "metadata": {
    "collapsed": false,
    "pycharm": {
     "name": "#%%\n"
    }
   }
  },
  {
   "cell_type": "code",
   "execution_count": 5,
   "outputs": [],
   "source": [
    "intersection = set(model.key_to_index.keys()).intersection(set(q_ids))"
   ],
   "metadata": {
    "collapsed": false,
    "pycharm": {
     "name": "#%%\n"
    }
   }
  },
  {
   "cell_type": "code",
   "execution_count": 6,
   "outputs": [
    {
     "data": {
      "text/plain": "{'Q11023',\n 'Q11288',\n 'Q11410',\n 'Q11425',\n 'Q11660',\n 'Q117801',\n 'Q12483',\n 'Q128570',\n 'Q131093',\n 'Q131212',\n 'Q131723',\n 'Q13479982',\n 'Q13741',\n 'Q14001',\n 'Q141488',\n 'Q141495',\n 'Q1474611',\n 'Q15328',\n 'Q16346',\n 'Q170978',\n 'Q172491',\n 'Q174989',\n 'Q175263',\n 'Q177005',\n 'Q181156',\n 'Q181593',\n 'Q188522',\n 'Q189177',\n 'Q189210',\n 'Q189900',\n 'Q192776',\n 'Q193424',\n 'Q193564',\n 'Q19541',\n 'Q197536',\n 'Q1988917',\n 'Q207011',\n 'Q21198',\n 'Q220499',\n 'Q222046',\n 'Q2271421',\n 'Q24410992',\n 'Q2493',\n 'Q2526135',\n 'Q2539',\n 'Q30642',\n 'Q333',\n 'Q336',\n 'Q35127',\n 'Q395',\n 'Q413',\n 'Q43015',\n 'Q44127',\n 'Q45045',\n 'Q451553',\n 'Q466',\n 'Q47146',\n 'Q47506',\n 'Q478798',\n 'Q483130',\n 'Q483639',\n 'Q484847',\n 'Q4868296',\n 'Q528166',\n 'Q5318',\n 'Q54837',\n 'Q58199',\n 'Q6368',\n 'Q638',\n 'Q638608',\n 'Q66221',\n 'Q7553',\n 'Q758895',\n 'Q782543',\n 'Q788790',\n 'Q7889',\n 'Q79872',\n 'Q80006',\n 'Q8087',\n 'Q80993',\n 'Q82571',\n 'Q82604',\n 'Q8366',\n 'Q8434',\n 'Q8513',\n 'Q858810',\n 'Q8789',\n 'Q891055',\n 'Q9135',\n 'Q9158',\n 'Q931309',\n 'Q965769'}"
     },
     "execution_count": 6,
     "metadata": {},
     "output_type": "execute_result"
    }
   ],
   "source": [
    "intersection"
   ],
   "metadata": {
    "collapsed": false,
    "pycharm": {
     "name": "#%%\n"
    }
   }
  },
  {
   "cell_type": "code",
   "execution_count": 7,
   "outputs": [
    {
     "data": {
      "text/plain": "92"
     },
     "execution_count": 7,
     "metadata": {},
     "output_type": "execute_result"
    }
   ],
   "source": [
    "len(intersection)"
   ],
   "metadata": {
    "collapsed": false,
    "pycharm": {
     "name": "#%%\n"
    }
   }
  },
  {
   "cell_type": "code",
   "execution_count": 9,
   "outputs": [],
   "source": [
    "import numpy\n",
    "vectors = numpy.array([model[q] for q in intersection])"
   ],
   "metadata": {
    "collapsed": false,
    "pycharm": {
     "name": "#%%\n"
    }
   }
  },
  {
   "cell_type": "code",
   "execution_count": 14,
   "outputs": [],
   "source": [
    "int = list(intersection)"
   ],
   "metadata": {
    "collapsed": false,
    "pycharm": {
     "name": "#%%\n"
    }
   }
  },
  {
   "cell_type": "code",
   "execution_count": 17,
   "outputs": [
    {
     "data": {
      "text/plain": "'Q14001'"
     },
     "execution_count": 17,
     "metadata": {},
     "output_type": "execute_result"
    }
   ],
   "source": [
    "int[3]"
   ],
   "metadata": {
    "collapsed": false,
    "pycharm": {
     "name": "#%%\n"
    }
   }
  },
  {
   "cell_type": "code",
   "execution_count": 23,
   "outputs": [
    {
     "data": {
      "text/plain": "[('Q134219', 0.9736126065254211),\n ('Q188860', 0.9726732969284058),\n ('Q549805', 0.9723397493362427),\n ('Q39804', 0.9704629778862),\n ('Q796194', 0.970102846622467),\n ('Q41487', 0.9684335589408875),\n ('Q149918', 0.967841386795044),\n ('Q854845', 0.966790497303009),\n ('Q175854', 0.9666454792022705),\n ('Q14897293', 0.966381311416626)]"
     },
     "execution_count": 23,
     "metadata": {},
     "output_type": "execute_result"
    }
   ],
   "source": [
    "model.most_similar(positive=[int[3], 'Q7397'])"
   ],
   "metadata": {
    "collapsed": false,
    "pycharm": {
     "name": "#%%\n"
    }
   }
  },
  {
   "cell_type": "code",
   "execution_count": 21,
   "outputs": [
    {
     "data": {
      "text/plain": "609471"
     },
     "execution_count": 21,
     "metadata": {},
     "output_type": "execute_result"
    }
   ],
   "source": [
    "len(model.key_to_index)"
   ],
   "metadata": {
    "collapsed": false,
    "pycharm": {
     "name": "#%%\n"
    }
   }
  },
  {
   "cell_type": "code",
   "execution_count": 26,
   "outputs": [],
   "source": [
    "from wikidata.client import Client\n",
    "\n",
    "client = Client()\n",
    "\n",
    "descriptions = {}\n",
    "for q in q_ids:\n",
    "    entity = client.get(q, load=True)\n",
    "    if 'en' in entity.description:\n",
    "        descriptions[q] = entity.description['en']"
   ],
   "metadata": {
    "collapsed": false,
    "pycharm": {
     "name": "#%%\n"
    }
   }
  },
  {
   "cell_type": "code",
   "execution_count": 27,
   "outputs": [
    {
     "data": {
      "text/plain": "290"
     },
     "execution_count": 27,
     "metadata": {},
     "output_type": "execute_result"
    }
   ],
   "source": [
    "len(descriptions)"
   ],
   "metadata": {
    "collapsed": false,
    "pycharm": {
     "name": "#%%\n"
    }
   }
  },
  {
   "cell_type": "code",
   "execution_count": 33,
   "outputs": [],
   "source": [
    "i = set(q_ids).difference(set(descriptions.keys()))"
   ],
   "metadata": {
    "collapsed": false,
    "pycharm": {
     "name": "#%%\n"
    }
   }
  },
  {
   "cell_type": "code",
   "execution_count": 34,
   "outputs": [
    {
     "data": {
      "text/plain": "{'Q107750691',\n 'Q1315933',\n 'Q18287040',\n 'Q3536669',\n 'Q355134',\n 'Q39161486',\n 'Q3962217',\n 'Q4800952',\n 'Q52720701',\n 'Q55080229',\n 'Q5532625',\n 'Q7139956',\n 'Q798332'}"
     },
     "execution_count": 34,
     "metadata": {},
     "output_type": "execute_result"
    }
   ],
   "source": [
    "i"
   ],
   "metadata": {
    "collapsed": false,
    "pycharm": {
     "name": "#%%\n"
    }
   }
  },
  {
   "cell_type": "code",
   "execution_count": null,
   "outputs": [],
   "source": [],
   "metadata": {
    "collapsed": false,
    "pycharm": {
     "name": "#%%\n"
    }
   }
  }
 ],
 "metadata": {
  "kernelspec": {
   "display_name": "Python 3",
   "language": "python",
   "name": "python3"
  },
  "language_info": {
   "codemirror_mode": {
    "name": "ipython",
    "version": 2
   },
   "file_extension": ".py",
   "mimetype": "text/x-python",
   "name": "python",
   "nbconvert_exporter": "python",
   "pygments_lexer": "ipython2",
   "version": "2.7.6"
  }
 },
 "nbformat": 4,
 "nbformat_minor": 0
}