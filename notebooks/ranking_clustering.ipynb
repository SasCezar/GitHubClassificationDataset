{
 "cells": [
  {
   "cell_type": "code",
   "execution_count": 9,
   "outputs": [],
   "source": [
    "import csv\n",
    "import json\n",
    "\n",
    "import numpy as np\n",
    "import pandas\n",
    "\n",
    "ranking_path = \"/home/sasce/PycharmProjects/GitHubClassificationDataset/data/pairrank/mean_std_ranking.csv\"\n",
    "ranking = pandas.read_csv(ranking_path)\n",
    "ranking = ranking.sort_values('mean', ascending=False)\n",
    "ranking['description'] = ranking['description'].fillna('')\n",
    "cluster_feature = 'mean'"
   ],
   "metadata": {
    "collapsed": false,
    "pycharm": {
     "name": "#%%\n"
    }
   }
  },
  {
   "cell_type": "code",
   "execution_count": 10,
   "outputs": [],
   "source": [
    "def order_clusters(cluster):\n",
    "    seen = {}\n",
    "    n = len(set(cluster))\n",
    "    res = []\n",
    "    for i in cluster:\n",
    "        if i not in seen:\n",
    "            seen[i] = len(seen) + 1\n",
    "        res.append(seen[i])\n",
    "\n",
    "    return res"
   ],
   "metadata": {
    "collapsed": false,
    "pycharm": {
     "name": "#%%\n"
    }
   }
  },
  {
   "cell_type": "code",
   "execution_count": 16,
   "outputs": [],
   "source": [
    "from sklearn.cluster import KMeans\n",
    "data = np.array(ranking['mean'].to_list())\n",
    "kmeans = KMeans(n_clusters=8).fit(data.reshape(-1,1))\n",
    "clusters = kmeans.predict(data.reshape(-1,1))\n",
    "ranking['cluster'] =  order_clusters(clusters)\n",
    "ranking['pos'] = list(range(len(ranking['mean'])))\n",
    "df = ranking[['topic', 'mean', 'pos', 'cluster']].copy(deep=True)\n",
    "df.to_csv('scatter.csv', index=False)\n"
   ],
   "metadata": {
    "collapsed": false,
    "pycharm": {
     "name": "#%%\n"
    }
   }
  },
  {
   "cell_type": "code",
   "execution_count": 17,
   "outputs": [],
   "source": [
    "freq_path = \"/home/sasce/PycharmProjects/GitHubClassificationDataset/data/annotated_github_topics_wikidata.json\"\n",
    "freqs = {}\n",
    "\n",
    "with open(freq_path, 'rt') as inf:\n",
    "    for line in inf:\n",
    "        a = json.loads(line)\n",
    "        freqs[a[\"Wikidata Title\"]] = a['Frequency']\n"
   ],
   "metadata": {
    "collapsed": false,
    "pycharm": {
     "name": "#%%\n"
    }
   }
  },
  {
   "cell_type": "code",
   "execution_count": 18,
   "outputs": [],
   "source": [
    "from collections import defaultdict\n",
    "\n",
    "topics = ranking['topic']\n",
    "freq = [freqs[t] for t in topics]\n",
    "clusters = ranking['cluster']\n",
    "\n",
    "clusters_freq = defaultdict(lambda: 0)\n",
    "clusters_freq_u = defaultdict(lambda: 0)\n",
    "for c, f in zip(clusters, freq):\n",
    "    clusters_freq[c] += f\n",
    "    clusters_freq_u[c] += 1\n",
    "\n",
    "\n",
    "with open('cluster_distr.csv', 'wt') as outf, open('cluster_distr_u.csv', 'wt') as outfu:\n",
    "    writer = csv.writer(outf)\n",
    "    writer2 = csv.writer(outfu)\n",
    "    writer.writerow(['cluster', 'freq'])\n",
    "    writer2.writerow(['cluster', 'freq'])\n",
    "    for c in clusters_freq:\n",
    "        writer.writerow([c, clusters_freq[c]])\n",
    "        writer2.writerow([c, clusters_freq_u[c]])"
   ],
   "metadata": {
    "collapsed": false,
    "pycharm": {
     "name": "#%%\n"
    }
   }
  },
  {
   "cell_type": "code",
   "execution_count": 19,
   "outputs": [
    {
     "data": {
      "text/plain": "             mean       pos   cluster      freq\nmean     1.000000 -0.960734 -0.974148  0.110858\npos     -0.960734  1.000000  0.966942 -0.134135\ncluster -0.974148  0.966942  1.000000 -0.128819\nfreq     0.110858 -0.134135 -0.128819  1.000000",
      "text/html": "<div>\n<style scoped>\n    .dataframe tbody tr th:only-of-type {\n        vertical-align: middle;\n    }\n\n    .dataframe tbody tr th {\n        vertical-align: top;\n    }\n\n    .dataframe thead th {\n        text-align: right;\n    }\n</style>\n<table border=\"1\" class=\"dataframe\">\n  <thead>\n    <tr style=\"text-align: right;\">\n      <th></th>\n      <th>mean</th>\n      <th>pos</th>\n      <th>cluster</th>\n      <th>freq</th>\n    </tr>\n  </thead>\n  <tbody>\n    <tr>\n      <th>mean</th>\n      <td>1.000000</td>\n      <td>-0.960734</td>\n      <td>-0.974148</td>\n      <td>0.110858</td>\n    </tr>\n    <tr>\n      <th>pos</th>\n      <td>-0.960734</td>\n      <td>1.000000</td>\n      <td>0.966942</td>\n      <td>-0.134135</td>\n    </tr>\n    <tr>\n      <th>cluster</th>\n      <td>-0.974148</td>\n      <td>0.966942</td>\n      <td>1.000000</td>\n      <td>-0.128819</td>\n    </tr>\n    <tr>\n      <th>freq</th>\n      <td>0.110858</td>\n      <td>-0.134135</td>\n      <td>-0.128819</td>\n      <td>1.000000</td>\n    </tr>\n  </tbody>\n</table>\n</div>"
     },
     "execution_count": 19,
     "metadata": {},
     "output_type": "execute_result"
    }
   ],
   "source": [
    "freq_ord = [freqs[t] for t in df['topic']]\n",
    "df['freq'] = freq_ord\n",
    "df.corr('pearson')"
   ],
   "metadata": {
    "collapsed": false,
    "pycharm": {
     "name": "#%%\n"
    }
   }
  },
  {
   "cell_type": "code",
   "execution_count": null,
   "outputs": [],
   "source": [
    "import plotly.express as px\n",
    "\n",
    "fig = px.scatter(ranking, y = 'mean', x='pos', color = 'cluster')\n",
    "fig.show()\n"
   ],
   "metadata": {
    "collapsed": false,
    "pycharm": {
     "name": "#%%\n"
    }
   }
  },
  {
   "cell_type": "code",
   "execution_count": null,
   "outputs": [],
   "source": [
    "means = ranking['mean']\n",
    "\n",
    "diff = [abs(a-b) for a, b in zip(means, means[1:])]"
   ],
   "metadata": {
    "collapsed": false,
    "pycharm": {
     "name": "#%%\n"
    }
   }
  },
  {
   "cell_type": "code",
   "execution_count": null,
   "outputs": [],
   "source": [
    "fig = px.line(x = range(len(diff)), y=diff)\n",
    "fig.show()\n"
   ],
   "metadata": {
    "collapsed": false,
    "pycharm": {
     "name": "#%%\n"
    }
   }
  }
 ],
 "metadata": {
  "kernelspec": {
   "display_name": "Python 3",
   "language": "python",
   "name": "python3"
  },
  "language_info": {
   "codemirror_mode": {
    "name": "ipython",
    "version": 2
   },
   "file_extension": ".py",
   "mimetype": "text/x-python",
   "name": "python",
   "nbconvert_exporter": "python",
   "pygments_lexer": "ipython2",
   "version": "2.7.6"
  }
 },
 "nbformat": 4,
 "nbformat_minor": 0
}