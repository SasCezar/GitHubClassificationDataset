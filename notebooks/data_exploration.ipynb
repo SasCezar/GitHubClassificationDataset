{
 "cells": [
  {
   "cell_type": "code",
   "execution_count": 1,
   "metadata": {
    "collapsed": true,
    "pycharm": {
     "name": "#%%\n"
    }
   },
   "outputs": [],
   "source": [
    "import pandas as pd\n",
    "\n",
    "df = pd.read_json('/home/sasce/PycharmProjects/GitHubClassificationDataset/data/classification_dataset.json', lines=True)\n",
    "#df = df.explode(['labels', 'levels'], ignore_index=True)"
   ]
  },
  {
   "cell_type": "code",
   "execution_count": 2,
   "outputs": [],
   "source": [
    "from collections import Counter\n",
    "\n",
    "counter = Counter()\n",
    "\n",
    "labels = df['labels'].to_list()"
   ],
   "metadata": {
    "collapsed": false,
    "pycharm": {
     "name": "#%%\n"
    }
   }
  },
  {
   "cell_type": "code",
   "execution_count": 3,
   "outputs": [],
   "source": [
    "flat_list = [item for sublist in labels for item in sublist]\n"
   ],
   "metadata": {
    "collapsed": false,
    "pycharm": {
     "name": "#%%\n"
    }
   }
  },
  {
   "cell_type": "code",
   "execution_count": 4,
   "outputs": [],
   "source": [
    "counter.update(flat_list)"
   ],
   "metadata": {
    "collapsed": false,
    "pycharm": {
     "name": "#%%\n"
    }
   }
  },
  {
   "cell_type": "code",
   "execution_count": 5,
   "outputs": [
    {
     "data": {
      "text/plain": "[('deep learning', 3505),\n ('machine learning', 3407),\n ('command-line interface', 2144),\n ('security', 1432),\n ('natural language processing', 1232),\n ('database', 1179),\n ('artificial neural network', 1161),\n ('computer vision', 1105),\n ('software testing', 1008),\n ('blockchain', 1002),\n ('video game', 986),\n ('convolutional neural network', 946),\n ('animation', 833),\n ('artificial intelligence', 823),\n ('user interface', 820),\n ('parsing', 804),\n ('algorithm', 747),\n ('World Wide Web', 737),\n ('application performance management', 665),\n ('bitcoin', 658),\n ('data science', 655),\n ('cryptocurrency', 648),\n ('serverless computing', 647),\n ('visualization', 615),\n ('microservices', 603),\n ('telecommunications network', 592),\n ('video game development', 563),\n ('digital image processing', 552),\n ('server', 538),\n ('video', 525),\n ('automation', 517),\n ('cryptography', 515),\n ('image', 504),\n ('internet of things', 496),\n ('authentication', 487),\n ('documentation', 470),\n ('reinforcement learning', 450),\n ('DevOps', 431),\n ('digital audio', 430),\n ('music', 428),\n ('functional programming', 426),\n ('front end', 425),\n ('mobile computing', 422),\n ('graphical user interface', 422),\n ('bioinformatics', 421),\n ('compiler', 416),\n ('deep neural network', 415),\n ('text editor', 403),\n ('logging', 380),\n ('client', 378),\n ('middleware', 366),\n ('data visualization', 365),\n ('content management system', 363),\n ('3D modeling', 357),\n ('real-time computing', 348),\n ('continuous integration', 346),\n ('web browser', 345),\n ('computer graphics', 343),\n ('data structure', 342),\n ('image segmentation', 341),\n ('web scraping', 336),\n ('graph', 334),\n ('penetration test', 334),\n ('robotics', 329),\n ('game engine', 326),\n ('chatbot', 324),\n ('Containerization', 310),\n ('email', 307),\n ('website', 301),\n ('generative adversarial network', 300),\n ('business dashboard', 297),\n ('data', 292),\n ('mathematical optimization', 283),\n ('statistics', 283),\n ('shell tool', 279),\n ('WebSocket', 278),\n ('encryption', 268),\n ('search', 260),\n ('object–relational mapping', 260),\n ('long short-term memory', 257),\n ('router', 255),\n ('streaming media', 251),\n ('mathematics', 250),\n ('unit testing', 250),\n ('analytics', 249),\n ('classification', 248),\n ('design', 246),\n ('object detection', 242),\n ('software architecture', 233),\n ('instant messaging', 228),\n ('web crawler', 228),\n ('dependency injection', 227),\n ('debugging', 225),\n ('font', 224),\n ('e-commerce', 220),\n ('translation', 219),\n ('camera', 215),\n ('data analysis', 211),\n ('computer configuration', 209),\n ('Home Assistant', 207),\n ('productivity', 203),\n ('big data', 203),\n ('computer data storage', 203),\n ('smart contract', 202),\n ('simulation', 202),\n ('home automation', 198),\n ('time series', 198),\n ('web application', 198),\n ('Reverse engineering', 198),\n ('virtual reality', 192),\n ('code generation', 191),\n ('backup', 190),\n ('static site generator', 187),\n ('distributed system', 187),\n ('recurrent neural network', 187),\n ('data mining', 184),\n ('back end', 183),\n ('deep reinforcement learning', 182),\n ('serialization', 179),\n ('file system', 179),\n ('benchmark', 179),\n ('education', 177),\n ('integrated development environment', 174),\n ('web server', 172),\n ('interpreter', 171),\n ('kernel', 168),\n ('HTTP server', 168),\n ('cluster analysis', 167),\n ('syntax highlighting', 165),\n ('Bidirectional recurrent neural networks', 165),\n ('geographic information system', 162),\n ('optical character recognition', 161),\n ('static program analysis tool', 161),\n ('finance', 158),\n ('face detection', 156),\n ('sentiment analysis', 156),\n ('package management system', 153),\n ('HTTP client', 153),\n ('software development', 149),\n ('Web Components', 148),\n ('data compression', 146),\n ('speech recognition', 142),\n ('image classification', 138),\n ('static website', 137),\n ('social network', 135),\n ('genetic algorithm', 130),\n ('augmented reality', 128),\n ('facial recognition system', 128),\n ('routing', 128),\n ('debugger', 125),\n ('physics', 125),\n ('game', 124),\n ('text classification', 123),\n ('regular expression', 123),\n ('genomics', 120),\n ('operating system', 119),\n ('software design pattern', 114),\n ('recommender system', 114),\n ('science', 114),\n ('reactive programming', 113),\n ('search engine', 113),\n ('virtual machine', 110),\n ('malware', 108),\n ('video tracking', 107),\n ('internet bot', 104),\n ('rendering', 103),\n ('computer programming', 103),\n ('validator', 101),\n ('simulator', 99),\n ('test automation', 98),\n ('geographic information', 98),\n ('web development', 97),\n ('linear algebra', 94),\n ('computer science', 93),\n ('digital security', 93),\n ('algorithmic trading', 92),\n ('unsupervised learning', 92),\n ('geometry', 91),\n ('graph algorithm', 89),\n ('scheduler', 88),\n ('regression analysis', 88),\n ('medical imaging', 87),\n ('image recognition', 86),\n ('continuous delivery', 85),\n ('text mining', 85),\n ('transfer learning', 83),\n ('password manager', 81),\n ('distributed computing', 78),\n ('extract, transform, load', 77),\n ('hacking tool', 75),\n ('static program analysis', 75),\n ('3D computer graphics', 73),\n ('named-entity recognition', 72),\n ('stock market', 71),\n ('continuous deployment', 71),\n ('logistic regression model', 69),\n ('Malware Analysis', 69),\n ('computational science', 69),\n ('Bayesian inference', 69),\n ('network analysis', 68),\n ('linear regression', 68),\n ('synchronization', 67),\n ('image editing', 66),\n ('audio player software', 65),\n ('random forest', 64),\n ('support vector machine', 64),\n ('signal processing', 64),\n ('astronomy', 64),\n ('plot', 64),\n ('generative model', 62),\n ('neuroscience', 62),\n ('virtualization', 62),\n ('game server', 61),\n ('neural network', 60),\n ('video processing', 58),\n ('question answering', 58),\n ('mobile application development', 55),\n ('computer benchmarking', 55),\n ('web service', 52),\n ('word embedding', 52),\n ('3D pose estimation', 51),\n ('natural language understanding', 51),\n ('image scaling', 50),\n ('lexical analysis', 50),\n ('embedded system', 49),\n ('mathematical finance', 48),\n ('autonomous car', 47),\n ('sorting algorithm', 47),\n ('collaborative filtering', 46),\n ('information retrieval', 46),\n ('quantum computer', 46),\n ('speech synthesis', 46),\n ('knowledge graph', 45),\n ('audio signal processing', 45),\n ('supervised learning', 45),\n ('engineering', 45),\n ('Image analysis', 44),\n ('anomaly detection', 44),\n ('text processing', 44),\n ('language model', 43),\n ('evolutionary algorithm', 43),\n ('autonomous driving', 43),\n ('Semantic Web', 42),\n ('graph neural network', 42),\n ('semi-supervised learning', 42),\n ('cloud computing', 42),\n ('information extraction', 40),\n ('text analysis', 40),\n ('graph database', 40),\n ('topic modeling', 40),\n ('Variational autoencoder', 39),\n ('misuse detection', 39),\n ('object-oriented programming', 39),\n ('Parser combinator', 38),\n ('RNA sequencing', 38),\n ('computational biology', 38),\n ('machine translation', 38),\n ('stream processing', 38),\n ('natural language', 37),\n ('human image synthesis', 37),\n ('natural language generation', 37),\n ('matrix decomposition', 37),\n ('Kalman filter', 37),\n ('feature engineering', 36),\n ('pattern matching', 36),\n ('emotion recognition', 36),\n ('network monitoring', 36),\n ('data binding', 36),\n ('image captioning', 35),\n ('web browser engine', 35),\n ('Q-learning', 35),\n ('network security', 35),\n ('Web content management system', 35),\n ('neural machine translation', 34),\n ('IRC bot', 34),\n ('activity recognition', 34),\n ('automated machine learning', 33),\n ('banking industry', 33),\n ('distributed multimedia communications platform', 33),\n ('image retrieval', 33),\n ('dimensionality reduction', 32),\n ('Naive Bayes classifier', 32),\n ('software engineering', 32),\n ('sequencing', 32),\n ('multiplayer game', 32),\n ('Articulated body pose estimation', 31),\n ('relationship extraction', 31),\n ('graphics engine', 31),\n ('schema migration', 30),\n ('hyperparameter optimization', 30),\n ('web application security', 30),\n ('File Transfer Protocol', 29),\n ('image compression', 29),\n ('edge computing', 29),\n ('phishing', 28),\n ('feature learning', 28),\n ('database management', 28),\n ('information security', 27),\n ('distributed database', 27),\n ('information processing', 26),\n ('electronic trading platform', 24)]"
     },
     "execution_count": 5,
     "metadata": {},
     "output_type": "execute_result"
    }
   ],
   "source": [
    "counter.most_common()"
   ],
   "metadata": {
    "collapsed": false,
    "pycharm": {
     "name": "#%%\n"
    }
   }
  },
  {
   "cell_type": "code",
   "execution_count": 6,
   "outputs": [],
   "source": [
    "\n",
    "import pandas as pd\n",
    "\n",
    "df = pd.read_json('/home/sasce/PycharmProjects/GitHubClassificationDataset/data/classification_dataset_v2.json', lines=True)\n",
    "#df = df.explode(['labels', 'levels'], ignore_index=True)"
   ],
   "metadata": {
    "collapsed": false,
    "pycharm": {
     "name": "#%%\n"
    }
   }
  },
  {
   "cell_type": "code",
   "execution_count": 7,
   "outputs": [],
   "source": [
    "from collections import Counter\n",
    "\n",
    "counter2 = Counter()\n",
    "\n",
    "labels = df['labels'].to_list()"
   ],
   "metadata": {
    "collapsed": false,
    "pycharm": {
     "name": "#%%\n"
    }
   }
  },
  {
   "cell_type": "code",
   "execution_count": 8,
   "outputs": [],
   "source": [
    "flat_list = [item for sublist in labels for item in sublist]\n"
   ],
   "metadata": {
    "collapsed": false,
    "pycharm": {
     "name": "#%%\n"
    }
   }
  },
  {
   "cell_type": "code",
   "execution_count": 9,
   "outputs": [],
   "source": [
    "counter2.update(flat_list)"
   ],
   "metadata": {
    "collapsed": false,
    "pycharm": {
     "name": "#%%\n"
    }
   }
  },
  {
   "cell_type": "code",
   "execution_count": 10,
   "outputs": [
    {
     "data": {
      "text/plain": "[('deep learning', 3508),\n ('machine learning', 3384),\n ('command-line interface', 2161),\n ('security', 1424),\n ('natural language processing', 1231),\n ('database', 1214),\n ('artificial neural network', 1165),\n ('computer vision', 1106),\n ('blockchain', 1047),\n ('video game', 1022),\n ('website', 1017),\n ('software testing', 1003),\n ('internet bot', 966),\n ('convolutional neural network', 963),\n ('data visualization', 932),\n ('animation', 851),\n ('user interface', 823),\n ('artificial intelligence', 815),\n ('parsing', 799),\n ('server', 789),\n ('deep neural network', 754),\n ('algorithm', 731),\n ('World Wide Web', 725),\n ('visualization', 663),\n ('application performance management', 662),\n ('cryptocurrency', 662),\n ('bitcoin', 656),\n ('serverless computing', 643),\n ('data science', 642),\n ('microservices', 616),\n ('telecommunications network', 587),\n ('web application', 579),\n ('video game development', 558),\n ('digital image processing', 551),\n ('video', 522),\n ('automation', 516),\n ('cryptography', 514),\n ('image', 511),\n ('authentication', 498),\n ('streaming media', 498),\n ('internet of things', 484),\n ('game engine', 459),\n ('documentation', 455),\n ('reinforcement learning', 450),\n ('compiler', 448),\n ('functional programming', 424),\n ('DevOps', 424),\n ('music', 424),\n ('digital audio', 423),\n ('bioinformatics', 421),\n ('graphical user interface', 420),\n ('client', 415),\n ('mobile computing', 415),\n ('graph', 412),\n ('3D computer graphics', 410),\n ('front end', 406),\n ('text editor', 403),\n ('cloud computing', 399),\n ('robotics', 391),\n ('logging', 381),\n ('search', 378),\n ('middleware', 372),\n ('web browser', 365),\n ('image segmentation', 356),\n ('content management system', 354),\n ('3D modeling', 353),\n ('data structure', 353),\n ('object detection', 352),\n ('object–relational mapping', 346),\n ('real-time computing', 346),\n ('chatbot', 344),\n ('continuous integration', 342),\n ('computer graphics', 341),\n ('mathematical optimization', 332),\n ('penetration test', 330),\n ('web scraping', 330),\n ('email', 326),\n ('generative adversarial network', 321),\n ('Containerization', 306),\n ('computer configuration', 300),\n ('business dashboard', 297),\n ('static site generator', 293),\n ('encryption', 287),\n ('WebSocket', 287),\n ('data', 286),\n ('statistics', 279),\n ('shell tool', 278),\n ('analytics', 264),\n ('embedded system', 260),\n ('long short-term memory', 257),\n ('unit testing', 257),\n ('router', 257),\n ('translation', 253),\n ('Web Components', 253),\n ('mathematics', 252),\n ('serialization', 250),\n ('classification', 247),\n ('design', 237),\n ('code generation', 236),\n ('font', 233),\n ('integrated development environment', 230),\n ('software architecture', 229),\n ('instant messaging', 228),\n ('web crawler', 227),\n ('Home Assistant', 225),\n ('dependency injection', 223),\n ('debugging', 221),\n ('virtual reality', 221),\n ('e-commerce', 219),\n ('Reverse engineering', 218),\n ('camera', 216),\n ('computer data storage', 213),\n ('simulation', 212),\n ('distributed computing', 209),\n ('data analysis', 207),\n ('home automation', 205),\n ('productivity', 203),\n ('syntax highlighting', 203),\n ('smart contract', 202),\n ('big data', 200),\n ('game', 200),\n ('time series', 198),\n ('backup', 193),\n ('data mining', 192),\n ('recurrent neural network', 188),\n ('sentiment analysis', 188),\n ('file system', 184),\n ('distributed system', 183),\n ('deep reinforcement learning', 182),\n ('benchmark', 181),\n ('face detection', 180),\n ('back end', 178),\n ('optical character recognition', 178),\n ('web server', 175),\n ('cluster analysis', 174),\n ('test automation', 172),\n ('education', 171),\n ('software design pattern', 170),\n ('kernel', 168),\n ('HTTP server', 168),\n ('scheduler', 168),\n ('interpreter', 168),\n ('Bidirectional recurrent neural networks', 165),\n ('geographic information system', 161),\n ('web application security', 160),\n ('data compression', 160),\n ('static program analysis tool', 160),\n ('finance', 158),\n ('Bayesian inference', 156),\n ('package management system', 155),\n ('sorting algorithm', 155),\n ('rendering', 154),\n ('HTTP client', 154),\n ('facial recognition system', 152),\n ('mobile application development', 147),\n ('speech recognition', 145),\n ('software development', 142),\n ('regular expression', 142),\n ('multiplayer game', 141),\n ('genetic algorithm', 140),\n ('static website', 136),\n ('social network', 136),\n ('image classification', 136),\n ('word embedding', 135),\n ('web development', 133),\n ('augmented reality', 131),\n ('recommender system', 129),\n ('routing', 127),\n ('physics', 126),\n ('debugger', 124),\n ('text classification', 122),\n ('genomics', 121),\n ('operating system', 121),\n ('computer programming', 116),\n ('reactive programming', 113),\n ('science', 113),\n ('search engine', 112),\n ('video tracking', 108),\n ('virtual machine', 108),\n ('malware', 108),\n ('audio signal processing', 103),\n ('validator', 102),\n ('medical imaging', 100),\n ('simulator', 99),\n ('geometry', 99),\n ('geographic information', 98),\n ('computer science', 97),\n ('algorithmic trading', 95),\n ('unsupervised learning', 95),\n ('linear algebra', 94),\n ('digital security', 93),\n ('graph algorithm', 88),\n ('topic modeling', 87),\n ('regression analysis', 87),\n ('text mining', 86),\n ('continuous delivery', 85),\n ('transfer learning', 84),\n ('web service', 83),\n ('hacking tool', 83),\n ('image recognition', 83),\n ('password manager', 81),\n ('Semantic Web', 77),\n ('Articulated body pose estimation', 77),\n ('extract, transform, load', 77),\n ('generative model', 77),\n ('image editing', 75),\n ('static program analysis', 75),\n ('support vector machine', 75),\n ('synchronization', 73),\n ('object-oriented programming', 73),\n ('named-entity recognition', 72),\n ('stock market', 71),\n ('continuous deployment', 71),\n ('Kalman filter', 71),\n ('plot', 71),\n ('RNA sequencing', 70),\n ('logistic regression model', 69),\n ('Malware Analysis', 69),\n ('Web content management system', 69),\n ('game server', 69),\n ('network analysis', 68),\n ('computational science', 68),\n ('audio player software', 68),\n ('linear regression', 67),\n ('random forest', 64),\n ('signal processing', 64),\n ('astronomy', 64),\n ('neuroscience', 62),\n ('virtualization', 62),\n ('collaborative filtering', 60),\n ('neural network', 60),\n ('video processing', 59),\n ('question answering', 57),\n ('information retrieval', 55),\n ('computer benchmarking', 55),\n ('autonomous car', 55),\n ('natural language understanding', 54),\n ('knowledge graph', 53),\n ('pattern matching', 52),\n ('image scaling', 51),\n ('3D pose estimation', 51),\n ('autonomous driving', 49),\n ('mathematical finance', 48),\n ('semi-supervised learning', 47),\n ('lexical analysis', 47),\n ('quantum computer', 47),\n ('speech synthesis', 47),\n ('Variational autoencoder', 46),\n ('supervised learning', 45),\n ('machine translation', 45),\n ('Image analysis', 44),\n ('language model', 44),\n ('anomaly detection', 44),\n ('evolutionary algorithm', 44),\n ('matrix decomposition', 44),\n ('human image synthesis', 44),\n ('graph database', 44),\n ('text processing', 44),\n ('engineering', 44),\n ('File Transfer Protocol', 43),\n ('graph neural network', 42),\n ('schema migration', 41),\n ('information extraction', 40),\n ('web browser engine', 40),\n ('natural language generation', 40),\n ('text analysis', 40),\n ('computational biology', 40),\n ('hyperparameter optimization', 40),\n ('Naive Bayes classifier', 39),\n ('emotion recognition', 39),\n ('misuse detection', 39),\n ('image captioning', 38),\n ('Parser combinator', 38),\n ('stream processing', 38),\n ('natural language', 37),\n ('Q-learning', 36),\n ('feature engineering', 36),\n ('network monitoring', 36),\n ('network security', 36),\n ('data binding', 35),\n ('activity recognition', 35),\n ('IRC bot', 34),\n ('neural machine translation', 33),\n ('automated machine learning', 33),\n ('image retrieval', 33),\n ('dimensionality reduction', 32),\n ('sequencing', 32),\n ('graphics engine', 32),\n ('banking industry', 31),\n ('relationship extraction', 31),\n ('distributed multimedia communications platform', 31),\n ('phishing', 30),\n ('image compression', 30),\n ('software engineering', 30),\n ('edge computing', 29),\n ('feature learning', 28),\n ('database management', 28),\n ('information security', 28),\n ('distributed database', 28),\n ('information processing', 26),\n ('electronic trading platform', 24)]"
     },
     "execution_count": 10,
     "metadata": {},
     "output_type": "execute_result"
    }
   ],
   "source": [
    "counter2.most_common()"
   ],
   "metadata": {
    "collapsed": false,
    "pycharm": {
     "name": "#%%\n"
    }
   }
  },
  {
   "cell_type": "code",
   "execution_count": 11,
   "outputs": [
    {
     "data": {
      "text/plain": "[('internet bot', 862),\n ('website', 716),\n ('data visualization', 567),\n ('web application', 381),\n ('cloud computing', 357),\n ('deep neural network', 339),\n ('3D computer graphics', 337),\n ('server', 251),\n ('streaming media', 247),\n ('embedded system', 211),\n ('game engine', 133),\n ('distributed computing', 131),\n ('web application security', 130),\n ('search', 118),\n ('object detection', 110),\n ('multiplayer game', 109),\n ('sorting algorithm', 108),\n ('static site generator', 106),\n ('Web Components', 105),\n ('mobile application development', 92),\n ('computer configuration', 91),\n ('Bayesian inference', 87),\n ('object–relational mapping', 86),\n ('word embedding', 83),\n ('scheduler', 80),\n ('graph', 78),\n ('game', 76),\n ('test automation', 74),\n ('serialization', 71),\n ('robotics', 62),\n ('audio signal processing', 58),\n ('software design pattern', 56),\n ('integrated development environment', 56),\n ('rendering', 51),\n ('mathematical optimization', 49),\n ('visualization', 48),\n ('topic modeling', 47),\n ('Articulated body pose estimation', 46),\n ('blockchain', 45),\n ('code generation', 45),\n ('syntax highlighting', 38),\n ('client', 37),\n ('video game', 36),\n ('web development', 36),\n ('database', 35),\n ('Semantic Web', 35),\n ('translation', 34),\n ('Web content management system', 34),\n ('object-oriented programming', 34),\n ('Kalman filter', 34),\n ('compiler', 32),\n ('sentiment analysis', 32),\n ('RNA sequencing', 32),\n ('web service', 31),\n ('virtual reality', 29),\n ('face detection', 24),\n ('facial recognition system', 24),\n ('generative adversarial network', 21),\n ('web browser', 20),\n ('chatbot', 20),\n ('Reverse engineering', 20),\n ('encryption', 19),\n ('email', 19),\n ('regular expression', 19),\n ('Home Assistant', 18),\n ('animation', 18),\n ('command-line interface', 17),\n ('convolutional neural network', 17),\n ('optical character recognition', 17),\n ('pattern matching', 16),\n ('analytics', 15),\n ('image segmentation', 15),\n ('recommender system', 15),\n ('generative model', 15),\n ('cryptocurrency', 14),\n ('data compression', 14),\n ('collaborative filtering', 14),\n ('File Transfer Protocol', 14),\n ('microservices', 13),\n ('computer programming', 13),\n ('medical imaging', 13),\n ('authentication', 11),\n ('schema migration', 11),\n ('data structure', 11),\n ('support vector machine', 11),\n ('computer data storage', 10),\n ('simulation', 10),\n ('genetic algorithm', 10),\n ('hyperparameter optimization', 10),\n ('WebSocket', 9),\n ('font', 9),\n ('information retrieval', 9),\n ('image editing', 9),\n ('data mining', 8),\n ('knowledge graph', 8),\n ('game server', 8),\n ('hacking tool', 8),\n ('geometry', 8),\n ('autonomous car', 8),\n ('home automation', 7),\n ('image', 7),\n ('cluster analysis', 7),\n ('unit testing', 7),\n ('Variational autoencoder', 7),\n ('matrix decomposition', 7),\n ('human image synthesis', 7),\n ('Naive Bayes classifier', 7),\n ('machine translation', 7),\n ('plot', 7),\n ('middleware', 6),\n ('synchronization', 6),\n ('autonomous driving', 6),\n ('file system', 5),\n ('web browser engine', 5),\n ('semi-supervised learning', 5),\n ('computer science', 4),\n ('artificial neural network', 4),\n ('graph database', 4),\n ('deep learning', 3),\n ('algorithmic trading', 3),\n ('user interface', 3),\n ('backup', 3),\n ('speech recognition', 3),\n ('image captioning', 3),\n ('audio player software', 3),\n ('augmented reality', 3),\n ('unsupervised learning', 3),\n ('emotion recognition', 3),\n ('natural language generation', 3),\n ('web server', 3),\n ('natural language understanding', 3),\n ('mathematics', 2),\n ('operating system', 2),\n ('phishing', 2),\n ('router', 2),\n ('package management system', 2),\n ('benchmark', 2),\n ('computational biology', 2),\n ('genomics', 1),\n ('transfer learning', 1),\n ('logging', 1),\n ('video tracking', 1),\n ('recurrent neural network', 1),\n ('image scaling', 1),\n ('language model', 1),\n ('computer vision', 1),\n ('social network', 1),\n ('Q-learning', 1),\n ('evolutionary algorithm', 1),\n ('HTTP client', 1),\n ('camera', 1),\n ('validator', 1),\n ('text mining', 1),\n ('physics', 1),\n ('quantum computer', 1),\n ('image compression', 1),\n ('information security', 1),\n ('network security', 1),\n ('video processing', 1),\n ('activity recognition', 1),\n ('speech synthesis', 1),\n ('graphics engine', 1),\n ('distributed database', 1)]"
     },
     "execution_count": 11,
     "metadata": {},
     "output_type": "execute_result"
    }
   ],
   "source": [
    "res = counter2 - counter\n",
    "\n",
    "res.most_common()"
   ],
   "metadata": {
    "collapsed": false,
    "pycharm": {
     "name": "#%%\n"
    }
   }
  },
  {
   "cell_type": "code",
   "execution_count": 12,
   "outputs": [
    {
     "data": {
      "text/plain": "8013"
     },
     "execution_count": 12,
     "metadata": {},
     "output_type": "execute_result"
    }
   ],
   "source": [
    "sum([x[1] for x in res.most_common()])\n"
   ],
   "metadata": {
    "collapsed": false,
    "pycharm": {
     "name": "#%%\n"
    }
   }
  },
  {
   "cell_type": "code",
   "execution_count": 13,
   "outputs": [
    {
     "data": {
      "text/plain": "144"
     },
     "execution_count": 13,
     "metadata": {},
     "output_type": "execute_result"
    }
   ],
   "source": [
    "sum([1 for x in res.most_common() if x[1] < 100])"
   ],
   "metadata": {
    "collapsed": false,
    "pycharm": {
     "name": "#%%\n"
    }
   }
  },
  {
   "cell_type": "code",
   "execution_count": 14,
   "outputs": [
    {
     "data": {
      "text/plain": "51"
     },
     "execution_count": 14,
     "metadata": {},
     "output_type": "execute_result"
    }
   ],
   "source": [
    "\n",
    "res['rendering']"
   ],
   "metadata": {
    "collapsed": false,
    "pycharm": {
     "name": "#%%\n"
    }
   }
  },
  {
   "cell_type": "code",
   "execution_count": null,
   "outputs": [],
   "source": [],
   "metadata": {
    "collapsed": false,
    "pycharm": {
     "name": "#%%\n"
    }
   }
  }
 ],
 "metadata": {
  "kernelspec": {
   "display_name": "Python 3",
   "language": "python",
   "name": "python3"
  },
  "language_info": {
   "codemirror_mode": {
    "name": "ipython",
    "version": 2
   },
   "file_extension": ".py",
   "mimetype": "text/x-python",
   "name": "python",
   "nbconvert_exporter": "python",
   "pygments_lexer": "ipython2",
   "version": "2.7.6"
  }
 },
 "nbformat": 4,
 "nbformat_minor": 0
}