{
 "cells": [
  {
   "cell_type": "code",
   "execution_count": 1,
   "outputs": [],
   "source": [
    "import json\n",
    "\n",
    "file_path = '../data/annotated_github_topics_wikidata.json'"
   ],
   "metadata": {
    "collapsed": false,
    "pycharm": {
     "name": "#%%\n"
    }
   }
  },
  {
   "cell_type": "code",
   "execution_count": 2,
   "outputs": [],
   "source": [
    "qids = {}\n",
    "with open(file_path, 'rt') as inf:\n",
    "    for line in inf:\n",
    "        obj = json.loads(line)\n",
    "        qids[obj['Wikidata ID']] = obj"
   ],
   "metadata": {
    "collapsed": false,
    "pycharm": {
     "name": "#%%\n"
    }
   }
  },
  {
   "cell_type": "code",
   "execution_count": 3,
   "outputs": [],
   "source": [
    "from wikidata.client import Client\n",
    "from collections import defaultdict, Counter\n",
    "\n",
    "client = Client()\n",
    "\n",
    "types = defaultdict(set)\n",
    "for q in qids:\n",
    "    entity = client.get(q, load=True)\n",
    "\n",
    "    try:\n",
    "        entity_types = entity.data['claims']['P31']\n",
    "    except:\n",
    "        continue\n",
    "\n",
    "    for etype in entity_types:\n",
    "        try:\n",
    "            type_id = etype['mainsnak']['datavalue']['value']['id']\n",
    "            type_title = client.get(type_id, load=True).label.texts['en']\n",
    "            types[q].add(type_id)\n",
    "        except:\n",
    "            continue\n"
   ],
   "metadata": {
    "collapsed": false,
    "pycharm": {
     "name": "#%%\n"
    }
   }
  },
  {
   "cell_type": "code",
   "execution_count": 4,
   "outputs": [],
   "source": [
    "file_path = '../data/reconciled-gittopic.json'\n",
    "\n",
    "i = 0\n",
    "duplicates = defaultdict(list)\n",
    "count = Counter()\n",
    "with open(file_path, 'rt') as inf:\n",
    "    for line in inf:\n",
    "        obj = json.loads(line)\n",
    "        candidates = obj['candidates']\n",
    "        for candidate in candidates:\n",
    "            candidate_types = set(candidate['types'].keys())\n",
    "            if candidate['id'] in qids and obj['frequency'] > 10:\n",
    "                i += 1\n",
    "                duplicates[candidate['id']].append(obj['term'])\n",
    "                count[candidate['id']] += obj['frequency']"
   ],
   "metadata": {
    "collapsed": false,
    "pycharm": {
     "name": "#%%\n"
    }
   }
  },
  {
   "cell_type": "code",
   "execution_count": 5,
   "outputs": [
    {
     "data": {
      "text/plain": "133050"
     },
     "execution_count": 5,
     "metadata": {},
     "output_type": "execute_result"
    }
   ],
   "source": [
    "sum(count.values())"
   ],
   "metadata": {
    "collapsed": false,
    "pycharm": {
     "name": "#%%\n"
    }
   }
  },
  {
   "cell_type": "code",
   "execution_count": 6,
   "outputs": [
    {
     "data": {
      "text/plain": "defaultdict(list,\n            {'Q197536': ['deep-learning',\n              'deeplearning',\n              'deep-learning-tutorial',\n              'hierarchical-data',\n              'deep-q-learning',\n              'deeplearning-ai',\n              'hierarchical',\n              'machine-learning-tutorials'],\n             'Q2539': ['machine-learning',\n              'ml',\n              'machinelearning',\n              'datascience',\n              'statistical-learning',\n              'scientific-machine-learning'],\n             'Q189053': ['cli',\n              'command-line',\n              'commandline',\n              'commands',\n              'cli-command',\n              'command-line-interface',\n              'commandline-interface'],\n             'Q2526135': ['security'],\n             'Q8513': ['database',\n              'bdd',\n              'db',\n              'databases',\n              'base64',\n              'stock-data'],\n             'Q20514253': ['blockchain', 'blockchain-technology', 'chainer'],\n             'Q844240': ['computer-vision', 'computervision'],\n             'Q188522': ['testing', 'software-testing'],\n             'Q7889': ['game',\n              'game-2d',\n              'videos',\n              '2d-game',\n              'video-game',\n              'video-games',\n              '3d-game'],\n             'Q11410': ['game',\n              'games',\n              'gaming',\n              'game-2d',\n              '2d-game',\n              'play',\n              'html-form',\n              '3d-game'],\n             'Q30642': ['nlp',\n              'natural-language-processing',\n              'natural-language',\n              'language-processing'],\n             'Q191865': ['bot',\n              'robot',\n              'chat-application',\n              'tasks',\n              'chat-bot'],\n             'Q47146': ['ui', 'user-interface', 'input-method', 'interfaces'],\n             'Q11425': ['animation',\n              'animations',\n              'animated',\n              'animate',\n              'animation-3d'],\n             'Q192776': ['neural-network',\n              'neural-networks',\n              'artificial-neural-networks',\n              'deep-q-network',\n              'neural',\n              'ann',\n              'p2p-network',\n              'snn'],\n             'Q466': ['web', 'web3', 'web3j'],\n             'Q35127': ['web',\n              'website',\n              'web3',\n              'websites',\n              'homepage',\n              'loading-bar'],\n             'Q131723': ['bitcoin', 'btc', 'bitcoin-cash', 'validators'],\n             'Q13479982': ['cryptocurrency',\n              'cryptocurrencies',\n              'cryptocurrency-exchanges',\n              'verify'],\n             'Q2374463': ['data-science', 'datascience', 'data-driven'],\n             'Q17012863': ['monitoring',\n              'apm',\n              'application-monitoring',\n              'monitor-performance'],\n             'Q451553': ['visualization',\n              'visualisation',\n              'visualizer',\n              'd3-visualization',\n              'imaging',\n              'visualizations'],\n             'Q6504956': ['visualization',\n              'data-visualization',\n              'visualisation',\n              'dataviz',\n              'data-visualisation',\n              'data-viz'],\n             'Q1070689': ['image-processing', 'photoshop'],\n             'Q17084460': ['convolutional-neural-networks',\n              'cnn',\n              'convolutional-networks',\n              'convolutional-neural-network',\n              'convolution',\n              'deep-convolutional-networks',\n              'convnet'],\n             'Q24410992': ['automation'],\n             'Q194152': ['parser', 'parsing', 'parsers'],\n             'Q98069877': ['video'],\n             'Q44127': ['server',\n              'service',\n              'proxy-server',\n              'dns-server',\n              'web-server',\n              'server-side',\n              'network-server',\n              'ftp-server',\n              'application-server',\n              'servers',\n              'dedicated-server',\n              'dns-client'],\n             'Q11660': ['artificial-intelligence', 'ai', 'taxize'],\n             'Q212108': ['authentication', 'logout', 'authenticator'],\n             'Q251212': ['iot', 'internet-of-things'],\n             'Q8366': ['algorithm', 'algorithms', 'how-to', 'calculations'],\n             'Q788790': ['documentation'],\n             'Q830687': ['reinforcement-learning'],\n             'Q70507976': ['frontend', 'front-end'],\n             'Q782543': ['gui',\n              'graphical-user-interface',\n              'graphical-interface'],\n             'Q638': ['music'],\n             'Q3025536': ['devops'],\n             'Q47506': ['compiler',\n              'code-generator',\n              'compilers',\n              'compile',\n              'compiler-construction'],\n             'Q193076': ['functional-programming',\n              'fp',\n              'functional-languages',\n              'functional-language'],\n             'Q51289900': ['deep-neural-networks',\n              'neural-networks',\n              'dnn',\n              'deep-q-network',\n              'deep-neural-network'],\n             'Q1061635': ['game-development',\n              'gamedev',\n              'game-2d',\n              'game-dev',\n              '2d-game'],\n             'Q29649691': ['logging'],\n             'Q483639': ['cloud', 'cloud-computing'],\n             'Q128570': ['bioinformatics'],\n             'Q528166': ['client', 'client-side'],\n             'Q478798': ['image',\n              'images',\n              'picture',\n              'stackoverflow',\n              'pos-tagger'],\n             'Q568742': ['3d', 'modeling'],\n             'Q6368': ['browser', 'webbrowser', 'browse'],\n             'Q131093': ['cms',\n              'content-management',\n              'content-management-system',\n              'learning-management-system'],\n             'Q8789': ['cryptography', 'crypto'],\n             'Q146768': ['middleware', 'middlewares'],\n             'Q131212': ['editor', 'text-editor', 'text-adventure'],\n             'Q189177': ['graphics', '3d-graphics', 'animation-3d'],\n             'Q859938': ['websocket',\n              'websockets',\n              'fetch-api',\n              'whatwg',\n              'websocket-api',\n              'tcp-socket'],\n             'Q141488': ['graph', 'graphs', 'network-graph'],\n             'Q18344624': ['microservices',\n              'microservice',\n              'microservices-architecture'],\n             'Q193564': ['game-engine',\n              'engine',\n              '3d-engine',\n              '3d-game-engine',\n              'game-engine-3d',\n              '3d-game',\n              'gameengine'],\n             'Q870780': ['chatbot',\n              'chatbots',\n              'chat-bot',\n              'conversational-ai',\n              'conversational-ui',\n              'conversational-bots'],\n             'Q170978': ['robotics', 'robot'],\n             'Q4343952': ['dashboard'],\n             'Q58199': ['chat', 'messaging', 'instant-messaging', 'im'],\n             'Q494756': ['data'],\n             'Q175263': ['data-structures', 'data-structure', 'datastructure'],\n             'Q12483': ['statistics', 'stackexchange'],\n             'Q4544684': ['search', 'research'],\n             'Q141090': ['encryption', 'encrypt', 'plaintext'],\n             'Q105273027': ['command-line-tool',\n              'cli-app',\n              'command-line-app',\n              'cli-utilities',\n              'command-line-tools',\n              'cli-command',\n              'cli-tool',\n              'cli-utility'],\n             'Q58748': ['orm', 'mapping'],\n             'Q82604': ['design', 'styling'],\n             'Q9158': ['email', 'mail', 'emails', 'pos-tagger'],\n             'Q6673524': ['lstm', 'lstm-neural-networks', 'memory-network'],\n             'Q141495': ['optimization',\n              'optimizer',\n              'programmer',\n              'optimize',\n              'optimisation',\n              'mathematical-programming'],\n             'Q3045304': ['object-detection', 'detection'],\n             'Q5318': ['router'],\n             'Q189210': ['webapp',\n              'application',\n              'web-application',\n              'web-app',\n              'webapps',\n              'web-interface',\n              'applicative'],\n             'Q485396': ['analytics', 'data-analytics'],\n             'Q13582682': ['classification'],\n             'Q25104379': ['gan',\n              'generative-adversarial-network',\n              'generative-adversarial-networks',\n              'adversarial-networks',\n              'adversarial-learning'],\n             'Q220499': ['streaming',\n              'stream',\n              'streams',\n              'video-streaming',\n              'web-audio',\n              'livestream',\n              'live-streaming',\n              'streaming-video',\n              'streaming-data',\n              'streaming-audio',\n              'audio-streaming',\n              'video-stream'],\n             'Q45842': ['crawler',\n              'spider',\n              'web-crawler',\n              'ant',\n              'web-crawling',\n              'webcrawler',\n              'web-spider'],\n             'Q1988917': ['data-analysis'],\n             'Q635336': ['dependency-injection', 'di'],\n             'Q336': ['vue2', 'science', 'builds'],\n             'Q15328': ['camera'],\n             'Q66221': ['storage', 'memory', 'memoize'],\n             'Q7544035': ['smart-contracts', 'smart-contract'],\n             'Q7553': ['translation', 'translate', 'translations'],\n             'Q965769': ['continuous-integration', 'ci'],\n             'Q269608': ['reverse-engineering', 'reverse'],\n             'Q4868296': ['font', 'font-size'],\n             'Q2111958': ['productivity'],\n             'Q1781447': ['configuration', 'config'],\n             'Q3988': ['real-time', 'realtime'],\n             'Q8434': ['education'],\n             'Q193040': ['embedded',\n              'embeddings',\n              'embedded-systems',\n              'embed',\n              'embedding',\n              'embeddable',\n              'embedded-c'],\n             'Q28957018': ['home-assistant', 'homeassistant'],\n             'Q1501923': ['pentesting',\n              'penetration-testing',\n              'pentest',\n              'pentesters'],\n             'Q1127410': ['serialization',\n              'serializer',\n              'deserialization',\n              'serialize',\n              'materialize',\n              'deserialize'],\n             'Q77916592': ['static-site-generator',\n              'static-site',\n              'static-website',\n              'site-generator'],\n             'Q3962217': ['distributed-systems'],\n             'Q848436': ['home-automation', 'smart-home', 'homeautomation'],\n             'Q13741': ['ide',\n              'development-environment',\n              'integrated-development-environment'],\n             'Q484847': ['ecommerce',\n              'e-commerce',\n              'online-shop',\n              'http-handler'],\n             'Q45045': ['simulation', 'simulations'],\n             'Q907375': ['unit-testing',\n              'test-framework',\n              'unittest',\n              'unit-test',\n              'validators',\n              'unittesting'],\n             'Q28061130': ['static-analysis',\n              'static-code-analysis',\n              'code-analysis',\n              'static-analyzer'],\n             'Q798332': ['backend'],\n             'Q816747': ['benchmark', 'performance-test'],\n             'Q194274': ['backup', 'restore', 'backups'],\n             'Q1457734': ['rnn',\n              'graph-neural-network',\n              'recurrent-neural-network'],\n             'Q55080229': ['deep-reinforcement-learning', 'deep-q-learning'],\n             'Q18287040': ['http-server'],\n             'Q395': ['math', 'mathematics'],\n             'Q43015': ['finance'],\n             'Q183065': ['interpreter'],\n             'Q56933': ['segmentation',\n              'semantic-segmentation',\n              'image-segmentation',\n              'instance-segmentation'],\n             'Q174989': ['filesystem', 'fs', 'stock-data', 'file-system'],\n             'Q622825': ['clustering', 'stackoverflow', 'clusters'],\n             'Q9662': ['kernel'],\n             'Q25112138': ['recurrent-neural-networks'],\n             'Q11681085': ['face-detection', 'detection', 'detect'],\n             'Q2271421': ['sentiment-analysis',\n              'datascience',\n              'text-analysis',\n              'language-detection',\n              'text-detection'],\n             'Q858810': ['big-data', 'bigdata'],\n             'Q747907': ['syntax-highlighting',\n              'highlighting',\n              'syntax-highlighter'],\n             'Q2979024': ['http-client'],\n             'Q186588': ['time-series'],\n             'Q22725': ['routing'],\n             'Q98526763': ['image-classification'],\n             'Q989016': ['distributed', 'bdd', 'distributed-database'],\n             'Q180634': ['distributed', 'distributed-computing'],\n             'Q21198': ['examples',\n              'computer-science',\n              'automated',\n              'computing',\n              'datalog'],\n             'Q2493': ['compression', 'compress'],\n             'Q170519': ['vr', 'virtual-reality', 'virtual', 'virtualreality'],\n             'Q483130': ['gis', 'system-information'],\n             'Q167555': ['ocr',\n              'text-recognition',\n              'optical-character-recognition',\n              'ocr-recognition'],\n             'Q18217380': ['web-components',\n              'webcomponents',\n              'custom-elements',\n              'html-template',\n              'web-component',\n              'shadow-dom',\n              'custom-components',\n              'webcomponent'],\n             'Q891055': ['package-manager',\n              'dependency-manager',\n              'package-management'],\n             'Q758895': ['music-player', 'audio-player'],\n             'Q187787': ['genetic-algorithm',\n              'competitive-programming',\n              'optimize',\n              'genetic-algorithms',\n              'searching-algorithms'],\n             'Q254183': ['augmented-reality', 'ar', 'generate'],\n             'Q172491': ['data-mining', 'datamining', 'kdd'],\n             'Q52720701': ['static-site', 'static-website'],\n             'Q2715623': ['social-network'],\n             'Q193231': ['debugger',\n              'debug',\n              'debugging-tool',\n              'debugging-tools'],\n             'Q845566': ['debug', 'debugging', 'jest-tests'],\n             'Q11288': ['webserver',\n              'web-server',\n              'stackoverflow',\n              'https-server',\n              'httpd',\n              'http3',\n              'servers'],\n             'Q102190569': ['text-classification'],\n             'Q1192553': ['face-recognition', 'facial-recognition'],\n             'Q189436': ['speech-recognition',\n              'speech-to-text',\n              'text-to-speech',\n              'reconnaissance',\n              'asr',\n              'text-recognition',\n              'stackexchange',\n              'automatic-speech-recognition'],\n             'Q9135': ['operating-system', 'os'],\n             'Q1509541': ['web-application',\n              'web-security',\n              'application-security',\n              'web-application-security'],\n             'Q4354073': ['reactive-programming'],\n             'Q413': ['physics'],\n             'Q185612': ['regex',\n              'regular-expression',\n              'regexp',\n              'regular-expressions',\n              'string-search'],\n             'Q2988038': ['mobile-app', 'mobile-development'],\n             'Q222046': ['genomics'],\n             'Q19541': ['search-engine'],\n             'Q14001': ['malware'],\n             'Q80006': ['programming', 'programmer'],\n             'Q665452': ['scraping',\n              'web-scraping',\n              'webscraping',\n              'scraping-websites',\n              'data-extraction',\n              'extract-data'],\n             'Q181156': ['design-patterns',\n              'pattern',\n              'design-pattern',\n              'programmer'],\n             'Q209075': ['multiplayer', 'multiplayer-game'],\n             'Q1475717': ['test-automation',\n              'test-framework',\n              'tests',\n              'automation-framework',\n              'automation-test'],\n             'Q1061077': ['code-generation',\n              'code-generator',\n              'codegen',\n              'codegenerator',\n              'form-generator'],\n             'Q192726': ['virtual-machine', 'vm'],\n             'Q1575458': ['validator'],\n             'Q176953': ['rendering',\n              'render',\n              'renderer',\n              'graphics-rendering'],\n             'Q386275': ['web-development', 'webdevelopment', 'webdev'],\n             'Q189900': ['infosec', 'information-security'],\n             'Q2507377': ['continuous-delivery', 'continuous-testing'],\n             'Q6027324': ['transfer-learning'],\n             'Q1152135': ['unsupervised-learning',\n              'unsupervised-machine-learning'],\n             'Q5276156': ['cybersecurity'],\n             'Q82571': ['linear-algebra'],\n             'Q1123036': ['scheduler', 'schedule', 'scheduling'],\n             'Q2057931': ['simulator'],\n             'Q8087': ['geometry'],\n             'Q554950': ['recommender-system',\n              'recommendation-system',\n              'recommendation-engine',\n              'recommender-systems',\n              'recommendation',\n              'recommender'],\n             'Q208042': ['regression', 'estimate'],\n             'Q30503704': ['graph-algorithms'],\n             'Q931309': ['medical-imaging', 'imaging'],\n             'Q79872': ['oop',\n              'object-oriented',\n              'object-oriented-programming',\n              'obj'],\n             'Q676880': ['text-mining', 'extract-data'],\n             'Q181593': ['sort',\n              'sorting-algorithms',\n              'sorting',\n              'algorithms-implemented'],\n             'Q1276130': ['etl', 'extract-data'],\n             'Q28038508': ['image-recognition'],\n             'Q1281199': ['password-manager'],\n             'Q57261400': ['continuous-deployment'],\n             'Q3125508': ['hacking-tool', 'hacking-tools'],\n             'Q3958022': ['faas',\n              'serverless-functions',\n              'cloud-functions',\n              'functions-as-a-service'],\n             'Q1329550': ['static-code-analysis', 'code-analysis'],\n             'Q741490': ['self-driving-car',\n              'autonomous',\n              'autonomous-car',\n              'self-driving-cars'],\n             'Q79798': ['datascience', 'machine-translation'],\n             'Q4417999': ['network-analysis', 'graph-analysis'],\n             'Q18395344': ['embeddings',\n              'word-embeddings',\n              'embedding',\n              'word-embedding'],\n             'Q42283': ['ftp',\n              'tcp-server',\n              'tcp-client',\n              'ftp-client',\n              'file-transfer',\n              'network-client',\n              'ftp-server'],\n             'Q117801': ['scientific-computing'],\n             'Q475000': ['stock-market', 'stock-trading'],\n             'Q403574': ['named-entity-recognition',\n              'ner',\n              'text-recognition',\n              'entity-extraction',\n              'mentions',\n              'text-extraction'],\n             'Q15731404': ['malware-analysis'],\n             'Q650462': ['synchronization'],\n             'Q1474611': ['plot', 'plots'],\n             'Q1074173': ['question-answering', 'qa'],\n             'Q10861030': ['linear-regression'],\n             'Q812535': ['bayesian-inference',\n              'inference',\n              'bayesian',\n              'bayes'],\n             'Q208163': ['signal-processing'],\n             'Q2719318': ['signal-processing', 'audio-processing'],\n             'Q1132755': ['logistic-regression'],\n             'Q3536669': ['video-processing'],\n             'Q1315933': ['game-server', 'gameserver'],\n             'Q5532625': ['generative-model', 'generative'],\n             'Q139445': ['algorithmic-trading',\n              'trading-algorithms',\n              'forex',\n              'algotrading',\n              'algo-trading',\n              'hft',\n              'automated-trading',\n              'hft-trading'],\n             'Q333': ['astronomy'],\n             'Q270471': ['virtualization', 'virtual'],\n             'Q4636322': ['pose-estimation'],\n             'Q4800952': ['pose-estimation'],\n             'Q245748': ['random-forest', 'randomizer'],\n             'Q282453': ['svm',\n              'vectorization',\n              'support-vector-machines',\n              'support-vector-machine'],\n             'Q816826': ['information-retrieval', 'retrieval'],\n             'Q16346': ['text-to-speech', 'speech-synthesis'],\n             'Q193424': ['webservice',\n              'webservices',\n              'web-services',\n              'web-service'],\n             'Q207011': ['neuroscience'],\n             'Q1078276': ['natural-language-understanding', 'nlu'],\n             'Q373442': ['renderer',\n              'rendering-engine',\n              '3d-engine',\n              'layout-engine',\n              'software-rendering',\n              'html-renderer'],\n             'Q335632': ['quantitative-finance', 'quantitative-trading'],\n             'Q440296': ['super-resolution',\n              'resize-images',\n              'image-resizer',\n              'zoom-images',\n              'superresolution'],\n             'Q3621696': ['language-model'],\n             'Q334384': ['supervised-learning'],\n             'Q2006448': ['stream-processing'],\n             'Q595971': ['graph-database'],\n             'Q11023': ['engineering'],\n             'Q104537917': ['performance-testing', 'performance-test'],\n             'Q14802672': ['text-processing'],\n             'Q835922': ['lexer',\n              'tokenizer',\n              'tokenization',\n              'lexical-analysis'],\n             'Q860755': ['image-analysis'],\n             'Q14489129': ['evolutionary-algorithms',\n              'evolutionary-algorithm'],\n             'Q94702': ['collaborative-filtering', 'collaborative'],\n             'Q3560506': ['anomaly-detection', 'outlier-detection'],\n             'Q19835007': ['autonomous-driving',\n              'autonomous-car',\n              'self-driving-cars'],\n             'Q107300377': ['vae',\n              'variational-autoencoder',\n              'variational-autoencoders'],\n             'Q1965787': ['network-monitoring'],\n             'Q33002955': ['knowledge-graph', 'graphing'],\n             'Q45211': ['content-management', 'content-management-system'],\n             'Q96468792': ['modeling', 'topic-modeling'],\n             'Q1041418': ['semi-supervised-learning'],\n             'Q54837': ['semantic', 'semantic-web'],\n             'Q176555': ['quantum-computing'],\n             'Q43967068': ['automl', 'automated-machine-learning'],\n             'Q33742': ['nlu', 'natural-language'],\n             'Q22245680': ['feature-engineering'],\n             'Q1513879': ['text-generation',\n              'natural-language-generation',\n              'nlg'],\n             'Q1339090': ['emotion-recognition'],\n             'Q1361088': ['matrix-factorization', 'factorization'],\n             'Q2664563': ['q-learning'],\n             'Q1662562': ['information-extraction', 'ie', 'text-extraction'],\n             'Q6880649': ['vulnerability-detection'],\n             'Q67224805': ['text-analysis'],\n             'Q25053937': ['neural-machine-translation', 'nmt'],\n             'Q750843': ['data-processing'],\n             'Q846780': ['kalman-filter', 'filtering', 'estimation'],\n             'Q65647244': ['iot-platform'],\n             'Q17013334': ['representation-learning'],\n             'Q3293547': ['data-binding'],\n             'Q177005': ['computational-biology'],\n             'Q2542347': ['rna-seq', 'sequencing', 'sequence-analysis'],\n             'Q10927554': ['image-retrieval'],\n             'Q989632': ['network-security', 'netsec'],\n             'Q778043': ['trading-platform', 'trading-systems'],\n             'Q7139956': ['parser-combinators'],\n             'Q812530': ['naive-bayes-classifier', 'naive-bayes'],\n             'Q39161486': ['image-captioning'],\n             'Q28374376': ['hyperparameter-optimization',\n              'hyperparameter-tuning',\n              'hyperparameters'],\n             'Q1503724': ['pattern-matching', 'matching'],\n             'Q806718': ['banking'],\n             'Q16000077': ['dimensionality-reduction', 'reducers'],\n             'Q135005': ['phishing'],\n             'Q1764062': ['sequencing'],\n             'Q412438': ['image-compression'],\n             'Q107643461': ['database-management'],\n             'Q80993': ['software-engineering'],\n             'Q355134': ['graphics-engine', '3d-engine'],\n             'Q7431119': ['database-migrations',\n              'database-schema',\n              'schema-migrations'],\n             'Q5337692': ['edge-computing'],\n             'Q507703': ['irc-bot', 'chat-bot', 'irc-client'],\n             'Q7310755': ['relation-extraction', 'text-extraction'],\n             'Q107630377': ['containerization'],\n             'Q4677630': ['activity-recognition'],\n             'Q545981': ['image-editor',\n              'photo-editing',\n              'editing',\n              'photo-editor'],\n             'Q107750691': ['graph-neural-network', 'network-graph'],\n             'Q638608': ['software-development'],\n             'Q846636': ['software-architecture'],\n             'Q1931635': ['location-tracking']})"
     },
     "execution_count": 6,
     "metadata": {},
     "output_type": "execute_result"
    }
   ],
   "source": [
    "duplicates"
   ],
   "metadata": {
    "collapsed": false,
    "pycharm": {
     "name": "#%%\n"
    }
   }
  },
  {
   "cell_type": "code",
   "execution_count": null,
   "outputs": [],
   "source": [],
   "metadata": {
    "collapsed": false,
    "pycharm": {
     "name": "#%%\n"
    }
   }
  }
 ],
 "metadata": {
  "kernelspec": {
   "display_name": "Python 3",
   "language": "python",
   "name": "python3"
  },
  "language_info": {
   "codemirror_mode": {
    "name": "ipython",
    "version": 2
   },
   "file_extension": ".py",
   "mimetype": "text/x-python",
   "name": "python",
   "nbconvert_exporter": "python",
   "pygments_lexer": "ipython2",
   "version": "2.7.6"
  }
 },
 "nbformat": 4,
 "nbformat_minor": 0
}