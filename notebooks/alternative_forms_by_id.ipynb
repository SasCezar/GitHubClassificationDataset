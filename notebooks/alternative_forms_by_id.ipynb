{
 "cells": [
  {
   "cell_type": "code",
   "execution_count": 4,
   "outputs": [],
   "source": [
    "import json\n",
    "\n",
    "file_path = '../data/annotated_github_topics_wikidata.json'"
   ],
   "metadata": {
    "collapsed": false,
    "pycharm": {
     "name": "#%%\n"
    }
   }
  },
  {
   "cell_type": "code",
   "execution_count": 5,
   "outputs": [],
   "source": [
    "qids = {}\n",
    "with open(file_path, 'rt') as inf:\n",
    "    for line in inf:\n",
    "        obj = json.loads(line)\n",
    "        qids[obj['Wikidata ID']] = obj"
   ],
   "metadata": {
    "collapsed": false,
    "pycharm": {
     "name": "#%%\n"
    }
   }
  },
  {
   "cell_type": "code",
   "execution_count": 6,
   "outputs": [],
   "source": [
    "# from wikidata.client import Client\n",
    "from collections import defaultdict, Counter\n",
    "#\n",
    "# client = Client()\n",
    "#\n",
    "# types = defaultdict(set)\n",
    "# for q in qids:\n",
    "#     entity = client.get(q, load=True)\n",
    "#\n",
    "#     try:\n",
    "#         entity_types = entity.data['claims']['P31']\n",
    "#     except:\n",
    "#         continue\n",
    "#\n",
    "#     for etype in entity_types:\n",
    "#         try:\n",
    "#             type_id = etype['mainsnak']['datavalue']['value']['id']\n",
    "#             type_title = client.get(type_id, load=True).label.texts['en']\n",
    "#             types[q].add(type_id)\n",
    "#         except:\n",
    "#             continue\n"
   ],
   "metadata": {
    "collapsed": false,
    "pycharm": {
     "name": "#%%\n"
    }
   }
  },
  {
   "cell_type": "code",
   "execution_count": 9,
   "outputs": [],
   "source": [
    "file_path = '../data/reconciled-gittopic.json'\n",
    "\n",
    "i = 0\n",
    "duplicates = defaultdict(list)\n",
    "count = Counter()\n",
    "with open(file_path, 'rt') as inf:\n",
    "    for line in inf:\n",
    "        obj = json.loads(line)\n",
    "        candidates = obj['candidates']\n",
    "        for candidate in candidates:\n",
    "            candidate_types = set(candidate['types'].keys())\n",
    "            if candidate['id'] in qids and obj['frequency'] > 10:\n",
    "                i += 1\n",
    "                duplicates[candidate['id']].append(obj['term'])\n",
    "                count[candidate['id']] += obj['frequency']"
   ],
   "metadata": {
    "collapsed": false,
    "pycharm": {
     "name": "#%%\n"
    }
   }
  },
  {
   "cell_type": "code",
   "execution_count": 8,
   "outputs": [
    {
     "data": {
      "text/plain": "124524"
     },
     "execution_count": 8,
     "metadata": {},
     "output_type": "execute_result"
    }
   ],
   "source": [
    "sum(count.values())"
   ],
   "metadata": {
    "collapsed": false,
    "pycharm": {
     "name": "#%%\n"
    }
   }
  }
 ],
 "metadata": {
  "kernelspec": {
   "display_name": "Python 3",
   "language": "python",
   "name": "python3"
  },
  "language_info": {
   "codemirror_mode": {
    "name": "ipython",
    "version": 2
   },
   "file_extension": ".py",
   "mimetype": "text/x-python",
   "name": "python",
   "nbconvert_exporter": "python",
   "pygments_lexer": "ipython2",
   "version": "2.7.6"
  }
 },
 "nbformat": 4,
 "nbformat_minor": 0
}