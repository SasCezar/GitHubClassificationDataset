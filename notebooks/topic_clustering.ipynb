{
 "cells": [
  {
   "cell_type": "code",
   "execution_count": 8,
   "metadata": {
    "collapsed": true
   },
   "outputs": [],
   "source": [
    "import numpy as np\n",
    "import pandas\n",
    "\n",
    "ranking_path = \"/home/sasce/PycharmProjects/GitHubClassificationDataset/data/pairrank/mean_std_ranking.csv\"\n",
    "ranking = pandas.read_csv(ranking_path)\n",
    "ranking['description'] = ranking['description'].fillna('')\n",
    "ranking['topic_desc'] = ranking['topic'] + ' ' + ranking['description']\n",
    "embedding_key = 'topic_desc'\n",
    "cluster_feature = 'mean'"
   ]
  },
  {
   "cell_type": "code",
   "execution_count": 15,
   "outputs": [],
   "source": [
    "from src.ml.embeddings import FastTextEmbedding, W2VEmbedding, BERTEmbedding\n",
    "\n",
    "#embedding = FastTextEmbedding('/home/sasce/PycharmProjects/ComponentSemantics/data/models/fastText/wiki.en.bin')\n",
    "#embedding = W2VEmbedding('/home/sasce/PycharmProjects/GitHubClassificationDataset/data/models/github_pbg_w2v.vec', size=200)\n",
    "\n",
    "embedding = BERTEmbedding('en_core_web_lg')\n"
   ],
   "metadata": {
    "collapsed": false,
    "pycharm": {
     "name": "#%%\n"
    }
   }
  },
  {
   "cell_type": "code",
   "execution_count": 20,
   "outputs": [
    {
     "data": {
      "text/plain": "array([ 4.3798e-02,  2.4779e-02, -2.0937e-01,  4.9745e-01,  3.6019e-01,\n       -3.7503e-01, -5.2078e-02, -6.0555e-01,  3.6744e-02,  2.2085e+00,\n       -2.3389e-01, -6.8360e-02, -2.2355e-01, -5.3989e-02, -1.5198e-01,\n       -1.7319e-01,  5.3355e-02,  1.6485e+00, -4.7991e-02, -8.5311e-02,\n       -1.5712e-01, -6.4425e-01, -3.9819e-01,  2.7800e-01,  1.5364e-01,\n        3.1678e-02,  5.5414e-02,  1.5939e-02,  3.1851e-01, -5.8979e-02,\n        3.8584e-02,  1.0770e-01,  1.0410e-01, -7.7346e-02,  3.7396e-01,\n       -2.1482e-01,  3.8320e-01, -2.7737e-01, -1.8352e-01, -8.3838e-01,\n        3.4124e-01,  5.8164e-01,  1.8543e-01, -3.1028e-01,  1.7666e-01,\n       -6.9421e-02, -3.4422e-01, -1.3665e-01, -1.0823e-01,  2.3637e-01,\n       -3.2923e-01,  6.1348e-01,  1.9720e-01,  8.7123e-02,  1.0785e-01,\n        3.0730e-01,  1.3757e-01,  3.0809e-01,  2.4331e-01, -2.9422e-01,\n       -9.8214e-03,  5.5675e-01, -4.8880e-02,  9.9468e-02,  3.0543e-01,\n       -3.7597e-01, -1.9525e-01,  4.6246e-02, -3.6675e-02,  3.4023e-01,\n        1.4905e-01,  9.7800e-02, -2.6664e-01,  5.6834e-02, -4.3201e-02,\n       -2.3338e-01,  1.3111e-01, -3.5742e-01, -3.6070e-01,  3.0997e-01,\n       -1.9727e-01, -1.4320e-01, -1.6747e-01,  4.2435e-04, -1.5120e-01,\n        6.7562e-02, -3.8644e-01,  2.5349e-02,  2.4918e-01, -2.3955e-01,\n       -1.5615e-01,  4.9868e-01,  8.2758e-03, -1.9120e-01, -1.4906e-01,\n        4.8757e-01, -1.5281e-02,  1.0196e-02,  3.7642e-01, -1.9460e-02,\n       -2.7835e-01,  1.6355e-01, -2.4127e-01, -2.1405e-01, -2.1562e-01,\n       -7.9697e-01,  3.4321e-01,  9.3209e-02,  7.3977e-02, -2.7147e-01,\n        2.0539e-01,  1.5061e-01,  2.0734e-02,  1.1267e-01,  2.8714e-02,\n        2.9670e-01, -2.1267e-01,  4.3214e-01,  1.2788e-01,  2.9249e-01,\n        1.9056e-01, -2.9113e-01, -1.1382e-01, -3.8242e-02, -2.0290e-01,\n        1.8301e-01, -1.6661e-01, -2.7116e-01,  1.2685e-03,  7.1704e-02,\n       -1.8583e-01,  8.9850e-02, -3.9895e-02,  3.9479e-01,  5.3211e-03,\n       -6.1548e-04, -2.7082e-01, -8.9782e-02, -2.8790e-01, -1.4865e-01,\n       -1.3746e+00,  1.6515e-01,  2.0598e-01,  1.5252e-01,  3.4723e-02,\n       -3.8531e-01, -9.4574e-02, -1.9871e-01,  5.0239e-01, -2.8702e-01,\n       -8.8727e-02,  5.6881e-02,  1.3634e-01,  1.9034e-01, -1.9353e-01,\n        4.0506e-01, -1.9317e-01,  2.2908e-01,  1.0055e-01, -2.6895e-01,\n       -3.4727e-02, -8.4010e-02,  5.7806e-02,  1.1076e-02, -4.3349e-02,\n       -2.6917e-01, -1.9333e-01,  2.2181e-01,  2.6123e-01, -1.1761e-01,\n        1.0092e-01, -1.5078e-01,  4.7153e-01,  1.1253e-01, -2.6749e-01,\n       -3.8785e-02, -3.6520e-02, -8.9248e-02, -2.4427e-01, -4.1381e-02,\n       -2.1785e-02, -3.5738e-01, -6.3409e-02, -5.3983e-01, -1.0112e-02,\n        4.1238e-04, -9.7049e-02,  4.2628e-01, -2.1349e-01, -4.1055e-01,\n       -2.4940e-01, -3.3571e-02, -4.9540e-01,  1.5557e-01,  1.9882e-01,\n        1.0498e-01, -2.4372e-01,  1.1429e-01, -3.9279e-02, -3.6258e-01,\n        1.0318e-01,  1.2900e-01, -4.1785e-01, -4.1607e-02,  3.3522e-01,\n        7.3186e-02,  1.3362e-01,  1.0812e-02,  5.2645e-02,  1.8801e-01,\n       -3.0185e-01,  2.0333e-01, -3.2258e-01, -2.4673e-01,  2.1124e-01,\n        7.9132e-01, -4.1539e-01,  3.6220e-01,  9.9852e-02, -3.5378e-02,\n       -4.1900e-02, -1.3851e-01, -6.3255e-02,  1.3635e-01,  9.0863e-02,\n       -3.9940e-01,  9.9062e-02,  3.2210e-01, -1.2256e-01, -8.5906e-02,\n       -1.0218e-01,  2.6350e-01, -1.8689e-01, -1.8560e-01, -4.3923e-01,\n       -3.2500e-01, -1.9910e-01,  1.7831e-01, -2.7283e-01,  3.3473e-01,\n        8.2382e-02,  1.2825e-01,  3.9275e-01, -3.4929e-02,  1.6148e-01,\n       -2.6713e-02,  4.0129e-01, -3.9503e-01, -6.4823e-02, -8.9820e-02,\n       -6.6592e-02, -3.4537e-01,  4.6283e-02,  3.6837e-01, -2.4573e-02,\n        3.2213e-01,  3.0641e-01, -2.8112e-01,  6.6449e-03,  8.7743e-02,\n       -3.4170e-02,  6.0373e-01,  4.2120e-01, -7.3349e-02,  2.6682e-01,\n       -1.5860e-01,  2.3765e-01, -6.2604e-03,  1.5236e-01, -2.3409e-01,\n        3.1634e-01, -8.7860e-02, -1.5747e-01, -2.4955e-01, -1.8766e-01,\n       -9.6743e-02, -2.7994e-01, -2.4334e-01,  3.2643e-01,  2.9906e-01,\n        4.2763e-01,  2.2266e-01, -1.7464e-01, -1.9916e-02, -3.1206e-01,\n       -3.4009e-01, -1.4993e-01, -2.8818e-01,  1.4750e-01, -4.0503e-02,\n       -1.0347e-01,  3.3634e-03,  2.1760e-01, -2.0409e-01,  9.2415e-02,\n        8.0421e-02, -6.1246e-02, -3.0099e-01, -1.4584e-01,  2.8188e-01],\n      dtype=float32)"
     },
     "execution_count": 20,
     "metadata": {},
     "output_type": "execute_result"
    }
   ],
   "source": [
    "embedding.get_embedding('a')"
   ],
   "metadata": {
    "collapsed": false,
    "pycharm": {
     "name": "#%%\n"
    }
   }
  },
  {
   "cell_type": "code",
   "execution_count": 11,
   "outputs": [
    {
     "name": "stdout",
     "output_type": "stream",
     "text": [
      "text classification classification of texts\n",
      "semi-supervised learning class of machine learning techniques\n",
      "computer benchmarking process of testing the performance of a computer system\n",
      "shell tool software category\n",
      "code generation process by which a compiler's code generator converts some intermediate representation of source code into a form that can be readily executed by a machine\n",
      "video game development process of creating a computer game or video game\n",
      "telecommunications network network to enable telecommunicationinternet between different terminals\n",
      "digital image processing processing of digitally-represented images with algorithms\n",
      "Variational autoencoder deep learning generative model to encode data representation\n",
      "databases Python library\n",
      "question answering research area in computer science\n",
      "Containerization cloud computing concept\n",
      "database management academic discipline\n",
      "graph neural network \n",
      "natural language understanding subtopic of natural language processing in artificial intelligence\n",
      "linear regression statistical approach for modeling the relationship between a scalar dependent variable and one or more explanatory variables\n",
      "image retrieval computer system for browsing, searching and retrieving images from a large database of digital images\n",
      "engineering applied science\n",
      "scheduler in computing, what carries out the scheduling activity\n",
      "serialization process of translating data structures or object state into a format that can be stored and reconstructed later in the same or another computer environment\n",
      "web server web server is a computer that runs websites. It's a computer program that distributes web pages as they are requisitioned\n",
      "logistic regression model statistical model\n",
      "game a structured form of play, usually for entertainment\n",
      "animation process of creating animated films and series\n",
      "unsupervised learning machine learning technique\n",
      "artificial intelligence field of computer science and engineering practices for intelligence demonstrated by machines and intelligent agents\n",
      "face detection computer technology to detect presence and location of faces\n",
      "computational science field concerned with constructing mathematical models and quantitative analysis techniques and using computers to analyze and solve scientific problems\n",
      "facial recognition system computer application capable of identifying or verifying an individual person from a digital image\n",
      "statistics study of the collection, organization, analysis, interpretation, and presentation of data\n",
      "extract, transform, load general procedure for copying data from one or more sources into a destination system which represents the data differently from the source(s)\n",
      "password manager subclass of utility software\n",
      "bioinformatics study of biological data and sequences\n",
      "content management system software type\n",
      "text editor computer software used to edit plain text documents\n",
      "game server \n",
      "bitcoin digital cash system and associated currency\n",
      "static program analysis program analysis performed without actually executing programs\n",
      "emotion recognition process of identifying human emotion\n",
      "cryptocurrency digital medium of exchange using cryptography on a ledger to secure transactions and to verify transfer of ownership\n",
      "phishing act of attempting to acquire (sensitive) information by posing as a trustworthy entity\n",
      "classification grouping of objects into classes\n",
      "matrix decomposition representation of a matrix as a product\n",
      "integrated development environment software application used to develop software\n",
      "algorithmic trading method of executing orders using automated pre-programmed trading instructions\n",
      "malware software that is intentionally hostile, intrusive, or damaging to a computer or network\n",
      "encryption process of encoding information, which is conversion of the original representation of the information, known as plaintext, into an alternative form known as ciphertext\n",
      "graph mathematical structure; representation of a set of objects where some pairs of the objects are connected by links\n",
      "mathematical optimization study of mathematical algorithms for optimization problems\n",
      "evolutionary algorithm subset of evolutionary computation\n",
      "recurrent neural network class of artificial neural network where connections between units form a directed graph along a temporal sequence\n",
      "middleware computer software that provides services to software applications\n",
      "plot graphical technique for data sets\n",
      "test automation use of special software (separate from what is being tested) to control the execution of tests and compare actual outcomes with predicted outcomes\n",
      "text processing creating or manipulating electronic text\n",
      "penetration test method of evaluating computer and network security by simulating a cyber attack\n",
      "pattern matching act of checking a given sequence of tokens for the presence of the constituents of some pattern\n",
      "web application security branch of information security that deals specifically with security of websites, web applications and web services\n",
      "natural language generation software process\n",
      "camera optical device for recording or transmitting photographic images or videos\n",
      "Malware Analysis the study of the functionality, origin and potential impact of malware samples\n",
      "validator computer program used to check the validity or syntactical correctness of a fragment of code or document\n",
      "dimensionality reduction process of reducing the number of random variables under consideration\n",
      "speech synthesis artificial production of human speech\n",
      "information extraction automatically extracting structured information from un- or semi-structured machine-readable documents, such as human language texts\n",
      "optical character recognition computer recognition of visual text\n",
      "application performance management monitoring and management of performance and availability of software applications\n",
      "feature learning a set of techniques that learn a feature: a transformation of raw data input to a representation that can be effectively exploited in machine learning tasks\n",
      "virtual reality computer-simulated environment simulating physical presence in real or imagined worlds\n",
      "convolutional neural network A class of deep neural networks, most commonly applied to analyzing visual imagery.\n",
      "robotics design, construction, operation, and application of robots\n",
      "human image synthesis digital reproduction of a human likeness\n",
      "data mining process of discovering patterns in large data sets using computational methods at the intersection of statistics, database systems, or machine learning\n",
      "digital audio technology that records, stores, and reproduces sound\n",
      "file system concrete format or program for storing files and directories on a data storage device\n",
      "data structure particular way of storing and organizing data in a computer\n",
      "sequencing in genetics and biochemistry, determining the structure of an unbranched biopolymer\n",
      "quantum computer theoretical computation device relying on quantum mechanics\n",
      "rendering process of generating an image from a model\n",
      "computational biology data-analytical and theoretical methods, mathematical modeling and computational simulation techniques to the study of biological, behavioral, and social systems\n",
      "computer configuration arrangement of each of the system's functional units, according to their nature, number and chief characteristics\n",
      "distributed computing system whose components are located on different networked computers\n",
      "software design pattern general reusable solution to a commonly occurring problem within a given context in software design\n",
      "sorting algorithm algorithm that puts elements of a list in a certain order\n",
      "Web Components set of features (Custom Elements, Shadow DOM, HTML Templates) that provide a standard component model for the Web for encapsulation and interoperability of individual HTML elements\n",
      "HTTP server \n",
      "interpreter program that executes source code without a separate compilation step\n",
      "microservices A collection of loosely coupled services used to build computer applications\n",
      "word embedding method in natural language processing\n",
      "regular expression sequence of characters that forms a search pattern\n",
      "time series set of data indexed in time order\n",
      "genetic algorithm competitive algorithm for searching a problem space\n",
      "software testing investigation conducted to provide stakeholders with information about the quality of the software product or service under test and enable the business to understand the risks of software implementation\n",
      "command-line interface type of computer interface based on entering text commands and viewing text output\n",
      "3D computer graphics graphics that use a three-dimensional representation of geometric data\n",
      "web application application that uses a web browser as a client\n",
      "speech recognition automatic conversion of spoken language into text\n",
      "information security the practice of protecting information\n",
      "internet bot kind of software application that runs automated tasks over the internet\n",
      "virtual machine software that emulates an entire computer, often used to provide a different operating system or hardware architecture than the host system\n",
      "artificial neural network computational model used in machine learning, based on connected, hierarchical functions\n",
      "embedded system computer system with a dedicated function within a larger mechanical or electrical system.\n",
      "functional programming programming paradigm\n",
      "video tracking finding the location in each frame of a video sequence\n",
      "debugger computer program used to test and debug other programs\n",
      "web service service offered by an electronic device to another electronic device, communicating with each other via the World Wide Web\n",
      "game engine system designed for the creation and development of video games\n",
      "parsing process of analyzing a string of symbols, either in natural language, computer languages or data structures, conforming to the rules of a formal grammar\n",
      "backup copy of computer data taken and stored so that it may be used to restore the original\n",
      "search engine application that collects and allows the searching of information on a computer system\n",
      "network monitoring the use of a system that constantly monitors a computer network for slow or failing components\n",
      "deep learning branch of machine learning\n",
      "autonomous driving self-directed navigation of a car or other vehicle\n",
      "data analysis activity for gaining insight from data\n",
      "stream processing programming paradigm which gives some degree of parallel processing\n",
      "blockchain distributed data store for digital transactions\n",
      "simulator technical device to model a real-world system\n",
      "neuroscience scientific study of the central nervous system\n",
      "regression analysis set of statistical processes for estimating the relationships among variables\n",
      "signal processing models and analyzes data representations of physical events\n",
      "multiplayer game game with multiple players\n",
      "productivity average measure of the efficiency of production\n",
      "computer science theoretical study of the formal foundation enabling the automated processing or computation of information, for example on a computer or over a data transmission network\n",
      "authentication act of confirming the truth of an attribute of a datum or entity, often used as part of access control\n",
      "streaming media continuous multimedia operated and presented to users by a provider\n",
      "genomics interdisciplinary field of biology\n",
      "feature engineering process that creates features for machine learning by transforming or combining existing features\n",
      "sentiment analysis use of natural language processing, text analysis and computational linguistics to identify and extract subjective information in source materials\n",
      "routing process of selecting paths in a data communitcations network\n",
      "data science interdisciplinary field of study focused on deriving knowledge and insights from data\n",
      "automation conversion to automatic operation\n",
      "random forest statistical algorithm that is used to cluster points of data in functional groups\n",
      "data compression process of encoding information using fewer bits than the original representation\n",
      "neural machine translation approach to machine translation in which a large neural network is trained to maximize translation performance\n",
      "continuous delivery software engineering approach in which teams produce software in short cycles, aiming at building, testing, and releasing software with greater speed and frequency\n",
      "generative adversarial network deep learning method\n",
      "Bidirectional recurrent neural networks type of artificial neural network\n",
      "internet of things proposed Internet-like structure connecting everyday physical objects\n",
      "security freedom from, or resilience against, potential harm caused by hostile forces or circumstances\n",
      "machine learning scientific study of algorithms and statistical models that computer systems use to perform tasks without explicit instructions\n",
      "augmented reality interactive experience of a real-world environment enhanced by computer-generated perceptual information\n",
      "RNA sequencing process of cloning, physical mapping, subcloning, sequencing, and information analysis of an RNA sequence\n",
      "Q-learning Model free Reinforcement Learning algorithm. (Machine Learning algorithm)\n",
      "Reverse engineering process by which a man-made object is deconstructed to reveal its designs, architecture, code or to extract knowledge from the object; similar to scientific research, the only difference being that scientific research is about a natural phenomenon\n",
      "virtualization computing technique for setting up virtual versions of operating systems or computer resources\n",
      "social network theoretical concept in sociology\n",
      "audio signal processing electronic manipulation of audio signals\n",
      "mobile computing use of portable computers\n",
      "image recognition image identification made by artificial intelligence\n",
      "static program analysis tool programming tool for static analysis\n",
      "support vector machine set of methods for supervised statistical learning\n",
      "hyperparameter optimization choosing a set of optimal hyperparameters\n",
      "Home Assistant home automation software\n",
      "logging automatic creation of a log of a software process\n",
      "HTTP client software category\n",
      "mobile application development process to build apps for various mobile operating systems\n",
      "DevOps software development method\n",
      "object detection computer technology related to computer vision and image processing\n",
      "graph algorithm type of algorithm\n",
      "natural language processing field of computer science and linguistics\n",
      "hacking tool software or program used for computer hacking\n",
      "data binding data management technique\n",
      "knowledge graph information repository structured as a graph\n",
      "astronomy natural science that deals with the study of celestial objects\n",
      "supervised learning machine learning task of learning a function that maps an input to an output based on example input-output pairs\n",
      "mathematical finance field of applied mathematics, concerned with mathematical modeling of financial markets\n",
      "science systematic enterprise that builds and organizes knowledge\n",
      "natural language language naturally spoken by humans, as opposed to \"constructed\" and \"formal\" languages\n",
      "website set of related web pages served from a single web domain\n",
      "video processing \n",
      "graphics engine \n",
      "anomaly detection the identification of rare items, events or observations which raise suspicions by differing significantly from the expected or majority of the data\n",
      "language model statistical model of structure of language\n",
      "web browser engine software used to process and render a web page\n",
      "web development development of a website for the Internet\n",
      "image captioning \n",
      "mathematics science of abstract objects and structures\n",
      "serverless computing cloud computing model\n",
      "distributed system \n",
      "real-time computing study of hardware and software systems that have a \"real-time constraint\"\n",
      "named-entity recognition extraction of named entity mentions in unstructured text into pre-defined categories\n",
      "image compression reduction of image size to save storage and transmission costs\n",
      "physics study of matter and its motion, along with related concepts such as energy and force\n",
      "File Transfer Protocol standard protocol for transferring files over TCP/IP networks\n",
      "finance academic discipline studying businesses, financing, investments and protection of economic value\n",
      "business dashboard aggregate business progress report\n",
      "reactive programming programming paradigm focused on data flow and change propagation\n",
      "automated machine learning process of automating the end-to-end process of machine learning\n",
      "image scaling changing the resolution of a digital image\n",
      "server computer program or device that provides access to a central resource or other functionality for clients\n",
      "network analysis use of graph theory to solve network problems\n",
      "simulation imitation of the operation of a real-world process or system over time, for studying either real events in many contexts or effects of alternative conditions and courses of actions\n",
      "visualization set of techniques for creating images, diagrams, or animations to communicate a message\n",
      "Web content management system a software content management system (CMS) specifically for web content.\n",
      "search set of methods, means, initiatives, organizational tools, aimed at finding people or things\n",
      "web crawler internet bot that systematically browses the World Wide Web, typically for the purpose of Web indexing (web spidering)\n",
      "3D pose estimation process of determining spatial characteristics of objects\n",
      "World Wide Web system of interlinked hypertext documents accessed via the Internet\n",
      "activity recognition filed of research related to recognizing the actions and goals of computer agents\n",
      "user interface means by which a user interacts with and controls a machine\n",
      "stock market public entity for the trading of company stocks and shares\n",
      "compiler computer program that transforms source code into object code\n",
      "image artifact that depicts or records visual perception\n",
      "Articulated body pose estimation \n",
      "geographic information system spatial data information systems\n",
      "cloud computing form of Internet-based computing, whereby shared resources, software and information are provided to computers and other devices\n",
      "e-commerce type of business industry usually conducted over the internet\n",
      "analytics discovery, interpretation, and communication of meaningful patterns in data\n",
      "font particular size, weight and style of a typeface\n",
      "data quantities, characters, or symbols on which operations are performed by a computer\n",
      "IRC bot set of scripts or an independent program that connects to Internet Relay Chat as a client\n",
      "deep neural network artificial neural network\n",
      "static website \n",
      "digital security various ways of protecting computer's internet account and files from intrusion by an outside user\n",
      "client piece of computer hardware or software accessings a server service\n",
      "router device that forwards data packets between computer networks, creating an overlay internetwork\n",
      "edge computing distributed computing\n",
      "image editing processes of altering images, digital or traditional photos and add/paste/and cut words\n",
      "Semantic Web extension of the Web to facilitate data exchange\n",
      "deep reinforcement learning \n",
      "generative model \n",
      "recommender system information filtering system to predict users' preferences\n",
      "neural network structure in biology and artificial intelligence\n",
      "3D modeling process of developing a mathematical representation of any three-dimensional surface of object via specialized software\n",
      "image segmentation Division of an image into sets of pixels for further processing\n",
      "continuous deployment software engineering approach in which software functionalities are delivered frequently\n",
      "instant messaging form of communication over the Internet\n",
      "object–relational mapping programming technique\n",
      "geographic information data and information having an implicit or explicit association with a location\n",
      "graph database database which utilizes structure of discrete mathematical graphs to store and search data\n",
      "transfer learning research problem in machine learning (ML) that focuses on storing knowledge gained while solving one problem and applying it to a different but related problem\n",
      "eCommfy SaaS based enterprise eCommerce platform\n",
      "cluster analysis task of grouping a set of objects in such a way that objects in the same group (called a cluster) are more similar (in some sense or another) to each other than to those in other groups (clusters)\n",
      "dependency injection technique in software engineering\n",
      "web browser software application for retrieving, presenting, and traversing information resources on the World Wide Web\n",
      "music art form, and cultural activity, whose medium is sound\n",
      "software development creation and maintaining of programs and applications\n",
      "synchronization concept in computer science, referring to processes, or data\n",
      "data visualization creation and study of the visual representation of data\n",
      "distributed multimedia communications platform program or computing platform for voice, video, chat and IoT communications over the Internet\n",
      "computer data storage storage of digital data readable by computers\n",
      "web scraping data scraping used for extracting data from websites\n",
      "long short-term memory recurrent neural network architecture\n",
      "text analysis structured analysis of text and context\n",
      "text mining process of analysing text to extract information from it\n",
      "misuse detection an approach to detect abnormal system behavior and potential insider threats to vulnerable computer data\n",
      "front end presentation layer of piece of software\n",
      "Parser combinator \n",
      "relationship extraction type of text mining\n",
      "autonomous car vehicle operated with reduced human input\n",
      "schema migration the management of incremental, reversible changes and version control to relational database schemas\n",
      "syntax highlighting tool of editors for programming, scripting and markup\n",
      "information processing process in which input information is analysed or transformed in order to produce information as output\n",
      "smart contract transaction on a decentralized platform\n",
      "translation communication of the meaning of a source-language text by means of an equivalent target-language text\n",
      "audio player software software or device which could play audio files or audio data\n",
      "computer graphics pictures and graphics, possibly animated, that are generated using computers, for transforming and compositing various sources of images or data with precise definitions of style, layout, effects, sequencing and synchronization\n",
      "electronic trading platform software for trading financial products\n",
      "static site generator software to generate static websites\n",
      "graphical user interface user interface allowing interaction through graphical icons and visual indicators\n",
      "documentation set of documents providing knowledge\n",
      "video game electronic game that involves interaction with a user interface to generate visual feedback on a video device such as a TV screen or computer monitor\n",
      "machine translation use of software for language translation\n",
      "back end \n",
      "object-oriented programming programming paradigm based on the concept of objects\n",
      "computer programming the process of designing and building an executable computer program to accomplish a specific computing result or to perform a specific task\n",
      "banking industry industry for financial institutions such as banks and credit unions\n",
      "geometry branch of mathematics regarding geometric figures and properties of space\n",
      "software engineering application of systematic approaches to developing software\n",
      "Naive Bayes classifier classification algorithm\n",
      "Bayesian inference method of statistical inference in which Bayes' theorem is used to update the probability for a hypothesis as more evidence or information becomes available\n",
      "benchmark test to the measure performance of a computer system\n",
      "information retrieval activity of obtaining information resources relevant to an information need from a collection of information resources\n",
      "linear algebra branch of mathematics that studies vector spaces\n",
      "design creation of a plan or convention for the construction of an object or a system; process of creation; act of creativity and innovation\n",
      "reinforcement learning field of machine learning\n",
      "lexical analysis computing process of parsing a sequence of characters into a sequence of tokens\n",
      "algorithm unambiguous specification of how to solve a class of problems\n",
      "education learning in which knowledge and skills are transferred through teaching\n",
      "computer vision computerized information extraction from images\n",
      "debugging process of finding and resolving defects or problems within a computer program\n",
      "software architecture high level structures of a software system\n",
      "Kalman filter algorithm\n",
      "home automation building automation for a home\n",
      "database organized collection of data in computing\n",
      "big data Information assets characterized by such a high volume, velocity, and variety to require specific technology and analytical methods for its transformation into value\n",
      "WebSocket computer network protocol\n",
      "Image analysis extraction of information from images via digital image processing techniques\n",
      "chatbot program or set of instructions that simulates conversation with humans\n",
      "cryptography practice and study of techniques for secure communication in the presence of third parties\n",
      "package management system software that manages the installation, upgrading, removal and dependency resolution of software packages\n",
      "unit testing software testing method by which individual units of source code are validated\n",
      "operating system software that manages computer hardware resources\n",
      "email method of electronically exchanging digital messages between people over a network\n",
      "medical imaging technique and process of creating visual representations of the interior of a body\n",
      "collaborative filtering algorithm\n",
      "topic modeling set of techniques in computational linguistics and related fields\n",
      "continuous integration software development practice based on frequent submission of granular changes\n",
      "kernel main component of most computer operating systems\n",
      "video motion picture format\n",
      "image classification set of methods to group images\n",
      "distributed database A database in which data is stored across different physical locations.\n",
      "network security policies and practices adopted to prevent and monitor unauthorized access, misuse, modification, or denial of computer networks and network-accessible resources\n"
     ]
    }
   ],
   "source": [
    "for x in ranking[embedding_key]:\n",
    "    print(x)\n",
    "    embedding.get_embedding(x)"
   ],
   "metadata": {
    "collapsed": false,
    "pycharm": {
     "name": "#%%\n"
    }
   }
  },
  {
   "cell_type": "code",
   "execution_count": 12,
   "outputs": [],
   "source": [
    "ranking['embedding'] = [embedding.get_embedding(x) for x in ranking[embedding_key]]"
   ],
   "metadata": {
    "collapsed": false,
    "pycharm": {
     "name": "#%%\n"
    }
   }
  },
  {
   "cell_type": "code",
   "execution_count": 12,
   "outputs": [],
   "source": [],
   "metadata": {
    "collapsed": false,
    "pycharm": {
     "name": "#%%\n"
    }
   }
  },
  {
   "cell_type": "code",
   "execution_count": 13,
   "outputs": [
    {
     "ename": "ImportError",
     "evalue": "cannot import name '_k_means_fast' from 'sklearn.cluster' (/home/sasce/.cache/pypoetry/virtualenvs/githubclassificationdataset-x1atRQ6n-py3.8/lib/python3.8/site-packages/sklearn/cluster/__init__.py)",
     "output_type": "error",
     "traceback": [
      "\u001B[0;31m---------------------------------------------------------------------------\u001B[0m",
      "\u001B[0;31mImportError\u001B[0m                               Traceback (most recent call last)",
      "\u001B[0;32m/tmp/ipykernel_17664/2003960000.py\u001B[0m in \u001B[0;36m<module>\u001B[0;34m\u001B[0m\n\u001B[0;32m----> 1\u001B[0;31m \u001B[0;32mfrom\u001B[0m \u001B[0msrc\u001B[0m\u001B[0;34m.\u001B[0m\u001B[0mml\u001B[0m\u001B[0;34m.\u001B[0m\u001B[0mclustering\u001B[0m \u001B[0;32mimport\u001B[0m \u001B[0mGMMClustering\u001B[0m\u001B[0;34m\u001B[0m\u001B[0;34m\u001B[0m\u001B[0m\n\u001B[0m\u001B[1;32m      2\u001B[0m \u001B[0;34m\u001B[0m\u001B[0m\n\u001B[1;32m      3\u001B[0m \u001B[0;31m#clustering = GMMClustering(n_components = 10, covariance_type = 'full', init_params = 'kmeans')\u001B[0m\u001B[0;34m\u001B[0m\u001B[0;34m\u001B[0m\u001B[0;34m\u001B[0m\u001B[0m\n\u001B[1;32m      4\u001B[0m \u001B[0mclustering\u001B[0m \u001B[0;34m=\u001B[0m \u001B[0mGMMClustering\u001B[0m\u001B[0;34m(\u001B[0m\u001B[0mn_components\u001B[0m\u001B[0;34m=\u001B[0m\u001B[0;36m10\u001B[0m\u001B[0;34m,\u001B[0m \u001B[0mcovariance_type\u001B[0m \u001B[0;34m=\u001B[0m \u001B[0;34m'full'\u001B[0m\u001B[0;34m)\u001B[0m\u001B[0;34m\u001B[0m\u001B[0;34m\u001B[0m\u001B[0m\n",
      "\u001B[0;32m~/PycharmProjects/GitHubClassificationDataset/src/ml/clustering.py\u001B[0m in \u001B[0;36m<module>\u001B[0;34m\u001B[0m\n\u001B[1;32m      7\u001B[0m \u001B[0;32mfrom\u001B[0m \u001B[0msklearn\u001B[0m\u001B[0;34m.\u001B[0m\u001B[0mmixture\u001B[0m \u001B[0;32mimport\u001B[0m \u001B[0mGaussianMixture\u001B[0m\u001B[0;34m\u001B[0m\u001B[0;34m\u001B[0m\u001B[0m\n\u001B[1;32m      8\u001B[0m \u001B[0;34m\u001B[0m\u001B[0m\n\u001B[0;32m----> 9\u001B[0;31m \u001B[0;32mfrom\u001B[0m \u001B[0msrc\u001B[0m\u001B[0;34m.\u001B[0m\u001B[0mspherecluster\u001B[0m \u001B[0;32mimport\u001B[0m \u001B[0mSphericalKMeans\u001B[0m\u001B[0;34m\u001B[0m\u001B[0;34m\u001B[0m\u001B[0m\n\u001B[0m\u001B[1;32m     10\u001B[0m \u001B[0;34m\u001B[0m\u001B[0m\n\u001B[1;32m     11\u001B[0m \u001B[0;34m\u001B[0m\u001B[0m\n",
      "\u001B[0;32m~/PycharmProjects/GitHubClassificationDataset/src/spherecluster/__init__.py\u001B[0m in \u001B[0;36m<module>\u001B[0;34m\u001B[0m\n\u001B[1;32m      1\u001B[0m \u001B[0;32mfrom\u001B[0m \u001B[0m__future__\u001B[0m \u001B[0;32mimport\u001B[0m \u001B[0mabsolute_import\u001B[0m\u001B[0;34m\u001B[0m\u001B[0;34m\u001B[0m\u001B[0m\n\u001B[0;32m----> 2\u001B[0;31m \u001B[0;32mfrom\u001B[0m \u001B[0;34m.\u001B[0m\u001B[0mspherical_kmeans\u001B[0m \u001B[0;32mimport\u001B[0m \u001B[0mSphericalKMeans\u001B[0m\u001B[0;34m\u001B[0m\u001B[0;34m\u001B[0m\u001B[0m\n\u001B[0m\u001B[1;32m      3\u001B[0m \u001B[0;32mfrom\u001B[0m \u001B[0;34m.\u001B[0m\u001B[0mvon_mises_fisher_mixture\u001B[0m \u001B[0;32mimport\u001B[0m \u001B[0mVonMisesFisherMixture\u001B[0m\u001B[0;34m\u001B[0m\u001B[0;34m\u001B[0m\u001B[0m\n\u001B[1;32m      4\u001B[0m \u001B[0;32mfrom\u001B[0m \u001B[0;34m.\u001B[0m\u001B[0mutil\u001B[0m \u001B[0;32mimport\u001B[0m \u001B[0msample_vMF\u001B[0m\u001B[0;34m\u001B[0m\u001B[0;34m\u001B[0m\u001B[0m\n\u001B[1;32m      5\u001B[0m \"\"\"\n",
      "\u001B[0;32m~/PycharmProjects/GitHubClassificationDataset/src/spherecluster/spherical_kmeans.py\u001B[0m in \u001B[0;36m<module>\u001B[0;34m\u001B[0m\n\u001B[1;32m      7\u001B[0m \u001B[0;32mfrom\u001B[0m \u001B[0msklearn\u001B[0m\u001B[0;34m.\u001B[0m\u001B[0mcluster\u001B[0m \u001B[0;32mimport\u001B[0m \u001B[0mKMeans\u001B[0m\u001B[0;34m\u001B[0m\u001B[0;34m\u001B[0m\u001B[0m\n\u001B[1;32m      8\u001B[0m \u001B[0;34m\u001B[0m\u001B[0m\n\u001B[0;32m----> 9\u001B[0;31m \u001B[0;32mfrom\u001B[0m \u001B[0msklearn\u001B[0m\u001B[0;34m.\u001B[0m\u001B[0mcluster\u001B[0m \u001B[0;32mimport\u001B[0m \u001B[0m_k_means_fast\u001B[0m \u001B[0;32mas\u001B[0m \u001B[0m_k_means\u001B[0m\u001B[0;34m\u001B[0m\u001B[0;34m\u001B[0m\u001B[0m\n\u001B[0m\u001B[1;32m     10\u001B[0m \u001B[0;32mfrom\u001B[0m \u001B[0msklearn\u001B[0m\u001B[0;34m.\u001B[0m\u001B[0mcluster\u001B[0m \u001B[0;32mimport\u001B[0m \u001B[0m_k_means_lloyd\u001B[0m\u001B[0;34m\u001B[0m\u001B[0;34m\u001B[0m\u001B[0m\n\u001B[1;32m     11\u001B[0m from sklearn.cluster._kmeans import (\n",
      "\u001B[0;31mImportError\u001B[0m: cannot import name '_k_means_fast' from 'sklearn.cluster' (/home/sasce/.cache/pypoetry/virtualenvs/githubclassificationdataset-x1atRQ6n-py3.8/lib/python3.8/site-packages/sklearn/cluster/__init__.py)"
     ]
    }
   ],
   "source": [
    "from src.ml.clustering import GMMClustering\n",
    "\n",
    "#clustering = GMMClustering(n_components = 10, covariance_type = 'full', init_params = 'kmeans')\n",
    "clustering = GMMClustering(n_components=10, covariance_type = 'full')"
   ],
   "metadata": {
    "collapsed": false,
    "pycharm": {
     "name": "#%%\n"
    }
   }
  },
  {
   "cell_type": "code",
   "execution_count": null,
   "outputs": [],
   "source": [
    "ranking['cluster'] = clustering.fit(ranking['mean'].tolist())"
   ],
   "metadata": {
    "collapsed": false,
    "pycharm": {
     "name": "#%%\n"
    }
   }
  },
  {
   "cell_type": "code",
   "execution_count": null,
   "outputs": [],
   "source": [
    "cluster_features = np.array(ranking[cluster_feature].tolist())"
   ],
   "metadata": {
    "collapsed": false,
    "pycharm": {
     "name": "#%%\n"
    }
   }
  },
  {
   "cell_type": "code",
   "execution_count": null,
   "outputs": [],
   "source": [
    "embedding"
   ],
   "metadata": {
    "collapsed": false,
    "pycharm": {
     "name": "#%%\n"
    }
   }
  },
  {
   "cell_type": "code",
   "execution_count": null,
   "outputs": [],
   "source": [
    "from sklearn.manifold import Isomap\n",
    "\n",
    "reduced = Isomap(n_components=3).fit_transform(cluster_features)"
   ],
   "metadata": {
    "collapsed": false,
    "pycharm": {
     "name": "#%%\n"
    }
   }
  },
  {
   "cell_type": "code",
   "execution_count": null,
   "outputs": [],
   "source": [
    "import umap\n",
    "\n",
    "reduced = umap.UMAP(n_components=3).fit_transform(cluster_features)"
   ],
   "metadata": {
    "collapsed": false,
    "pycharm": {
     "name": "#%%\n"
    }
   }
  },
  {
   "cell_type": "code",
   "execution_count": null,
   "outputs": [],
   "source": [
    "ranking['x'] = reduced[:,0]\n",
    "ranking['y'] = reduced[:,1]\n",
    "ranking['z'] = reduced[:,2]"
   ],
   "metadata": {
    "collapsed": false,
    "pycharm": {
     "name": "#%%\n"
    }
   }
  },
  {
   "cell_type": "code",
   "execution_count": null,
   "outputs": [],
   "source": [
    "import plotly.express as px"
   ],
   "metadata": {
    "collapsed": false,
    "pycharm": {
     "name": "#%%\n"
    }
   }
  },
  {
   "cell_type": "code",
   "execution_count": null,
   "outputs": [],
   "source": [
    "fig = px.scatter(ranking, x = 'mean')#, y = 'y', z = 'z', color = 'cluster')\n",
    "fig.show()"
   ],
   "metadata": {
    "collapsed": false,
    "pycharm": {
     "name": "#%%\n"
    }
   }
  },
  {
   "cell_type": "code",
   "execution_count": null,
   "outputs": [],
   "source": [],
   "metadata": {
    "collapsed": false,
    "pycharm": {
     "name": "#%%\n"
    }
   }
  },
  {
   "cell_type": "code",
   "execution_count": null,
   "outputs": [],
   "source": [
    "from sklearn.cluster import KMeans\n",
    "from sklearn.metrics import silhouette_score\n",
    "\n",
    "sil_score_max = -1 #this is the minimum possible score\n",
    "\n",
    "sil_scores = []\n",
    "n_c = []\n",
    "for n_clusters in range(2,50):\n",
    "    n_c.append(n_clusters)\n",
    "    model = KMeansClustering(n_clusters = n_clusters)\n",
    "    labels = model.fit(ranking['embedding'].tolist())\n",
    "    sil_score = silhouette_score(ranking['embedding'].tolist(), labels)\n",
    "    print(\"The average silhouette score for %i clusters is %0.2f\" %(n_clusters,sil_score))\n",
    "    sil_scores.append(sil_score)\n",
    "    if sil_score > sil_score_max:\n",
    "        sil_score_max = sil_score\n",
    "        best_n_clusters = n_clusters"
   ],
   "metadata": {
    "collapsed": false,
    "pycharm": {
     "name": "#%%\n"
    }
   }
  },
  {
   "cell_type": "code",
   "execution_count": null,
   "outputs": [],
   "source": [
    "px.line(y=sil_scores, x=n_c)"
   ],
   "metadata": {
    "collapsed": false,
    "pycharm": {
     "name": "#%%\n"
    }
   }
  },
  {
   "cell_type": "code",
   "execution_count": null,
   "outputs": [],
   "source": [
    "import numpy\n",
    "from yellowbrick.cluster import KElbowVisualizer\n",
    "\n",
    "model = KMeans()\n",
    "visualizer = KElbowVisualizer(model, k=(2,100))\n",
    "\n",
    "visualizer.fit(numpy.array(ranking[cluster_feature].tolist()))        # Fit the data to the visualizer\n",
    "visualizer.show()"
   ],
   "metadata": {
    "collapsed": false,
    "pycharm": {
     "name": "#%%\n"
    }
   }
  },
  {
   "cell_type": "code",
   "execution_count": null,
   "outputs": [],
   "source": [],
   "metadata": {
    "collapsed": false,
    "pycharm": {
     "name": "#%%\n"
    }
   }
  }
 ],
 "metadata": {
  "kernelspec": {
   "display_name": "Python 3",
   "language": "python",
   "name": "python3"
  },
  "language_info": {
   "codemirror_mode": {
    "name": "ipython",
    "version": 2
   },
   "file_extension": ".py",
   "mimetype": "text/x-python",
   "name": "python",
   "nbconvert_exporter": "python",
   "pygments_lexer": "ipython2",
   "version": "2.7.6"
  }
 },
 "nbformat": 4,
 "nbformat_minor": 0
}